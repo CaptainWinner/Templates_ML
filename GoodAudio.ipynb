{
  "nbformat": 4,
  "nbformat_minor": 0,
  "metadata": {
    "colab": {
      "provenance": []
    },
    "kernelspec": {
      "name": "python3",
      "display_name": "Python 3"
    },
    "language_info": {
      "name": "python"
    }
  },
  "cells": [
    {
      "cell_type": "code",
      "execution_count": null,
      "metadata": {
        "colab": {
          "base_uri": "https://localhost:8080/"
        },
        "id": "H6TK4Dywi0Vn",
        "outputId": "c3f14095-1837-4527-e4a3-e7138885cd01"
      },
      "outputs": [
        {
          "output_type": "stream",
          "name": "stdout",
          "text": [
            "Drive already mounted at /content/drive; to attempt to forcibly remount, call drive.mount(\"/content/drive\", force_remount=True).\n"
          ]
        }
      ],
      "source": [
        "from google.colab import drive\n",
        "drive.mount('/content/drive')"
      ]
    },
    {
      "cell_type": "code",
      "source": [
        "import os\n",
        "import matplotlib.pyplot as plt\n",
        "import numpy as np\n",
        "import librosa\n",
        "import IPython.display as ipd"
      ],
      "metadata": {
        "id": "9zLUnF2di8pZ"
      },
      "execution_count": null,
      "outputs": []
    },
    {
      "cell_type": "code",
      "source": [
        "import zipfile\n",
        "with zipfile.ZipFile('/content/drive/MyDrive/sounds/audio_data.zip', 'r') as zip_obj:\n",
        "   # Extract all the contents of zip file in current directory\n",
        "   zip_obj.extractall('/content/working')\n",
        "print('After zip extraction:')\n",
        "print(os.listdir('/content/working/'))"
      ],
      "metadata": {
        "colab": {
          "base_uri": "https://localhost:8080/"
        },
        "id": "YeFO2qPtjFns",
        "outputId": "c6827606-8a86-49df-bab0-8543dc6eb860"
      },
      "execution_count": null,
      "outputs": [
        {
          "output_type": "stream",
          "name": "stdout",
          "text": [
            "After zip extraction:\n",
            "['main.ipynb', 'sample_submission.csv', 'audio_test', 'test_filenames.csv', 'environment.yml', 'audio_train', 'train.csv']\n"
          ]
        }
      ]
    },
    {
      "cell_type": "code",
      "source": [
        "def get_mfcc(wav_file_path):\n",
        "  y, sr = librosa.load(wav_file_path)\n",
        "  mfcc = np.array(librosa.feature.mfcc(y=y, sr=sr, n_mfcc=40))\n",
        "  return mfcc"
      ],
      "metadata": {
        "id": "wUCEuOU-jIu_"
      },
      "execution_count": null,
      "outputs": []
    },
    {
      "cell_type": "code",
      "source": [
        "def get_log_melspectrogram(wav_file_path):\n",
        "  y, sr = librosa.load(wav_file_path)\n",
        "  melsepc=librosa.feature.melspectrogram(y=y, sr=sr,n_fft=2048, hop_length=512, n_mels=10)\n",
        "  logspec = np.array(librosa.power_to_db(melsepc))\n",
        "  return logspec"
      ],
      "metadata": {
        "id": "b2LHmqvbjLee"
      },
      "execution_count": null,
      "outputs": []
    },
    {
      "cell_type": "markdown",
      "source": [
        "For musical pieces"
      ],
      "metadata": {
        "id": "ASSn5TWWzOi1"
      }
    },
    {
      "cell_type": "code",
      "source": [
        "def get_chroma_vector(wav_file_path):\n",
        "  y, sr = librosa.load(wav_file_path)\n",
        "  chroma = np.array(librosa.feature.chroma_stft(y=y, sr=sr))\n",
        "  return chroma"
      ],
      "metadata": {
        "id": "rV57XAoyjQm-"
      },
      "execution_count": null,
      "outputs": []
    },
    {
      "cell_type": "code",
      "source": [
        "def get_tonnetz(wav_file_path):\n",
        "  y, sr = librosa.load(wav_file_path)\n",
        "  tonnetz = np.array(librosa.feature.tonnetz(y=y, sr=sr))\n",
        "  return tonnetz"
      ],
      "metadata": {
        "id": "lBlF_hunjRvc"
      },
      "execution_count": null,
      "outputs": []
    },
    {
      "cell_type": "markdown",
      "source": [
        "--"
      ],
      "metadata": {
        "id": "F0LG7MEL0xls"
      }
    },
    {
      "cell_type": "code",
      "source": [
        "def get_bandwidth(wav_file_path):\n",
        "  FRAME_SIZE = 2048\n",
        "  HOP_SIZE = 512\n",
        "  y,sr=y, sr = librosa.load(wav_file_path)\n",
        "  bandwidth=np.array(librosa.feature.spectral_bandwidth(y=y, sr=sr, n_fft=FRAME_SIZE, hop_length=HOP_SIZE))\n",
        "  return bandwidth"
      ],
      "metadata": {
        "id": "JSVKS76uzYTc"
      },
      "execution_count": null,
      "outputs": []
    },
    {
      "cell_type": "code",
      "source": [
        "def get_sc(wav_file_path):\n",
        "  FRAME_SIZE = 2048\n",
        "  HOP_SIZE = 512\n",
        "  y,sr=y, sr = librosa.load(wav_file_path)\n",
        "  sc=np.array(librosa.feature.spectral_centroid(y=y, sr=sr, n_fft=FRAME_SIZE, hop_length=HOP_SIZE))\n",
        "  return sc"
      ],
      "metadata": {
        "id": "E84xdsstz1eR"
      },
      "execution_count": null,
      "outputs": []
    },
    {
      "cell_type": "code",
      "source": [
        "import math"
      ],
      "metadata": {
        "id": "0kreJEhp0dgi"
      },
      "execution_count": null,
      "outputs": []
    },
    {
      "cell_type": "code",
      "source": [
        "def get_ber(wav_file):\n",
        "  FRAME_SIZE = 2048\n",
        "  HOP_SIZE = 512\n",
        "  y,sr= librosa.load(wav_file)\n",
        "  spectral_bandwidths = np.array(librosa.feature.spectral_contrast(y=y, sr=sr))\n",
        "  return spectral_bandwidths"
      ],
      "metadata": {
        "id": "ytEYjaFm0gS1"
      },
      "execution_count": null,
      "outputs": []
    },
    {
      "cell_type": "code",
      "source": [
        "def get_feature(file_path):\n",
        "  # Extracting MFCC feature\n",
        "  mfcc = get_mfcc(file_path)\n",
        "  mfcc_mean = mfcc.mean(axis=1)\n",
        "  mfcc_min = mfcc.min(axis=1)\n",
        "  mfcc_max = mfcc.max(axis=1)\n",
        "  mfcc_feature = np.concatenate( (mfcc_mean, mfcc_min, mfcc_max) )\n",
        "\n",
        "  # Extracting Log_Mel Spectrogram feature\n",
        "  melspectrogram = get_log_melspectrogram(file_path)\n",
        "  melspectrogram_mean = melspectrogram.mean(axis=1)\n",
        "  melspectrogram_min = melspectrogram.min(axis=1)\n",
        "  melspectrogram_max = melspectrogram.max(axis=1)\n",
        "  melspectrogram_feature = np.concatenate( (melspectrogram_mean, melspectrogram_min, melspectrogram_max) )\n",
        "\n",
        " # Extracting Bandwidth feature\n",
        "  bandwidth=get_bandwidth(file_path)\n",
        "  bandwidth_mean=bandwidth.mean(axis=1)\n",
        "  bandwidth_min=bandwidth.min(axis=1)\n",
        "  bandwidth_max=bandwidth.max(axis=1)\n",
        "  bandwidth_feature=np.concatenate((bandwidth_mean,bandwidth_min,bandwidth_max))\n",
        "\n",
        "  # Extracting Spectral centroid feature\n",
        "  centorid=get_sc(file_path)\n",
        "  centorid_mean=centorid.mean(axis=1)\n",
        "  centorid_min=centorid.min(axis=1)\n",
        "  centorid_max=centorid.max(axis=1)\n",
        "  centorid_feature=np.concatenate((centorid_mean,centorid_min,centorid_max))\n",
        "\n",
        "  # Extracting BER centroid feature\n",
        "  ber=get_ber(file_path)\n",
        "  ber_mean=ber.mean(axis=1)\n",
        "  ber_min=ber.min(axis=1)\n",
        "  ber_max=ber.max(axis=1)\n",
        "  ber_feature=np.concatenate((ber_mean,ber_min,ber_max))\n",
        "\n",
        "  # Extracting chroma vector feature\n",
        " # chroma = get_chroma_vector(file_path)\n",
        " # chroma_mean = chroma.mean(axis=1)\n",
        " # chroma_min = chroma.min(axis=1)\n",
        " # chroma_max = chroma.max(axis=1)\n",
        " # chroma_feature = np.concatenate( (chroma_mean, chroma_min, chroma_max) )\n",
        "\n",
        "  # Extracting tonnetz feature\n",
        " # tntz = get_tonnetz(file_path)\n",
        "#  tntz_mean = tntz.mean(axis=1)\n",
        "#  tntz_min = tntz.min(axis=1)\n",
        " # tntz_max = tntz.max(axis=1)\n",
        "#  tntz_feature = np.concatenate( (tntz_mean, tntz_min, tntz_max) ) \n",
        "  feature = np.concatenate( (melspectrogram_feature, mfcc_feature) )\n",
        "  return feature"
      ],
      "metadata": {
        "id": "Tx5CWsyRjWrp"
      },
      "execution_count": null,
      "outputs": []
    },
    {
      "cell_type": "code",
      "source": [],
      "metadata": {
        "id": "siF7ybJk5DRQ"
      },
      "execution_count": null,
      "outputs": []
    },
    {
      "cell_type": "code",
      "source": [
        "from tqdm import tqdm\n",
        "import pandas as pd"
      ],
      "metadata": {
        "id": "c7i7croXjaux"
      },
      "execution_count": null,
      "outputs": []
    },
    {
      "cell_type": "code",
      "source": [
        "features = []\n",
        "labels = []\n",
        "audio_dataset_path='/content/working/audio_train'\n",
        "metadata=pd.read_csv(\"/content/working/train.csv\")\n",
        "for index_num,row in tqdm(metadata.iterrows()):\n",
        "    file_name =os.path.join(os.path.abspath(audio_dataset_path)+'/'+str(row[\"fname\"]))\n",
        "    label=row[\"label\"]\n",
        "    features.append(get_feature(file_name))\n",
        "    labels.append(label)"
      ],
      "metadata": {
        "colab": {
          "base_uri": "https://localhost:8080/"
        },
        "id": "3UtLsSxAjhMp",
        "outputId": "05dbb21d-9b36-45fb-a297-2921d607ca5a"
      },
      "execution_count": null,
      "outputs": [
        {
          "output_type": "stream",
          "name": "stderr",
          "text": [
            "1869it [05:21,  5.81it/s]\n"
          ]
        }
      ]
    },
    {
      "cell_type": "code",
      "source": [
        "from tensorflow.keras.utils import to_categorical\n",
        "from sklearn.preprocessing import LabelEncoder\n",
        "labelencoder=LabelEncoder()\n",
        "y=to_categorical(labelencoder.fit_transform(labels))"
      ],
      "metadata": {
        "id": "uZPIjauEkPaY"
      },
      "execution_count": null,
      "outputs": []
    },
    {
      "cell_type": "code",
      "source": [
        "\n",
        "features = np.array(features)\n",
        "y = np.array(y)"
      ],
      "metadata": {
        "id": "gwgE5IUUkr2T"
      },
      "execution_count": null,
      "outputs": []
    },
    {
      "cell_type": "code",
      "source": [
        "from sklearn.model_selection import train_test_split\n",
        "X_train,X_test,y_train,y_test=train_test_split(features,y,test_size=0.2,random_state=0)"
      ],
      "metadata": {
        "id": "1u7vss7dklZQ"
      },
      "execution_count": null,
      "outputs": []
    },
    {
      "cell_type": "code",
      "source": [
        "X_train.shape"
      ],
      "metadata": {
        "colab": {
          "base_uri": "https://localhost:8080/"
        },
        "id": "d14tRscS1LH0",
        "outputId": "dd005280-d3c4-41ea-f5f5-08440156e015"
      },
      "execution_count": null,
      "outputs": [
        {
          "output_type": "execute_result",
          "data": {
            "text/plain": [
              "(1495, 150)"
            ]
          },
          "metadata": {},
          "execution_count": 136
        }
      ]
    },
    {
      "cell_type": "code",
      "source": [
        "from tensorflow import keras\n",
        "from tensorflow.keras import layers\n",
        "model=keras.Sequential([\n",
        "    layers.Dense(300,input_shape=(150,)),\n",
        "    layers.Activation('relu'),\n",
        "    layers.Dropout(0.3),\n",
        "\n",
        "    layers.Dense(200),\n",
        "    layers.Activation('relu'),\n",
        "    layers.Dropout(0.3),\n",
        "\n",
        "    layers.Dense(100),\n",
        "    layers.Activation('relu'),\n",
        "    layers.Dropout(0.3),\n",
        "\n",
        "    layers.Dense(10),\n",
        "    layers.Activation('softmax'),\n",
        "])"
      ],
      "metadata": {
        "id": "3nnWLrfVkoTe"
      },
      "execution_count": null,
      "outputs": []
    },
    {
      "cell_type": "code",
      "source": [
        "model.compile(\n",
        "    # Optimizer\n",
        "    optimizer=keras.optimizers.RMSprop(),\n",
        "    # Loss function to minimize\n",
        "    loss=keras.losses.CategoricalCrossentropy(),\n",
        "    # List of metrics to monitor\n",
        "    metrics=[keras.metrics.CategoricalAccuracy()],\n",
        ")\n"
      ],
      "metadata": {
        "id": "gOFwci1flDDd"
      },
      "execution_count": null,
      "outputs": []
    },
    {
      "cell_type": "code",
      "source": [
        "\n",
        "X_train_np = np.array(X_train)\n",
        "y_train_np = np.array(y_train)\n",
        "X_test_np = np.array(X_test)\n",
        "y_test_np = np.array(y_test)"
      ],
      "metadata": {
        "id": "Xj7Ik78thKFr"
      },
      "execution_count": null,
      "outputs": []
    },
    {
      "cell_type": "code",
      "source": [
        "from datetime import datetime \n",
        "\n",
        "num_epochs = 100\n",
        "num_batch_size = 100\n",
        "\n",
        "early_stopping = keras.callbacks.EarlyStopping(\n",
        "    patience=5,\n",
        "    min_delta=0.001,\n",
        "    restore_best_weights=True,\n",
        ")\n",
        "start = datetime.now()\n",
        "\n",
        "history = model.fit(\n",
        "    X_train.tolist(), y_train.tolist(),\n",
        "    verbose=1,\n",
        "    validation_data=(X_test.tolist(), y_test.tolist()),\n",
        "    batch_size=num_batch_size,\n",
        "    epochs=num_epochs,\n",
        "    callbacks=[early_stopping],\n",
        ")\n",
        "\n",
        "\n",
        "duration = datetime.now() - start\n",
        "print(\"Training completed in time: \", duration)"
      ],
      "metadata": {
        "colab": {
          "base_uri": "https://localhost:8080/"
        },
        "id": "q7Tpr52tlJkU",
        "outputId": "400bf3af-7bd0-4682-ce86-a3e08041f3c6"
      },
      "execution_count": null,
      "outputs": [
        {
          "output_type": "stream",
          "name": "stdout",
          "text": [
            "Epoch 1/100\n",
            "15/15 [==============================] - 1s 42ms/step - loss: 24.3131 - categorical_accuracy: 0.1472 - val_loss: 2.2622 - val_categorical_accuracy: 0.2674\n",
            "Epoch 2/100\n",
            "15/15 [==============================] - 0s 12ms/step - loss: 7.4313 - categorical_accuracy: 0.1672 - val_loss: 2.1492 - val_categorical_accuracy: 0.2353\n",
            "Epoch 3/100\n",
            "15/15 [==============================] - 0s 15ms/step - loss: 4.2470 - categorical_accuracy: 0.1933 - val_loss: 1.9889 - val_categorical_accuracy: 0.2674\n",
            "Epoch 4/100\n",
            "15/15 [==============================] - 0s 13ms/step - loss: 2.9820 - categorical_accuracy: 0.2334 - val_loss: 2.0915 - val_categorical_accuracy: 0.2754\n",
            "Epoch 5/100\n",
            "15/15 [==============================] - 0s 12ms/step - loss: 2.4844 - categorical_accuracy: 0.2542 - val_loss: 1.9284 - val_categorical_accuracy: 0.3155\n",
            "Epoch 6/100\n",
            "15/15 [==============================] - 0s 13ms/step - loss: 2.2219 - categorical_accuracy: 0.2903 - val_loss: 1.7918 - val_categorical_accuracy: 0.4064\n",
            "Epoch 7/100\n",
            "15/15 [==============================] - 0s 13ms/step - loss: 2.0333 - categorical_accuracy: 0.3398 - val_loss: 1.6596 - val_categorical_accuracy: 0.4251\n",
            "Epoch 8/100\n",
            "15/15 [==============================] - 0s 13ms/step - loss: 1.9000 - categorical_accuracy: 0.3973 - val_loss: 1.4947 - val_categorical_accuracy: 0.5428\n",
            "Epoch 9/100\n",
            "15/15 [==============================] - 0s 12ms/step - loss: 1.7061 - categorical_accuracy: 0.4241 - val_loss: 1.3777 - val_categorical_accuracy: 0.6123\n",
            "Epoch 10/100\n",
            "15/15 [==============================] - 0s 12ms/step - loss: 1.5981 - categorical_accuracy: 0.4656 - val_loss: 1.2540 - val_categorical_accuracy: 0.6043\n",
            "Epoch 11/100\n",
            "15/15 [==============================] - 0s 12ms/step - loss: 1.5023 - categorical_accuracy: 0.4890 - val_loss: 1.1620 - val_categorical_accuracy: 0.6016\n",
            "Epoch 12/100\n",
            "15/15 [==============================] - 0s 13ms/step - loss: 1.3960 - categorical_accuracy: 0.5177 - val_loss: 1.1502 - val_categorical_accuracy: 0.6283\n",
            "Epoch 13/100\n",
            "15/15 [==============================] - 0s 13ms/step - loss: 1.3063 - categorical_accuracy: 0.5759 - val_loss: 1.1330 - val_categorical_accuracy: 0.6524\n",
            "Epoch 14/100\n",
            "15/15 [==============================] - 0s 13ms/step - loss: 1.3144 - categorical_accuracy: 0.5605 - val_loss: 1.0177 - val_categorical_accuracy: 0.6658\n",
            "Epoch 15/100\n",
            "15/15 [==============================] - 0s 12ms/step - loss: 1.2825 - categorical_accuracy: 0.5759 - val_loss: 1.0952 - val_categorical_accuracy: 0.6631\n",
            "Epoch 16/100\n",
            "15/15 [==============================] - 0s 12ms/step - loss: 1.1876 - categorical_accuracy: 0.5987 - val_loss: 0.9547 - val_categorical_accuracy: 0.6658\n",
            "Epoch 17/100\n",
            "15/15 [==============================] - 0s 12ms/step - loss: 1.1623 - categorical_accuracy: 0.6013 - val_loss: 0.9965 - val_categorical_accuracy: 0.6979\n",
            "Epoch 18/100\n",
            "15/15 [==============================] - 0s 12ms/step - loss: 1.1469 - categorical_accuracy: 0.6227 - val_loss: 0.9599 - val_categorical_accuracy: 0.6845\n",
            "Epoch 19/100\n",
            "15/15 [==============================] - 0s 11ms/step - loss: 1.1020 - categorical_accuracy: 0.6314 - val_loss: 0.8868 - val_categorical_accuracy: 0.7059\n",
            "Epoch 20/100\n",
            "15/15 [==============================] - 0s 13ms/step - loss: 1.0341 - categorical_accuracy: 0.6689 - val_loss: 0.8849 - val_categorical_accuracy: 0.7326\n",
            "Epoch 21/100\n",
            "15/15 [==============================] - 0s 13ms/step - loss: 1.0557 - categorical_accuracy: 0.6448 - val_loss: 0.8283 - val_categorical_accuracy: 0.7166\n",
            "Epoch 22/100\n",
            "15/15 [==============================] - 0s 13ms/step - loss: 1.0205 - categorical_accuracy: 0.6622 - val_loss: 0.8534 - val_categorical_accuracy: 0.7219\n",
            "Epoch 23/100\n",
            "15/15 [==============================] - 0s 13ms/step - loss: 0.9534 - categorical_accuracy: 0.6890 - val_loss: 0.8757 - val_categorical_accuracy: 0.7487\n",
            "Epoch 24/100\n",
            "15/15 [==============================] - 0s 13ms/step - loss: 0.9253 - categorical_accuracy: 0.6950 - val_loss: 0.8129 - val_categorical_accuracy: 0.7647\n",
            "Epoch 25/100\n",
            "15/15 [==============================] - 0s 20ms/step - loss: 0.9471 - categorical_accuracy: 0.6816 - val_loss: 0.7983 - val_categorical_accuracy: 0.7727\n",
            "Epoch 26/100\n",
            "15/15 [==============================] - 0s 19ms/step - loss: 0.8848 - categorical_accuracy: 0.7064 - val_loss: 0.8435 - val_categorical_accuracy: 0.7727\n",
            "Epoch 27/100\n",
            "15/15 [==============================] - 0s 21ms/step - loss: 0.8920 - categorical_accuracy: 0.6936 - val_loss: 0.7531 - val_categorical_accuracy: 0.7727\n",
            "Epoch 28/100\n",
            "15/15 [==============================] - 0s 21ms/step - loss: 0.8668 - categorical_accuracy: 0.7097 - val_loss: 0.7714 - val_categorical_accuracy: 0.7594\n",
            "Epoch 29/100\n",
            "15/15 [==============================] - 0s 19ms/step - loss: 0.8756 - categorical_accuracy: 0.7110 - val_loss: 0.7787 - val_categorical_accuracy: 0.7968\n",
            "Epoch 30/100\n",
            "15/15 [==============================] - 0s 20ms/step - loss: 0.8407 - categorical_accuracy: 0.7217 - val_loss: 0.7547 - val_categorical_accuracy: 0.7968\n",
            "Epoch 31/100\n",
            "15/15 [==============================] - 0s 23ms/step - loss: 0.8423 - categorical_accuracy: 0.7318 - val_loss: 0.7447 - val_categorical_accuracy: 0.7781\n",
            "Epoch 32/100\n",
            "15/15 [==============================] - 0s 12ms/step - loss: 0.8377 - categorical_accuracy: 0.7271 - val_loss: 0.7644 - val_categorical_accuracy: 0.7620\n",
            "Epoch 33/100\n",
            "15/15 [==============================] - 0s 12ms/step - loss: 0.7788 - categorical_accuracy: 0.7411 - val_loss: 0.7854 - val_categorical_accuracy: 0.7781\n",
            "Epoch 34/100\n",
            "15/15 [==============================] - 0s 12ms/step - loss: 0.8002 - categorical_accuracy: 0.7438 - val_loss: 0.7877 - val_categorical_accuracy: 0.7647\n",
            "Epoch 35/100\n",
            "15/15 [==============================] - 0s 13ms/step - loss: 0.7632 - categorical_accuracy: 0.7411 - val_loss: 0.7954 - val_categorical_accuracy: 0.8021\n",
            "Epoch 36/100\n",
            "15/15 [==============================] - 0s 13ms/step - loss: 0.7302 - categorical_accuracy: 0.7672 - val_loss: 0.7952 - val_categorical_accuracy: 0.8021\n",
            "Training completed in time:  0:00:13.265614\n"
          ]
        }
      ]
    },
    {
      "cell_type": "code",
      "source": [
        "from tensorflow.keras import layers\n",
        "\n",
        "model_2 = keras.Sequential([\n",
        "    layers.Input(shape=(150,)),\n",
        "    layers.Reshape((150, 1)),\n",
        "    layers.Conv1D(filters=64, kernel_size=3, activation=\"relu\"),\n",
        "    layers.BatchNormalization(),\n",
        "    layers.MaxPooling1D(pool_size=2),\n",
        "    layers.Dropout(0.2),\n",
        "    layers.Conv1D(filters=128, kernel_size=3, activation=\"relu\"),\n",
        "    layers.BatchNormalization(),\n",
        "    layers.MaxPooling1D(pool_size=2),\n",
        "    layers.Dropout(0.2),\n",
        "    layers.Conv1D(filters=256, kernel_size=3, activation=\"relu\"),\n",
        "    layers.BatchNormalization(),\n",
        "    layers.MaxPooling1D(pool_size=2),\n",
        "    layers.Dropout(0.2),\n",
        "    layers.Flatten(),\n",
        "    layers.Dense(units=256, activation=\"relu\"),\n",
        "    layers.BatchNormalization(),\n",
        "    layers.Dropout(0.2),\n",
        "    layers.Dense(units=10, activation=\"softmax\")\n",
        "])\n",
        "\n"
      ],
      "metadata": {
        "id": "wbtKXvbaIOFg"
      },
      "execution_count": null,
      "outputs": []
    },
    {
      "cell_type": "code",
      "source": [
        "model_2.compile(\n",
        "    # Optimizer\n",
        "    optimizer=keras.optimizers.RMSprop(),\n",
        "    # Loss function to minimize\n",
        "    loss=keras.losses.CategoricalCrossentropy(),\n",
        "    # List of metrics to monitor\n",
        "    metrics=[keras.metrics.CategoricalAccuracy()],\n",
        ")"
      ],
      "metadata": {
        "id": "4tEITjCQIxKo"
      },
      "execution_count": null,
      "outputs": []
    },
    {
      "cell_type": "code",
      "source": [
        "from datetime import datetime \n",
        "\n",
        "num_epochs = 100\n",
        "num_batch_size = 50\n",
        "\n",
        "early_stopping = keras.callbacks.EarlyStopping(\n",
        "    patience=5,\n",
        "    min_delta=0.001,\n",
        "    restore_best_weights=True,\n",
        ")\n",
        "start = datetime.now()\n",
        "\n",
        "history = model_2.fit(\n",
        "    X_train.tolist(), y_train.tolist(),\n",
        "    verbose=1,\n",
        "    validation_data=(X_test.tolist(), y_test.tolist()),\n",
        "    batch_size=num_batch_size,\n",
        "    epochs=num_epochs,\n",
        "    callbacks=[early_stopping],\n",
        ")\n",
        "\n",
        "\n",
        "duration = datetime.now() - start\n",
        "print(\"Training completed in time: \", duration)"
      ],
      "metadata": {
        "id": "-sIm1BVtIz9S"
      },
      "execution_count": null,
      "outputs": []
    },
    {
      "cell_type": "code",
      "source": [
        "test_accuracy=model.evaluate(X_test,y_test,verbose=0)"
      ],
      "metadata": {
        "id": "cP2n76MkKeRu"
      },
      "execution_count": null,
      "outputs": []
    },
    {
      "cell_type": "code",
      "source": [
        "test_accuracy"
      ],
      "metadata": {
        "colab": {
          "base_uri": "https://localhost:8080/"
        },
        "id": "OS1Pbb0EKfMx",
        "outputId": "fd4ba5ff-7bdf-41b8-8a9a-75e1c5654710"
      },
      "execution_count": null,
      "outputs": [
        {
          "output_type": "execute_result",
          "data": {
            "text/plain": [
              "[0.7446562647819519, 0.7780748605728149]"
            ]
          },
          "metadata": {},
          "execution_count": 167
        }
      ]
    },
    {
      "cell_type": "code",
      "source": [
        "test_accuracy2=model_2.evaluate(X_test,y_test,verbose=0)"
      ],
      "metadata": {
        "id": "inae5exEKigc"
      },
      "execution_count": null,
      "outputs": []
    },
    {
      "cell_type": "code",
      "source": [
        "test_accuracy2"
      ],
      "metadata": {
        "colab": {
          "base_uri": "https://localhost:8080/"
        },
        "id": "Vz9XivH4Kmn_",
        "outputId": "6b34f37a-89ec-46cc-826c-1c0b24dc31a8"
      },
      "execution_count": null,
      "outputs": [
        {
          "output_type": "execute_result",
          "data": {
            "text/plain": [
              "[0.5707608461380005, 0.8208556175231934]"
            ]
          },
          "metadata": {},
          "execution_count": 169
        }
      ]
    },
    {
      "cell_type": "code",
      "source": [
        "history_df = pd.DataFrame(history.history)"
      ],
      "metadata": {
        "id": "RmcAkv10KqIv"
      },
      "execution_count": null,
      "outputs": []
    },
    {
      "cell_type": "code",
      "source": [
        "history_df.loc[:, ['loss', 'val_loss']].plot(title=\"Cross-entropy\")\n",
        "history_df.loc[:, ['categorical_accuracy', 'val_categorical_accuracy']].plot(title=\"Accuracy\")"
      ],
      "metadata": {
        "colab": {
          "base_uri": "https://localhost:8080/",
          "height": 904
        },
        "id": "4CPUn2ENKtWb",
        "outputId": "e8f4f317-8893-4c28-845d-f2fd9f069bfc"
      },
      "execution_count": null,
      "outputs": [
        {
          "output_type": "execute_result",
          "data": {
            "text/plain": [
              "<Axes: title={'center': 'Accuracy'}>"
            ]
          },
          "metadata": {},
          "execution_count": 172
        },
        {
          "output_type": "display_data",
          "data": {
            "text/plain": [
              "<Figure size 640x480 with 1 Axes>"
            ],
            "image/png": "[encoded data removed]"
          },
          "metadata": {}
        },
        {
          "output_type": "display_data",
          "data": {
            "text/plain": [
              "<Figure size 640x480 with 1 Axes>"
            ],
            "image/png": "[encoded data removed]"
          },
          "metadata": {}
        }
      ]
    }
  ]
}