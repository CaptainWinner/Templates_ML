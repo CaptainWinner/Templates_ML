{
  "nbformat": 4,
  "nbformat_minor": 0,
  "metadata": {
    "language_info": {
      "codemirror_mode": {
        "name": "ipython",
        "version": 3
      },
      "file_extension": ".py",
      "mimetype": "text/x-python",
      "name": "python",
      "nbconvert_exporter": "python",
      "pygments_lexer": "ipython3",
      "version": "3.8.10"
    },
    "orig_nbformat": 4,
    "kernelspec": {
      "name": "python3",
      "display_name": "Python 3.8.10 64-bit ('t5': conda)"
    },
    "interpreter": {
      "hash": "184c0bf4d405d4a36e719b504ff2a22c838d19108535bf816dff1a5aad495b87"
    },
    "colab": {
      "provenance": [],
      "collapsed_sections": [
        "rWk8nL6Ui-_0",
        "wvuJL8-f0zn5",
        "oPp18ZHRtnq-",
        "1mvTuOXpwsQe",
        "7Vlm3ySFULsG",
        "CzAOI78tky08",
        "SJfPlTgezD0i",
        "G14o706kdTE1"
      ]
    },
    "accelerator": "GPU",
    "widgets": {
      "application/vnd.jupyter.widget-state+json": {
        "6fd8073b68304695b1c8bd83b3c335da": {
          "model_module": "@jupyter-widgets/controls",
          "model_name": "HBoxModel",
          "model_module_version": "1.5.0",
          "state": {
            "_dom_classes": [],
            "_model_module": "@jupyter-widgets/controls",
            "_model_module_version": "1.5.0",
            "_model_name": "HBoxModel",
            "_view_count": null,
            "_view_module": "@jupyter-widgets/controls",
            "_view_module_version": "1.5.0",
            "_view_name": "HBoxView",
            "box_style": "",
            "children": [
              "IPY_MODEL_99533e9c9ab24cb5a1b69ac0a0f60c27",
              "IPY_MODEL_422b6f9d8e4e4c75a2cfeb12a80fc551",
              "IPY_MODEL_ceabd321a481493fa71b99e16056f8f3"
            ],
            "layout": "IPY_MODEL_55aa59ed7e2e47c09034f7b174ced50e"
          }
        },
        "99533e9c9ab24cb5a1b69ac0a0f60c27": {
          "model_module": "@jupyter-widgets/controls",
          "model_name": "HTMLModel",
          "model_module_version": "1.5.0",
          "state": {
            "_dom_classes": [],
            "_model_module": "@jupyter-widgets/controls",
            "_model_module_version": "1.5.0",
            "_model_name": "HTMLModel",
            "_view_count": null,
            "_view_module": "@jupyter-widgets/controls",
            "_view_module_version": "1.5.0",
            "_view_name": "HTMLView",
            "description": "",
            "description_tooltip": null,
            "layout": "IPY_MODEL_241f5fbd9db14696bd33569be5b8c70f",
            "placeholder": "​",
            "style": "IPY_MODEL_7c9567c930a7425ab342b8dfd97dd3e4",
            "value": "Downloading builder script: "
          }
        },
        "422b6f9d8e4e4c75a2cfeb12a80fc551": {
          "model_module": "@jupyter-widgets/controls",
          "model_name": "FloatProgressModel",
          "model_module_version": "1.5.0",
          "state": {
            "_dom_classes": [],
            "_model_module": "@jupyter-widgets/controls",
            "_model_module_version": "1.5.0",
            "_model_name": "FloatProgressModel",
            "_view_count": null,
            "_view_module": "@jupyter-widgets/controls",
            "_view_module_version": "1.5.0",
            "_view_name": "ProgressView",
            "bar_style": "success",
            "description": "",
            "description_tooltip": null,
            "layout": "IPY_MODEL_d175d438b8dc4757a7ea415e4a979bdc",
            "max": 1901,
            "min": 0,
            "orientation": "horizontal",
            "style": "IPY_MODEL_96e2af14fb734c2da100686347305d80",
            "value": 1901
          }
        },
        "ceabd321a481493fa71b99e16056f8f3": {
          "model_module": "@jupyter-widgets/controls",
          "model_name": "HTMLModel",
          "model_module_version": "1.5.0",
          "state": {
            "_dom_classes": [],
            "_model_module": "@jupyter-widgets/controls",
            "_model_module_version": "1.5.0",
            "_model_name": "HTMLModel",
            "_view_count": null,
            "_view_module": "@jupyter-widgets/controls",
            "_view_module_version": "1.5.0",
            "_view_name": "HTMLView",
            "description": "",
            "description_tooltip": null,
            "layout": "IPY_MODEL_a3e47e0f12fa40e3926e2ee92f48af9c",
            "placeholder": "​",
            "style": "IPY_MODEL_bb89a1e51fb547d1a7251c00901e803d",
            "value": " 4.48k/? [00:00&lt;00:00, 221kB/s]"
          }
        },
        "55aa59ed7e2e47c09034f7b174ced50e": {
          "model_module": "@jupyter-widgets/base",
          "model_name": "LayoutModel",
          "model_module_version": "1.2.0",
          "state": {
            "_model_module": "@jupyter-widgets/base",
            "_model_module_version": "1.2.0",
            "_model_name": "LayoutModel",
            "_view_count": null,
            "_view_module": "@jupyter-widgets/base",
            "_view_module_version": "1.2.0",
            "_view_name": "LayoutView",
            "align_content": null,
            "align_items": null,
            "align_self": null,
            "border": null,
            "bottom": null,
            "display": null,
            "flex": null,
            "flex_flow": null,
            "grid_area": null,
            "grid_auto_columns": null,
            "grid_auto_flow": null,
            "grid_auto_rows": null,
            "grid_column": null,
            "grid_gap": null,
            "grid_row": null,
            "grid_template_areas": null,
            "grid_template_columns": null,
            "grid_template_rows": null,
            "height": null,
            "justify_content": null,
            "justify_items": null,
            "left": null,
            "margin": null,
            "max_height": null,
            "max_width": null,
            "min_height": null,
            "min_width": null,
            "object_fit": null,
            "object_position": null,
            "order": null,
            "overflow": null,
            "overflow_x": null,
            "overflow_y": null,
            "padding": null,
            "right": null,
            "top": null,
            "visibility": null,
            "width": null
          }
        },
        "241f5fbd9db14696bd33569be5b8c70f": {
          "model_module": "@jupyter-widgets/base",
          "model_name": "LayoutModel",
          "model_module_version": "1.2.0",
          "state": {
            "_model_module": "@jupyter-widgets/base",
            "_model_module_version": "1.2.0",
            "_model_name": "LayoutModel",
            "_view_count": null,
            "_view_module": "@jupyter-widgets/base",
            "_view_module_version": "1.2.0",
            "_view_name": "LayoutView",
            "align_content": null,
            "align_items": null,
            "align_self": null,
            "border": null,
            "bottom": null,
            "display": null,
            "flex": null,
            "flex_flow": null,
            "grid_area": null,
            "grid_auto_columns": null,
            "grid_auto_flow": null,
            "grid_auto_rows": null,
            "grid_column": null,
            "grid_gap": null,
            "grid_row": null,
            "grid_template_areas": null,
            "grid_template_columns": null,
            "grid_template_rows": null,
            "height": null,
            "justify_content": null,
            "justify_items": null,
            "left": null,
            "margin": null,
            "max_height": null,
            "max_width": null,
            "min_height": null,
            "min_width": null,
            "object_fit": null,
            "object_position": null,
            "order": null,
            "overflow": null,
            "overflow_x": null,
            "overflow_y": null,
            "padding": null,
            "right": null,
            "top": null,
            "visibility": null,
            "width": null
          }
        },
        "7c9567c930a7425ab342b8dfd97dd3e4": {
          "model_module": "@jupyter-widgets/controls",
          "model_name": "DescriptionStyleModel",
          "model_module_version": "1.5.0",
          "state": {
            "_model_module": "@jupyter-widgets/controls",
            "_model_module_version": "1.5.0",
            "_model_name": "DescriptionStyleModel",
            "_view_count": null,
            "_view_module": "@jupyter-widgets/base",
            "_view_module_version": "1.2.0",
            "_view_name": "StyleView",
            "description_width": ""
          }
        },
        "d175d438b8dc4757a7ea415e4a979bdc": {
          "model_module": "@jupyter-widgets/base",
          "model_name": "LayoutModel",
          "model_module_version": "1.2.0",
          "state": {
            "_model_module": "@jupyter-widgets/base",
            "_model_module_version": "1.2.0",
            "_model_name": "LayoutModel",
            "_view_count": null,
            "_view_module": "@jupyter-widgets/base",
            "_view_module_version": "1.2.0",
            "_view_name": "LayoutView",
            "align_content": null,
            "align_items": null,
            "align_self": null,
            "border": null,
            "bottom": null,
            "display": null,
            "flex": null,
            "flex_flow": null,
            "grid_area": null,
            "grid_auto_columns": null,
            "grid_auto_flow": null,
            "grid_auto_rows": null,
            "grid_column": null,
            "grid_gap": null,
            "grid_row": null,
            "grid_template_areas": null,
            "grid_template_columns": null,
            "grid_template_rows": null,
            "height": null,
            "justify_content": null,
            "justify_items": null,
            "left": null,
            "margin": null,
            "max_height": null,
            "max_width": null,
            "min_height": null,
            "min_width": null,
            "object_fit": null,
            "object_position": null,
            "order": null,
            "overflow": null,
            "overflow_x": null,
            "overflow_y": null,
            "padding": null,
            "right": null,
            "top": null,
            "visibility": null,
            "width": null
          }
        },
        "96e2af14fb734c2da100686347305d80": {
          "model_module": "@jupyter-widgets/controls",
          "model_name": "ProgressStyleModel",
          "model_module_version": "1.5.0",
          "state": {
            "_model_module": "@jupyter-widgets/controls",
            "_model_module_version": "1.5.0",
            "_model_name": "ProgressStyleModel",
            "_view_count": null,
            "_view_module": "@jupyter-widgets/base",
            "_view_module_version": "1.2.0",
            "_view_name": "StyleView",
            "bar_color": null,
            "description_width": ""
          }
        },
        "a3e47e0f12fa40e3926e2ee92f48af9c": {
          "model_module": "@jupyter-widgets/base",
          "model_name": "LayoutModel",
          "model_module_version": "1.2.0",
          "state": {
            "_model_module": "@jupyter-widgets/base",
            "_model_module_version": "1.2.0",
            "_model_name": "LayoutModel",
            "_view_count": null,
            "_view_module": "@jupyter-widgets/base",
            "_view_module_version": "1.2.0",
            "_view_name": "LayoutView",
            "align_content": null,
            "align_items": null,
            "align_self": null,
            "border": null,
            "bottom": null,
            "display": null,
            "flex": null,
            "flex_flow": null,
            "grid_area": null,
            "grid_auto_columns": null,
            "grid_auto_flow": null,
            "grid_auto_rows": null,
            "grid_column": null,
            "grid_gap": null,
            "grid_row": null,
            "grid_template_areas": null,
            "grid_template_columns": null,
            "grid_template_rows": null,
            "height": null,
            "justify_content": null,
            "justify_items": null,
            "left": null,
            "margin": null,
            "max_height": null,
            "max_width": null,
            "min_height": null,
            "min_width": null,
            "object_fit": null,
            "object_position": null,
            "order": null,
            "overflow": null,
            "overflow_x": null,
            "overflow_y": null,
            "padding": null,
            "right": null,
            "top": null,
            "visibility": null,
            "width": null
          }
        },
        "bb89a1e51fb547d1a7251c00901e803d": {
          "model_module": "@jupyter-widgets/controls",
          "model_name": "DescriptionStyleModel",
          "model_module_version": "1.5.0",
          "state": {
            "_model_module": "@jupyter-widgets/controls",
            "_model_module_version": "1.5.0",
            "_model_name": "DescriptionStyleModel",
            "_view_count": null,
            "_view_module": "@jupyter-widgets/base",
            "_view_module_version": "1.2.0",
            "_view_name": "StyleView",
            "description_width": ""
          }
        },
        "af2a37e1d71f490fb6a09a2e9c23204f": {
          "model_module": "@jupyter-widgets/controls",
          "model_name": "HBoxModel",
          "model_module_version": "1.5.0",
          "state": {
            "_dom_classes": [],
            "_model_module": "@jupyter-widgets/controls",
            "_model_module_version": "1.5.0",
            "_model_name": "HBoxModel",
            "_view_count": null,
            "_view_module": "@jupyter-widgets/controls",
            "_view_module_version": "1.5.0",
            "_view_name": "HBoxView",
            "box_style": "",
            "children": [
              "IPY_MODEL_0738161639d741f2a6822c4d37dbdd13",
              "IPY_MODEL_f86363ab64db4e8082d145baddadffde",
              "IPY_MODEL_ec29ee8701224f8a853d85185cec7009"
            ],
            "layout": "IPY_MODEL_643b61126f4f40de8eaf79b38105bb26"
          }
        },
        "0738161639d741f2a6822c4d37dbdd13": {
          "model_module": "@jupyter-widgets/controls",
          "model_name": "HTMLModel",
          "model_module_version": "1.5.0",
          "state": {
            "_dom_classes": [],
            "_model_module": "@jupyter-widgets/controls",
            "_model_module_version": "1.5.0",
            "_model_name": "HTMLModel",
            "_view_count": null,
            "_view_module": "@jupyter-widgets/controls",
            "_view_module_version": "1.5.0",
            "_view_name": "HTMLView",
            "description": "",
            "description_tooltip": null,
            "layout": "IPY_MODEL_c28fe35ef245477e99c158d05939e3d6",
            "placeholder": "​",
            "style": "IPY_MODEL_bba98d88f9d4473495758ceeb203f639",
            "value": "100%"
          }
        },
        "f86363ab64db4e8082d145baddadffde": {
          "model_module": "@jupyter-widgets/controls",
          "model_name": "FloatProgressModel",
          "model_module_version": "1.5.0",
          "state": {
            "_dom_classes": [],
            "_model_module": "@jupyter-widgets/controls",
            "_model_module_version": "1.5.0",
            "_model_name": "FloatProgressModel",
            "_view_count": null,
            "_view_module": "@jupyter-widgets/controls",
            "_view_module_version": "1.5.0",
            "_view_name": "ProgressView",
            "bar_style": "success",
            "description": "",
            "description_tooltip": null,
            "layout": "IPY_MODEL_4a05ad5a80c7462bbc5c8d41f72f1a83",
            "max": 4,
            "min": 0,
            "orientation": "horizontal",
            "style": "IPY_MODEL_5f949557d984474995e1ff3a54a1cc29",
            "value": 4
          }
        },
        "ec29ee8701224f8a853d85185cec7009": {
          "model_module": "@jupyter-widgets/controls",
          "model_name": "HTMLModel",
          "model_module_version": "1.5.0",
          "state": {
            "_dom_classes": [],
            "_model_module": "@jupyter-widgets/controls",
            "_model_module_version": "1.5.0",
            "_model_name": "HTMLModel",
            "_view_count": null,
            "_view_module": "@jupyter-widgets/controls",
            "_view_module_version": "1.5.0",
            "_view_name": "HTMLView",
            "description": "",
            "description_tooltip": null,
            "layout": "IPY_MODEL_c1434a4d784a4f6daf33ca17fa2100fb",
            "placeholder": "​",
            "style": "IPY_MODEL_5b2024564b8c4f0d876f157a0341ee69",
            "value": " 4/4 [00:20&lt;00:00,  2.55s/it]"
          }
        },
        "643b61126f4f40de8eaf79b38105bb26": {
          "model_module": "@jupyter-widgets/base",
          "model_name": "LayoutModel",
          "model_module_version": "1.2.0",
          "state": {
            "_model_module": "@jupyter-widgets/base",
            "_model_module_version": "1.2.0",
            "_model_name": "LayoutModel",
            "_view_count": null,
            "_view_module": "@jupyter-widgets/base",
            "_view_module_version": "1.2.0",
            "_view_name": "LayoutView",
            "align_content": null,
            "align_items": null,
            "align_self": null,
            "border": null,
            "bottom": null,
            "display": null,
            "flex": null,
            "flex_flow": null,
            "grid_area": null,
            "grid_auto_columns": null,
            "grid_auto_flow": null,
            "grid_auto_rows": null,
            "grid_column": null,
            "grid_gap": null,
            "grid_row": null,
            "grid_template_areas": null,
            "grid_template_columns": null,
            "grid_template_rows": null,
            "height": null,
            "justify_content": null,
            "justify_items": null,
            "left": null,
            "margin": null,
            "max_height": null,
            "max_width": null,
            "min_height": null,
            "min_width": null,
            "object_fit": null,
            "object_position": null,
            "order": null,
            "overflow": null,
            "overflow_x": null,
            "overflow_y": null,
            "padding": null,
            "right": null,
            "top": null,
            "visibility": null,
            "width": null
          }
        },
        "c28fe35ef245477e99c158d05939e3d6": {
          "model_module": "@jupyter-widgets/base",
          "model_name": "LayoutModel",
          "model_module_version": "1.2.0",
          "state": {
            "_model_module": "@jupyter-widgets/base",
            "_model_module_version": "1.2.0",
            "_model_name": "LayoutModel",
            "_view_count": null,
            "_view_module": "@jupyter-widgets/base",
            "_view_module_version": "1.2.0",
            "_view_name": "LayoutView",
            "align_content": null,
            "align_items": null,
            "align_self": null,
            "border": null,
            "bottom": null,
            "display": null,
            "flex": null,
            "flex_flow": null,
            "grid_area": null,
            "grid_auto_columns": null,
            "grid_auto_flow": null,
            "grid_auto_rows": null,
            "grid_column": null,
            "grid_gap": null,
            "grid_row": null,
            "grid_template_areas": null,
            "grid_template_columns": null,
            "grid_template_rows": null,
            "height": null,
            "justify_content": null,
            "justify_items": null,
            "left": null,
            "margin": null,
            "max_height": null,
            "max_width": null,
            "min_height": null,
            "min_width": null,
            "object_fit": null,
            "object_position": null,
            "order": null,
            "overflow": null,
            "overflow_x": null,
            "overflow_y": null,
            "padding": null,
            "right": null,
            "top": null,
            "visibility": null,
            "width": null
          }
        },
        "bba98d88f9d4473495758ceeb203f639": {
          "model_module": "@jupyter-widgets/controls",
          "model_name": "DescriptionStyleModel",
          "model_module_version": "1.5.0",
          "state": {
            "_model_module": "@jupyter-widgets/controls",
            "_model_module_version": "1.5.0",
            "_model_name": "DescriptionStyleModel",
            "_view_count": null,
            "_view_module": "@jupyter-widgets/base",
            "_view_module_version": "1.2.0",
            "_view_name": "StyleView",
            "description_width": ""
          }
        },
        "4a05ad5a80c7462bbc5c8d41f72f1a83": {
          "model_module": "@jupyter-widgets/base",
          "model_name": "LayoutModel",
          "model_module_version": "1.2.0",
          "state": {
            "_model_module": "@jupyter-widgets/base",
            "_model_module_version": "1.2.0",
            "_model_name": "LayoutModel",
            "_view_count": null,
            "_view_module": "@jupyter-widgets/base",
            "_view_module_version": "1.2.0",
            "_view_name": "LayoutView",
            "align_content": null,
            "align_items": null,
            "align_self": null,
            "border": null,
            "bottom": null,
            "display": null,
            "flex": null,
            "flex_flow": null,
            "grid_area": null,
            "grid_auto_columns": null,
            "grid_auto_flow": null,
            "grid_auto_rows": null,
            "grid_column": null,
            "grid_gap": null,
            "grid_row": null,
            "grid_template_areas": null,
            "grid_template_columns": null,
            "grid_template_rows": null,
            "height": null,
            "justify_content": null,
            "justify_items": null,
            "left": null,
            "margin": null,
            "max_height": null,
            "max_width": null,
            "min_height": null,
            "min_width": null,
            "object_fit": null,
            "object_position": null,
            "order": null,
            "overflow": null,
            "overflow_x": null,
            "overflow_y": null,
            "padding": null,
            "right": null,
            "top": null,
            "visibility": null,
            "width": null
          }
        },
        "5f949557d984474995e1ff3a54a1cc29": {
          "model_module": "@jupyter-widgets/controls",
          "model_name": "ProgressStyleModel",
          "model_module_version": "1.5.0",
          "state": {
            "_model_module": "@jupyter-widgets/controls",
            "_model_module_version": "1.5.0",
            "_model_name": "ProgressStyleModel",
            "_view_count": null,
            "_view_module": "@jupyter-widgets/base",
            "_view_module_version": "1.2.0",
            "_view_name": "StyleView",
            "bar_color": null,
            "description_width": ""
          }
        },
        "c1434a4d784a4f6daf33ca17fa2100fb": {
          "model_module": "@jupyter-widgets/base",
          "model_name": "LayoutModel",
          "model_module_version": "1.2.0",
          "state": {
            "_model_module": "@jupyter-widgets/base",
            "_model_module_version": "1.2.0",
            "_model_name": "LayoutModel",
            "_view_count": null,
            "_view_module": "@jupyter-widgets/base",
            "_view_module_version": "1.2.0",
            "_view_name": "LayoutView",
            "align_content": null,
            "align_items": null,
            "align_self": null,
            "border": null,
            "bottom": null,
            "display": null,
            "flex": null,
            "flex_flow": null,
            "grid_area": null,
            "grid_auto_columns": null,
            "grid_auto_flow": null,
            "grid_auto_rows": null,
            "grid_column": null,
            "grid_gap": null,
            "grid_row": null,
            "grid_template_areas": null,
            "grid_template_columns": null,
            "grid_template_rows": null,
            "height": null,
            "justify_content": null,
            "justify_items": null,
            "left": null,
            "margin": null,
            "max_height": null,
            "max_width": null,
            "min_height": null,
            "min_width": null,
            "object_fit": null,
            "object_position": null,
            "order": null,
            "overflow": null,
            "overflow_x": null,
            "overflow_y": null,
            "padding": null,
            "right": null,
            "top": null,
            "visibility": null,
            "width": null
          }
        },
        "5b2024564b8c4f0d876f157a0341ee69": {
          "model_module": "@jupyter-widgets/controls",
          "model_name": "DescriptionStyleModel",
          "model_module_version": "1.5.0",
          "state": {
            "_model_module": "@jupyter-widgets/controls",
            "_model_module_version": "1.5.0",
            "_model_name": "DescriptionStyleModel",
            "_view_count": null,
            "_view_module": "@jupyter-widgets/base",
            "_view_module_version": "1.2.0",
            "_view_name": "StyleView",
            "description_width": ""
          }
        }
      }
    }
  },
  "cells": [
    {
      "cell_type": "markdown",
      "source": [
        "# Fine-tuning Wav2Vec2 with an LM head\n",
        "\n",
        "In this notebook, we will load the pre-trained wav2vec2 model from [TFHub](https://tfhub.dev) and will fine-tune it on [LibriSpeech dataset](https://huggingface.co/datasets/librispeech_asr) by appending Language Modeling head (LM) over the top of our pre-trained model. The underlying task is to build a model for **Automatic Speech Recognition** i.e. given some speech, the model should be able to transcribe it into text."
      ],
      "metadata": {
        "id": "ndG8MjmJeicp"
      }
    },
    {
      "cell_type": "markdown",
      "source": [
        "## Setting Up\n",
        "\n",
        "Before running this notebook, please ensure that you are on GPU runtime (`Runtime` > `Change runtime type` > `GPU`). The following cell will install [`gsoc-wav2vec2`](https://github.com/vasudevgupta7/gsoc-wav2vec2) package & its dependencies."
      ],
      "metadata": {
        "id": "rWk8nL6Ui-_0"
      }
    },
    {
      "cell_type": "code",
      "execution_count": 1,
      "source": [
        "!pip3 install -q git+https://github.com/vasudevgupta7/gsoc-wav2vec2@main\n",
        "!sudo apt-get install -y libsndfile1-dev\n",
        "!pip3 install -q SoundFile"
      ],
      "outputs": [
        {
          "output_type": "stream",
          "name": "stdout",
          "text": [
            "  Preparing metadata (setup.py) ... \u001b[?25l\u001b[?25hdone\n",
            "\u001b[2K     \u001b[90m━━━━━━━━━━━━━━━━━━━━━━━━━━━━━━━━━━━━━━━━\u001b[0m \u001b[32m2.0/2.0 MB\u001b[0m \u001b[31m27.0 MB/s\u001b[0m eta \u001b[36m0:00:00\u001b[0m\n",
            "\u001b[2K     \u001b[90m━━━━━━━━━━━━━━━━━━━━━━━━━━━━━━━━━━━━━━\u001b[0m \u001b[32m199.8/199.8 KB\u001b[0m \u001b[31m15.7 MB/s\u001b[0m eta \u001b[36m0:00:00\u001b[0m\n",
            "\u001b[2K     \u001b[90m━━━━━━━━━━━━━━━━━━━━━━━━━━━━━━━━━━━━━━━━\u001b[0m \u001b[32m2.2/2.2 MB\u001b[0m \u001b[31m13.8 MB/s\u001b[0m eta \u001b[36m0:00:00\u001b[0m\n",
            "\u001b[2K     \u001b[90m━━━━━━━━━━━━━━━━━━━━━━━━━━━━━━━━━━━━━━\u001b[0m \u001b[32m194.8/194.8 KB\u001b[0m \u001b[31m22.4 MB/s\u001b[0m eta \u001b[36m0:00:00\u001b[0m\n",
            "\u001b[2K     \u001b[90m━━━━━━━━━━━━━━━━━━━━━━━━━━━━━━━━━━━━━━\u001b[0m \u001b[32m184.3/184.3 KB\u001b[0m \u001b[31m20.8 MB/s\u001b[0m eta \u001b[36m0:00:00\u001b[0m\n",
            "\u001b[?25h  Preparing metadata (setup.py) ... \u001b[?25l\u001b[?25hdone\n",
            "\u001b[2K     \u001b[90m━━━━━━━━━━━━━━━━━━━━━━━━━━━━━━━━━━━━━━━━\u001b[0m \u001b[32m62.7/62.7 KB\u001b[0m \u001b[31m8.8 MB/s\u001b[0m eta \u001b[36m0:00:00\u001b[0m\n",
            "\u001b[?25h  Building wheel for wav2vec2 (setup.py) ... \u001b[?25l\u001b[?25hdone\n",
            "  Building wheel for pathtools (setup.py) ... \u001b[?25l\u001b[?25hdone\n",
            "Reading package lists... Done\n",
            "Building dependency tree       \n",
            "Reading state information... Done\n",
            "libsndfile1-dev is already the newest version (1.0.28-7ubuntu0.1).\n",
            "0 upgraded, 0 newly installed, 0 to remove and 23 not upgraded.\n"
          ]
        }
      ],
      "metadata": {
        "id": "seqTlMyeZvM4",
        "colab": {
          "base_uri": "https://localhost:8080/"
        },
        "outputId": "2dc38800-2914-446e-bbc2-5f7ff56dc121"
      }
    },
    {
      "cell_type": "markdown",
      "source": [
        "## Model setup using `TFHub`\n",
        "\n",
        "We will start by importing some libraries/modules."
      ],
      "metadata": {
        "id": "wvuJL8-f0zn5"
      }
    },
    {
      "cell_type": "code",
      "execution_count": 2,
      "source": [
        "import os\n",
        "\n",
        "import tensorflow as tf\n",
        "import tensorflow_hub as hub\n",
        "from wav2vec2 import Wav2Vec2Config\n",
        "\n",
        "config = Wav2Vec2Config()\n",
        "\n",
        "print(\"TF version:\", tf.__version__)"
      ],
      "outputs": [
        {
          "output_type": "stream",
          "name": "stdout",
          "text": [
            "TF version: 2.11.0\n"
          ]
        }
      ],
      "metadata": {
        "id": "M3_fgx4eZvM7",
        "colab": {
          "base_uri": "https://localhost:8080/"
        },
        "outputId": "71406861-925a-4aeb-b0a7-9e3f154da28c"
      }
    },
    {
      "cell_type": "markdown",
      "source": [
        "First, we will download our model from TFHub & will wrap our model signature with [`hub.KerasLayer`](https://www.tensorflow.org/hub/api_docs/python/hub/KerasLayer) to be able to use this model like any other Keras layer. Fortunately, `hub.KerasLayer` can do both in just 1 line.\n",
        "\n",
        "**Note:** When loading model with `hub.KerasLayer`, model becomes a bit opaque but sometimes we need finer controls over the model, then we can load the model with `tf.keras.models.load_model(...)`."
      ],
      "metadata": {
        "id": "y0rVUxyWsS5f"
      }
    },
    {
      "cell_type": "code",
      "execution_count": 3,
      "source": [
        "pretrained_layer = hub.KerasLayer(\"https://tfhub.dev/vasudevgupta7/wav2vec2/1\", trainable=True)"
      ],
      "outputs": [],
      "metadata": {
        "id": "NO6QRC7KZvM9"
      }
    },
    {
      "cell_type": "markdown",
      "source": [
        "You can refer to this [script](https://github.com/vasudevgupta7/gsoc-wav2vec2/blob/main/src/export2hub.py) in case you are interested in the model exporting script. Object `pretrained_layer` is the freezed version of [`Wav2Vec2Model`](https://github.com/vasudevgupta7/gsoc-wav2vec2/blob/main/src/wav2vec2/modeling.py). These pre-trained weights were converted from HuggingFace PyTorch [pre-trained weights](https://huggingface.co/facebook/wav2vec2-base) using [this script](https://github.com/vasudevgupta7/gsoc-wav2vec2/blob/main/src/convert_torch_to_tf.py).\n",
        "\n",
        "Originally, wav2vec2 was pre-trained with a masked language modelling approach with the objective to identify the true quantized latent speech representation for a masked time step. You can read more about the training objective in the paper- [wav2vec 2.0: A Framework for Self-Supervised Learning of Speech Representations](https://arxiv.org/abs/2006.11477)."
      ],
      "metadata": {
        "id": "pCputyVBv2e9"
      }
    },
    {
      "cell_type": "markdown",
      "source": [
        "Now, we will be defining a few constants and hyper-parameters which will be useful in the next few cells. `AUDIO_MAXLEN` is intentionally set to `246000` as the model signature only accepts static sequence length of `246000`."
      ],
      "metadata": {
        "id": "SseDnCr7hyhC"
      }
    },
    {
      "cell_type": "code",
      "execution_count": 4,
      "source": [
        "AUDIO_MAXLEN = 246000\n",
        "LABEL_MAXLEN = 256\n",
        "BATCH_SIZE = 2"
      ],
      "outputs": [],
      "metadata": {
        "id": "eiILuMBERxlO"
      }
    },
    {
      "cell_type": "markdown",
      "source": [
        "In the following cell, we will wrap `pretrained_layer` & a dense layer (LM head) with the [Keras's Functional API](https://www.tensorflow.org/guide/keras/functional)."
      ],
      "metadata": {
        "id": "1V4gTgGLgXvO"
      }
    },
    {
      "cell_type": "code",
      "execution_count": 5,
      "source": [
        "inputs = tf.keras.Input(shape=(AUDIO_MAXLEN,))\n",
        "hidden_states = pretrained_layer(inputs)\n",
        "outputs = tf.keras.layers.Dense(config.vocab_size)(hidden_states)\n",
        "\n",
        "model = tf.keras.Model(inputs=inputs, outputs=outputs)"
      ],
      "outputs": [
        {
          "output_type": "stream",
          "name": "stderr",
          "text": [
            "WARNING:tensorflow:From /usr/local/lib/python3.9/dist-packages/tensorflow/python/autograph/pyct/static_analysis/liveness.py:83: Analyzer.lamba_check (from tensorflow.python.autograph.pyct.static_analysis.liveness) is deprecated and will be removed after 2023-09-23.\n",
            "Instructions for updating:\n",
            "Lambda fuctions will be no more assumed to be used in the statement where they are used, or at least in the same block. https://github.com/tensorflow/tensorflow/issues/56089\n"
          ]
        }
      ],
      "metadata": {
        "id": "a3CUN1KEB10Q",
        "colab": {
          "base_uri": "https://localhost:8080/"
        },
        "outputId": "f1471cc8-9f3d-4921-96e6-bdca7d2d0584"
      }
    },
    {
      "cell_type": "markdown",
      "source": [
        "The dense layer (defined above) is having an output dimension of `vocab_size` as we want to predict probabilities of each token in the vocabulary at each time step."
      ],
      "metadata": {
        "id": "5zDXuoMXhDMo"
      }
    },
    {
      "cell_type": "markdown",
      "source": [
        "## Setting up training state"
      ],
      "metadata": {
        "id": "oPp18ZHRtnq-"
      }
    },
    {
      "cell_type": "markdown",
      "source": [
        "In TensorFlow, model weights are built only when `model.call` or `model.build` is called for the first time, so the following cell will build the model weights for us. Further, we will be running `model.summary()` to check the total number of trainable parameters."
      ],
      "metadata": {
        "id": "ATQy1ZK3vFr7"
      }
    },
    {
      "cell_type": "code",
      "execution_count": 6,
      "source": [
        "model(tf.random.uniform(shape=(BATCH_SIZE, AUDIO_MAXLEN)))\n",
        "model.summary()"
      ],
      "outputs": [
        {
          "output_type": "stream",
          "name": "stdout",
          "text": [
            "Model: \"model\"\n",
            "_________________________________________________________________\n",
            " Layer (type)                Output Shape              Param #   \n",
            "=================================================================\n",
            " input_1 (InputLayer)        [(None, 246000)]          0         \n",
            "                                                                 \n",
            " keras_layer (KerasLayer)    (None, 768, 768)          94371712  \n",
            "                                                                 \n",
            " dense (Dense)               (None, 768, 32)           24608     \n",
            "                                                                 \n",
            "=================================================================\n",
            "Total params: 94,396,320\n",
            "Trainable params: 94,396,320\n",
            "Non-trainable params: 0\n",
            "_________________________________________________________________\n"
          ]
        }
      ],
      "metadata": {
        "id": "ZgL5wyaXZvM-",
        "colab": {
          "base_uri": "https://localhost:8080/"
        },
        "outputId": "aa38b9b8-f827-4a2e-89c3-185597c1cf4c"
      }
    },
    {
      "cell_type": "markdown",
      "source": [
        "Now, we need to define the `loss_fn` and optimizer to be able to train the model. The following cell will do that for us. We will be using the `Adam` optimizer for simplicity. `CTCLoss` is a common loss type that is used for tasks (like `ASR`) where input sub-parts can't be easily aligned with output sub-parts. You can read more about CTC-loss from this amazing [blog post](https://distill.pub/2017/ctc/).\n",
        "\n",
        "\n",
        "`CTCLoss` (from [`gsoc-wav2vec2`](https://github.com/vasudevgupta7/gsoc-wav2vec2) package) accepts 3 arguments: `config`, `model_input_shape` & `division_factor`. If `division_factor=1`, then loss will simply get summed, so pass `division_factor` accordingly to get mean over batch."
      ],
      "metadata": {
        "id": "EQxxA4Fevp7m"
      }
    },
    {
      "cell_type": "code",
      "execution_count": 7,
      "source": [
        "from wav2vec2 import CTCLoss\n",
        "\n",
        "LEARNING_RATE = 5e-5\n",
        "\n",
        "loss_fn = CTCLoss(config, (BATCH_SIZE, AUDIO_MAXLEN), division_factor=BATCH_SIZE)\n",
        "optimizer = tf.keras.optimizers.Adam(LEARNING_RATE)"
      ],
      "outputs": [],
      "metadata": {
        "id": "glDepVEHZvM_"
      }
    },
    {
      "cell_type": "markdown",
      "source": [
        "## Loading & Pre-processing data\n",
        "\n",
        "Let's now download the LibriSpeech dataset from the [official website](http://www.openslr.org/12) and set it up."
      ],
      "metadata": {
        "id": "1mvTuOXpwsQe"
      }
    },
    {
      "cell_type": "code",
      "execution_count": 8,
      "source": [
        "!wget https://www.openslr.org/resources/12/dev-clean.tar.gz -P ./data/train/\n",
        "!tar -xf ./data/train/dev-clean.tar.gz -C ./data/train/"
      ],
      "outputs": [
        {
          "output_type": "stream",
          "name": "stdout",
          "text": [
            "--2023-03-30 06:37:56--  https://www.openslr.org/resources/12/dev-clean.tar.gz\n",
            "Resolving www.openslr.org (www.openslr.org)... 46.101.158.64\n",
            "Connecting to www.openslr.org (www.openslr.org)|46.101.158.64|:443... connected.\n",
            "HTTP request sent, awaiting response... 302 Found\n",
            "Location: http://us.openslr.org/resources/12/dev-clean.tar.gz [following]\n",
            "--2023-03-30 06:37:56--  http://us.openslr.org/resources/12/dev-clean.tar.gz\n",
            "Resolving us.openslr.org (us.openslr.org)... 46.101.158.64\n",
            "Connecting to us.openslr.org (us.openslr.org)|46.101.158.64|:80... connected.\n",
            "HTTP request sent, awaiting response... 200 OK\n",
            "Length: 337926286 (322M) [application/x-gzip]\n",
            "Saving to: ‘./data/train/dev-clean.tar.gz’\n",
            "\n",
            "dev-clean.tar.gz    100%[===================>] 322.27M   209MB/s    in 1.5s    \n",
            "\n",
            "2023-03-30 06:37:57 (209 MB/s) - ‘./data/train/dev-clean.tar.gz’ saved [337926286/337926286]\n",
            "\n"
          ]
        }
      ],
      "metadata": {
        "id": "I4kIEC77cBCM",
        "colab": {
          "base_uri": "https://localhost:8080/"
        },
        "outputId": "19b1401f-1951-423b-e0c7-24c1d55b5545"
      }
    },
    {
      "cell_type": "markdown",
      "source": [
        "**Note:** We are using `dev-clean` configuration as this notebook is just for demonstration purposes, so we need a small amount of data. Complete training data can be easily downloaded from [LibriSpeech website](http://www.openslr.org/12)."
      ],
      "metadata": {
        "id": "LsQpmpn6jrMI"
      }
    },
    {
      "cell_type": "code",
      "execution_count": 9,
      "source": [
        "ls ./data/train/"
      ],
      "outputs": [
        {
          "output_type": "stream",
          "name": "stdout",
          "text": [
            "dev-clean.tar.gz  \u001b[0m\u001b[01;34mLibriSpeech\u001b[0m/\n"
          ]
        }
      ],
      "metadata": {
        "id": "ynxAjtGHGFpM",
        "colab": {
          "base_uri": "https://localhost:8080/"
        },
        "outputId": "4f6eccfa-3707-43e5-b35a-8dfb715333b4"
      }
    },
    {
      "cell_type": "markdown",
      "source": [
        "Our dataset lies in the LibriSpeech directory. Let's explore these files."
      ],
      "metadata": {
        "id": "yBMiORo0xJD0"
      }
    },
    {
      "cell_type": "code",
      "execution_count": 10,
      "source": [
        "data_dir = \"./data/train/LibriSpeech/dev-clean/2428/83705/\"\n",
        "all_files = os.listdir(data_dir)\n",
        "\n",
        "flac_files = [f for f in all_files if f.endswith(\".flac\")]\n",
        "txt_files = [f for f in all_files if f.endswith(\".txt\")]\n",
        "\n",
        "print(\"Transcription files:\", txt_files, \"\\nSound files:\", flac_files)"
      ],
      "outputs": [
        {
          "output_type": "stream",
          "name": "stdout",
          "text": [
            "Transcription files: ['2428-83705.trans.txt'] \n",
            "Sound files: ['2428-83705-0039.flac', '2428-83705-0006.flac', '2428-83705-0011.flac', '2428-83705-0033.flac', '2428-83705-0036.flac', '2428-83705-0001.flac', '2428-83705-0003.flac', '2428-83705-0019.flac', '2428-83705-0025.flac', '2428-83705-0017.flac', '2428-83705-0035.flac', '2428-83705-0018.flac', '2428-83705-0022.flac', '2428-83705-0030.flac', '2428-83705-0028.flac', '2428-83705-0026.flac', '2428-83705-0032.flac', '2428-83705-0002.flac', '2428-83705-0029.flac', '2428-83705-0021.flac', '2428-83705-0040.flac', '2428-83705-0037.flac', '2428-83705-0016.flac', '2428-83705-0042.flac', '2428-83705-0031.flac', '2428-83705-0034.flac', '2428-83705-0012.flac', '2428-83705-0014.flac', '2428-83705-0023.flac', '2428-83705-0005.flac', '2428-83705-0043.flac', '2428-83705-0009.flac', '2428-83705-0007.flac', '2428-83705-0013.flac', '2428-83705-0015.flac', '2428-83705-0041.flac', '2428-83705-0000.flac', '2428-83705-0020.flac', '2428-83705-0004.flac', '2428-83705-0038.flac', '2428-83705-0008.flac', '2428-83705-0010.flac', '2428-83705-0024.flac', '2428-83705-0027.flac']\n"
          ]
        }
      ],
      "metadata": {
        "id": "jkIu_Wt4ZvNA",
        "colab": {
          "base_uri": "https://localhost:8080/"
        },
        "outputId": "c2f6da81-38ba-497a-d5e1-35911dddc72e"
      }
    },
    {
      "cell_type": "markdown",
      "source": [
        "Alright, so each sub-directory has many `.flac` files and a `.txt` file. The `.txt` file contains text transcriptions for all the speech samples (i.e. `.flac` files) present in that sub-directory."
      ],
      "metadata": {
        "id": "XEObi_Apk3ZD"
      }
    },
    {
      "cell_type": "markdown",
      "source": [
        "We can load this text data as follows:"
      ],
      "metadata": {
        "id": "WYW6WKJflO2e"
      }
    },
    {
      "cell_type": "code",
      "execution_count": 11,
      "source": [
        "def read_txt_file(f):\n",
        "  with open(f, \"r\") as f:\n",
        "    samples = f.read().split(\"\\n\")\n",
        "    samples = {s.split()[0]: \" \".join(s.split()[1:]) for s in samples if len(s.split()) > 2}\n",
        "  return samples"
      ],
      "outputs": [],
      "metadata": {
        "id": "cEBKxQblHPwq"
      }
    },
    {
      "cell_type": "markdown",
      "source": [
        "Similarly, we will define a function for loading a speech sample from a `.flac` file.\n",
        "\n",
        "`REQUIRED_SAMPLE_RATE` is set to `16000` as wav2vec2 was pre-trained with `16K` frequency and it's recommended to fine-tune it without any major change in data distribution due to frequency."
      ],
      "metadata": {
        "id": "Ldkf_ceb0_YW"
      }
    },
    {
      "cell_type": "code",
      "execution_count": 12,
      "source": [
        "import soundfile as sf\n",
        "\n",
        "REQUIRED_SAMPLE_RATE = 16000\n",
        "\n",
        "def read_flac_file(file_path):\n",
        "  with open(file_path, \"rb\") as f:\n",
        "      audio, sample_rate = sf.read(f)\n",
        "  if sample_rate != REQUIRED_SAMPLE_RATE:\n",
        "      raise ValueError(\n",
        "          f\"sample rate (={sample_rate}) of your files must be {REQUIRED_SAMPLE_RATE}\"\n",
        "      )\n",
        "  file_id = os.path.split(file_path)[-1][:-len(\".flac\")]\n",
        "  return {file_id: audio}"
      ],
      "outputs": [],
      "metadata": {
        "id": "YOJ3OzPsTyXv"
      }
    },
    {
      "cell_type": "markdown",
      "source": [
        "Now, we will pick some random samples & will try to visualize them."
      ],
      "metadata": {
        "id": "2sxDN8P4nWkW"
      }
    },
    {
      "cell_type": "code",
      "execution_count": 15,
      "source": [
        "from IPython.display import Audio\n",
        "import random\n",
        "\n",
        "file_id = random.choice([f[:-len(\".flac\")] for f in flac_files])\n",
        "flac_file_path, txt_file_path = os.path.join(data_dir, f\"{file_id}.flac\"), os.path.join(data_dir, \"2428-83705.trans.txt\")\n",
        "\n",
        "print(\"Text Transcription:\", read_txt_file(txt_file_path)[file_id], \"\\nAudio:\")\n",
        "Audio(filename=flac_file_path)"
      ],
      "outputs": [
        {
          "output_type": "stream",
          "name": "stdout",
          "text": [
            "Text Transcription: WE HAVE ALL BEEN GIVING MARY ANN PRESENTS AND I SUPPOSE YOU MISTER WHITING HAVE BEEN GIVING HER SOMETHING TOO \n",
            "Audio:\n"
          ]
        },
        {
          "output_type": "execute_result",
          "data": {
            "text/plain": [
              "<IPython.lib.display.Audio object>"
            ],
            "text/html": [
              "\n",
              "                <audio  controls=\"controls\" >\n",
              "                    <source src=\"data:audio/flac;base64,ZkxhQwAAACIQABAAAAM5ABZyA+gA8AAB6MD9jXJ3FdO2n5b4WOwrRhMrAwAAEgAAAAAAAAAAAAAAAAAAAAAQAAQAACggAAAAcmVmZXJlbmNlIGxpYkZMQUMgMS4yLjEgMjAwNzA5MTcAAAAAgQAgAAAAAAAAAAAAAAAAAAAAAAAAAAAAAAAAAAAAAAAAAAAAAAAAAAAAAAAAAAAAAAAAAAAAAAAAAAAAAAAAAAAAAAAAAAAAAAAAAAAAAAAAAAAAAAAAAAAAAAAAAAAAAAAAAAAAAAAAAAAAAAAAAAAAAAAAAAAAAAAAAAAAAAAAAAAAAAAAAAAAAAAAAAAAAAAAAAAAAAAAAAAAAAAAAAAAAAAAAAAAAAAAAAAAAAAAAAAAAAAAAAAAAAAAAAAAAAAAAAAAAAAAAAAAAAAAAAAAAAAAAAAAAAAAAAAAAAAAAAAAAAAAAAAAAAAAAAAAAAAAAAAAAAAAAAAAAAAAAAAAAAAAAAAAAAAAAAAAAAAAAAAAAAAAAAAAAAAAAAAAAAAAAAAAAAAAAAAAAAAAAAAAAAAAAAAAAAAAAAAAAAAAAAAAAAAAAAAAAAAAAAAAAAAAAAAAAAAAAAAAAAAAAAAAAAAAAAAAAAAAAAAAAAAAAAAAAAAAAAAAAAAAAAAAAAAAAAAAAAAAAAAAAAAAAAAAAAAAAAAAAAAAAAAAAAAAAAAAAAAAAAAAAAAAAAAAAAAAAAAAAAAAAAAAAAAAAAAAAAAAAAAAAAAAAAAAAAAAAAAAAAAAAAAAAAAAAAAAAAAAAAAAAAAAAAAAAAAAAAAAAAAAAAAAAAAAAAAAAAAAAAAAAAAAAAAAAAAAAAAAAAAAAAAAAAAAAAAAAAAAAAAAAAAAAAAAAAAAAAAAAAAAAAAAAAAAAAAAAAAAAAAAAAAAAAAAAAAAAAAAAAAAAAAAAAAAAAAAAAAAAAAAAAAAAAAAAAAAAAAAAAAAAAAAAAAAAAAAAAAAAAAAAAAAAAAAAAAAAAAAAAAAAAAAAAAAAAAAAAAAAAAAAAAAAAAAAAAAAAAAAAAAAAAAAAAAAAAAAAAAAAAAAAAAAAAAAAAAAAAAAAAAAAAAAAAAAAAAAAAAAAAAAAAAAAAAAAAAAAAAAAAAAAAAAAAAAAAAAAAAAAAAAAAAAAAAAAAAAAAAAAAAAAAAAAAAAAAAAAAAAAAAAAAAAAAAAAAAAAAAAAAAAAAAAAAAAAAAAAAAAAAAAAAAAAAAAAAAAAAAAAAAAAAAAAAAAAAAAAAAAAAAAAAAAAAAAAAAAAAAAAAAAAAAAAAAAAAAAAAAAAAAAAAAAAAAAAAAAAAAAAAAAAAAAAAAAAAAAAAAAAAAAAAAAAAAAAAAAAAAAAAAAAAAAAAAAAAAAAAAAAAAAAAAAAAAAAAAAAAAAAAAAAAAAAAAAAAAAAAAAAAAAAAAAAAAAAAAAAAAAAAAAAAAAAAAAAAAAAAAAAAAAAAAAAAAAAAAAAAAAAAAAAAAAAAAAAAAAAAAAAAAAAAAAAAAAAAAAAAAAAAAAAAAAAAAAAAAAAAAAAAAAAAAAAAAAAAAAAAAAAAAAAAAAAAAAAAAAAAAAAAAAAAAAAAAAAAAAAAAAAAAAAAAAAAAAAAAAAAAAAAAAAAAAAAAAAAAAAAAAAAAAAAAAAAAAAAAAAAAAAAAAAAAAAAAAAAAAAAAAAAAAAAAAAAAAAAAAAAAAAAAAAAAAAAAAAAAAAAAAAAAAAAAAAAAAAAAAAAAAAAAAAAAAAAAAAAAAAAAAAAAAAAAAAAAAAAAAAAAAAAAAAAAAAAAAAAAAAAAAAAAAAAAAAAAAAAAAAAAAAAAAAAAAAAAAAAAAAAAAAAAAAAAAAAAAAAAAAAAAAAAAAAAAAAAAAAAAAAAAAAAAAAAAAAAAAAAAAAAAAAAAAAAAAAAAAAAAAAAAAAAAAAAAAAAAAAAAAAAAAAAAAAAAAAAAAAAAAAAAAAAAAAAAAAAAAAAAAAAAAAAAAAAAAAAAAAAAAAAAAAAAAAAAAAAAAAAAAAAAAAAAAAAAAAAAAAAAAAAAAAAAAAAAAAAAAAAAAAAAAAAAAAAAAAAAAAAAAAAAAAAAAAAAAAAAAAAAAAAAAAAAAAAAAAAAAAAAAAAAAAAAAAAAAAAAAAAAAAAAAAAAAAAAAAAAAAAAAAAAAAAAAAAAAAAAAAAAAAAAAAAAAAAAAAAAAAAAAAAAAAAAAAAAAAAAAAAAAAAAAAAAAAAAAAAAAAAAAAAAAAAAAAAAAAAAAAAAAAAAAAAAAAAAAAAAAAAAAAAAAAAAAAAAAAAAAAAAAAAAAAAAAAAAAAAAAAAAAAAAAAAAAAAAAAAAAAAAAAAAAAAAAAAAAAAAAAAAAAAAAAAAAAAAAAAAAAAAAAAAAAAAAAAAAAAAAAAAAAAAAAAAAAAAAAAAAAAAAAAAAAAAAAAAAAAAAAAAAAAAAAAAAAAAAAAAAAAAAAAAAAAAAAAAAAAAAAAAAAAAAAAAAAAAAAAAAAAAAAAAAAAAAAAAAAAAAAAAAAAAAAAAAAAAAAAAAAAAAAAAAAAAAAAAAAAAAAAAAAAAAAAAAAAAAAAAAAAAAAAAAAAAAAAAAAAAAAAAAAAAAAAAAAAAAAAAAAAAAAAAAAAAAAAAAAAAAAAAAAAAAAAAAAAAAAAAAAAAAAAAAAAAAAAAAAAAAAAAAAAAAAAAAAAAAAAAAAAAAAAAAAAAAAAAAAAAAAAAAAAAAAAAAAAAAAAAAAAAAAAAAAAAAAAAAAAAAAAAAAAAAAAAAAAAAAAAAAAAAAAAAAAAAAAAAAAAAAAAAAAAAAAAAAAAAAAAAAAAAAAAAAAAAAAAAAAAAAAAAAAAAAAAAAAAAAAAAAAAAAAAAAAAAAAAAAAAAAAAAAAAAAAAAAAAAAAAAAAAAAAAAAAAAAAAAAAAAAAAAAAAAAAAAAAAAAAAAAAAAAAAAAAAAAAAAAAAAAAAAAAAAAAAAAAAAAAAAAAAAAAAAAAAAAAAAAAAAAAAAAAAAAAAAAAAAAAAAAAAAAAAAAAAAAAAAAAAAAAAAAAAAAAAAAAAAAAAAAAAAAAAAAAAAAAAAAAAAAAAAAAAAAAAAAAAAAAAAAAAAAAAAAAAAAAAAAAAAAAAAAAAAAAAAAAAAAAAAAAAAAAAAAAAAAAAAAAAAAAAAAAAAAAAAAAAAAAAAAAAAAAAAAAAAAAAAAAAAAAAAAAAAAAAAAAAAAAAAAAAAAAAAAAAAAAAAAAAAAAAAAAAAAAAAAAAAAAAAAAAAAAAAAAAAAAAAAAAAAAAAAAAAAAAAAAAAAAAAAAAAAAAAAAAAAAAAAAAAAAAAAAAAAAAAAAAAAAAAAAAAAAAAAAAAAAAAAAAAAAAAAAAAAAAAAAAAAAAAAAAAAAAAAAAAAAAAAAAAAAAAAAAAAAAAAAAAAAAAAAAAAAAAAAAAAAAAAAAAAAAAAAAAAAAAAAAAAAAAAAAAAAAAAAAAAAAAAAAAAAAAAAAAAAAAAAAAAAAAAAAAAAAAAAAAAAAAAAAAAAAAAAAAAAAAAAAAAAAAAAAAAAAAAAAAAAAAAAAAAAAAAAAAAAAAAAAAAAAAAAAAAAAAAAAAAAAAAAAAAAAAAAAAAAAAAAAAAAAAAAAAAAAAAAAAAAAAAAAAAAAAAAAAAAAAAAAAAAAAAAAAAAAAAAAAAAAAAAAAAAAAAAAAAAAAAAAAAAAAAAAAAAAAAAAAAAAAAAAAAAAAAAAAAAAAAAAAAAAAAAAAAAAAAAAAAAAAAAAAAAAAAAAAAAAAAAAAAAAAAAAAAAAAAAAAAAAAAAAAAAAAAAAAAAAAAAAAAAAAAAAAAAAAAAAAAAAAAAAAAAAAAAAAAAAAAAAAAAAAAAAAAAAAAAAAAAAAAAAAAAAAAAAAAAAAAAAAAAAAAAAAAAAAAAAAAAAAAAAAAAAAAAAAAAAAAAAAAAAAAAAAAAAAAAAAAAAAAAAAAAAAAAAAAAAAAAAAAAAAAAAAAAAAAAAAAAAAAAAAAAAAAAAAAAAAAAAAAAAAAAAAAAAAAAAAAAAAAAAAAAAAAAAAAAAAAAAAAAAAAAAAAAAAAAAAAAAAAAAAAAAAAAAAAAAAAAAAAAAAAAAAAAAAAAAAAAAAAAAAAAAAAAAAAAAAAAAAAAAAAAAAAAAAAAAAAAAAAAAAAAAAAAAAAAAAAAAAAAAAAAAAAAAAAAAAAAAAAAAAAAAAAAAAAAAAAAAAAAAAAAAAAAAAAAAAAAAAAAAAAAAAAAAAAAAAAAAAAAAAAAAAAAAAAAAAAAAAAAAAAAAAAAAAAAAAAAAAAAAAAAAAAAAAAAAAAAAAAAAAAAAAAAAAAAAAAAAAAAAAAAAAAAAAAAAAAAAAAAAAAAAAAAAAAAAAAAAAAAAAAAAAAAAAAAAAAAAAAAAAAAAAAAAAAAAAAAAAAAAAAAAAAAAAAAAAAAAAAAAAAAAAAAAAAAAAAAAAAAAAAAAAAAAAAAAAAAAAAAAAAAAAAAAAAAAAAAAAAAAAAAAAAAAAAAAAAAAAAAAAAAAAAAAAAAAAAAAAAAAAAAAAAAAAAAAAAAAAAAAAAAAAAAAAAAAAAAAAAAAAAAAAAAAAAAAAAAAAAAAAAAAAAAAAAAAAAAAAAAAAAAAAAAAAAAAAAAAAAAAAAAAAAAAAAAAAAAAAAAAAAAAAAAAAAAAAAAAAAAAAAAAAAAAAAAAAAAAAAAAAAAAAAAAAAAAAAAAAAAAAAAAAAAAAAAAAAAAAAAAAAAAAAAAAAAAAAAAAAAAAAAAAAAAAAAAAAAAAAAAAAAAAAAAAAAAAAAAAAAAAAAAAAAAAAAAAAAAAAAAAAAAAAAAAAAAAAAAAAAAAAAAAAAAAAAAAAAAAAAAAAAAAAAAAAAAAAAAAAAAAAAAAAAAAAAAAAAAAAAAAAAAAAAAAAAAAAAAAAAAAAAAAAAAAAAAAAAAAAAAAAAAAAAAAAAAAAAAAAAAAAAAAAAAAAAAAAAAAAAAAAAAAAAAAAAAAAAAAAAAAAAAAAAAAAAAAAAAAAAAAAAAAAAAAAAAAAAAAAAAAAAAAAAAAAAAAAAAAAAAAAAAAAAAAAAAAAAAAAAAAAAAAAAAAAAAAAAAAAAAAAAAAAAAAAAAAAAAAAAAAAAAAAAAAAAAAAAAAAAAAAAAAAAAAAAAAAAAAAAAAAAAAAAAAAAAAAAAAAAAAAAAAAAAAAAAAAAAAAAAAAAAAAAAAAAAAAAAAAAAAAAAAAAAAAAAAAAAAAAAAAAAAAAAAAAAAAAAAAAAAAAAAAAAAAAAAAAAAAAAAAAAAAAAAAAAAAAAAAAAAAAAAAAAAAAAAAAAAAAAAAAAAAAAAAAAAAAAAAAAAAAAAAAAAAAAAAAAAAAAAAAAAAAAAAAAAAAAAAAAAAAAAAAAAAAAAAAAAAAAAAAAAAAAAAAAAAAAAAAAAAAAAAAAAAAAAAAAAAAAAAAAAAAAAAAAAAAAAAAAAAAAAAAAAAAAAAAAAAAAAAAAAAAAAAAAAAAAAAAAAAAAAAAAAAAAAAAAAAAAAAAAAAAAAAAAAAAAAAAAAAAAAAAAAAAAAAAAAAAAAAAAAAAAAAAAAAAAAAAAAAAAAAAAAAAAAAAAAAAAAAAAAAAAAAAAAAAAAAAAAAAAAAAAAAAAAAAAAAAAAAAAAAAAAAAAAAAAAAAAAAAAAAAAAAAAAAAAAAAAAAAAAAAAAAAAAAAAAAAAAAAAAAAAAAAAAAAAAAAAAAAAAAAAAAAAAAAAAAAAAAAAAAAAAAAAAAAAAAAAAAAAAAAAAAAAAAAAAAAAAAAAAAAAAAAAAAAAAAAAAAAAAAAAAAAAAAAAAAAAAAAAAAAAAAAAAAAAAAAAAAAAAAAAAAAAAAAAAAAAAAAAAAAAAAAAAAAAAAAAAAAAAAAAAAAAAAAAAAAAAAAAAAAAAAAAAAAAAAAAAAAAAAAAAAAAAAAAAAAAAAAAAAAAAAAAAAAAAAAAAAAAAAAAAAAAAAAAAAAAAAAAAAAAAAAAAAAAAAAAAAAAAAAAAAAAAAAAAAAAAAAAAAAAAAAAAAAAAAAAAAAAAAAAAAAAAAAAAAAAAAAAAAAAAAAAAAAAAAAAAAAAAAAAAAAAAAAAAAAAAAAAAAAAAAAAAAAAAAAAAAAAAAAAAAAAAAAAAAAAAAAAAAAAAAAAAAAAAAAAAAAAAAAAAAAAAAAAAAAAAAAAAAAAAAAAAAAAAAAAAAAAAAAAAAAAAAAAAAAAAAAAAAAAAAAAAAAAAAAAAAAAAAAAAAAAAAAAAAAAAAAAAAAAAAAAAAAAAAAAAAAAAAAAAAAAAAAAAAAAAAAAAAAAAAAAAAAAAAAAAAAAAAAAAAAAAAAAAAAAAAAAAAAAAAAAAAAAAAAAAAAAAAAAAAAAAAAAAAAAAAAAAAAAAAAAAAAAAAAAAAAAAAAAAAAAAAAAAAAAAAAAAAAAAAAAAAAAAAAAAAAAAAAAAAAAAAAAAAAAAAAAAAAAAAAAAAAAAAAAAAAAAAAAAAAAAAAAAAAAAAAAAAAAAAAAAAAAAAAAAAAAAAAAAAAAAAAAAAAAAAAAAAAAAAAAAAAAAAAAAAAAAAAAAAAAAAAAAAAAAAAAAAAAAAAAAAAAAAAAAAAAAAAAAAAAAAAAAAAAAAAAAAAAAAAAAAAAAAAAAAAAAAAAAAAAAAAAAAAAAAAAAAAAAAAAAAAAAAAAAAAAAAAAAAAAAAAAAAAAAAAAAAAAAAAAAAAAAAAAAAAAAAAAAAAAAAAAAAAAAAAAAAAAAAAAAAAAAAAAAAAAAAAAAAAAAAAAAAAAAAAAAAAAAAAAAAAAAAAAAAAAAAAAAAAAAAAAAAAAAAAAAAAAAAAAAAAAAAAAAAAAAAAAAAAAAAAAAAAAAAAAAAAAAAAAAAAAAAAAAAAAAAAAAAAAAAAAAAAAAAAAAAAAAAAAAAAAAAAAAAAAAAAAAAAAAAAAAAAAAAAAAAAAAAAAAAAAAAAAAAAAAAAAAAAAAAAAAAAAAAAAAAAAAAAAAAAAAAAAAAAAAAAAAAAAAAAAAAAAAAAAAAAAAAAAAAAAAAAAAAAAAAAAAAAAAAAAAAAAAAAAAAAAAAAAAAAAAAAAAAAAAAAAAAAAAAAAAAAAAAAAAAAAAAAAAAAAAAAAAAAAAAAAAAAAAAAAAAAAAAAAAAAAAAAAAAAAAAAAAAAAAAAAAAAAAAAAAAAAAAAAAAAAAAAAAAAAAAAAAAAAAAAAAAAAAAAAAAAAAAAAAAAAAAAAAAAAAAAAAAAAAAAAAAAAAAAAAAAAAAAAAAAAAAAAAAAAAAAAAAAAAAAAAAAAAAAAAAAAAAAAAAAAAAAAAAAAAAAAAAAAAAAAAAAAAAAAAAAAAAAAAAAAAAAAAAAAAAAAAAAAAAAAAAAAAAAAAAAAAAAAAAAAAAAAAAAAAAAAAAAAAAAAAAAAAAAAAAAAAAAAAAAAAAAAAAAAAAAAAAAAAAAAAAAAAAAAAAAAAAAAAAAAAAAAAAAAAAAAAAAAAAAAAAAAAAAAAAAAAAAAAAAAAAAAAAAAAAAAAAAAAAAAAAAAAAAAAAAAAAAAAAAAAAAAAAAAAAAAAAAAAAAAAAAAAAAAAAAAAAAAAAAAAAAAAAAAAAAAAAAAAAAAAAAAAAAAAAAAAAAAAAAAAAAAAAAAAAAAAAAAAAAAAAAAAAAAAAAAAAAAAAAAAAAAAAAAAAAAAAAAAAAAAAAAAAAAAAAAAAAAAAAAAAAAAAAAAAAAAAAAAAAAAAAAAAAAAAAAAAAAAAAAAAAAAAAAAAAAAAAAAAAAAAAAAAAAAAAAAAAAAAAAAAAAAAAAAAAAAAAAAAAAAAAAAAAAAAAAAAAAAAAAAAAAAAAAAAAAAAAAAAAAAAAAAAAAAAAAAAAAAAAAAAAAAAAAAAAAAAAAAAAAAAAAAAAAAAAAAAAAAAAAAAAAAAAAAAAAAAAAAAAAAAAAAAAAAAAAAAAAAAAAAAAAAAAAAAAAAAAAAAAAAAAAAAAAAAAAAAAAAAAAAAAAAAAAAAAAAAAAAAAAAAAAAAAAAAAAAAAAAAAAAAAAAAAAAAAAAAAAAAAAAAAAAAAAAAAAAAAAAAAAAAAAAAAAAAAAAAAAAAAAAAAAAAAAAAAAAAAAAAAAAAAAAAAAAAAAAAAAAAAAAAAAAAAAAAAAAAAAAAAAAAAAAAAAAAAAAAAAAAAAAAAAAAAAAAAAAAAAAAAAAAAAAAAAAAAAAAAAAAAAAAAAAAAAAAAAAAAAAAAAAAAAAAAAAAAAAAAAAAAAAAAAAAAAAAAAAAAAAAAAAAAAAAAAAAAAAAAAAAAAAAAAAAAAAAAAAAAAAAAAAAAAAAAAAAAAAAAAAAAAAAAAAAAAAAAAAAAAAAAAAAAAAAAAAAAAAAAAAAAAAAAAAAAAAAAAAAAAAAAAAAAAAAAAAAAAAAAAAAAAAAAAAAAAAAAAAAAAAAAAAAAAAAAAAAAAAAAAAAAAAAAAAAAAAAAAAAAAAAAAAAAAAAAAAAAAAAAAAAAAAAAAAAAAAAAAAAAAAAAAAAAAAAAAAAAAAAAAAAAAAAAAAAAAAAAAAAAAAAAAAAAAAAAAAAAAAAAAAAAAAAAAAAAAAAAAAAAAAAAAAAAAAAAAAAAAAAAAAAAAAAAAAAAAAAAAAAAAAAAAAAAAAAAAAAAAAAAAAAAAAAAAAAAAAAAAAAAAAAAAAAAAAAAAAAAAAAAAAAAAAAAAAAAAAAAAAAAAAAAAAAAAAAAAAAAAAAAAAAAAAAAAAAAAAAAAAAAAAAAAAAAAAAAAAAAAAAAAAAAAAAAAAAAAAAAAAAAAAAAAAAAAAAAAAAAAAAAAAAAAAAAAAAAAAAAAAAAAAAAAAAAAAAAAAAAAAAAAAAAAAAAAAAAAAAAAAAAAAAAAAAAAAAAAAAAAAAAAAAAAAAAAAAAAAAAAAAAAAAAAAAAAAAAAAAAAAAAAAAAAAAAAAAAAAAAAAAAAAAAAAAAAAAAAAAAAAAAAAAAAAAAAAAAAAAAAAAAAAAAAAAAAAAAAAAAAAAAAAAAAAAAAAAAAAAAAAAAAAAAAAAAAAAAAAAAAAAAAAAAAAAAAAAAAAAAAAAAAAAAAAAAAAAAAAAAAAAAAAAAAAAAAAAAAAAAAAAAAAAAAAAAAAAAAAAAAAAAAAAAAAAAAAAAAAAAAAAAAAAAAAAAAAAAAAAAAAAAAAAAAAAAAAAAAAAAAAAAAAAAAAAAAAAAAAAAAAAAAAAAAAAAAAAAAAAAAAAAAAAAAAAAAAAAAAAAAAAAAAAAAAAAAAAAAAAAAAAAAAAAAAAAAAAAAAAAAAAAAAAAAAAAAAAAAAAAAAAAAAAAAAAAAAAAAAAAAAAAAAAAAAAAAAAAAAAAAAAAAAAAAAAAAAAAAAAAAAAAAAAAAAAAAAAAAAAAAAAAAAAAAAAAAAAAAAAAAAAAAAAAAAAAAAAAAAAAAAAAAAAAAAAAAAAAAAAAAAAAAAAAAAAAAAAAAAAAAAAAAAAAAAAAAAAAAAAAAAAAAAAAAAAAAAAAAAAAAAAAAAAAAAAAAAAAAAAAAAAAAAAAAAAAAAAAAAAAAAAAAAAAAAAAAAAAAAAAAAAAAAAAAAAAAAAAAAAAAAAAAAAAAAAAAAAAAAAAAAAAAAAAAAAAAAAAAAAAAAAAAAAAAAAAAAAAAAAAAAAAAAAAAAAAAAAAAAAAAAAAAAAAAAAAAAAAAAAAAAAAAAAAAAAAAAAAAAAAAAAAAAAAAAAAAAAAAAAAAAAAAAAAAAAAAAAAAAAAAAAAAAAAAAAAAAAAAAAAAAAAAAAAAAAAAAAAAAAAAAAAAAAAAAAAAAAAAAAAAAAAAAAAAAAAAAAAAAAAAAAAAAAAAAAAAAAAAAAAAAAAAAAAAAAAAAAAAAAAAAAAAAAAAAAAAAAAAAAAAAAAAAAAAAAAAAAAAAAAAAAAAAAAAAAAAAAAAAAAAAAAAAAAAAAAAAAAAAAAAAAAAAAAAAAAAAAAAAAAAAAAAAAAAAAAAAAAAAAAAAAAAAAAAAAAAAAAAAAAAAAAAAAAAAAAAAAAAAAAAAAAAAAAAAAAAAAAAAAAAAAAAAAAAAAAAAAAAAAAAAAAAAAAAAAAAAAAAAAAAAAAAAAAAAAAAAAAAAAAAAAAAAAAAAAAAAAAAAAAAAAAAAAAAAAAAAAAAAAAAAAAAAAAAAAAAAAAAAAAAAAAAAAAAAAAAAAAAAAAAAAAAAAAAAAAAAAAAAAAAAAAAAAAAAAAAAAAAAAAAAAAAAAAAAAAAAAAAAAAAAAAAAAAAAAAAAAAAAAAAAAAAAAAAAAAAAAAAAAAAAAAAAAAAAAAAAAAAAAAAAAAAAAAAAAAAAAAAAAAAAAAAAAAAAAAAAAAAAAAAAAAAAAAAAAAAAAAAAAAAAAAAAAAAAAAAAAAAAAAAAAAAAAAAAAAAAAAAAAAAAAAAAAAAAAAAAAAAAAAAAAAAAAAAAAAAAAAAAAAAAAAAAAAAAAAAAAAAAAAAAAAAAAAAAAAAAAAAAAAAAAAAAAAAAAAAAAAAAAAAAAAAAAAAAAAAAAAAAAAAAAAAAAAAAAAAAAAAAAAAAAAAAAAAAAAAAAAAAAAAAAAAAAAAAAAAAAAAAAAAAAAAAAAAAAAAAAAAAAAAAAAAAAAAAAAAAAAAAAAAAAAAAAAAAAAAAAAAAAAAAAAAAAAAAAAAAAAAAAAAAAAAAAAAAAAAAAAAAAAAAAAAAAAAAAAAAAAAAAAAAAAAAAAAAAAAAAAAAAAAAAAAAAAAAAAAAAAAAAAAAAAAAAAAAAAAAAAAAAAAAAAAAAAAAAAAAAAAAAAAAAAAAAAAAAAAAAAAAAAAAAAAAAAAAAAAAAAAAAAAAAAAAAAAAAAAAAAAAAAAAAAAAAAAAAAAAAAAAAAAAAAAAAAAAAAAAAAAAAAAAAAAAAAAAAAAAAAAAAAAAAAAAAAAAAAAAAAAAAAAAAAAAAAAAAAAAAAAAAAAAAAAAAAAAAAAAAAAAAAAAAAAAAAAAAAAAAAAAAAAAAAAAAAAAAAAAAAAAAAAAAAAAAAAAAAAAAAAAAAAAAAAAAAAAAAAAAAAAAAAAAAAAAAAAAAAAAAAAAAAAAAAAAAAAAA//jFCABvSgAJAAkABAADAAQABLUmn6b7D/T+IFgANQiibkaEgWgsohREQhYqITHyLr85KQiM1vC09Z5C6jCiEQLBMhZCsiTq3/SIgKaYlQISSIeYVKeFRRBkkIQsrolpK6xRUgo0SmnTTIUgWUvLETCEC1RHsJSRcrCoq4FZQZBCAGgAQcYgRMEIJRIFOEjExxwukiggiRMKFUpJIUg4mCZEGrmEBP4kSC6heRRCos0IixAtv6bJqkROSE8kRoKR1MyLhG1NkfiJC33yQqM0hFQXo7Ikl0RoYlS2I6iiiiimSEzEnEKAmc0WCQkPCplR+REFNWwQIRr10ghuo8FpiJyI/7ESkHMyJBEtMIQIMin5awjILV8kIlqZkseamgrLVoQuLEbEQVRIW4IFJEaUaJATENSZWJSSGOKRxM1RQmRBRIqkRIjTohEtKVQkO4JrTGbSwkKpFkmUCBEoqPEcm0gtYsJaEYr4WFyvR1KFQUS5DIEgSMKTSE0q8kpEdDBIkICybTExhEVSZovFklmEBaFaQkEUL5/HYxaiZUBMWto3AkKhTHhMMkFYghQ77SJctL5klNFRCxKpNS3SkYhExCCWUKwqIXUs0IhmWWoCiCK9BQaiJyIbbZa8TuCshGiJDIKfQmS3pFLFzBPCMiHpCEVEQSKQgsyGE0RioUTbWEZar6XGYS/LjCILVC5LaIxQpz0rsty1apwj2ynJMFhCY7EfIltJlkJERRUxJJLFtSrS4lYV3hYzZNDQU5aEakckzrRNI1QlqljCSOC5ekrEhIi7K1aKoKeBMSQiVIThk2FY2K0aRLKEWSBGmKJizITk1pkLKeTsoSbhFNktRKm5/lIhBZEkXiEJ62KUvF+eFIFk5gkiQglwhQ1WIpcVoKcJlmC7vcIzYvqRWJi8F0DinJPSdi+2Asri0iYsTyrEJkkWWIRkCXiJJCcLKiKIIjKlMJNSCUFWlbEQjAi0Q0/o6IYSEEkLRCoBJkQJR5Iok1abhQjRRgU0FISSwhIptCLIIWVMuII0ypJeWIiREIkxM1kYWS/awvkkEsfXiCgyEtIkkkCFlikIs8cMJwRC3JkKUZHcnLFUgUgIJgQoRJIhaSF5CiJKSRIhPJI0URRRevTLyXLSRShCVQmLhZaTEVqJSRIIqRESSEJMhEaSq0RKKCbvgRLRDpJOLC2QoWEBC0mUxCQ2NIhIq/CCJ6SReqMytnRIQtFkQJJKLpGuZ/HEjJYULJLJWgvKhsivEim8SpIXNaQQjEqyEykUyL0MjSJLYU4BBBGHQg6kLIFi2NETUJEVEVIuRpIRVmJ6yJr8xLITFyX5IgTAqtKEoulFIaEtmJVkXRaET5RKxJIQkihJdxNaUtxHDSdwQraPiRYS1sppQyLglBGEChMIspzfupT+aKIlsQZBE8IDAsQYgQ0MBfyaIEiLcwUSJkUqOPS1eg6R4SJAsJOxGQgiC2wPryneEBecMoiVPhJERMWVXVBEvY2EKPaHEQUXs3COKshu2RU4l6QiMgioiUTfsio57ooUNgiBLN5FBZXQhImohFIJNTERDtQjSSYJtIUiabZNMWRETQeEcg00wQic0ySCPmEShw5uQlsQ/agRCQlEok5qfXEckNWSIFywSEySGiI4YEGMSUYVJEQWLJIi3MOMh8PEJxCwnIkiyiIwkRpgMY64kx8LLImU0ImGvgSYWeQtAiKMioJis4EeifwU6ZohNgmpuFigSBJphcRGMizEE+e57FMQvGiH5GQomWUJmkKi4zsZCAEM4MnOBSyC0UPFBZSNxRJpiRhCEYyJWghQ2Tb0YiIICLEg0SC7wnMqD6mStrGxbgQKTCwwiIhPnJiC4wgkhM8STws5koP0+EIUNJKKPrCJEKCaFusREiQf24EVCCOU1ES1puaH1MrCighB1tgiIJuzMSY84mhIUzIhU4BQQJ8bxe49OSJYJSECGgEBFRyEImOEFxEVULwsZSCN4+QKEEMOEXiJRAgIKzwxFk8Y0pImhIBEREFoWFKZwliIm4RXSBBBAiELfQb0UW8QllSAggERsQiQQFA+HCIuRjWRiESiAWGNxlEAiOzmEhPrEJv3mgSG2EIigIJIECYoTdUmSGcXChIgiBbaEiJOnIpGNESAiKwxAnQ8zkcCQxxiHoFTEBAiJcFIgJDbTkgtjEKYBhVwEJo4oIFkMJMgyCqXxZGhGlcvHjRAiDiDITESGMQWpWzmgRm4LKCCKwllwIgZoUUBAtk0sQKPIoqZEgr+6BCEMeGJ5EhCKEEkZBALpYMkmrFMJMIEJJZJ4kSPeGBjdAFJCKSISUZI5iCNAig+rBfmgQ8UaCCCCAgjPBBRJA81xKXv//jFCAFoQv/9//u1LUcdik5WJmJ++wjGlfHpETd6fUyJItWbmaJc0Qgj8ukyzZFbMTqWVjGdssJdKtT7X5iQjTqSJBmTp4nZAkLLy32MySL8jLG0VuuIiVPfWQxCdUvQQmVUPyDdLf25vZYyfJh7aNEjcnOjZ4a7ajM6FqWDGz7VEEyh+MeiBPC6+8kRM7WoIrdpGZpXsVBMQjLJ1xm3Zz8TETZ/7hjOkqojISKsqZGbNcuddpka7eNXRvKmjNlSRbGSQppiQixXJslJDF8Spclp7Jg1SND7NkSGMUfkNqM3SH8YQksWPTYhWSJspc8IMQhV0TYzV2pCZWVbSMzKVtRhCTdauNGIp4XIRGdFcjJhEtyN7mxarLFJ59aZrsmGmdNMJU5y9NmmldI2jWck2xJJkT9WRoRa7UmIVOsQiBEavdUhq3uWEpHrYrG33rqlGNo6L0RGEiojomSJJpGlOiwRIQte2CCWRBTCTNVrwmNmL+iqiRsEabVbEQiCSlUuRm/q0xGILfeIRuseSG0SfMREeLoh8Rr0n8fIm2qoyYmR6S4St7PGybvUs6N5AxIz87fIRPVqpCCM66FtIxtlSdFTM0ZFxe2iNucuuQxJRb8qaMNvpi+m/1J1ZJpm9y6VGapHSYkRN9/sRW3TqmT+bwmEIs9k9mVhCkjMWIQhEOiUiduSCXpiEQQnkRri8SaKmJWsFRJzhhAYCYjhYsxRlIJGRMUYRHKaMJIWyukoa1C6Ekn6QyxPCSgvliYhVYgJi4a+xPDqJClkgmnpEBSJG8hPCcQ8LIEHTEQiEZG1IhAhJwPcoJJxCuEmFgUBHtIiAhpseCAq98CIV4h6MBJhCMIV0eLLEq5E0xQrIqZWJPHEIFuNpKN3zJkTFvm6DJupGJlm6dGhSdpW6e9FRE38YrbdLstmmiTJYMVzMlNYuTwZXVPUiYxfozRNUlMjT0j5BC8Qoj0FFLdgEWS0NECNZX3ERIrq0gsIiXrIESEn3iEiWLkkSRgirGklRCDTEiUV6xATmQGBfIFZoUHhLJqJrb2LISJsngRyelCKaoRYpcvFGFJ1p0NCSBIWskRC1lVlTXLEUySykomEaxKWQxRCaLXJUJqhE2CPYRFIUQNIiUUJhbYokWMsZUIlKQaIsRBSp0BGIrUyShJrKiME1kjJLxcITECMUE2pJKFKEypXRQpEqcRKSLaspr+KyAuaWilyTCMSKQRiJkKC5NIJrmmUKiMXMkiiKHSYFlRSKBcSYoMARMkcEBhIAliDmRkFYSDRGUrJwtZVITCh5GBBDJeKiEpe4kLQs1ZiUK0TWXULhLayyEtCMaEJZZL2QjIQaxW0TSPEjCRiCDUC/UYlSaevJXMyEotpeInCxkaCS0dMhUKxHIqCGVstLWn1lLJmLXCRUiNhMiJaWwCw4LinQhk0JNL4QyJlctOLYpdE8IjCLoywmCQv4jCLyEkbWIYSCNhaHggEGwyAIGMEgjoLNBZakI4QjXEsT1dkRIYpVRJcEehNQnWMKsLUmSMKhRiLcJrARDhHOwpPo68qp1HJlV1NSxM12bmXNTlX1aiJy5zFaJgYDDwEkgBTgCZAhg9ecdJcGEPNg4zxKCObKFVe5mWsyrraIxtoyNQiogasAwICRqg4SE0TAgkgMQUDqNlfgQMIVMdS8ggKAwE0IH6FLBgiVAmV3WoJAjOjLnKZDfiapFVI2SNDddHREJ0RsXRteN2y9rp22EUUihtwpCIliXLKic4ZzOkQh3I2WkqNVbLUbpI1VsxyKmSqSWpJlrauzDArhAYVXAZ0fRPkcNzQyzprFNiRnJUqp4gkSQSOBDxUSQhkgnFmBchCoQlssKgULLE6FIksskqGECnETQmCQMAIGAIDIRBgrCaFICBkksiUSydUixK0pYpTEsWUEGJyoWJl5KllwjXBa5U9atJOEsyFCPIMkqGBbNJNF6YmRknkpTJLRPsxFDAvhbGF4niplwkUjhENFHC6S6E4J8I2tUTuuqSrWSrJqWpMhP4nkasmyUSyGIhl5QwRRMXCktU6TlVhaUQxOQjEsxGmmplF0CHAt0jMgwjAgYTXJRC0C2IUIxApXL1l+cftZZfWil1DHLNibCHSjCYQy/iRMRcKiwhFExS8jpZaVJaoTZRKUFxNBJZIUTLUCMRlMowskYnEvETLyMCMSYjSxDCmEYhiIxFi9EKiJBQoSgSJELQooWhJotZXKKEMkXYmlHUyx5hBiHEiI5CiSCLAXEARghgWIQwjut71XUQq3azGUojnYRzqdERVZ83dVcbNbif26SldJldCd20+smr+dXl1FXGzNrS9bVkvW1qV9Paxhg4QOFBgKDAKDgOCgKAoDgQBQcCgYBAQFHNcoTJEiPJkz5c+nTq169mvRo3adebPpza9Gzly7+KCkqqirrbe2urW6kt/Ib2RX9tcWVV/6bMfJ8JRyE4SBmDMHwEgOwdASA8BkCcOg2HBm4aK29vNZrOZ/E0aRtHMYziWymRXXzNvakhGbm4tFo1FIiEgnFR6TOGa1Ms811vc2d3e2cXFTUf6P/Q/vvXNp0b8CVBj19eX2rur+TSmbz6IJLc0NHn0WJYMRSFwbArBaD8DADQCYEIeB+CoJztaiw66iXRFF0WxhFscR3HkbTmQ09F02bCg9GAvGIxCYMg2CYZiUSCQweJE3X7RefnvzQdu3estry2kEgkF1X2NTX11TVX8unE1nUTRxH1H//jFCAJhTvlD+MT4Vffw95b3Yfdn96S0F4X/FoAIbkkmdzgWCsz77d+tARODwrEAlFIqEIjFohMRG0M3BC3WKF6lUqRYnW5jwy6v2bZ9ws9/DLlwq1/5B8KmRkQlBgaPyMnTsW7bwsw7lXtVQrNyddqV68zLOl1aSnES1Nhd3kWSCJYznEdS+MqWaX/Sw+kHpynGD0WnAQmNhaLheKRIZGiwofqF6FvyS9VeNYj9sNLLEiIMWTAsxKW9S7RVK44fiQ1LTg3PHhgjWoNfTC41pMqbOw8dbL5R1dxSX1HY38glEti+LYwh1CWEEJ4zp5/qmUxIJ4/GZiEwaC4PRoCU/HY3ETgcKb1ZPU1oXtpgQxCNrI5z9vfe5vT3eL1yGvOQWBbZDcQTq4FZxI5hS9Yg8yxo5ebyoHQztbMjLVD2dGxU+XaNSf3wsFK9/ygStJl2j5JEd6DIORROOntQ7E5BEtFDQtmw1tg+so6Kt+Ji0VkOlElZObN/JW8pDBtBY+h0yaH47LvYk2uqp2RbcSjKSXQ+qtwQDaTacxoZERTy83hp7Ud2WWH661Mab7bejdx2sd28zS/ptj3SWvqZEpO/hctzy/hVpAdLUWhSJg5TEq80JcopDCUWQixMLIoF6ZycxB5Y4kqC2VrdvDLFJMlR06laKafU3nDUvp4Snd68MNmmYS5nIWk1Uq8BQeEuvjM7H6bMsVls9P5n/+6tLlv+JGRFl07ZOs4NZ6aR+z71iEljLvjXXU5DjsY14+Eeqfv8h4cqTnK1BGvuJYQ/A1e48xK6T5SHQ5pnN2NDj6Vs2s/lg+rULGP5qG+2S6XyMSpK8Rtmq/ErRRKmu3xGaJz4BDEBSWTrXaq+67279g8CQtnce9Lrp+Y1XTRjF5YYbKFkDLgPgQsvRG8iIKE0/Z7BanMAUT/hfLpAzMk+DlqHry6GmXCs19dp5Rwe0lJ0/el9i3UyF4+j5VeeNbuzCxhISQIjxNCyCECCRhIAi7Ivm6Ny7ZRlENJpOks5zRJRMyzu2T2BS2m0laWvGzOGBOUlp4OEkxUnbBLMhjRryHlfBMDGGOAjTJAum4/u8H/V+rT60l0MIM8yqvnJSnFimjb3prnyizmRPrwX/wUka5T6NDBGuSzVc6ZXn6USgt2+W0TivoWg0PYdxZTMhYci8KXsqweTHVU9VxITAh7T8reAywE4F/NHMFrGig3PELJF3LkHSZG5a0GbkMP9QFjThn+LXoXMIhuUr3B40XsuZxdoJrpFPv54xjKps+/LTpliP17AiHsHaaR52W+lOUrx/bqPrnsK1KJkJg8VaOgORVFxgn+Ak1kh9u/dk6JyIXirzBIglZkZkoQOMIcO6jh5JH5NQHOO7WNbKCRpGWmsSC3YvwMBmSp3mIEd3qxAJh3nt/Su2NtDe1KX9Z8cNrSc9EjRB0JT5jWyuFWTjuRGJ5kfRreV1p6QGsim5Q42BbUIznNF+xxOvHfjv7XUWJD8IXescovnACkhPK3QMd2oNAOnB5h+YVgid+TNGtuKyUZgRREJcBeIjQJz2a6i6hyA53USTY6vxd6qHYo2UvpfBFQsyaWXJcOiJ+LT25OJujbog85VLUExkrQpwfBZavZi/2IZ6VgjYVYCXZP/F08olaxMZmvUy0wPtgUAgIL/Fcl8gXYILCphHJdivpsczbD2dGxcmLCp06QROSMuNUHlOqE2B2PSkWk4LiOxdQcC1gy/F8iRCU0Tut7tdsgW4axmck5DCdDg9+4xqCstxQwu+eM8hGXUR2laiiUz3+sX+WxpTlspEucLba8LgBcQDXXfgT+Ah6ldofkb+E9CUwi7FuGG3CZwhRTYVAhfDSOF7jbmrhaQkM2uh1fCzj7ZIabY/goRZB0vgF8rajWe6fQ5Lk43MXxsPD+mZ0kiVvO53tZuR1Tg435bijZ4C0Am1kbQ6NLjRC+kXLyQnAEmABXpg7IwLcXvizRiNUpXKLSTF9E6RcNirsixiJ+lfLNuoSk/oJdXu9JC1bMPrxoOn8bpC7u1Z2hjmUAIz3Cnsc0m/nJN7a9OrqGlvUiHu0CcGvQmn2EIyPDXZ4SYWinlSD28tfEZteHoD5AAT+/sjkA7AwWRLN38kplYJIZCNARKl5fl9HcGdhXyB5yT2NwikjMgMuJAk0I7lbvM1jI0XXtqru7crD5JvuBEm4x7ZCcppgx3lnqWqWlaP1qeF/s2UH+uMVg00QXDO+kTnBkMqtVIHLKGAFHiq1hASwLTEJOpw2JnYBLxUocQzdq1ejaF3HbuCImq4y8IAq03UsUK45L0zxeShktdeEY+EbHBVmWM6qPZppnwM6v6Cviv3LG4VYp2e3HaTh8VYM3PZ8tztdZXf7kGq9Hgr+WsDgAECghc3ECGGIEPk2E5tolNIQs17ssqRR8HYHTODXxHxWhDKIiQCTSX4zCYERx+Jb1ZPteo6xOud/yyzEyIt0a+GKKNhd+GDR1I7Hp3mVBU86Pb7Sm9/HMdg5K+1TYwtbLaTQ6UEEBUwOZD1z6wNSh25b+RFZadQkBxT8CNyevsTcnxOacskWY3EuqjF2nL3QP+IrghcOnNNXehZxlsEj7ttbKOGrvdr1QlQtSPOiOi59JWRTSs09thKc851ufpW6V25H6SYR08OIcF5ChgCvT7xV4AyxcOOpM2206hB4l3tC5VenOP4sIyXPj4N5qpFkdt9CFzhipuwKnZDvFdqpTA16BoHZSSNRLAIO1rwkv0CpR2RUsgsWdQRX29dYuguZ6WXP5pSa73lttGR22PKBN1agGMlJrOL06xeCIHM++McpRnzmrmTGbN4HbpVhL/lWksIydCSCv2enGGgNBa76r1iiymCUlLd7D5FHMs+WQtWHZ7KMuyaCmRdfZeZKr0ZPcDckj3i3krFGoxNhpWLQNsB0hDABPosWKBi1Fesd57P6vOXqeMgp1TE3CNWLLK9pRviPYHS5xxzo4lOXmCsIC/OLEq1syh1h3TMcMRVAJTTg2jFKsaYRqS7Wg1MiT8JM9FxLpf0cDdKSwh/l3mkP8e3IBfwm4A004sS6BeDYUSDBpX2fdN9KCxMSIdGKAJoGmji+SovK6wDkhga+RKsDZ+MgKu0H4KwigSux0BRK3Pjkalt+BSFipkX8n3sBxp6jzK9sZOtSi0GjftO3aYegZdrHpMkS6WMkAKGCtJgsVJGCt19t94US4mS2ShxBjyCqrunxGiLBsvLSDuxXqzwnrJmpIu/4tu8yVPheBBLpOX9gIDTv5Jvan/RJ5adZZj4j1dFXiI+jdQwyrdbmn1vufopoj6h4OkDTVxPfTWwPvOEiM5+c351eRluytEr1ONNyAifS9I+pTOFnmJe4MRrS+NryzZUdqiqD7RRAnlCRVptyatE4DJkV5mdr9K7DWfr9rK1RyGh4pZADRce4H4Ku/O7XNYbSqP/5QDlu7Go60gEIg48CHqo6mPtkO9SjOnR1VJQUbnTK9KXNqoDET7qnm1SRbCczS4FjXXlk+rzSqZxFM4gIo9vemW4LK8ni1KqtTN05IcESc9xbyJ3zVmENQX7qLBhCvUOU685ZYLmaie9LKU5sBo4xqu6XPbaMIonuvVqeMUQuDOydrwtFBfiHIkscrTG3qX9UVo9B86xvXVG+qnfl+aq8vpMn2DJmAlOcf4vxHYzfzECysBIvTRixFVEaonpKoyCRhSPRR+DDtDWkuI/u0lVaBkpaEiC4WcsJI9/gZPBxonh02WymyTY4Ll8SASlx1mC9pDmuNX0CShV27TuyP+Kb8xRA8wp6mFqB8bis0/b2ziLHnF1Y7foEYU49b2693ot7mrnkWAqvfJdP9Fo6hGz3Sn1AeQRw3yc7VeQn1TIV654jYHrRW2pw1EA8cFHpKx11WdFDeijtoJppLjYyBzdATsTBk/OFnGG8uTSXsW83BXtKUcrtheUrRyc5xrCdDEqVJfk3titTS0yMNT/IqfTM0FhA65SvgAJ6M13HomODFQhH2xpoPmEVb0EtAighMCxTZXgiR7hY50RaWrRzFsmAq2iEIFNKwGvGlLuaAIna/rnQvTgggiBF3EuENlsxoihL7rmGcdeBa18ltkIsbXu2/B8Z0+EJGDi3YaAiIJEED6oL2nXaRZ8CiARPXEIGCshXAjteqI2HgqWbozVPQBChLihvj9O2cix2UxChURA0UXF+2UXua2h9GcqpeVlltvrka9iOASvupGk+8clVDqGyiajLtYHppaZv5XIq4Dtse7ghUP2L3T2JjOr75hUoCvA9BxW/ttkUPTI5SOYL+MyEdHYFyTIpXGJ9uFLt9NeZ8uxFgpTnIleSR7pb55KkbLVEOwMEmaUm7K9lItwdLn6T0AXDhcoqrX+sE4cK3LN1cGyPsKmq4tJQ1cl6m/ieWmMtIUNkCRHYWJyy1y1WohXJAZhdCk0EwOMfEuxwmu4ORjSuyJ53N9gUUVZtiWKq0lH5DZ3ry+JJSb0folR8iAIvfLyLTTqWr6Nb/Z/58sXJhLLDIfxGNUTEfGE6E2PuZyuNiNJH/2Mxz7jWG2N4lvXLqE0u7ERvryvSv6oQ0QTR+iFqDpNraVSI7lWZAYDXBKAwwiX63w94Y1N3xhfXE+Uwa4WxOq637xtWp4Snh3T2vuM0Q0kJmSpg64QcBjjVqom4EgpRf1eFzqoqffyFwEKe4JARCuJ8yjnkxPzuH31zKR2QFQNBg+9cOEpPph8cgm3eCzI0r22slkuFkjtC2O8jlNRpgy/XWOzXimGE3+m/qfjctRC9uXL7GL6sqTst5zojeFN4SlPrjXX7B84nKXUB/JwxBgJgb1zqL2tlEo5zKZj2FAQjWMqarWzkXO2JJLygvOK9bXWXSZ7F179mpKMltVTlsrY/XBH2eM3YYuaM5RO2A036S+SRcRp0RC3JfCFGnu14SODQLooGE8jmvtT+yIhtk8tDDEhiawkjmwG12Uxh3Gkh4zMa2sQzEbji4dpjCb0lG0KXtGtdSirXDscgU4rxio5e1XSerMbvL8qVBhCz47W2hYlKxVw5dEtBmxPcu8ZX7lzSRZKfD6VRyRLwvPSgjXUq20pOZVCAZUJGuJFyqCZCPGd6RyaczBknIwyOx5iWsU62N1zMsjmin28GmfTvjMKK8AryQCXoGrRvuOXZC2I50IFKYwTKEJdiNux4mq6jLjEnxryCTy4oHMLMIoss4hl8hiWdotM/JLSAThFc318mVO+JDfat8lgNsJATaWcRNsRfUQJMDMH7vriBoSVGoP07DzWV+h2k23MWOMv3MGmJIxVyTLYGerD1ucIDhDWBJyCFqevEZMDJCxIZP1ld0VdSioF1YRFdpvS/plIBl3Hwo0cWFe0kwysZNmM6fYzwoizaCG5OZnmFIc6KQkUCo9Cje1hsrA6ZPsHtyPOfZT7CTuBUk1iKu9xrUvXzFqburg9M3mj17J4aVscJ8Y9ckjnthqhZVmjNvga9L2iVw6N8w1X0UFvVIyacbeXbSgR9Ot2pyFtVo5h4pvbI/zFVY6rzF3r3wuBfZ1UVEbtUpHEJLFS0CfjUE16SqC5jhCZlIM6VBN1XNkI6ikO/PyIyQx7UdbYzPEhbl2uq8X9tomehUkvYjCr8jNarwO9Dmo3YF/baI+yMnCVFpUqPAIqZ2xNT8e6I2OhNL+OEJzBeYS0NEU56c5xvrN6SIS4KwEmCAUZ1g7AFuBIB2h5YJqgplOWsaPgOexCiWpliKwWn9KWpUQW78qC3Q4ngz3UxxblsNVX5Z5A2S4XA01NW2uTf4fHwMPcllRH+VKI4LcQlNCrslzVI5PGtmr+0LpERnF+sCDr566pDe1KPuR7d2tDq7unpOQo8ZQ7uoxj8KKMcOziNJOJmGyi4YUFOLrdU+WdwiRkoTWgdrh9VFNbs70xKwNbCcmogw5DLeckuRT67Yd8ys8UJ2VI/a6EdxnuXfDSVZnHI1s+dV5pYIFSJpuWK1+YuVr42Pu0V2ilnUEPOpj+SmyMlOLmRznFBKpCIyeXcijzKI+i8pgQoAmIALcAk+WT58m7CggCbAaM2RgR3rCLaFyICjw9IIAZNNb0VYJXljnApLKbA/eiZGhboJWCLBkxKkJX0Q4XdolBvUHRdKrbVOB8TXKb4vZq69BOK+xSVS8SI5iafZKftOpNMYFXLvS5TbJqpBYxAmRVimpVWHlF8JncOdhdQn5elBSRZEnaClawkIT4FnHafWIVZiTwGDuZqIEbyUdpVsOaZAv9WM+jKoB0V+LbSJGKSFUFL2yme1NtRqs33vFU6FQEc7uAZLL25kF9UjYwKqpTO9olvCUBIXM6K5RGK0TAzxA5LN1n5UQoaxQxxkUoC0Z6OTKEwPAfXwbavRVspZjVOyuLv/Fl7G0CNTfakIT2cYmOuGssxL+iZG0fUE8JEfH6BHTTJKXp0HGWgulkMMpKxVDbukaEhzELOYqkoXZYCFTSdI8uRIHOSGqKbKE1Ci4y6DG4VytBjqB1z141C8XQthCG8MKlKif/0L+wc69SGym0oJtsRfDR/rb73Xh5zfkYlou1Th1iZOUGKEuOcM8LE3hXvBhBbDKA6G4COBbfRXZK0EfjlqbfEo1iUF1pLxynZu+bL1/4g9BIfJVKiGPinW0vgSdM4euNXLqPr9MmlgXxju0UCyfSgRmB6OW7GufNQrz5ILM41Xdjmd6ks5Y/yNnK7essOKmj6xvWKylYu+uIbM26eRcA1EyCrCAac9S6+BO0NJjRGRjc6qX8ukb6FXuvJXG659VZ3kLFyHGmgh3karefyKSVH9uRmtmhsmLWhqPMIkW5VDPXfJYX9rv109jiOodhrAiG3kcOKjzSx2MmM4VzsfsWa77GErJzv9zwUjt7uH3UxIYyAVMSd5gwicopdEX/GiF2zqh3m9YIxSUrmQBUkY3Brt667msy0HHUKKISx1islVYkpbZY7otS6nUl+nz9xyZlzFkmIGdghTjsOhvK53VPb9WKXzCQec2TF5in7B+BQvius5rAk2oWnWALUiZidgkzqfU6LHVmxh2YUE3kM+IseIJkQCVhJZYKCjd4ceb1aBV7YjhgHw0//jFCANmVvtj+Gz0tPPA8tHwSOue6LDnvuen5r7n4bSstMcWMWtU6UqI/yz+WM72iB+M6S/noWFEVDAILsmCbjTOFakr4SY2OcthtYk26sgQzyQ9c9IAOLsX0/4saQQdqw0glV3JaUasbka8KfcF52pYRZZ6NiDVp6PeFqE0F1xSjvoZ7gkcI16UIaECVfT4qd9TGNcqqYdIXmCTNidsJnx8lR6KaLfWST6x7HKcXr76AQ1NdFD83CqCSBpuWgkeSRrVJpLyL5AibYKURaVRzaZe3yNY+BSZVXmzXBL01T9+5yXM9rarmCuithh8oAUYJOyBFacClKvbw0ze6KyacBYCFvWa5Gwl1tUc3BExF+QvsK8mp4aYlmbbYxny680UgYKFlZsOPTR7dFB0BTOHlYeShQuktFIGu0CA/qMI8XyWzpyGnjP2uc1T2lswltEyuikIRHpwIg4SE15EyigPe9MbwA9RU0ZvpnClSdWQw3Qel1z3DvJbPOZkweYQOHnqCLm3KUS0rjriJxtkuIQI00ZoPAbhrGEE/f2QIjLomt9Zi+ClAqXMpsYKFGSGIzTW+70GnTsE8TgZZSJhcO3/d+KURp8Jzww278FXC1djqrXyi/bNmEFeI9Vjrn9Me1gkErKKNjV6po4Sq7p/zdxGnaoNRErldKBK7mRWO42Bi3aXU9CcM9oBGUs+sEhPR7rqzV6bshK800d8j8pry6T19U372n3dQlvsqwnILmlqKoBjyr45qWc9Kg/F3W5UxNya33ho7FMiT/KUYDhAn95Sv39MQKxVFlEA4SgMqhw0U8h4wmACiGjbH8C2kLOwWl6hOcXuRmECXwXCdHBEIzy+LyYMj+gUW5qqiTpyR2HYMtx+91KUTLgLjXZ93CYfa7okpwl6cdJEYSS/fPImrywOUPuxILaX6Y9Mj+ZzBAa8BFIxx9ZmW/GSvo1ST3b9aENZB8DC0Me8ZQ9WcJPcz4aDk9k8GnxpKGjN6Q5wlMoBUdPCoEasfvuy73oS4dG1PgpQYI7KXaaQLLioa9G4scljyLZTJHNceLL6Zt/ydBOUSvvdX2T7LxXhvxKpNNUnrgyAyoNFFvX78DSjnz8pfNP0ZD53hHjqUcWieRbMjxUU6igglUHy98nO4LrY4ob5pUktmSkpcxNZDq54ktXO6qoOR7Kn1iyZEjbgs3qkWX5hMRQ3GrEKsu7FNTznLNoSnZ9z814NQck59ErsyVWRlItJEukBDxGgCdSwMrQdxzA1ZQjPqnYPWAUIyxC022ITp5Ejb0SNPnbj/bEEF7tPqF+gYcaMN7jT+SWzibhgWGSA1vTt0JRjIOEagi0iVEnRYrMtu5SpqJ9RxmszgFLRiKr+q/Qvc00U4+i1xbyU5vPPVKJpclIGEDzdig0n67dz3RApRgiFAZKRlWiFZnxJbL8oXV0VvDXchmBFPEUpEjXMGzI+7C7d908lioVmvd3fjFi61JE5RPZ+bEZMYhCo5mqmK805EffI00ndNyh2zMh2xP6YFY9Ry9TzhtO7lpoJIFNPESy7Cw0of4CWTsOtLixdtr/C78Sq4ysN08RvOYb8jxJmOvTiy5VgpgSSpJFPkUUqxU3XTQEzMV5KaKHVS12y8E2me5AuqCJtWorqsGKZfOeEeEh2HrSWBa9MP2JfQAo+nHpJdwGQ9Smq7Y0K1WD373xK5Nqm5BP0DhB67SkrnbcLvsPcOqAo/UYAcJZPPgkAnwIgLetLJrKRUxiPotqz4HNFmCHUgxzGuLTyRKOOeg5GddQWXvVq6UtGyLo/51FzjBiGAUgeNcHWuSaKv8nAGNn4w2P3f18GTV5I5nf4yYVsuRee10SP4gQIYUIDVxY7urUfb+0gwUldFo16ZrGhOp9UbpJrG+b5NO7yqTrKdbGoDgmhIqh/PUn8sgJO5Atu7n2OzX9OuLSpAdwNSVpTsIzWKXNIpDY4N6qyrnRtIFazlxcDJOmmh6xhG5/n+1ZbmzL3kvLk9jIxQKmF1ueUi+C50P9pG8y6imkS08ZA/LTGkzivjVXldsopTdprLEU/tqTckQQdKHE6vFmTZNJYuluLuDpK4qOly2/y+LjKU2ZS79Jfjr2tLtdXWGUvQElREgnnMkjn1EqzNWl1OLovMXo/2Uu59d4unLD4hrRnt0MVCNsPmH1aRfsTDDmg9R/qg1qudUGeLWeN30FjFMomwrbRKIlxCCCZzwlnTcpCcl7OOeVSspMtOy2Gbq0ikDCedaCHkktneRtaThSWqlahkRzFo2d2X9iPHJC6ywusVglbsRT+fv2NgmSBeAkEnwtsT1CRK6Dkn9NUyFTbkkVzl+beYuz9+1XPcuR/dGCoOHwrcESK+9aJ7hfPK05aOz1msY3xSF41ikDgIh+yjrCR8rGV7VddUr6DzEdQNhVv/dTFu+hi0Q9bQOSXlFX++HQpBbzUiqlPLOXotegIm7NQccVgZlpPH2apRAM7S6U0h4xN2BOoUBaasfRYroXWskxm2vCx1iS8oOVCK4Ly4rhY3NjFjB7PmdhZSDJF9pK8RQhdFtlOpEQSdj1URtvoggo6FwufIh7Rcli2QufBKGTtW0lAwa3ixgmZM4kM8AI8CgvkLeBhLUW2SHZHyhpbSKUQYvATESg3IJ82K5kXOPPkeY5libiWSg5TQM1GsCLrP+RbzjiSprlpxNqLnIivyoCNSaNQVgFepE7fsiCJ8RcIRoIsiEgeCMcpjZ7bZ3yQH99ah/U3/rb3UXS31PLfAcEWzeKIz6mFcCh2oyciX55VcIgnEvXRunCoipZtx3i7twlbHgdrWUHPQZpJuqRSuH9UiU4t0m1temJquXy0WWhMW5LolH2/LZrD9tGvXNc+lOtrMqhHkKzdJiCJGz+pOFoCteP6vd2T9iWLebHx7sYoLEGB5wQOSkIbFjZRZdf2pIlF+KRIcQ6WO0yoUJwWqge87Wcm1rNW7JPh+MqPYP4IyeAvImZOsv9hMQtqE/ZMM75TrbmWpoO8wGyKL1DuXRe1oRfEUStPhDY9LGedxPVmvcpglj5AlLHqSz8dAi6FkTAj4OvNA6QARwG9h4kMAOl3nJzKZO0Ev24pg+HKAgL0SgC+B09oYMnMa3CiFoE5ULzCENJej6HZSXQ2wigxoeWe7qcS5vT+aXuvUboOIoqlw0WKe1h7741RDxPsKV7B2xGJ+ql6a2uSLjiaIVW820HFazOjrdbp66R+BMWDUBHPGFUjGuUXXXlrreod5JxXVQV5uh/oQ80P1+BiH+VxYeRY4naJOJMXV/5AzI731202hNnaOhHRu6hS6uo0u7NiE4HyiZt3u/h2lrvKFcehScyWsvO+3BauLdepDSPpZTckdcNLeE/14dkusnAeURtBxqgB+gKf2DDgRK1RBG+U3TQomEgLdFBIVwWEDIQKfMSuiBxFwPIRIR1Ntw8gTpOz7E5eO0X4lRfxd3jxSTbdO0GuMD4x/hjsw+9yOoaCzufaJFRr8uX8VRNUQfaFwiV6Ih/CdPOOmJ2nvF5IbeCdk3D5i9qWRwA8gXfOmpDrdaC69NBKDxoGSoJ8sw4L7GLAkh81/ipP7Br90kSKlWyJLNJMAhGn35DfM8XzELa2F/pn1rRCaX+iIgLggib9R5C+SSMHg00ykYiDBI+7lL82AlHjId/bJ51R7B57+RNP9CNaav/g4ooIg+sB/ESHVuntBlpzt+dquEiBLQOJmWrRIyIKtIkvI+v9mWshEpIz0EZ4Q3kQojW+97PkIxHQKmj5A3QWPv5ScGHrSbHqbSnqiXo8Esluo55DpRekYlUlxXQ11jQJTYLwqr1CE1VmaynJqYiE5NqZkJqYl/UFDtUnoti3UF20BA4EdpLqkkozyqU+BTYKRMW95aOzhb6NG0JWu0Qc7Clk+ZbH4+FDMcBifXl1umY1Z6qWpafyEK0myF5noGYt9fYZVIXXKURLqXnneqL/aU+i8zVm3UnEOnFomu5H2J+5JQg5UTmnpJylJljJBd8VmyuEiLK+hEISlCugjTRQHAXc630uGkfnJwLCUAt7jxZxbUwfwaBiWL/hfiuNS+ZpLRSOOeM5G0vwEUxr+oQkaQjf3r1XLwisSkJpGakLmymiobWJUj5YMftnamzpeYtxGijCtGe8TzKpSALnKXKgR2rzJDWLDHcMTWy5H8MwbQcxLPLqo1hMr0g6L4xaf6RnCZ6t7OVelPZ16PRelawlPhXiq38bqlZhwCC6ploWFs4uJISXBZciUnoqcrml/pWiNbXkzeRF1Vmscg0pd+vRV328PpZKYoiqF8TXczs41rMMptsl9f1nRqWblFKg5FxWkOTAJDciLj4ECw4CQyc+EAgBYISc7FZUPC5guuFZUo5ZcDrAxW1OLXtoian6tc3xj9+7NZHlT2e+ScMMpv7CVcJldf5xUye69SKR1PRahMd1JLNN0sTHnRgTFxwuYGxsKjoExQLA6DoXBkbHTg8JDwUcrCzF0qumT3+8oxKhYi2TQW9iFXAr1VOc8rUXkl3oqTYvlFSS5so24VLi7HjruFf+3JZlq0rVu9TUnampSK1vYpMW5byzcwP6a+kyHrRaslyChpYRMnCxcYERMYOD5YSFSjhwkImyqxo4IjZwSJnzp4q6RJrCjb7CRBR1eQqSF2Rtz8nNxSSstqLWssqL9IbW6lVnWyG9sLGg36O27Glw8U6LGscEpM7IzQyPRObGBuYiE8JSpu7JHZ08YMEypsoXpGOJdVNnHH/ZtrUtRpZqIM4kcF8cm9ntWX00OHVe1MffObuUpfvXtbN76LXpWNW4lFr0QlP+/alCsqdFbdxrxN8fTESxQVNlTzpouUES5UicOHT7RpoyowWIKG3PhRWm4u+QKurEySYo48cQVfRNclQ4ceRbpW+9VD49WVda29PaU0gkdxKb+2ldPJ7S1oelbuo6DLo7+ECHu3ckJaWkRm+NjItLDUqMTIgKCohYLBAJLAl5Rzyhbc7rW9nuBdvT55vzkKEoR2Q6USY8S48tIh2ZW8l6lW2TILi4XCYdAurMam4pGZiKRadmZWSoUq9+z9/jkhjhsIiBcw+bKiY8aOFzYTFRg+TEFCx1okvaJkjajhJDt8gm4wXhZlxomw88q+RZcJEXSjDj6iKSyDmndzerLWJ+Kz87MxqIxqE4Qj0fjM/Cc5Nxa7fvVpLXnzhhwsVEsIjooKCAoJCo6KjA0ExUbEhMaICxwVNNl2SxB1Assmwx+hxtu/46zsolwy0x+hs1KHy35FshiNRaCz+JQ6a0GNUu7yGj3W62G3z3V5GY2vS5u20HY2GUFGGlcipGdTZwkNgTdV2dhWg6KyGEe1JneVYo5xIa1b3JHSiBKTROohxHcS+kMPn6JIZSmIgFrSlfrRqUdf6DI6sl24iYIxW6HNUQmyHf6+lEkch/XbkRU1SVnr3zxmJW1UTrjmqaDqj/+cxAAcTdgUEAjYzwZE5oZYXh3jBKYLRJJSMFmrhvnWySCCvovPNWOS/1pU9e9adXKGQFqIaeD7ee1t89Z6X9JPkVdKK8VE51ub8tfZiSskBlLFsUS1p8kR/dMQ5Nnkad1mfE24oR5MnKccbEdaqncr3Ra7z8MkqF8X/XSJmnv7kKhNZwNZVGNSjfZ/4QrJOkbhNyiKJCx05tEbMa7K5pfQHqAcIRaZNXDKHIwoA7tyTyGfEdvZEpEqjuLv6LU3IMTA4xBFZKFmnVgJL0RL336La10lILf4Fj1dGIse9H3sZQ4Bf9FrWTFcrMcQ5zCjRrbY0LZCU9gF73oazl6b464QucfZX+FIeXqyqjrHtP192W6YA1sODB9kN7z6Y/V5E/hkDKNGDtTqegpTcOBA80ccCoM2A75iQMFCLVQkLK5bPek6MabZnWzfOWOARGJiASgoZCqtEgMzwJzL16CdIkd+wbF6ZxpLcvvtQYE9ZN15TBQUu9zX+6ywM03JGWza/bfqU1RLfK67CGZnxKeY1XjQ111LiS8LMgkQ0BZxL2u+pHuCvGALBbpBYkZdEKAiC46BC4zxf0mxC5IdMFG9z2Vwi0m4i8NoFywgiUtXauJJydH7E3rMNw0aybz0oDBAPHNkeF9HAuTNOM0QIBSD2DqYhlr9OfPO/eUzUdAaE5A/Xv/BVZftqjODUhoa5RXNln7cVI7LVKnUsmPtHpePYeQnwfZJeqcqrdne6lN7SxnRry+5ui2KoAFhgaLAcBiSUCGbW5gKsbaop+fGL16Vg0W5U5BVJhTuY18uwB1kT/am4sKDP+HXZAj5h6EbJF2uVBi3pASCbstc9iVd6Sto3i+oMrEXXf2wNKMZrvrkXastCTOHFM39jub9JD62Oi3rkuBNu6I+om6JwmQKLHONznfsbp4v87csH36EhfVkyIxhDWpZYzm/l7Fs5/7QHV7Y6AwlKABgUjSZoL91bGYj2D8vTNdP2rtsqynfoCkzX+amABFcOe9uMkNHJXTvKTvIc0HoZ1kvtfwtE5OxN51ItC/Wa71KPKlukhjn9J1fNR1LZIkfb3LlueiazUDgo3NjKPC3zAbxaIUCvlvTLDRByXI1HeFHlrs+wYSQP+XqyCCRMfUhqkeZsXArlJReMk3lTVAYR9cCRggsAxvQPAj1DFRtkJIC/Bbdjcnkr6J322pW2AHaEpSwa+jh4fTREC6VSs3SaLh59I8FRXOxQRaR10sV0xxUgHVhF7Z2pJAR7gZvm/fYsUT3xHmKRUgoKQjsTAj8k5de8Eo3cP71K6LO65Quvj0dhBZTLcm5bZ7rPmjWEgoVzvjvAqCdNZb3Er799PGWOR8Apzx2lIfaDOgKogGFx2hZxb0h0CCzGIbNDHSuIEuzMDLWuD1ykhz81iwoK/rIgR0JZCOdJVqC4KcoAAEv/4xQgEc0wGoAFS/Jn/UwizEYESk7SllUwZSIRlaX72INJIAg0hXtHHrBXcvZIcZdcRmRDnWQQwZgQRncsWwxOwzHpQROTgsC1YzSWlfY38bx4c7SpfCKcvsxCubEYS6m3no2bXXNDbWvnJctNNpVPUK2OrUZ8XHkAU4NDGA1G/JM3k10Mk/MrjZHjCt4RbkTtzC/JCUn86e3fcXIq88Tmo8j8TGr98eLkq/ktLXcwXuXSVaes+C39Z/L0Zsg6RntAzAKW19OB8joHhmUmsCJsmxKCyt6dfY+Ic3eCIL8WTL9J2fFBR2i2YqrCdBV/kzScg8ay9T074nAmTz+cyWnALGTo0ytyCHgPSEZAz14HRGQiU8VAkwbKDpjmByov2IXuF3vnDPoA2/H0Tsjto4FoLaQIHm8ZHUOHeQkcgdIioWuAUG+RM4BfEsJWUIKiJOMZLPUqLPH5KHxnHxZHtouH7XJA2dFIVCjtByHVpusxS6jNIt7sfzBlSYwSxH4ikxOCa/pVxj1FY8hvNhCWhS0BEDb0kQEIAtm1msCLGC0hcw4iThgl4CDOq7PE/InuhGSszgkqSksqF1hCCigy2g5/yqtqHHlGwm7JT0rHqwrhXNPlgDaJQSLeSfclyYNplpA0jfcPhjJJI51OU/1m+wRXoyHJHrD6o9LXEpyFlZ8aomM/XVMivd10hhhVh8hqgxxlnuL8xgGUT6hhHA09dMuHCOy51WGWfVWCOFfExhI9EjsAz0gcnnpVIApojyHfxCUokA3txZzH3hjAp2c1SvJikpfyGc7ir1QFY5ckzyk2eXEc6vPtmzpcpSqJFs14uVLw6QXy++JAvLfMItVvk/oy8kkusRj62fikveFnVbe1xUX64h9BUbvK6zDi/tsz/QVl5IPY/L0dhBGVNqHMSHARIlTDtbhs5v3eIfTKDd1UkgUG3AIZE2IXDQhn+KLbUryMRClKkEMhb7g+HHtG1wsvKZS5Ube5XOyhqbGGSi0CBWLW10yHcEYg6YiNwTaaKZilOQkeNh/Wifrdl60/f9qSr9lSI942ImpoZtmiCDPmahZcjUhKkB5rFqk+09ibSS8n8+3KvE5egSCJQyIaRg/yrWMhaVCjIVBZvP7KraDb64c12dyRIkcRPdZWOhDHDMqxU6LSsIMhCaTbBXl8bKwdyJ3y6EElYo1lMQvd8IF14akIUdMuI0WIYowRMgsROlfhwDu23gecmdo/Kcp38JYURLgqCCGLH1AQx466iegJUPqrOQ3aUEYbstgM5K75qJrOoh1Fx1or5hKm3JyKS7kQji1tMxFSyNqxU67vL+6IrkqKJKEShX/NTP2BBfzRbxnJf4fQkIKnEN3kOoeRJiDR7bF+FeOkSYMcOcaeH9mJT3hZidTvQisVgPEEoI0F9Ty2HXCsttRrtwt5tlZie5yeSj0CD8s1SobQNqSLAhuyMTqQ+UROMC3wPxOOac/lLQ+tLZreaXf1+XjaKMktKenUldJlYJx/bpXHRwSBkQW0k8XWJeh4KGE/Rvjt6REkLckZMnv2Jt6dVWp0AlLbHLGANO1Dri/IKUq4QK1Iquk6gmXoGMVdgqbcJLzSUefWUbA3WhYLXIxoEO1WykOyjcQ0XTXBIXI6IwmhBTDDnlzww3ziaXoqJ++d51aq+jEJgc5FfWdGnx4MhOXFBx91kmmvBW7HRIvzTBfhpiBBGmuF+ZZG0BBHyJgNUYwKsHASLwvk1QWxQgNAk1tTP8Lgx2c8d3++zglrRQwzGQp1PeofZPQYrFQhm5OrissWMxcKwkNrbVijMipbEdi2rN1dnKgSk2vqJso55+ozJjJblx4JDiMiyIZDIrB7Nns+fOqJlKok5TnDJboMMnw6SbCJbKuSNq2BVnYCFARAXYyihdi+jAXS/LI1SEVkX8QSDo8JsLDwZLIjmuDIdVAKeIIS4HwqKVHees/KrrJTKG73MvazNHuYjr9704ksjUenLIhW37JdOlVWbkwRE4aOxCbHz9J3Z4xcm6ODx6Ious7/rubVEzG7toc1w92vAm56At4Vg1JSMnwPlDTNIe2S0qpDr9zoBCJvbphtsNlddz/darnukTu0u/CFVbsU/mV1BpbTXuEysr9cacxr1SQ1dbp/4JAryM9qqg1Lfc1eb17LLapXFTkBBEFNJ5II76kdapg9W1Y/mdqDHWSZ/hMkWClJUcf7EmOZQ+3IwUbKzDFDYDdAmjDBsRyGTCTekQ8PKDlJnsbmUtNPSsE5kbyHzOEwJ4RUTsQdwtuvybucxWBV6VojU17pLDp4+j/pNOaOg8pUf0z5Q2WjJvsRKEsvBRJReXLGyIXEguiboZ+t21P7kesxCt8+xYnOd5rmDbkqhVSj7Q5+6zjmgQ4jleOKHX0xsPapbE0yQlTmISuQEAfRy1iVI/lB1E5HEA6SjtfJUi8mP6RTZEGJYUUhVlTO+GBBuTG6ZObrhy6nxHTFevoX1jqVJBuyPDZElwYCM+pLOo03GuWHW+axVenTNdpWk+Im/eZOmvUp3OYNo04+DdeR1J6tXVCS1SyIfE1EJFTjE/mxcsDy6I5XbnYnFfFQRPGVrgZdmivxrTZ/sTlqNyIGrPVmTD0u5l6fHTKhl3iiYjoNzDQOKD5sXbDSZ1HUwzBUp+IhEVt0272PGWSaNJXF0RzSLLGEUOJXVTSaR5lm0rP/RTfLnV2uok+5OIm48LYuJQjcsBAknSccFx6rJzFy+UpG5IxYEFRQxKMqbxralQQYwU2plokIelXRFvstqYcE3CM04MooxRGbCBEdWHHiJkjhi6SoX+IpfsQE5eFoIxGwnlcTS28j2T3FVhCWm82lKGFId3b9CLnEnTOmpyiFZTMVx86RX7o4TFifor0GpMRMkRChYq1O1l6Z/UO3ukKoIPVT/gq/SEpAiULtHWS5korkRInRNowICAgUWxfa8V31Q0WGdjMnatScMXqMF70GYbgtG4jB+Go1RqISMJ1J+yNUPycccuqhErFFZww4eXht0GSMw3rgbuqNlBcJniyZRwqefkFKB8VESZVqy0WF77N0ZMlTbfNpG0rar5UgURLlnC6jhJiTHIyMzTGZgJzQpv51KSVKR2iNOEL0lHI3CMehWpAnDU1foz9y5j5jeql6nLqSh4vSJR1a2v0gDj+ts3EHYYSOkGgsYBJVs4TEAwxFSURXOGxacIVhxJso7NLPpOlxEok0QNB/QcmqFomys0Lldkp1tQ/9t6BBi3iK/KcjL1usa4S2eWY5QoxyadYQt3B5IO0ruhhVU+FTVUxBUTobTkh6GMwq/lztJvb+EkdHH5fMmFAvLiopjBzLWZ2/lDebmLiXO69zNmWaxMKlEhGopnZNxi8N4hdWQRhdATAtqRf+Jh/Co0+HXJlBz8QgkgIAYQ3F32mJ+pPWCHoieB1WAqvj6hnOUfRXvBnovaKtANetDvWhX/MdLAgpCOYqKuuSwQk9j3lZ6IDGVeRRkUVwUjOwSJlILTTITsY6UMbkwpVz+4E4mx36ASwuHvIlQj1X+RFs4eyY3L6BAmA0UgknhTNBx1D4Ef5UInJ2ydChc/wgJtloivt52rZgwSod9GpSodog0MlxCtrVH+IUkCsBtjcPsN+DEVdhil5zH20Gk+B+hMNtRkINjZxdSQzFc3lyuo7KYbqfcu6zYnXmCsfvvTPpCnSNLPWL/PrtVJkRCbjVtargb4vFOqCSz2MgT+tm2st66+XxpEiexiAkzAznr4PQua80iB+nGelM04efdlr6Ku56ccNJEBc7hrBh5O4E2pSlIEKtcrB1FwAIE9d8mjEOPkUcZXlBzFAEkMeKXTYCiijXQoviiIOCbS6i2KKKbI3wnEG+zEcCpfRSqzSJNEc01TDP8XyQ23ohYBhng8IEnjaz0uJhLU0emCil5pXaMPIugngqczT+N2lQX7kCLzGsUrEZjzIlXbpboQlivGDY0cPHF5IYklvC3YL7DgKsZgAlZEzFgJ00OlIoJK2z9hbPCkyHV6GsWiAWi/mn6nUTJjSCcLdrrb1ovaVZ30rDkkiRuq4FOI1t7rRFJxiZXHmIOJBGSW/+WU9WCozlW7sx0dJSG18US19zJgmn/vuI3hgWahen5auVNf+JG53eWoL78PXg6ItvwWNQdv92P0Lwv/7AhJyxOwGoANYAFpKSBFwBcGrjUC4BJwlwkoLcvtOBaufAjxicCGf/rH7MJV6+nGVlUDS2KiZnKim73LIqEYVg3IjKVp72PygrQSKK+UTyXRRMksUaVsspXA7ClmE1zdEn0awZ2ZdkKkGh0MmDO4d0vnEQzFVlCy1FMye/M1j43X+Z+fX+A1EbXYe6s7qUhFOf6gOeQeP3CR0mAYIPLJ+Gkn7Wr9R7wksJeRGSAgNa4/QjErT5fVnL3otJ5neGEmdjPqyhncFv3Z/wqdW1/236L/bblAEnG6Fu0r8U4USOJ4ykGz24JsoU0hmSEQT1s7nnEt7tScavk3xieVAnepj9stf3Jp0XjoKLkeBiZ4zaid1ciT2SHNvFf/xwBmRk5AoEgjJjnCwwwIkUfgNlMUhexQpolsS8RG9pRcBkBCYUEZwQYen8L/IbsvO4eUzR858XgKiLLWvh3YYPEmDS009uTkJM+JIC/pa2khXkQoq66ucd3r+Gv6F3EqNNgiQGY14haQFRz6hbddZuqUtMmSH73WLk0sdGkeWZIylprr1OpVeuZ3YIApKiBWoCdy+jQPFGNKVKyEIhHwl1Ex2UfFgS2cQAEaoGI+W+hm1jjgglct8kpfLHMKG2z9o6RKRW1RSA0nxIhDTn+TjUMlUhRHhLY+6xeKXo7HJpWXNLsuxAruBSGoH1niYM/H4UXdv9yBdEeiljHJbDY0pzk3fpIkcjnK0E6tBVjrba3hmT1mClgMSHvgvtoY+LW3QaAIc73/LVYiwbVhK0Gk2Chd3pZwqzszCcAtHB1r9qqb1RRgwc94QXrZKJwTaEi6R/8rMFc5OySluicNypvCMoWYx6Wv3uVH1Yyzf2JL12CyIYf3UWC6PBFSTrjF5Krn2+IQZu16jtt29KnLmw5dCWAla/X3IgEcCuEC0gF+Fjht5uIaAWGKMqELK98nSU4oXOald/FQkNHg6uqwi+GNqHWFk9qSeq9SCbJdL3+RvKeV6iYM3dxEGLMDxNW1+GFQGzKxb0rOSWUQI2bU1JPJg2FIZvlKrCF1qetfyHc3Rg0sUlHE1x4OEWTNFe5fh0I3A7PAExxnBdaFqpTY+NZSmC1ADkikx4I5VcwXGOWyQC5CtSpDvaioxFQWd4R4AOf4w5feUxvWF8DL8cDEYeemdgxaEX6CC1tvVGsTc4zGsunW8nxiCWaLY2jCka2ray+PWcQrmbWo5nl6CCXJ0STMiEcjjVCN0Y80jyYXWuq6SXidf9asGrxEsmYVM9Gh0nFPrlzQT3QHdA7xGIXKnf3CGzWjzhfHWlDSGYsW3JY2RPGRsXXeLMRibMxbDdKF6cbTLa/00eSVIk7TXAwZKfSjNtFETK1Whot2Lq8T0mRUt6vWSlJmFaTtRX9JZDIKqqXQDXnmtRoeF/y95cVoOhlAmQpDUd2EpS3na0TF1l1krV8rCTQTs2igF/Bgirwc+Z4dChHaA4A5rTBNg1NFUJ3hP49K/Fh7+rMLTFKhxizJ+idnLSQo/KmTh7CktWPvWw+VVJkxCB5ULOaILlsujWwwgc04LBcDIP09O5f2rVNPaBejWypuWzSINyBqvWqtjOBNwdcQt6ND6So+A8MkHlVW5Cuc6lmqGzGxBv3ACBiLN/FSrEGh/POBxAvIMwNGFJpntfB5ghjCvE8dQosMnC62PZmlBaCWohPD58f35y4DnJ1Iy521yCbwhAkI1LyPW7ZZKpcUT5pSyibtVe3iC0/ju1okT/zNMkr7lieZ9xyUcqR7ZVoQbbU6yjMhbDnM2ux5lIaqX1pHINMzYwAW0XpQq68WEMiR64bUZgBXRB2S67V7sy/1UQYWAV1NoTqbTkZH9K685ptnWKRFy07Y255wo5FBWFhTS/VRGwaL9TWlRYZ8E3z0MEKIoPWfsxzFUQ03PfQwZMm25RV2I2j5M3ZPx0fVjL2lZzB8HwYltUv3rtWT668SLSR4UBpRtDvM/uBg4u9LOPk1BBQjz1EVWZPZJN8sVicjT9IIGucXPKO6UdM3YMEcgd3uUFlyt9O6GGFEE0vrXfAuulyzlLEKAI4m1yTJVSBomhsVnVNXajZn959A/Sy+fRtpki+0Lsnq6ep5tr5PmWekxt3F5bYjJnBPycX5AXAN0pSoUUqotb1uflgmROHeOMIwl3tvIW8l8LiLKqISgkWu4qGqvM1ZLLjmI2ybUat7eEZ4sOYcZGthK0cShPoY68n3Txqo0uD4c1irS7Xk3S2+SQthTMkiB8aEyTTxEjzLU02lGy3tJQXkdrxNtUleNsWY+xHiMMgZBkK7qLMIkCTd6QOx5CIBGA7AQiG/Dfcv2mEWOfMKAwjcOTOssUfYQJMomY0sAiDAUEbH83t4osnYrYTxOWxeKihv+PrzGhrfdZTIeMS8kRj5Y3PtmZl4XpWauxa6wB6cP/4xQgFdEwAeACzAMMApQB7ACT/irStJAcyF07uaUv3kM7Plue/Vagd7fKefBRiDZmDa4z4hoVArVWw6Vm/ZaP4UiiFBSTyLuxEzCNfDCK5uOrmmzv63fCrdwRsG1OaoiWXJqSL7iw/TE6jkgMFuunMvhTsdE8/YzoKjT2SLSfBDVn6EDQpC+FYEsBMKqw5Ms9eBPOyGRW4XaLeWxxvB9GELfPawtGptCKJZDL7+woOFOXgIQtBIJicy3RTIolEEKgwG4dIw6LZFrkUgpxhdOI0NBXDIPe1ZYWf69M69MXBECGDESVDFLj3tT9U1rcEH3SfxVoarSkPOsycSZINd1fMxzIPUtYMihGrrrEuVwJ3ETfiRsL3hau5irf027nbmXX2wd1j/CWVBJNpBX7sdKid9kZEzDOgm8kWZIdyXpaHHkeNBK0mHivpj5aV7j0NbSqFqc6eUiLLZd/0HGKiByN7Yq8hKZGipKV+FWdyVuDeDFCK9SxIh/vqe7mr6HZ1jp9nfwlD0F6Rtg8wVLWTrF+HQQqQrlOTsFMotdRLQTg/sbKX0Vr3+mnoXWXFpD/SF+rJArcJoz6PItXm5pV4LVHsP/2iCPteRHJFweUh2ldcyrei+LKcmqTGL7SOtQL0ymPZbb2IN2VeHo1nH4nAL9saAmxhCpmZZjAo+xniHHG5UGGqZAunSZ4WeeWbbF+4ZIQDKbwJx9HNNSRy5Puh41xfRdXPFTcs/gqHuc6IqphN91gtkL+el74yKnclItOCWh9eDxZQvkwWj9NAk3homQz0dYJ1iE+YxHo5cRnDUbZEpr0n3FGtI/SoClxnHARIkaIEn1idMkjUEF51qbNIVttPxKMaT8BXKUFMkBZSbuHvOkH0caoHE7I4k2Y5v2PXpXtGSk0n3+JndNZWEpdmZUUznvsY3G4kZfEQH+/EhPJawnaVvWGjhSt6m18QLsJdtJ/eeW2slGwhbuqHJN6RbZGms6fFOUhmSrkFGLHVdmbByJSayhwcuoj7CtyFGHiDWXEgE5lUzlOM2TEK5UVd9BSYG0feyfMz2jedSVnxeBzF2Vx0oBHkjknshHK5UOEu0T7eBqULT7lr9MvVz6DSOXp5PQopbLZh4LwLvdeNwJDVvhiMen2ZiyCct35jc2tFXSP9nHEbCbhYfIAJJ/m8Cy9AGrnSJsALABygKIPvEUSRVzcSMUDMsNuAlIaFaHVXBqFemqy4MNmKjdT6X4Z6Xlp1uspHPKcLkz3yn7r0hlmIi92KFKruiNZ+JCsBnv6xNHTWfEOpVwSaqoKkNmmvboSlkUAzlbeG2T/iE5bzhDqlU95a5Uw18J6uXgrAe4ttr5DpW+2KvHCRMM2BHA9ch2GbsNahoX9YdCq5vUM3QIwRcEGy201ZZBtoXPOAgKOMJX6z2AGaSZsgKtINgVxMq+J2hJy4kL6ygXcEd2Gnq2kGMF8Vh6kKKRxStNVnvsc+NvS3oonOJNdlXCtWIUgGl+pk6HTU40RxIKxVh9SbaQudKJb4kBDQE8DTT0yQZOLSlewIOtD0AKGBsIkfGDGj8JaGKOJJBR/VA6f5hgEHRk/0kV6Nel3X9CxOhrrF0e4y5AREOEYysmXk2zFuxX0hJwxZv65UTYRnco0LSOM5WqHimEZ5h9wTpLm0gOs4KLu0ztvLCkJIilN43fkH0drmOxJKvyUBkpN993l3q5ZHiIyMfWbiYWNaAFjPxObB7JrS1/gGcEURiVJtITXVYXZ/iAJ6a0SiJhWAQmlMIKWH/x8sFBGRm4EGM5w05XwMeVc8z9AOx0BW2vW04g4mxGumesQ8NryhSKh0ds2p8S4ptlLsT4phMyasHpKAGYFg/uv5okSN3A6SAF7eaEiHH1g8ftKkKzT55bS3Gz7HasUE8nOpjpNrIzgRvgBnwW6JBCHQiSn9RHvaEzs961RKLzguqK06oyYwa2OHGpE02mL2dfU4gnY0dxmOCmdp92488fBnNPMmyiid7Q1w9jGZvQZcM1z4tYWlUu+f3IeL0Wm27emRBsXaypOvU9cliLIMh1j1e2AqbxZ9xpkCld2+KsuLqNo2i4vHeZoa7P44C3O3VKpng87tYIrmKApYCmAEqq3F3hzWwpGkmrWV4iQHL2iMUIKU/obdtuNrr8mRkPEn/CRYsUrmPZq8ccsEof2JIMXMAZdC/f44hdCTHiynfzUQ8kOo0Wbgg9Ga0LjiHV5ITvbVqTFQMzZnF1H8ps0r7ujesu9au/M2GIFlR14KOKtnfiNe0pI8CQ+gthUHFE2BPtLp3KFuYylTJTKuQrQCXACWySWbgtrgVgiqL2GHl8L81suCWqmkWLTFHeoVbwmXXyKibZSTbGT+qlFMe0T9fxxB5xPGkSvO9k8C1E+Txv66qBmEGWzo1Ny32oBGe6i9qi33rlwFjJMalHC3KS9e6yYVw0LOGOCZixGsMH4pKI10WdV43ArY1jGzTn5E/83sScDE4zm6WQp+B75KxvABJCVQCn8NC1nzHRqqX5YI0kFgK1T59y40yT0r6Zexp9QRtZaUKFWscJ3dojtE2joL89BFY6dPHTxRXFnWxu05xrlmXTdUaIy3lCfyaFSyGZp3/aLvnre6OyL/ZmoecqeTb1rZOov2TUeLEL9/5jUh7inbTNplLNvKSutLVaqtm99N8LTCb2YpUe6heodnFA6wEILiAGYpcNCgNMDctEp0xAN6ACGGQS+ck7ZgiBYhEDGi6nK0+mM0fuwEBS5Mt4cFLlhVclTNj0GTJqwBUOtBYqulWZc7D3VlEbSmiKXP4zHqk61O/b28QGTU9Eoa1Q8SR78M7ZIpS2swlwwtDYiaR19IJBE+mjjXGK1XTb/DXpd3JIvlPGJKf0mM9JgJEAf8v+ZAUIK+wP0Wo8vCAhxTahdVCwoyAmj0iJ6Aewv8EOLYKb4VrCTSiWlJWoLGP9W28f0udOWBcLxjO7RaukRjJ1v3N3BUvjOlNfTfyzAxrCVR3eaaTtoPgSxQcRshgSJ+T2vYcRJVjKsnT41gUaQxcbsn0axKuagtKTSmRGVo92WEuOF4YYVg1mfYERBdRMiYGxIeTBdZ+IGAzTukbmQgT+hFOKJkHdRAzjaHTCMGRgian8+EhJ/cKvkRVl14tT3aKK86RG0I+bIMMQ6lEDhEtZoD6HUJlowI+v/HFgQoMcRQLw4zD0lQYdgG4lg2YU/OKjQCMv2KCsytaeVEUeWpA1EtTwdTwCPSNOZ5ZmGPWHxUPgQgBjyeV6ejxuVHXXaMYZxhx+spXsSMZCdUMqIiCmQCXlGF7LgnJjkDXw+6Mcc+Cewpc/0oZKrBaOjXboh2y+S58NdoDGGCu/Vr/eTh0rHK1T1odh47BmpZguR4fw+8IXDtziU09maCOUSfjQpH6Sy48LmLh2130uj0ouRCjlRHm6CprdFcgBK9GBThg5lgUpxksCyAUKCUUJUi4uXRUoVMIZLK1UzkDUk8wZekjRpVVoVk11SR9DVIkqkWCPSzXoNVkGgOh2bZYvaQmp7m/SNEOPE6/b50iij1pKepCp/kuY3NIWyEvx3JRTuazhbGy7HQsEuVSKjLMxopD1Hx/seO+yxZaVPEYJZsckT9BpnQVaNEH7E3Kv0TBZ1OuLRVi8r1IsTwUCmqfBJOUUEw6s1jMXQYmEZDyIgnjclDgfR6czIiZFLkZ4pk7oc7qrY8KEXZV2RV1JL+7Rutt6EALoUkLm3jR+ynAkM2kELY8IxQLV4WnubHYmKihsWCm/ss2WaZljLYr9d4NVEGqm2jdJly7qkf7+K8KB4nIQVyzO5MaykrzIIMLhnnNwlEry2qUBGRcvPbGohOMknC+n8yMdflb71Pk11vBYlZe0ij6vfy/YrrzMdJJ9xe6qe5+NVKKF2XFqwtx1IU8JByTbgllNG+2BZTsbY0BI0bzaok/8Tp/ufpFqcETlGXIChWz/t1D4cOtplB4KEOwtQhHmM67R2ucCJNTnMThMpjlRooqphp1cQEe+ptSTWNEWEbNRlf3JPqg7SJrLnGde73zqImF46qfhIOGg46j5kuqk68tVgS6Y7MhzVZBZrEpElKdFB1WUXWbMy27Vwk2txTscc7tOcnypEjepkUKUHuRAv+ahdMlcwRaIU1tM7Emd1y2qUlpkhIplWBKKEkOUgGy6OVbcLMnklJKys4E6tqfhRH6qEnFq7fgYmKpbWtraH3i4+hvLmCsrV1IkWJAWvZ0J6GQD42OppeTui18vrTMbEm8vFUQfTKs37d79JF7jdMsoxTqUzxK47vEWmjhURp5lPzs7BMqXalQmK7GSFNbMiajkQzh3CAIYgN7UZXx5FRFXkrYWOSovIomPpuWTVVQFj5CwUEEjCaVj/oS23P74/5Si2WZdzpeSGAmGjUGRqCo+wTGcQXUgG1DPKA2v5J7S3v1a4VyV5KibN8VImTBL1FjzhiNJXPQcLv7dJ6sCJLSuVRFcImlK9IjK/NhDQ+9Ca2FVp5fr5YtspbqBKaFYhdt2JUSJ3LkoX2a9WxRYEFdkurTIPMwQYXf/JRpHkqZzJgZDgWH4QhcLwtEYPnIVHwyLjsUrxAnPOyHj9/JUoUsTlLMWIix5meb6TED/p0pYArcxH1PQkRYLM+MVNP7/H80Swp55Zaqap9LB+KKmk9VGEKSzLdCXfUJsI78grLmYiSEJImOGJKvRLCTubaz/zR/fFhVbyPPRq+rVUIlY5XBaZBmIwmCgZDMfnZ+E6wLEhe9N7gLOsUx3MYHMQQCaHUArgJblSFfZBM6i/fJiBuhoB2nE59J2QB/RCYKCfE8tSuX/9PZVdK01+pulZJuRn8NFIVSa6gpk51QvdSqSuvOCD0P6DZnjrRVr5P+xGjjzezPpW79YmXq4+KkeCesFBLkFrOZdJpzL56KQjsQqqZwd2ggICWkt/v8We7SfPd6hCmaEWMkVYi0CK2gLFe7x6lsLNhqGUYrwZCR8BwFMBu7kR6NodieMkH5kSROQzMFcVC+xR2xEaQpWx6mKzYliBjJyGROo+S9xUU9WarIce6L3JegaYa2wvsI+2kZLYi3drkxFMowN8KTbPBaZQmP8TVOQkiuKeUnkflu9QmC9TJP0vQRZKh5kmnxD5RpotRBRhdAQYRgWZjRCWKpFn1rvRITjEYNIOw2g/HkYPekeDyCgMrIYSFLoqVF6vEYWEM4OJallTu/exWrit1du/yDN5squx72VjWWXY7tVeR6jGrSKyOCF7BKjKYJOqUkmsyGw4EgUCJ5ikXvkemRdXk+Na8u5KKlHbN+1jTOEP2rxzXkKGpTRz6923YTzfIwsIrQkoZA/ohTb/qZ66kVC2YdIuaolrgjTzuViS7ILly6BQvGaIgmzudrEs+M4SJJM82keIuxh/tC+qFuOh6/OyiheZZEIIQvoapoZCgLgrCYeDwPXgM0QTlpKjOWegS+91HRoX22J6bTsi3pqULLfMvqg6HCcimBQxsBfVG2qjlsdcTRZVWqUtbTBscorrOOdZ2TSO6uXP31OmNU8sgjMEyUzzWks5GMq1DmqXClXVCsqOE8pBiT6A4ZjDlOPf6enxhPXg+Za+39KvjKSQ1H5bPx7IIoNogOogp08tMlMjIYk1UYn/RMn5IEgTpfJVw1bRkdJuq6VxFac42feYnweXs3AkJICgjTNa3EWir7dc0S/v4Tk0xESYeOnRmOXChTKfwKz0TuQdRo/euZSO9S694elsVapNso0TylmfcmkfEdcGn5Zz6+TZ2kXST1RVflXsZupbfieVyG9CY+ie9FZ8eSYQHdZZ1PH0KJUPubfiJ1TiXGSJ0FyXYzUEK3wmRQn4BAuGcAoRkApz0EyFItIwNo/wQxChGbrsI1kdekSS1TVnLL6MQmLeMsxFaJqgjF5bkZppx79zHZCeri0x11Aq6SqfNP7q34knXY8lVRSLNDoBFZJN7BF4pMJNyLYhWM5W8132s34n2koViq0ojccwMd4df+/bQ9P0Vbdry/vq4NZ1Oj1xQXoGdOUPWQw1vMzsbFYLaG2OaKoybi+XlapiROQIUCGFCfSnTyWnlx7VROlU43E1rkmibJazTFzzaeibXiMzl8vplkg2+Jf8qRgJSRS3LcX1SSDVajr0uXktVdclZF8QTWIheMhfMpirNlqBOJhppbMIjv6TpdSn6BuL4TCo+ZNi2rmzHyCBrT6jjr0b3nK/viZiBJ2Ilzy/aXfJJQW8KSaA0LIWi9ugpJPk1YMykgMze2DOBeZxOadyfiQhSJZOZmMEJSSmYxrT6r3pgXWousyU/SkJrNTb4QD7sefE02FAQgkFYGRiFyKtSuxigkb5GYhmUk8j/tTRVAUt/7qtSTch7kwTC8FAicksC+jBAkJ9h8T8DZirMSMUlIqSBulLUOR5zzhCikU3+g7G9J9kUK2VZ6CA0774KLQioYGTUivOVVSRyvj9bJtL3o3M+Ci9il9/WCVJgKNsIc7m+hIPnzWPTU7EG9DDW+SazWodJhK9oEA9sQRzweEKXzre6fTpRk7ujpS4YoSbmYP/4xQgGfVDv2ux46q3sAu5q7+Xu2+6K7xq0Gi1jJe8v8SGt6yiW/bjQMEDwvAOTZyQ4i8YSCUyOlEnl8LQXERh4VIrUSCLFFHQcdMjKfEmTapUrbPWq2sxKX5SyZpRO4qxQ0oIA7KISGKVXF16lQzJtvLrtpD56g15ycQy3jh/XVBN1sk8lWi0tJp8x2GSak4EswcRNhOIiIFRkREkQlq6Qkwdc2s8CjuGHvICXsBoAmYQgACLgM4StYSitKK+CONcZeWZG3e3RSU7yJfE4TWRb92mNFSdVkdkPp+eAR32DsirVeXLcDQQjzd0H4UzjpYv9Zeu8M6kFNuQLeJp3am8ST6hC4GssOS6lTFYrkGYLyhzQ+g8Znb/p5GD1bXikv+EVaYxtbGGUZLtoSVCkUQvOnHTs7thUR9ndtaIrbSmevyX0enbv/n0AWsCP5fAx8Dyhk4youtvRWoKGLx0sk404wvkYyIOwqZF1jiSzrUYWJ4M7hJjR7gnA9oEyV9b0W+EIEgQ3z20Z7iZhtZSkL/Xoa8DCDqk1UBWRDn9UIVXKC1FpjKGWnf/ohS8ps9JLvq/GoraUXFam9WwiRGAqYQAtDSpcdbb1NFPpGXi0lY3cBq9rxwFAiCyjfT+BMu6jni3CkriwE8Avfvg+uc6ZlPjPfoMKPnxCxt/RLLKeMdO5wwVm7/v40VydXC6usBLfxsvv0K4GuydBQ1JCf9grlWKhTVOX0kRN5UNdLdSENvX4q3EpjOFJGhnouNitMvFbpLWmoGvdcJwHL7LDFjIDZciDGzExUyCczcV0lcqN/ifMQ2JFvqKiy/T9K+h6sq9lL/+ox0haro+8EMz84gFVo1kJGAJgAMFIJLzA3olHCmiG4l6N2DsTDg7J1JZ+PhXxTLYiFxlolrD+UQqKAFyoz972lMbtRJY5NF0582rTkS23iH6TVgz5Y6bZKPSFlou0Wf+omL/mRzHcgYq3zdb6xyC6Rp/tttqK5oPVp3NZxMn7X/O+CCmau0rnau+tlKGYrabO+6hXotalCkGn3vqao6drsePlwRa89goUUASIACKagMLBcyHdnNaFEjEOrECyO8Cjhoqb4HDLB9JHRLIlsIoemmSj2HHls7KSSBNJBD85uzcgLKyEufnik0AmqETpALjS9LExIQcyptbWy6xOCRlGqfQJanlWWiK2YuunSp9wfbNQ1VQWJzBU93Eoq918UWqVEFTdxCvZa8QCxaS5xgWVqOgO2c75OBkwoHq0tdxp6PurKAFTAKxeuEQgFwBUrhDwhfpIkkMlzgOYLRIPmoEwAmkj5Q5/KvmYVmp03IZ208qqAtT6isQQRGrClZk/1n6qJpMwhVWmMzXGghvCKSgdEjrVSHjEJniUu5b3unnktOc0KkKHala/0FW1VtpB4oTKvoUI2EYUPWJQnCjEdQz3Q+bHhWHkOEayBr8BtVk9IZDZYpZJOIu4BiQE9iVT6wCBgW2GhTHoc28tvMehSHTm09YcsVzZkhkX228LPaM+YlNT/COUtTqqGf6oyI7gVVaUdpr2C3LpoTnbqhGPPltHFzAkWXjFQ8w8l6yeFPKZGxIh0zxIr2smniYWGMIDdlq7l91FSZAqJYpAmZFH8aWmk22OX6V8YtWlne+Qwoa85qdAXsJKI+CYgPwABrAArci3SkwLWGhjOoq+HXuYPFI0GfMTNVewcAMzV9+rgfASopuRGmHNpzJWRFuEp7EQWsyvOhJWnBhcOfVDOq8xOrmy8oToOjY2pmM1ZS/N8c+PYEqUlM+VbpKZ/Ckmc5lQZdU10XWFf1FrVrQZKmLLBfFqvtbKsi05T26tcise6qDne87xvOvyQ6+LjRSKRYLWIEmEkAJbc6cBKDAkCjUAsEYwk1IpHx5AtGUSNOMN/X9Aw7jj6YghLuWIHJYEAlFrSUcg/q7qkfopJfEqGHg5tH5o3kUuIIs8gnLPZfV/x/szZdy6pFLNeZ05TZ5inKAXF0FGp0bkdKg10RZmKYSVlIZOwTfgUwbJRsZ51GW8yWnbXa3uPXWWwpYJXay2JjofxC9ATIDGz9U9jzm6mReYWy/qibhncIQUu4XZilBMK9pXKngF5XV2Awwrs6MWIv72e8SM/+dWSTf/0NURkw4VLjtan1iV2Qi9E76ljicfW5Rl5sVFxl1hj2YmqqZmcrzzTJKlTOKGgLzWSGogUgS+0hAKGq8vK9Noeh04tsfvmkWNT0b+R3ywofPJlKlZkDqnGOB3QSWNFJ7BpB15NiKl+3VZFbJTFfb0InzR1jN8b5ZupEp1kfw7H1GmXtIKMsuMV4bWuF3kjRxKiInZoyjnFM9j+N8jYhkthRvK2Q1xzFZQgOwRHrSuxbSIEsF17UAfqsWLGcHdeaYZtlFclWl0E9YzIpFEUSv9+YYkcgYDr9+//YJG7OHCMnfDuhvVXAngA+gBBQIGJuAmxrQKMrbEioTtWBdYAxBKhqyJSgWUunRMSZEIFj1w/DJhLTSBDltdDrYegspB6szCHCzifRmU7uz3fSjSG7kK7KWkYiRZhObidpn7/GKdK2OdR70OjE5qipPIRndeKbcyOxkCSXVaGo3p26Lkh/BFEKFsSg6Tq/iJhUDD+Vtd7PO0kiAWWv/U0C5I5Gqmhtqv0ijmLwW2+zLigyQKUkWe4uv4hd4zL2X9ZSaeJNqZbtVtyrh5Y0F1ukKFU2TG+NjtQITA2b4nY+HNRNQhZkMEWeEYkpWznliMT0vGAnnLeasx3VKUryil+H8QThbSaFsuc76uzYdnhmtV8k7DWQRH9yganiH10z4LiPyf8SwBlArQXEB0YiWD7DnaTppNWMTESgC1Dlk2QUz4gDupyXnQHaVcIEa8qJyKI32HPJjC8kEIHusB4qgUN0qelu76ea1MEuR5ecJvcx8eBTPD3LZO52kkAksGjXdr0X10VpXk3a8caywmSr1gLQp1H3kypS+S/gbHf1i599U81pzfnzVsIKEFDNsGRoAwSGEpAyMghSMwDDHbNp1i2H/Y6OG6Yt8OWNeFGImV2+kjJBVwqGbEJFOQ+N+rWLYQ06mJJKeT79pCUYjTArsiu1rKUJBduJPKnKKLKEG2Wdx0K4HUys4jZ3C7I2o1syvCj6zZyWwfgyK4Mhf+VVoxSsh4El2lIsfT7dVWUqLekdF1EfAqYT2oAjQGG0wXFdwqYaJhQjkfUwKcrqD3feTZxjUr4NOQzGC6xHCl5gr1iPQYUiCvO60WX2D3UZxiZ71bjok2p+Ij+xVIh9Y+VtuyXVC0za3Zmn2OfI2/i5Z+j5H9YdvJhmdROVURfhMBycJmvtj7Fuo0vsUbXXzPsk5uTXpHfHedKU0mPdEhDyhNw87JloAaQrRFyXjK+Ay4G2E3BbPEJMaNP0M5Ow2LXC+77nFX/t3WdEEHC2I2zxkktSnyxlwkKGUuKnuwhY5Q8x0LmqK5H6uK9kTcan1tKYinSl8VKsxGB0CtFQba3uNzqUUwZUXLEsg2BoF5MsrPSnwgBEasjtYV5J6pymCX/eCd4Q04POC9go5uULBPAJFtIlrxrdYLSthMp0AJ05KSELl7XxjVyJl6A8xIZDLya0WroAty2DIXas5Nh0HbTOFgj53FP4a0sKi+YUzPZio9hw+p+7MgcEmiHonMVuiKoNx/BYf5dJpForEqynWmxUg80BjmGhlY8CbI5K7VMp9E8lv5l9bW7KjkfV8yJsxawUl8xjwXouwSDgWR+UvKKQkmV5APNMIE2xNBeHqvjj0/kb9I7zL/WU9o6z4Kei0J8daTZoleOfX2Rl2HomCDEx85KbckLPT15K33LHafPTs76J/qGIkr9fHqMDArTtoR+q9xohVVpGv+VdZCPR7wU1TpOk0/vlyokriOdnbW30oa5kbOiOCFRGbEX2AtQkBwCqLufQAgJLAx9zB9OoB4KcfSh7sY/JhtazsUIizUIZjKaie/Pq7g1QxCyAUy8DUYfQCLQ7ban86i0rUA5YIJ2aL0gFSYUW4rBrLGLRdDF1xBRh5crsfOBq62sSES7paaRWqvLVfaxPbzeVlw1p+JZq4jy5MkNtXl7X1JaKOM6JKFrrlJFULowhWk+NH0AUXm1beAjnsBVkeEoXGSBZSdiIunpcqviRF0rTuOLSyH89SbleC1ECPwtSTYGKseiaW++N1PHCoSgVP/NTPTK0Fjf9NkcUrmOtwNhJa36Zr9e1bU+7DDZhCJrGtXrY5j9AnSNJUhlkTK4xWkqzP+fn5v68yrblnvFXHJCnlH1+0gzzWCfHU3JYA7tBMvhS6UEKcS4NMzxsGXuYl76ijnZdHzoMlhbmIajHQ5oV1Mn78DyHCfoiR9kObSv0lgU9VNTdjK0quTrSD1ZmVpS06zrLAHlGkeBEHwXWZ5KW58VDtWJGLQ8nE8mJwfFfVK/Kj2J0N5EeVlLoF7t8SYnRtjLDXCdBzhthJqG2RxaOoMRbnofpozhLikjQqhmAzhHOH5kIRRrsUo3xGidYfjEGckCgZ33aF2o33ys1QQZzFQLQwi2cia/PPTfeq9bbNQmMsNSdoUWhUyvVPu6eleNTaIBNILwnrKTfEpP7QazAUBRdDaSmdNUn7QZ9bC+N6jUW0yHL0YYaYJ8F+HWLVcw6IeQytAuFKz+0sVknzqRQRxtBcFIdiIUF6/X6IEq3v64eV7MMWY9E+CcS+QX9RsQh0cgqBqHALAjP25M/5CPuUbGpn2e52Hwpsew03NLKahRChJvBmxBkLAzNBAtfO1xiXC04DF0cgtGmkX/HkKt3GQrvK0bI1wrQRYtz/dNVcqors99OHtmnOdTdEcjhlGYMAgjIWSmi2KjRa9J07vPOTTC1VEs4VKpXF/9Goj1h+O8i+fB+KB9Rnti2tjlwcDBX91Wy0Bb0tXW3c9q3tdAbX4kBCSIqMZKcXJPUU4hvjYZXV8Wiu3+5bwS/WpNkaXZxm2PEcbgjQyR+iV342BJRtJRgKfTnUiX12XAlhnBjH0fjsY0dGjJIcXLxMHH3f78QVZBIFSsttrn3u85MGUUx+CaLQnLyT8fta1q3sqL8f6gc6Gw+tus0hUb3w1U9CeLI3loZ015XMzhSqEVT6cQmmgyNyxiV7u3q3mf+l77VOkeXIVoZoHyBigFqDDefCE8hALwKiyHADhZ4RMYFIIcZY4wqAhRzMMiSR/cr4k5lXpvdJWj+PEzlUq6lm/XEk/thF8fwvRcDcLIk0UxKFv+na5yCnJ8litLhVqOor2uyzv5x+A9zyEYbTsLtGhgqm6WBYFbv86SzO5okcR+vf/exzCstSHK1nQpudQ0h7au27PlcdxybjginmH+KtONph4tysigjh6oTUdwyhWgnR+DPNAnL8tGJfayo4fCuIAyjYtqk+SrBbm2JGuCMG8BgDKPhAepn/Jy70KNDSJrCoEiuSZF26emyhxFeAkr+mcazx9y+KoijWLxLLBYs5ax9ysPp1E81kgwouVzrE740C/kTi2Jy+3V+gt753bNGI6EtCyhITNmIG0FkIlqrKY0uIQ/UpgBrAVQfwq3sjrwm7EZ7s3KZApfGpPi2bJ6kKN6ZDkgYBZNdYkRUN6zuF4FQMr6kS3coI3rV5AEYXXr9s1i1rNKSAEpwKyeZXHbePZvHYIy6dlFIGTCRvYNh6EZZbCQSLIhGVUaU6z2Ay9RNr8Up3w9ptzWjMi5hwxZ3MKMBrKVefKe0ipO+OJAHMATAeY7srX2h0GYSpUsdHh3Te6/N+Tt+7vuBREbyFni3gQyycooSIZZCUJaW4UxHIfhqOxKNp3HJvT2eyN4bo6usSZpvQ/3hgH7r06YylTCxbzH4vfZJSNpO8R0LF3pt4LmkkDrmXhVoRdC+nq1pRV6yPhPxfwbETcx4EAAkRlgmavjc3uhRxQV6/ACkbUj4kLICMKFlII78/hIVvw6d+qFA9e27RMol/liCUTgUqG/aft06silkAYy/SoWHH43EQzdYOuYGYkRUi5JR3K/eoAvCOyzeR3OJl8hibh+OtGtbcHkbNfKuw1jeJOtOo294iwt9fZNEuC7aMxUr6y9E4IW0IWHdPOI4AhgeoC2i3jDv5IAuERdgegQJeQ7IT4NFZKPfTLxHpeGB710ZitrzMU3liNR1j1IbJPCMU1IY2+EO2VuxSM4BpU9wy/XFN/rhZex3tmM6QaccWmThPuh5oTsZygHgzc8HiHbJpmYVMLsI4d9xshOzI7dRN+2QzcEUYb6yh/OkOflY3PI6G+H19ipfZl/r0GX0FBMxD4f1rAUskUy5xtRCRLwbnmY+zqOL2Gim/tKmdged9EiZQNr3bxduZRdU4RdGFe8w+eGFHheI8RbEQZHEDG5QjB74T3TYhqFena9MaTV2DgjYFMWqDRverhkaTov6B9qIbjQo500A6wktI+nIwLETin9KdZOY11RQmoA9ZsmYYjT6ivjxK6u09snKKHEaGDAyL1vCBk4iajN8+5wkx0+zi7kVIzzW9lb4VD86kokKYgodOKAZttpTmgIR0CuaplRT2KYZQ07/fhyZoioeNZmp/4ZPiM4yRxC5/XQdzk8Frs9Zrhc8H708OZTujiKzZ9gniwfHFyq+RZrrD3NNfoj5M0m+8lhSm5p0/7awx5C2NKmbNTxMRfwmJowRgDBIyAAj4uMCWAPkUceAbfev8NEVWcAGmiIc+wmiK2WDCpqc0Y6xDxt3KayQQiiDlxx1xhjRC1c/V+qXpGQw1V1rs1XubXPd+DwWhF2VzpbM7SOax3d18AwUfj5TOjrFjt3o3+tHEYSy8OpEygaNbhCNDJMEvmAodoouJ1BFkPR+REJW1JlHCf8ufhXQF52rSBMjlA6oAJryACUDteko+TMqAr1MnZiASIsYg5AoXq59iHCzleeg04R/xPpuTZLm8bniJTO3FApGLY1FkBPI1n4NjyaN4JVW7gicHU+F0foX3sq9dOWoanZSgTyb+qjSWQGUaJCWdLRuEDaIBREP/4xQgHelAEigTNBF8EXQSOBBoC2AGsAh+0GMWOI8c+cHnO6Bi+fMjTbkBZbsFmWzxENaan3ZsT4O78XYaoPfzJSC3FwgX8I4PrD743OMElJLgtfdkGEUajBz2kKZmNUk4z2lJFrbYJ9jpWP2bU15bd3rhnliISqHMayrWaYFZtBFP5+g+ScO6ZUyrrzXgpMj6LlRMW2F+54FbJLtICC01MKovKfEV0x5HMID9z3gSXz4BLeaPPByS6EJ7LmGbYj/2bAjhWc03qo1NvaoXPbc6t/3ghzOQSiILP+EbXJJP5+O9Ax6b1KPI3dgaCkZXDiEwkt7W1T50tyDquo9hkjV711CYrVVteWf4ZZlHYwtqbUNvhG1jdncSJi4/Mg6jN7yBqaI14liVDT4igu00RRmbfQYSsc3crs1XcyMPDkynMklc7qzG3kZoxZAE2tWsvwaMZvAIEGebIeIAYsBh/G6wDJCIgBOwsYDGAhlN8rppaaAN59DqEASU6JGiFUqxLqEN1ozht3P1cXWdOvARlTVMSDfupCoXlt44HqYi/qr0Opwq8iONSWsSahYlg1Dv8IBZfzhr1NfWhFo7Eoh9U0zrWpCuNrexhkKiss/ldQaG2pwlclN5SSDx+id956t3DG9Ndi6hs8abc8oHBL22wFkEqAD+g5b8AFsWZJWdHDMEOxATqpBOB2SisEcK9QLmiiiajAWAs/le9Stq7zp13lJN1ThVvRdcqmAUJwroRPRnUn9cWPfPbzySTGWY+J7uCJ4kcuQz4rbbCsPPZOh0l/6k5hO/qQrG8T9dGUioInzAdavCMogljPp5jmN4hvCyY/tROeTyfQqs/lcKzcpEw3rCmgmAHTjvYyDRGaaCnOu7Rfg1yNgkwXjQuJloVhoOkGbsdYdYH3uaKvNM0Gorx0h4Tp6gXglIwtSa0whBfMIFLLdraEBeleL8T15dpbfMXiUpWepX38WGwd8m+KfAVAhNUo35PB2CTmoLgaHI8vOSax/Th0bRpLFFc6jCocDiKe5tVLuXUrVSmiFEJjpkMhFWB0gaCGL2eFFLc45w8uEzjOLe2IWQa/NS11OYJmGZvVWShST57vXU9P2j0K9z2pr8jVGX9R/oc7PZG4E0rAWO2uRME1nnrsCLIhXI5ZiVcVYjK2qmURCrWtmYIzvvFiFk7uFiXheRjyxDMPJQMqOMoN5iri+aWXEhPBcmXw7wV9yi5ResNGbE0wurEqo6CgjNgEwtTQIFFQpBVsrbKEptbCPi8iy/18zROfWY39RfTvKTLLUBqll5+0h6THkTw5tyYsHyzY9puAiaHvjovfb396orzgHI45pWBgnZj9QiFoqmG9dDR66xKLe1RnrEaV/dTnFeaFiRI7EVa9ihlqvi5EJH6UO7n4SWTbTpFzyIwQ7bH7bhlBFvggNWIOELDyg3ABgNEAYsBCwTAboXyDTAorBX9AggmGAuQBGbnCqlKuLxz25s+CxoIYFD2mFw+iu0utZBCjCeqHmV6uGI1Z9uu9HS9CnMQXBVFNvGoSCIvPHQXKkzIi8fjM82MHUaWu+l8G/dbCL8l86NKjLkmy5/VhUrNGgUnklc+BHMyWrdGmLF6if0p5fHHskgxWRGYGRav3vAS8KGAl0m9pQXgQWaQk3l8wh7nK1EHP3X3TWK1HZTjfti0D9L7ooIY8iARZLqTg5alL9LA6V+MeanuHKuKF1JVfydj/e++LB1UaJ9a2NqeOiN6xBt2HivERyFtgQWeEiwDKJm+x5R7p7v/wsy2yM2E0FrstdVuPvRzFdZTMn2iEQKBU+x78SpdZS228y8kMiMM+BFyRQsXYrGKiahCu902XANxIAalVpp6OLHTLdkwCd8iS9yGQZB36fzAGQQXdlgL5j23MQgSLiJH9c8hkYhOKSFRm6RbZ141pPkGn9K9KooavFkxJQ9ZrJIxiJJTYCkI66GBSgt5vslPfPmqTVSiWTmLBkLUo26dhGblvfqsdRRFGRW5RygkvlYIldrIsIB7QgUVn3IzR1IMmCsSaJdIgDmSADvj8Zb2DtVKqSjQ0usWtWyatDW8oTIWY5ICKJnZXjs05PSe2a/Xs1cpD3f2PEmPep11e8fpFd+9x0oR/GQ0yynmmaxneFrURRlBZ6Z9L1DZLWyyeM3xQ9LeVJnOt6q+Q9wuKvv01zVcqiuhvjn3SYI4Vq/snbuBITHxnAAkAEHAqnwE4imvzM4FUpEeMRiQLAxA2gAtIc6bXdMwXoCQsudB+vsD/PAClzwZDu6AQBLQ7f22trsaOL2j9kYB9iW/zOM4vyPblne4fPuEs/IivxV6ToimSVJhDRNJFBsx5Indq/LJgzlagh3hsr0ixyFFZ6mv7jLnkVUhKe7YSmnz6NZ2vExUkcvtHIQ8AvDVg+Fn0d1SVFT7Y00jMgjlRGZUUYCuLvpYi7CS+YFYNcz2kTQh2OVVpLk3Nh06GfTOBiKPDsV6SbdcZfUs0ZRCOU3I8CCDvuFIE579z8sl7LREmpqwNxb44ZLr6Ncrly99jbp30nVhlR3uURnlh0D10UdYq5YUE3ZsYuHdMnLAx0acy8yRgYQBrgbTRlF/4ZCLSEd6OqCXSe1oESFzqrIimSTEvO/Zv9C8EmiupUZvcfSU7t2SdbsCw4cuCfP/qKbEmd1HNroRs7brUpVpShenURZiQ6OmVeJaVE3K79uWyooTNScNxXEye0PS3Ceus62e9MkzGqPIsm3eG3O8a7rOakMlJ5K8kYqSPxKZwJ2B5jnXFrArob6EcHL5PKZvARGzLvjIUZmARomp8DtYF3CIInowZabhlXuSyxT+KLPCawpbFfdjtBK34ViSFVyF59y85ozlDs3RKlTZjXaAhXvXYuKMCcatFSlMsIOQqZlTIJU37b62i9uka4gLCjJSkWkZi5HeaR202tNoRCSCndHwegBjTvSGX4YUFUjWnakG5Md4GKpWJeGZtHCorqllA3VmvkgRlP5Y2jFr5ky5DqCe+42i3hIZv7QtPcKkAoZNqlofz+5/0nibOTsrG1qAwrUueZ7STZlaw0pqpUTlkUx1NaZ4qWO0PdjbcA5N+qArZt6dqFu9P9abf6aW0TkijMX+rn4AE0AsZkvIyy7wRWbYXDX3Bp0I7WMkw4/1SEoYhlvp5R8TiS1fj/aYIbrjxK/eYKuy1+i4L0zbezZMnSwULi3Zy+KN5bavlHWKZH6DZKGyccR577D9E6Sa0ZlDOHJ6sQS1WBjaQWIWvIzKtjuxlq2WCoHXCWO8FgrjTzgfwdAEbmYbTAYl8UAJ38KqtbqdX20mjmxQ2tSyUAEmqWXTpxRUMTbM6gtZo64/ZQZp9EUgoLle9QJN1uXlIGP+XokUZ9NHfdZHxpCv7IdXVdltPoCm2h5k7yi0ATnVtndzE1U/Us3jrdrfB8vQ/UfkvLUq0k40sHnceArYKkSai31IRGJn/HrztFicH/kAaEJhtIl74sumuhH6w31RLo4ksY+Km+LHO5OintUSCtJUWrTk6myjXwlaTylGECCveHkZh3mB/UzZWFy+ofdsrN3igMQveUiHHIa8RO9mu/rQVQy/u/ARaSsibwPWFdRUU4ATgCXM+xpAHTN2iiHpOiVwQ33aAjNgFEfr+YdbjM42QCfJlmkJ8V4ndxivMTFJqSgnL6tARhwpWnWNRlHCVR/rGKp7CmIkSv0HRQkNycyk2PMYjXbqe8PE55VYmn95FHaNnS5lhLqI+G3wrr7kMUB3Ar33U5r72tfH0ceQJEYPduYlcwEasnAh8Qb+PVrBMV1EZoy2Zr0oAnkJDOsVCEnqyk6R6LJVJ8V5PW+9zSZ/HJ97ftiZg1qeWHbtNjcIpSKcuUaJWaSpqwsGZU5LJnpPaLGL2Y/XIHBgMgF2M97SLHLxRP/zfbdGHSZdLK5vFQMxbOXOwEOksQwigTcOiCGM3w5nBmTxvPfaQOkwKjqUAtCVFE5OjMGIRqDGE2yB5FwLFCH0nUAyLyxKZsueEIcd4ImO6JCTE44bMTFI11WvuAkiZAtGRZJx8Mrb0sEQ9/jem2VORIhMmAjG0Vp332ctYJs52llCVRG346PeqYYq2S7JzisWDyJ8klVYTMTn5KMisTZyJ6iq7Yn+27daukYyt6ajQmr3dD0PNi65GRCQhp3RLzwyp0SJCrC8ZIYx/6elDW2ZCfJ/adsM7KYd6KUSrWpBeddYfZikooFitFDwEIL3th1Kywlfi+kp9wvBimfXRDKSp1Yd5n3GrWFzGpjKG/rw5bD2yRTLXZeZ89sV/EbY8poU1pQgZUeS4KPIgEcaqujOHDIw67OEb0C4CmuArgvxIIEoj8e4QzZqLO6QBcHB9MzkkpDO9VxTV5hRK0jXk9DKIyDZ1JQQg3G3JBeC7T1NzGTDuA92Bi1WKprlAzY+xQhzhJjnD5gTEnY+eJNmiG/CmdzMj7OzSKvOqzAn2cVkPioCNoAr2tZKi5yyyjZSJKkKkUAZrzyJbLhSvF2rP4pD3Kw5yFVVDL1CIM1lmQM8SV1avwoTOxbpeO52zeymYeX4KrdCi90+6Em1CMlTH3Xci6AL+FizWVPQpvI+dHKUdcLgb9+OLQKUhYljltNmZDWPCxWgrhgNmsV81sUj6IRDBZKI1sr1UHAqDhVtPuxIbpvtpxSAT/Rw75aOxohJmrQ633Ok4xLeLwicvqv6jndOGa0sIyMd4eLMVTH6X9RkwTNPxeiLs9krSnyakq8OMcxxClQSvlOYaeJQzEKL7WiJckI8rHKqpvdS3mF5SHcpGEXU4sk08BQh+FPB/U6QRklFOP8iHvOYNjMoV3jlHSGGyQO0tQCPBQjzKPoT8NQR4zI4jStYmeHJYu5VptH0aUk3CRrAon37Wfi3SWdkI/KnCxfS2mB6XGtGs2pbKUZM2F3CfBRRUl6UH5TcfwLCQAkiY2mip92WxJVZ3t5D1CRy5SUC7zidBLhOp8McJUESAmw5Q5WJ+cSgb0h/GEIcmNsJjBEoQSRzFwZi6aGAsFHkdG/tiSjCwam1F1LU0qINAgf5eSxeV4XXzFuxmqmd1dbUxZxqDZlH9Ul4fEntHgN9n0nVGJZ1f1fImjZLTrk5MaIGxZSXqfU/icxqjaxDiZkYnyhY6uECddFlAzDAU7rUmLeDs21NHu3kthYJddMESkF9Ho9RiEiXFUhBPLMeSUQSgnSaXPs9vWs3UGvv+LSizop9V/hGrWpLd4jhI0JUpQ7yDASIL0FzLuU7C/Nbxhw4idc8wxm+D06xeDmCxTwsqhtODWIQ5zIqyDtqZIGUrMzwQKGI7CfWGrPjQYiql3wcCe/F9BW0eYE7kt6Dn6BbIdWsSzacYt+8Y7HhDXl+Lnl3VEVVkSmuXAc+rWp19RJk7+nb6GsdmSsbJQ+Q6E9QJZpCuiAopMHDXyJRdjrGhmgRtKpPzM5EEqskpuzKQX1db4IRO+Vlp6/GRmRGZqW3FPYtLbTdxJ14qYrFGDjtdCvkR9GFGfoY48znInX2PXPgr23XdTXQlY1CIRVGSXuvGFZhVEqSEZk9CdZEy0oo7HnUVcWmLeSbmnHcvuAwowsspxMzAKpFWiOQH9INruQSMk2V28aQM3CIf1bL7Mc4STCnEaM0e43xKu8qSRN+BFr9uOIOkvAkQhr10KG4OMLJFrIYUEiGJUTmt+IBBTwilxaG1FsKKihHY5OEV8Fl5PQlvZ6Nx/QI0FqeHBBiMq18bT9PBV5tks5hqotJs83XiVY0T9hnyOs6c1l1lKjUXJTfHkFnCtz9AeQTExX93zyEBP0jKkPdc2Ui2ew3yxnetWWRz6ZJBrdCtNKkkkCRaD6JRLSNUtJvpD3opPUQCDoNFI1mAzkA4kUy9o+9M/9pwOdT/noeurYrKuJNXxKC+79uumuTMfqbeSXqODEcwW0qUpwiFYjMThoJOJgyZCuBGWYtivV67IouUcaDIvU08MpMsxmtAqmc/mUQKeaawLZi2svqYQ7nVrFdKS7iVYfkOHpsCptMSO+oanfHQswNxIGQN1SZu2+5Q6mt7Q/2lk57RNWebGLXzyYLSJs6a9w0O0CSfp3Gt9j6kQymaY3kK6HEl0iANE0ORgUBVKZgExACOm+IsNpNN6ELqWaiKUm90IaPqJdLxe2m+P9XKzc514YXZDkOP+EzJm1r2mpUdn+K9vPxbuyBG/c9qXIu1lUpZtEniT2bM60x6j8dlOEm9Ekz1gXSEpl+pPOob/P9i3G0EBXKidrwIK4GUprhWDkU74T+CLMmQCQW3vXWa2pa0EUetxNN44sN39bc4VwVFQMk/FJOYdDzu2+8mHTY1/ltSG5jMHxFIXOIjhEVLEuvUe5OrGLZtYMwHg83K/ZMq1uxKHRfx2qbgbilDCs2M4FE2J3yEx0nEkLQUG26CQ80QfT1HQwdVZEjNpQtarTY9Wz12daZFi8TfF6RIjwkSrDLDpPF354YpgAc5hBYkZOxCjfi9MTEhpD2iENrIwlGzkI4z0q53qg0FNWcRiS2U72rmE6zLkSDsl457KUFvp9O0EnHA70BT7IdlxKbEFWx/kS5qXYS2Jwbs1rH2+PxO8n7dffWj3O/WfvrWtubdkndPEnVOGFxp94DOiWChw5cCuyssQg5vl4LGJ8wMkG0RdIhjC3lqSqDtV0kVEYpMEOVeaW3n5ULMW9uKpJt4rTqNYENIOxOYo5FTVBBEusmFZkRF6rydrZLQSPpwqfcZbhSQrULImzZtsh0mSp644xTFIc+Rnuk/2mYrXJtNtn1QTVWpIHWRToaIXTlayhZRRMC2RJpOq4G5hSR9SXkL7La3BeLZfUborNBGPCuVDSriYTUyX0DjisZqMJBmmNiNkvGKwziETfWh/pJMkymC/aPEefuJLn/+MUICFdO+yX6sfom+cP5g/mA+aP5k7QZdbWcd376cFV/3++M10shFshhohJ4irwCjH99glmgEUJBLTwoF2VaRjp8WwSnv8TDZiRKYTEDCHi5JTFx2ITCHxV/LBspLUoVG0smAVm0han6ikIjMmqSJCTUS7Ty7WQl2YKq00+e8y111ZJctbdynhKdsJ8ga2/SItQRUV72ObQIdi7JvL3loZxJScUJp6SyMoIBAXP5w3fhUsuXiAxNEkraKRMlMDlVPVPh+SpzRRbKMZwlWo0uxzl6FXTv29cqjBe0Xamsjt+VHc+rfMMt3G93S/Zd3GCWY7vtukFQLLoLJOIdi9ZlNT+MCaRkCiXIiYpKmhg5JBGyJy1RatkYkYUxAksjJVchS+nyPcTkdYn0tmlE0yp8/LGUZCfJlruau67PeFFl9a7WyOMuP3XBdFg47knK5C+hEwfSwx+t7eehPfFDd92XigalkBqwq/hvcDEXKyS6UZWkmhNxpMfbl1J9eSXnWuXXC3LjnStA/QIdilI3l5ZM7q9YUeER4KmhF710MY1hSeTxcp62kkKNVyLZmWrX02LxUVhhFei6MS8C8z6ATmJuqtm8obRO5TVXmTRZ+35OCKjLl0rqUieyS0QsOXOOErBKjhJZgkS40gQkopFpkhKGE8RfTUyNC8ivjcSciK/biOBOC6f/3nOeabjqZRUpLj0iDFTUmNEKPTLWo16FEE1v8PdxtrWkbD0iVll2X6Qmh/PkmVq2M9l4zzENBCxxYVTOYoVZBiBTQMaOWIMUWFIWOJFeVM2KHmPZpJDZSmGzYso2bep8T6LloQaMWI0yxCMGHhyQhYqRB7xy1aik9OzUJ+F/e/v/xdfaf+y1J/ko9xopNSUeQqeplWwjlilp2ihuSbyfWazabJfLodP8GG7MwnazPHv2eWOiuQQCnEZHtFaC43EgzCYUtD0EgnOQZDmwmJ4vRxGvt0Km9s1eEnekWN3FPkiCMKn2X1Srt1/aOl2vh9AhEEkcEoUDyPAzfeTPyR7v+rE3jG5663Sj2lBr5CAQsA5ALCpZ/EQEbM4wgDpgBqA48CphQlwHz9BhllV0kFn+tO517yqiK2jETocVibjCWiYJ2PgAq4F6a93/RelGEbLZomtZC4wax5JWVIuKKuYjuOsPCjKit46LENrss5f5v3oY67cjBRyRgL7Flqf+grX8v5hzqyIeaW3u2dzlU+fEsJALsZCC/VaXVym1pZo00mWs2t7DLLKVWM0wiZnCEJnFE4JmbYEyl8B+71DyA4x9O8wAXItEkzaNCJbt0/LgZa1LbbwYJ6KdALkjl/Up7xy0xiFmPYv7xWInzfVsPcVldw7aA5MlWnUdb0g22Sn3Hz1w90uVord6qv5aelpfLIBJxjREA4ZevIDiHyLSebcqvKchTY3/deaTdQFknZJwJUnw9Db0X5UCFIS2JsnkTIOZXo88iDo/zYXr7qCZizjE8rWESP8Ux2xy8k2OZH2jSU1SHJiHJXgJJj9JJXvWRBIpbjxuvyQfdtMNtYfAWaS4LdJkcsYXuk4W274O+Qjd+mOokHUehnHQ51qnBN5ngGMJGwU3j4mpJOWUgm/rivmNDmZQhIpJcolwuisU9lKGxvXEqiN7Y5I7BPP3WRAa1hVyqVxjXqaCiLwEEKSIOongSvYP4hLHVbZEYXRAG1q7IKqhUCmKy2umDqun0XoQSWw+NKf2QDDOteeMRg5uSTD3IvGi4m43nJud6z6fWE4POChd0xys287IuBfoTCc9lkFYL+pgV8Wqun0lIEcLCfh6FARfEtYM6eUPZvfD4VU1IiuuHRZS2SdrbFd186G2CNwbbwyGF1ZEoR1Z+MMWs9D7qej6JELq4KvQbyRPxq7IWBbExvIQYdjV9v3BYMOkhF90J6Yyt2OCdgokJuaKxsku/jZkc3BldlFQDyDYZ/iCaF+unphLpQSBlgazcJdBnEgKrYsa+yyUFEjiEZaMVAo4CEqyUIg1ZUgQzJXUGU2RiV0HzKltcg+Jbc1vS/Csk9Yjq6pa4fakdV31f2NJasFlPKyrv0pHQQSBE20c2IslxhuJvxDx9J9ntDXQ5DoO564ic8atsR0ckB+d/z5KEB9HaiG4yAjEBeZHpkVfxemwJywPQyK/1UmDMgF5wzYF5JrPekV6+LFYmY2hfkGOTGqQ1PKvZjwW69ZGYu6ZkCs3SSQCLcTMW5oN1ndCtkiYiSJPlrw/o4ZRRmRvL7ucBCobRSwVjYHJtBGIQqdpIigvqLBy+taC00OmsbZEEbYgM0HHhyZaUctP8+LnVrahPzdOrNqu7ng3szUgIZipig8ICthPaQ/JhCcbUHZZkFYRW1dose1fVVMCa4anyPlKIOabhJmrPCWQZhgtqYNmPCH/pOo+dmn5kjVWx5F6L0uXhAvqscruxsWiBaQCNN0zGyNN/utWarKHJ8I1XU1+vanozFz/rWmApZI8iNXjfPdBP243VocyHX9G31R+p+5jvgSyHZZuxWCtWlZwwdlRDyRTmSASQJnybBoIPDYJlAsJi4s6dKIPw+KPAkQKliZ4aTDTSJsqp+wECFUYTJVVS1LwqJ2zA9sZoc2v0QhlF7Fex+P6RWxDGYFfwtCG8FIzYYQll11IaY1YjMnPzmi1MJBEh8IQmHgjdYfgn8WCooIS0qOObwt6uGa66XqFlKobcHi1CWrse2jTpjEiJyKSGx+tbhD+bn5IUHZg4RkoVMDUVmybMXJ3CUNCGgKT17KTFN5UUL/agYiDwS3+Dc8w0/atuqqyneKbyeF/6JY5ug2WhRjrkeIJsNcYQlgLBLFpmhR9RS0nEPARRJep6MPtJoqYEpbKInd4pFf14Ttz5cXUouv7b9fX4zIxuPS/wNfJ0YNNZtp8WDdfGBRp7NneIICBSMkgmvbVVYHIdCvh5SVPIKXU9EJygDVkPUJsFwigWCueP2BVEZbJmEiNgJpAxUYc1Ob0eMu64j9x6d5nteRusJb1fbkcCmKY19USxoWR8qo1fDA/gcQPMHTkwvN51FxKtUgyGsoItIVon7nEZr6TuS/VulO8VIp6XyHEMxAAxFRpmtRH9xorDt7+U44gSqiFudzJ6GYT9RQEVmyiLyeVRERQNgjvavVPHMyK+lKj/+pkrZCgip+9QV73CuUyKNzuJ4hMTeQfZBCROheUeVFRo4hc95j4K1iJpLeORNoPZbfaZxN0J5eDQdHZX5CC7lW0rb1vSiqWZ9K8i/YFuAmglg+4T8zaPIYdbZcUOwUbGlPin6k5L7ofWyJkt3p4ckciTPlwbReDOLy4ZrFZSRXwexiaJG4DVNOluDZ/Oa3w7M1Bxq7psFOEUazK+01RvFbTVUwzCRe6R7aUPz96eDKFx8webnZKoI6C3GSIF7dTM9VLcejknoUNpKg+amd5gatjJ3WFGr/ZgdwgvhTSEPmk9Y/bGy2ItKS/D9947//RgxWXZtfRGCAXYShEwWETHcKYGgs6GkaJs4uhelK2MUt88EPOuAK7lHS94kmygDYFQK6bXRIyptRaQFgLCUP016ZWpwJcTdYCKRRKp2+459Df+UJ4Rz7fJ5IC/Y66ocpNKF/zaWc4ThZbcvXlCWV3tZV8LgMoqv5gG9et1OMKt0sChNWqHwQ7hYywiGWzqXrEMyizTqCl8tRTx9ixUCjI21K8bIiaNOhnr0sQJcEuVcY2eD3AN82AckPTyTeGye7kCDqsM1yEZbNHmlITzpJGYhDVfa/MQqu+w5mIjVm60OiGWpqQFMV5MVtz86rPzSfJkEiUDfuEZPjQuiRtPEieJuarkosyor8Ll6fFLQTNErlRLsdfH+yDsXGWpno+HELAB0MsSOoEQ/ccjlEDXpgKge+ssDQAlYUCwTZXtxyDRTgZixCPI5vB21dtFcE7g9Te2049Sy7zn8lXERZNbUZdpjASx/NMD+kXQgazkd7/wsVRqOEMfWFBQu26aUfmVKqoNncahZboI5leIpSPZnM77YP0p0Xav/0TAutbl9RfSwV/18BEMXF6jUZUB+IVDSBgY7yWu+0VRC08Oq23H/SV3/i+J1iC25uJVelEDoAbA0TrfQewaMMHkjwwegHkBw+B+LgD7hVgjxo//1l4P6vh5FlIyoV3PS0jRNaFN8lmMPSJ+9Ist2QcsZi56qrusAVAPpeISH706gD+TjV1NijGZBACCxtXYvAYdRlfy6v0WBp9L8VHHYHypD4Y3z7uQWwwKVAs2Q++uUrJiXLFRxPx/86BoLh6UV3dSMWknU7kD9oOSUU5soVOyEnO//HXwN6ZFnoIxBWhnAOId0H3uREkiM6yBtC3tqVpfhyW8SxJzqj8E6Ci7j9QkqpyOIUmmJMz6isVbCtoHXFBfnOLuVn8yD6iItzp392OKdg0HA0ARW/J0djzpJr3i/TuTl3eTjvSNsvlmbaxT7tXSw8VsSLoIUekO+nmls4K5CZ3T92Hh+QidRRm0HfMUaFc+LWMpk9cDU2TWzu6T8mvkJAmHbof5FJuM5fZ7w4DrLlNtDcK3LvceojDH/MrTVb2zneppySTE+15NyjfNo0YOIRsibtIXu78S5c3FRyp2GK/x8+vDZAkKo29gdSgcjctlxF+KTP/O3RRASDsE2AVodjSDmCbHUrQmBYHolF+xjTJKgEUQKhGrBoE9Ku9FTANqsrtmSId2FwV3RFqOoaBdeUijZH+6uXwTpBzNJVKHt/SPeVVkZ2bdrZ7b8r87jSVgror+Qt5lfiwi+Ll4qZcdAuEom0aCShSNJQbjTN0Ec9jRc4TDX0X8jCpSZAHHd8lwXds5Ham51GiFf8pD9NFTM94lHiiFFKJUrxopFmxPkDIogyQ9QSmQsE+bmcziqLrUaXHxLolOaL4XK1WcsptYqOS2EP/ESiXC1kQppGHWbAzGxfNLKZmeChU537pSgTdpDPeeaNzWziPPs01kwu3ERjOJw/iZfXNwUnRaZRuEZ+yhaEBmknwkfS0H6LWQQTPJFvGzNRSnxsnHSdp9kcRMsw2BfkfwP+C8YgsftJslC/f+uUCwxlo8can7Q5xvEmAwAVZcpEuK1DVEwRjCRiGFBZLU2mVwCUOtLH+EJu7ElyvrojELP0OVxGe0mushSkQTrKmXov9jVYElYbuE0pzqxOrJ5qPu/y84WHE9jplauyQKoTsXU3MpmvR9iu9YKFJrT8ByMI14Z4izh08ljhCWtcTTftSSyLrC+3Lj35Zp7b6a4ycE4S2D+v0TwOWmC4IGV8Y4xcEt9pvhVyfElj1lVGfwOlnPsSfBKa+9D2m3NlCD6vc7cN1jzrTS4PITdATgjEOUoPpFrgwHaRzkioQJgcYWipQIShe78w9jDdIfwROgcoSARquqVaql7aZk+knm4OTNQUG8j1Hwtat8V81toB5GfMAalaM38hjcsQ/GFT49gubcO1z7YbWkkH4p3gBRns4JoVq8JqdDIq9OvIrRgyvjJMkTm6mR0TO3rg8QV3MZ3AumrxGTHTLSRGUBHrElSKDbmZBJAd/IMqcWKHEmTs8lMIk5fZvomTcT8S0EmBypLBKQWPSwpITTDiorrTDgWJczJ1aQhAlwR3PW4aLhmwVriE7R1hq2L9olGVOxvT0FZIjnioe3HDJQ5HktPjuOpL+nmoHp8Bl4XlM3DPchP6lNJlXe0fmZESAu62S71k0EXM5PWZPcad5M7FphTseiXXzEWvmJqIkgjtsFgEt3DheOiWCGYa91BYhyQYalH9RXaZNWIpAYzGXDZuTIQJ9CB4lcSn/cjCmt0eyP+syoAleD07bWwBOcWcc7y8oy88yHU6ENdtozEgpBum8aJzZriT6jwOgWBuJ6dnV7r4eSVfvwyT7d63IkQ6GgOVu//jFCAlQVAA5AIEBXQHgAZsBggJXAykDbQNwBCy1P5w2pH+2dWDzeLeOk8bwgpDO/6biJqpn6fq7DB0otf41uQIZgZa4zG816z2Mg5cwxNxEHGAnAyS6mkouTqOnUIB6zvgd5XeMAgRINN3ghJ0+TIymyyeQqegtur+Vo2hO6kU89diVeg6Z7rwls0VQ2QpEJhE2CzzGsZZm65Hd6dmwRo/QV/jiP98ghga+vnprb8maOv6kDDShu90eb2pL53MlopOCve3VdPMIjETCB7xOOKLyOEeeUxt7jNpOCCD47cc4Iu5W0VVERnnjeMahPWl3T3F70HIflAFmNWaYj6PX/xelSEn6mOi7db/1WyuusmqTJS5kQwpI1BI/FBFjfji9/AcBiXGImfIU0VpcbKIQUlMIDZo50SiFn+hVhZReGv55+BTcQh1JydxPoT9HKDS+457GCFjHOemxKS9ZgfENsB1wCeA8N7NJN6GssK3J2K8vZqdny+d2T6VodC/RT9/apb7TzKKjJ5YxFcD+fKtTVlPZOZ6Xn9OisQEXP3yThNo8AlGVY++SRjnR9wh96WuCsxbHR86jESsbrlVJeG1pIsWShrpjd7ZzaGRp16wiHkQEXG4OKvGxSBDfhafb/iJD1iFJ4flgEoQuqR24V6eRemmIyIo4KUWlbRLDbvQp7yCMieLikqeIMR16ll52O0A64GokQSS4iPKIEobZ5IQ4yNNCc2aLrzDqXEEO69jpMg8US0Xqb0INNyKD7b7t9MVBqAf6tpsRXKGE0CfVdN6OV2akFqHPrk3xNsVL4HvhvBj6xxCBI/mdivhi9LGLSC4wbQIP10rAlnxLMn96YzI9GEilGe3znS5hSYpQjvyoUkmBYDyDScjdQvXLyGG71kgh/LQoT9Her0QHh1GzhB+MKBSdaHr+BJtj/F8PARhDcp0dWPPTZPClJNlv80A0NmVr1r4nnpY4m3IzpX+uHhZNjNdizZIMClNG64gzbV7fRqKiP5yzvsniSFaNycrp35CYYsVq30egJhX1YsZJbdVQqu7q1TJ4WZ6IyLDlDxR502Yr79aQMhQkZiWFEaxYZSR1qNEb4yQ8qFIboshtmQk8mnI7YHOoQECg2lE2HRu6bKdQGahrTrWsoEUhgoocElGfpRLOSvJsiLULT9L4FQ0+pTz+GfXAfAss3tb8VwZ8bSn3Hq+yYOMFzCNXI7e2FOHzNlwbRzVOmNF0J3BGegQJffSextZt7VEWQ7L6XDPGzMVtctpcex0Hn9zV5vy8EN+lhdg+vwlVxV7XJHzW5o3zvKLkXeire01Jd2EnxTdaGHiisnSCs0Ulx52oqzcVEsotdVrPJGZPEiIJPYmujN/VcYtmBmMG8lWbenv3I0uYlfwmlKBRblDkCx1GFXwAhQbv1PyRbPEPyEL87CP+uYhXPGrzAuD/imhNCIK2SfXDPGFbsnRnjh/ZRIPgs+qqLFuJ3qVwvBeeon0xveU8Zft26qLOMROOOB1ivsoxgrI7EFtME0q/ERJxOsLl2CoyummX23dxi9ybRz+m3mJtyE3FxkRtyNupG8WnQiIdAWNhT3XPoOmq3G9Mfga2HbZ7Z+HrI4IPEgiA7MMEGEfu5cHDia8XbkaK3VeBj/QmqwS9K0iW4FBEEvtTZHCSNJkpEXXjcCbuyt2CC2+bzhWDBTo4L8LZ6i+qscxF3BdILkkYqu9F+UNO0Y/woOzgl8hVDvsVfeOzOktvpX3qcgnl+pSoZUUYzxtiSq0SGpWm3mcGx2e5y8SzgV5obqX5HZYQLbMRbN9KJL/ql8Q0pcozCw6JTOWXbZtJBVwur8cHV8Fkok28tsVuj3PXVPtYj9w5W6GrVa/WWZvSj1C06qv0QG0p3kaZbEngCPy+Gn7uUZetN4mrrJnXbwAgASYjY0ZGCBISirXPYq/ccGEBbCvAkR69QlvQI0FyE/atROSatgSbfgvINvpVKE0JoEJtPo4ao0DqTSAuICKmF4o4FPru8vjrOVSyXg1lnToLc1Y9UoAkEAQn66onuz2VieLZidF7vRkfMLLwzpHpTMvXxrdW/yoYKVuO9I5lFzT+jeI7+XGAgW/kkCQ9nnRx2nf3/S7Y7nXZZulL9Z5jXhdfavLIpOo7W0MOEAfQfQRMFBqZjigULfO8thikuwjUviclp+k+V1GdCWsXSJVN8NBKdRF4QboW/c2wqQwxPsYjcTXwnipYBX1LjMwgUpnO/cZ6ZRlKJEKdT0FQlJeJVuMiFAongqmIiisY2tQoLqcSoib1L29BLdqbzWG8ZAmHxzUv0gNzWkI5PoB0blXY6s/T7kth28SWY2HizmKwuX1vF4em12N1+36W069CenpauiqS+3Irm8rnlZSlhYIzQC8ADLFcAjIEV7gUAhlKsTAFWEKvCznldtVdu1RKHXBmwyqPrknF8nD6tOptrUkrAijOARQDqEsapj3g9AvhEXzHbsLfo0gyJKNy98CdoX4mVfxbXx1WanxaEjhOCaPxoEE1FIotKwunYSXclWW33Dg1c07ZbZOtdU4tLAW9/RWupLP4NYCAHFK3rCspxVNKe86aKKE+ThX/Xa/JRi7dcHuQ9VHfaJhbj9T+vAoaHyyxEy+8G9RqxOEasPygOXyhjANUGmQUHhOKngtTbZq8Okfwq3ZMm5+bhEBWCKmLDLnD0rELZzuD06silwqci1zoFwOkrVFRev/x4laon7SWu5PRoLgY3H5TV0lYHEOeEVAtCckZ1/ng9C4CoCsIFyPErIiBojHBMOYEMV5Be8ZO5HHUR0N1yKjtGp+CdqkMwDEBOMkpogsVxYpWSH1Ooxx18zGI1D8qsvbg3qgsGsuA2EJzPf4NTkeAo66pnl+SluX+L/ljSetym0FwAsQfhAwVUtaHDvUuqqK5BgE4JCMqlNwZCy4z068teXij2OY4poGOWxqV/H0DUHEO4gvcRJD0iOdSmvF6zetGn+UfGkNqY9yFIuSbToQFTo/d/B4lrt9wjDsqGf+5Pl/dkYjV/37MLFz861Pp6X2tb9E4rLiAtJdEkAIgNzhmxEJhWZCEioRPOIhzF2dzXsZf4+NwumOw9Ulsrt/X/5mrOs5t5v6m0ghBIO0C/BOS6tqrd5MAAhQLUuIFJWcrA5VZ9O9Tg9nu+4QuG25cFdWKoSo9fLsapepws9arkgyno3IidOJLqVbr9maBLcVnECh0qxdZI2zOlY7QcdpWN9zl+/lsopBcrGU2nnsDsAaAYuYsoeKCtoM4sGZAM5hTZs1OZrpzIetE6REQmCcTlbhqkngdkjIvdOKfezPdNc+uv07SyunGS+H630kk1zCeUXXQtyueeamd3Vy0Gt2moTFIc5WKUL9aeCTQJgXWmctc7FV0XxVY70rE5c8SvXJEngcm4bIkfVsQ+D8NkGcWiAWk7Wk+wUAOQKFX3fImYwQYBj2k9pd/7XnsP0Ijiq7k0ho95mzaYN3MQCZijTOH3fNq80E3EInLbdSzloLUKHUYFZElfsCkUBG2fk5caprdD8ZU7blz0oif9o5Lc1BR7vPIskFlQau97aXlf6rZXGsaxPFcZw1jC5Iuck0LfLA/EVBX/atsYzJ5L76CGs7kk33bskkKx7EauSxSiKIzo86FtGYRVHbrG6fh7E59XHFxSU5Ly+fPR9Ko7GrkMWrbnQk9RZCiFV/wcLku3OpasKa+0fBWUtV3TkWGRGwXvGJexKHZyciEQOnqFXnJBCWHpmVqSBgye51qV5032k/59uyl4VlzO5xIJRd2N/NJZJomjqGkfRdEkZQrj6EHyn9EgxGRYZrEHMZDIlajMWjVq5KarwEQmZkmlNWHwVEio6Mem5SnLSYQhoEwmLjkgQUX7nkR5W9JW48++yo7Svs7eeziV7MGNRk3ZEK9FozUpYXFhKRkR8NRkXFRs4eEZqbggMTtohyI8XMiK2TIzcvmS5I0zaaDx+60l1V2NrJ5hEMaRHO5bCaEUax7G0IIXR3CSNori6dSWvGoPGRivsxEFw+RGbyUEgLzJA2qrEEQTpZR32F5KZk5IIwyG5QpJjc/E45HRyKCoiYbt6IkqPeHft9W0k5aWkll01v7qi+WVB8NjJaaV6qNRWaFxUbDgqNjgsMT0wMEyv+4dkb58h2LEmVRj8oVa9Bu+7ELarprGRzqkupFNJZNo2jGMYyhnCaGEXw3jy5Ylib5HrUgi8ioqplq8qC43BVqwuC25vikItfhICWl2HJ71fRHBVfdUKp+R05+W2CtHQ9rxyKzs66CcxuWBg4WboorBSMy26tC+kcru9nOgw8252cmDvL0fLTMQmJYbjAnMCg+KCwmLla9q6JEb1IgQssnTbu3ZXVF+q/9bU30QSecWd2ywWCv2WuXCT73LVslGTZel73sSmk9rzoFeNbUY7JeyERVYai9ONVHsUxGqqQpnaeS0knOehHKzDKiUs4smHNZM4nElLS3dOK3FCf4SiLL9mqtLnRkMxSI0JrZPjyIDImhKI3VgyJFhQeBMVDIOBgyTEDy5Bx5jcSbbF+qFqQpzcxFad8HN6+9DoVOslssV6t95uF5v0lW29ZybxYD/pWeSlpNESlK60jyCUrlQJAKxh+UbGsVkL6BTqyYHdRPzUoYV2NS+WhDIbgUmBpVKTC7SogPsVTBRQVCDq/VOvlVb14NNvH1EuTokLExoiNCYYFz6MmQILqNIe0XvqMlVidualLLqutoqWssrC/k04kU2nMsn8WRPUdU2J4Sbv8SIzb/TkP5iehfOOQhe5uj+b9peoN94uWkBoLyH5cCEnJh2J35QUETRd4fKtqfsEExB84XF3UC3nCiKzCxk4Ei7R18WXGDL4sOih0sfeU9SSq4Fu7nlCUuV5CVl7VSknKWL0hfuyEnPScaiUXicZj0Y8pyWEh/J9qEqvamiJ5aT+LMtfkiO9s69ufMKFB0i5MGDbo0NmTZAEiAYFAwaWENKMFFNPLEuKTVXptH3eca8hwhbz2kFGuYQapSGv/zY783E+TTF1RGaKlVzrZ9X7qpFtkiVPibYiqJpmW0f/biqjfv5xa573JPIeUeSeYWesNNLChISYEjzSxgcYCCAIMECgRhDnJR2+xRSOxq8/6eQJUn/NeklKyV6klX1FPQaxf5JESZBtMnq3vXy2qSQ2Jb68b6aavRurSobPt0p/VOUacXiGIYxmcIsKWYoyiAdYZxBzDBXO5iqqkIYzlqT7vi3/ZdPe33rP8S9dvSJJNeL8tsfZ0LxaY1dLY+u8jZIJO9G9UdnK5WV0KpiFYxTFWUk5p2okrnTiJo+pnMKRxVmV0ELKec2MySkxO1GfPzj+al9E6XBdTfkkqe2CT12u0/uiNs5Xl2m4WTnFHUpqX5Su9I2pW151xHFkOYmxNKTUNQYzxbQgYeAAAAWAAqAACIE2BGCefXwTGNPEwZiGbXpaMqK4YG/YSNi+rIyDF1yL9Wnq3wO0LXcpPKZvjK61Nh27kym59tRJiaLyfDuuCixt86fU9KQNKn4ZGVXYNOgitkTvKzsS/v5bl3CxTctPA1G/R88E/dwvNqhSQiSjJCHCnQ1Igq2d6ObFYr3NbeERthlx33IpQy78C9TaSZSScmLA8kyL7hE41plVMTc7RNc1ZcZ9bdDW1zHm+5t+rCmEUiMdbdfUWiaWyNMYrtyaiNNjYsDeeudoosiMW8HZGH8TJhLUlNejt75zkbYj8eX6CpsjG9OOailI80tHVa7O7xbSxUGlQNB50UxeEd/UstflnWNlHi0vzDSdc2P2d1zSWviuttcNWeaiBm7ltdtHOrK1Q/NgTv6qE2YxEyHlR1KTdyh1KdJm4lWu7oJC1EBuI9khNcNLj0bk19ExZvx+IkBbIEO3MTVyW28ioCOCwDOCIJut88BnHLTuGscE3N5KoTKYdzEbmMZxexSTfwHoJfym5OsfkAvaP/+MUICllWABIAAAAGAA8AOP/1//8AKwArAAr/+gBCtelcV3oQ+IwQvAbnU4tYUYfQaArDM8BCahCHAWhSCYNQwB0HgLQpEwRhIKATCINCMZnIYJAmar2By4tyYmL3hMmJH29q3TIX/4j0v72U0L+tu5TRSux+Vch966yR77Cc5Fmm6xMOlyLsVbLPNbviKt30sQ/YplkJZDbRZK5pKZ/SyTvH2EQ1GT3J857qtNyccy92oZGLQUGLcpdnheCU/HIqHRyNggBEMQ0D0IRECYQD8OAgD4YGw9KiYtN0pqSrMSjXmMcxhiXfVIhoZYfYOYj1MdzeQ5WP/lNv+ySW1/N6/Yd95LIcYi6XtRmVZ/LzrRFOrn8OfqR3v6Z5bWZBT1i3kCGovLeRxdY0Mc31iiQRbIsEm8bLboFMQG0kfCArESQsZi1wJRAZCB+OEg3EAXqhMOSQbEIrXDYblwmOBYXkyYVLxsTrOiGvZ0yoqvyfX4EmrCxY/PYQWnM193WZfu3qbv5utZcR905hsaODV4icoNJU4t3vlRxbv5BkHegwss3GI8nuJ+YXcZXd2QyW7jiozRBd+hBZ0pjj/F2jmNKxYTsjQ+QylTYkpe3ODV6GJM5DgraBCliNwBsLDgYBazDkaNCkpMyI2CouvWzywFmp6LKFj3ElnUgjpsV9SWk9tBFaTP7SyjdrCSkzvKgwtrQzsalkJreInmxmzdcn5BkPwnoxPvZKaNec46yIjO9Gyxud9LTckA409tYV0TAJqXmJN1ZJQaeq4dzUOP6BJ0xYSO6GiYruXnsqbuAnHr0RDOEgZlqY/DZbYBisowLjfANTxAZiJLSjRKh/lyOkJaijM+zf/wexJDCY5WdLTUoxl045zi/N9HqOJQ9OZFE6DzJvUh54ZVxIqmkcPHNPYVlFF8c++RMoYmRdi/uBpKxFW92xbU7V2qEwkqURqTUVvYyK0KrFB1piXHOaBJSD2aF5YNsgZEtWUlpUUqyBkQ2APBNrlZ1OeqjgJp+EgWcwQiPhfAjG4KZ+oRhITmaKpBkL7VT0CmJb0nPYkvgvq1ebkCOjbDe7nNAJ5EKqaVGkSyE1OQ6Cpnzb4KFtl0FdkHUoOL/g52uGTK/eAcupk58vWJG4UIl2jWKrhjmAPBTYa6YGUjaxcU8QlIhFic6Zu+YehvkvyIsh71/LFels7/6IUdq6iHX9SiMnBxmk1eK/d33j2WngQPFz2CWrO7OUvJt4VbE+MLk/anfyf/D96vdXEjBXRAdd1N2m9VQTKhpy1xNZGwEGqQ5McbQghSE0RyOnbjueSYYAJKyEq+nwRswuaiC8+TBya1duXA2nYXpc5rqoaioz+rrpg8epCTu647kA/QlhlJBmfcJgLRxFsZuekoo+EiCSIjQuOdvSknORUJvCaTa5rYGsiIo0P5CloCwexQjzjZJillCYfZ2hpiOQdLIxmaDk41i+08hhYlvGE1E8818JjNiKlq688GQamvqF53KyIAlA2lx8G9VKDeqhZ0pZ+tL5wjutK2HTEvOAWM3Z4dBBQj04P759Cshi9i59W8nx9HxXPJNRL8wRorJlldcAwfRWBFbC8Z2gWBoz5TxqsH0PekGuCJKM/8+oWTktsbsNonfFt3fdrLDsvXQa8UQrqj7I36GSWtVDCjX1ppz6UQ9mwqBsMTVXbH9yNtN/xKC1vWZXVBUnkgSMmmeZG3b5UucSh3InirjHuFaSKEWfEv+DzrblbIQk+qd679jRpA+VCtNLaqvWKuObGY2IzUhdWCbKBvrxMN7z3KRPt1LxEXU3aEvxfn5HsvhVy74dd3N5JmB9SaUS3V9At1mv5ZoUIwSXjI2WItYP91C9tl9XkKj+KWPhG4066yGTSjRTfwoEtUts2rRsOaBXXfkbc7t+SpxmxAqPNtCk39JHWa+fEYfKwbQy01xTqWGPEypJO3NVsZqJ2K5mRwtrbUC4mvOlnbyXOZHwD9/1YxW9X22ydIjIGHE2hON3KDde/WdhLXhzMvOqc/TiEQQNIaSb7uoOVGZKMSqhXO73pn240bWGUIUouUpW2I2SQpir8l/xvKdi1aVK2dfiby6y8mkVSaZuXxMSNoT7DELdze5586H66+1684oo75IZtwnaUQTfIUWR5KHxgG2saBlPdC9MRDy6+JHDXq0JB36GyruBqfai5McmVtQEe23gEnKb7GIfq8VJC8F+s7XjS6P4SAKrlh+Gpm3qiRZub7M3cT5CPcqlb+FQSxqkpOqDXn0Z0k8Wpx3ECcRoukrWanMljznvBSOwW0+cP6TigwmIcevyRxVJVGaZLMQUylaN5KkfBD+JFsdZPckS8b2cjR54jHzLVETVUS6lQqKRkhXzCdOLnCk3yuUpdUL+eKlVZ0voytCrj2TRWNG8egx7pyzX542YhizgYAxErTsh6ZVjZlw/7C0UXlyHST6MUz095mtL1KrJ2XM0JSddxGI4sUuqcaRgtpw6brhf7sFAQhxqP8V7dbIguuYaDR4tnKYosCiLRCtT011rER5GQRzE0r/tD0mzlNZEy9kg8zrnc/m1SzRWXKFYpkU/wmeeiGemFWlhdldpVTgtWH6UsjhUCcd5gpJgIjkpk8zE+m/7EEzkwi5nJA997DSZEwmL/2UleoqgnxTRHNe6zj5ZTd+xVFCM76ZqDbMaJeCSj942H2EE159M9vDdNKyImJG8QxAWB7MiEv5s2sdLv7qNMg+8TcRS5ahzFSviL4V/BuELxidOu8C2CQCQf5qqtVE/U0JYyKImU8nEiS/nCiFYdGLWESJQKZw88OtDLypsTFttePPnuonvyEgfFb17zWWlvvs42CZ8civsunlrTYWK9/H6YBA0row0bZR7IkW8nqxhKN25HWD21y5rRU0PtSIsr69I7StLd6UaDb3Q6EEt8FWIKqkyKvSgXBh41yh4FjJ8sjn9KSvRT2yiN1c0Lx30KvZ+KJ/Q8rH6a0ayxdPvEJBMf8bXqqr4cPjy24qeVMsGbp3M2LVvsE2CGdS2okG7KJGbtyV9C1rwZyhWh12+T5frxsVM8rSDpUi0s5a0E6EndJWKwd/QnMHWORnsdszfXpyyBcRibQwEbxuzXF1oYMbCSOpRmNlHKi7827wpVqtVFEOX8LSzonGJf1CIQ3vmwSr3mSmvBXhD+Lta15zm/mste2VS4e3anzOLQjymV8S9sRH2EXUKtDlWh0tJfbiPVR7pn/iURpaoUYDRX6OCAUc04JDmKG9947+5tNToi7Gr7q9RtZtp8ioY1fVOuEoC0OKwSlHI5Gt4XSMbpNYqJehH3C/KJ8CZm1GVsNU3RWpR0NayTDtiIjtFexOLe12TXWhIbAoGV8IFFlzASCDRQuY+FaQoz9b6RIqwe072n7HCHlj2Tkit8To2k1hkHrEQ03yolQ+/fijM9jxZPnd/mK3HnOLhsGI2frNVcXlKJWQaPUnpn1y2Jy+PctTHlEXjMqHq5XZUejQXVr7/Ul7MW652NmeHvrtAiXSkbp2hMkUp33YTLvvOCSJTWp+phBd063RCY9zUoOX6/VpHVJO9MIY/6q/BR5UywFHYIVrvO9lWAWzTELh/JjQbIXEo/12rsrC9v6/zIRDtH8zlK4o814HYukylcj1qpPT3Ky0vqv358Tni8hG7gvKzHSOAbN6S5E9JZZOSY2IzIsVu2kJYZc/IQ5tcOqwRvMCEb+Nf51SJIWhYDn2dD2p6etayfySJ4Irf8RJhwICmPtdpWBaNgSQTkDRKjpoWvQIKKa0hU4INTOZ4QTwxs4rm/L5VjWskjk23mLrLGri507DIkTDoJ0uQ2mfAVhp/vl0vsZDzhTLcbaKYfWOeDcHrLNh4wqAZLgiq4+HaPXfDmV5yu2yS/IdIbwSzyEdJynALCSTUv1r+lk+lQLgI2RrLu58UJGYpl5GdTEV187qAtiYi1F/I9PjucwnBU3i7hd+D86L8Xo+TKi6j6RGXxVUDYqZ/91Fo4A0jHqXHk9QXlkLiCVQ0HqSThiRTu0CUcnfHTebalObldi0UwIIm/yMljPcVm99fk1YYgJGA2HAr2hSsZVmb34Lm0o5xYtC2J5JkU7xbIc9lqY0qPzWjUELI1Zl1cOEpth9yEf2n44bCul6EYQyKdUJYyK8VkDUKm6oh2F1Z1LWrKvzSULCYxiHoNSQ+lfHPckRfNbc4F7DlS+EK50oJikjkWQ4PKxmfqFwq/9Nz7fHEyMBOKhHKN80IRPO/2VGIsomGOfcKic/pa4hPs/tB8GBu/s7xOf/5CmPabBczO01CxcVJWS7SW1bFQRDYxSUXwtMl1NHHSqQGvbpXFQvjyebL4uFp6LHETU9iJT8XPT00LpTQ456MCFDU45JPpHL6SuL9lh04URcFJwQYFxXtzFxgUFQ490JwIQhRlgIOgYh2RmkE+CKJeJbjJ1EgSMBAlEo1uHT536znKy/yLiharUisIzOgkGGbNuSkMB0cFCTJUwJIkx8fDA4tXwMsPlEhSGIPzlOcwMjKUYjMtsIDwokSoLipYcHgkMnBUEhkg2eeflpS3hd5NtSFRWPz9iQDgJmSaD4qEBQ+MAQAyaRYExkkV6xrXuvq4XHCiHHXGpEUDoWNvLK87feIoeUsaatHr8QXtc1xITfFREwqi40s95TkJWtqcGhF9LKt1x1q2cMsvPI4F6FPmg8xSr64L/7bOpN9e6qqYVgxx3i6JDY2yXlpa5pWPCBBu1LyHuhU+WTqV+NTxhxuXi8hlLBUMCSxGXmKPIuETqRC7J08fjpJWRnYrPWfBQeOIWbNHCoJihhB7ungyWPHnXJO7bxyVR3odcabNEXVK9HP8QEhAii3Xqb5dKsMkrJtPadU0+YJDCkHVWbwnKmVXVZFhgSelWPFGkOWt4oaFhI8U9KE7MIciim2nZQ0WYkm2XJr7wkgkwly0rQnKlsSr/u5Y8s000gl7VIbridrUpG/2X29zndFFGVe3zWdU3zp0m7nu/tlzZsyZMlWUf5zXf/r76iin1Ei2XTRzn6qr66vXVXVUU22WVSJkuZKk13yL75V18mquz9Xa7rr5Ei+uruc5R30i6y62qqj1dVkm+uj/67LrrKKI5vXed7quqyRJkybbLLbbbK/1+strr5rGWa5/9NtNGMYqtkS7KqqbL77r5FttNVllsiqyquuym6j/Krb76qrLbqqqqa6qe7wlW993jeV4QnWuYxhCN/qsqo9qe/t/e2ta3+9K07pKzzWvW015O7aVkrSlLd2FtLe2OZyptZL2p3b9bTXlnizS1t1K/eWST87MWv13/rTq9X7Vta9ZJL07v38Svy1vSt6XvG0LUhKM79nGULY9zltWtakpW1rGKQlK2teQQ9rGMKLMLIMMOONNMOPEnHiRo4eJEFlnjBgsQceeIEDBoQFDhQgQeIPPOMPNEHnniThYoUKECBIg08QLCAkcPFmmkEAqFP/+MUIC15SAAgACQAKAAoADQAMAAsADAANAA21MAXXDThP8ZDB/2+sCzebCF0NaTIoRBQSIRTCThmzEzQSNGRGURKglokJkxHNihPTbaIxcSSGVGdk6JqJe1J23GKmcjKZNoNcZxJhOzEVuqKnrTBCsj7y7JDQj1IdldvPrJcrk15o1ab5DoxZVIdZC2q0fM4haE6K6a5LSiPvmvQnNxvDXRWQ64qyun8xyZsKbOiuqHx4y0pc//VkFqKle5/bEirl3/LRVZT+OXrF/OiLawf96t61FWcRKUYXJCU9iFr4ouFX/dbbUFql76NfalObuyHtGg/JkywRBVitOKYwe91jinKU6FLeKU7Fj9X9ZhV16xOqqao0dvoKEeZsRRAh5YVgTnNOJ1MUvl7yYRKn+Sg6C4YybJOMe2fLwjKM+UUSwq8TBNur9RkFzQjWr5UbycOPEtZyY4m58jY3keiEOM/kZ1ZlIJpiFsdV2lrlz1bJ3Jil3hLlJ7JiiphmZqBSszhWKlBTax6SHJP/yLWgxDydjqfCJ9f55Dxv5zEankudbDk+ivTccpfyyYp1zt8ukwSghkSQQ1ZfOshHIRwkT1f4Y2BofEEMVqQiBpgMN2I7gRl7Cj5Eih0H5cIuyFI2yOIUYNkLs/nlMOPDsYjUjDVCJjCMS271eYY1UqOJkbhlK9ZikE4pEzla4ZhiCES9uY9FWy3OC0liUsJz1Cogfm5ivZyFOiJWGyYxyPt1E2KdIwo4M3IAoaMrC4wiuiF7KpktTHcReWQYVdFIVZRq32V9mXdt0XuA2svNHCt1a0om4groXTImi6cYxU6kzy4FCUzKFmTJlFk6r1F7WpmuxMQzLSq9b8Pg8USBwfQEAaAQtvTmSQANABUA0MCwgEgMBI0AiGljCeKo3VmpZfmnVA5t9We96JlCSFvQww42tzLWL3+fEU4laUvh41ULESQvxDSS32xuSVkQrY2Eu4paHeTYs44EBLxSSLeiOeaUD7jBU0VQOmv5SG2OvwkQdepuce8mhPGmZfhO29pelSeoZbZfKKbKgBAADoBgrWLwucsMhZWD12643FwnqzLTKFZw5icWKcVootmXKc/hTLzMbxVRlmTFpuRp1/1M0xq2Ip0bV0R1ramVK1seV61wlCXmkN0lONuq1xmncpZ1esyXob8979vIR2zW1pUS9sj3HGa+UjBL7l70vhyd0JWXvy/M2q3y0EihE2YIvPvHHtih0eEQS2LWZpBjSEQ2/ZnqISUHaxT7IRkoL27EKM5oKFfHcwilEc/1HeyN3XINlCgo7pSQK6i0Yw+1iJQpE04tdrNLYQHclFG4FRlVimglXFKUyaUKLNsYpSHKU4q0Lviqyw0XCsqmOFO9ohZM2Yx+mYa96EKU1QQ67Hd6kEmMZKKQQYjDlxfGHHCKGUkm7pwd1VaDld7Cl6pUvhw6dpBCDrUZZRxgaa4MSAkh1uF6gIygZjjtnXdLCq2uWgZPlpVghEQozFMt80SleXw6CkrOMPWhz0t+MKO6UKFSYhND/6lvceeYYHVzlYTo5nWMDOioMY8/CDlFhPtPaY6puBhE9s2gr1d1tyWVoQ48jqJlqYTNwkvsRQtEILKOBBVExzf2CjOOGEILBIuzyXlB0YjRYTLQWBJRlDhEn+YVPqEEdGkOFO9ZQu6kWZLTJhhPIMbajSChfRZgUpeOqGiflDF78I9ZqlLt7Xlyb9ItQwRAhfhQtKMvnhWDxpVaLfCZlgKUWE4VwNHFUBK7g4EMWL8l+wcsRz26sgyxr0BUrOaJwjd7aLfPygUjG3o9ACO5qv6uOgndjSAQwLItrmOWfPtXhFnRiiBit88HglcAigWYV10ZQqw27IIzZMDXkVY50FnGEToT5qxqjAg8+jz0OP+/hB2hWjyxydCECTWawixwggplMYESeP0UEaKHDrEvsazwhqV5UuHkpJkKDn8zyhuiBhDzSDPWFQA3y6SXPFqi0Ns0S2vHHjBjNEh/BTOnQJGWP3MK4/2s7Lt9IHBBkiwWgEILF4lbVrgtl/ZxwoQSUpBSrGkoFHKDCEkjhUXJkklHY5wQtdttNjgRpbqOcVIob6uNYgJf9yQcQFSXJyW7aK2w53a0VpIE0onRImFErcUbggY0PKIFMWLA0FkbwDEbgDtFBgIaFr8meU0WUggQKK8jxvygYqekbvAkKDQFCxHGIfjhhtGKkYwirmLMVaWyMsHBjFxlrRw4KEJbiyCEgluTKW0H2h/FcPDdFZ4jjhVlhqQRjaIiApPsCIYHDjCMI88eSgxXvP9ko8eTwxKygwVKDJCz1IaCZCMpRg0tqbmkBxiaQkjRRgKGX4diSwQpJZ20NfI61xc2MYFkqIIZkoS+jKfRFdAlMMFFIM6zjBoL5CH/iBw0ltrU7jBVdixbK9fWno1O+uSU6fRwyqAcIIC2UeBZYytcNNWJa+EIFaBYatJQVcBAw00feGGMZuBRlFnlxH8UYQI42p4QIJSNH8wo7ZpiQWetsvD9iJuiUx1TnWVTRxhRCwe957QxF/G+1xHndDHWVKT1rm3JpN3ik/kljw0aypnxcZekv+nOJRBsMXcqKYsE8x53G81TNpTuWvWXJU9niDJTNz2EHDNto8LErRPdBa1kntxxFzW1vl4S1MqfqCswzi9aNP9BgpkHM9pZ735sdnfJZ9r02G0pRRG1gsnwklbWkcgxG9yc8s1/+9lHKYx30JNs8JpaJRd/8dLf95Px/d8zekzC0uP+S3v+WwTSuW6rSWmc9hC+WPNJ+Gn61ezWzl/EI+Bn0YyHJb7SD0YYRjBHFUZxKSVNEmVkKljlKJdVPLFJobij23gnGOVoFVHHIFi1IQjKIY3qn0LGR4ojuau6IVSExyqsYC8UjDedzDMiMohT0pIXm+1DwdXpllZmEBmJVPPUTQlhoPPsKljs+dEum2DCKJHIKW4BQwWM8Uj/CBWCJCMM288cjqLy6kowY1i4pP4xFEJpZervqb3A+FnkdhKMJpkP2EpslrUz6JBsZ4iXabRyyoJs1xq0yMxBjCETmKYy+BXnGz5xJWIzVFtjXt/yq6+1eIMyEPuomcy9jmp461TMipIuXbpKJDZ71TELXtVCMk6NTKjscyGaJbGRGpoyZv0htGK9S3BubILBYTgYaGNNMI4IDAIH32Ehjw0GS8gxQrTPcyolhRCYniiBaSkI2mMhiTJDJMkGx58UEYJxExDIbCMIRCSEXiIKJFluVwtp52lARETFMj0YQYhq3lLYaNoaa0mqrKsslK2YNjYGQHP4NBudJaNJSMhmjYBEuP/4xQgMS07/9v/3//f/9v/3//f/+P/5tBkNkqGPX/KhP/O4OAxxk3LBIxLwoepjaZ/eYXRBNEPooSKa4kUlYj1qUJOu4RJYEAeCLLRjto3ST9fW9VpGNo1thc0bJVVe/LH3iZD9rV50gdHBUQJrQ+t9R8UFzyMfT28ybuvKrrkYFiue5CYMfjGuac+hQ8cnkinyMJ5kwq3LIWRTxxpxLuLGFuQNMDgS44S7KtCjRllhC0iHsvrU8rbIJM+3bZBoj/K2Jc1lJK+FLMNEEu9jTItoUEmV9EGsUaZdquuuRASEWshBZ0zDvzphjWcmhQ8px51xKKSzFslbu0UuqbWCia2DjeLSm3imGGSShmbOeyxOlcR/zJN05Y72rmyckH9qROi7iUFr6duUJ7wgAlZkQP4mgNQG/gPgiqZgjtN8Qm97MlY18iYU6ZIV6dbp71kpP9v3+rG4e4mKXTi/EehktyaE63B0bZGDDIlRp6VOCaSXYUQIpcIkk5odhaVbeuh15tLTLVe+svymdfaiqYRQdGG1Rw3jkUVECchRGxMGuhMIOBc1yKahQImmE3wgvnikj4a+6an+zhdbF4yLC7hBvpjgqIUVwleal7oRnSxpMNM3zF4YJHJeMfqigaBBMSiFiGoiNR1pO8kUWIDRhgJFWQPCqT4QTog9SNlPV+x+HTBeZwjieJTglWuq2RgsjPyKjZB0svkIC+EoNvSVwiwjv2OwpfyvKpdSFVutjjah04kMhARFBEo642ky4oEwUHTjZDHyBc9+eIpKpY31AkX4tn9zmzISdQh0svNPWrjrxUkq4gIjV+zLSFRbc43yJGYEpx+kJC/mEGZEoJwaxIuEH6Y+GgIljF3bA8BPwssSWMoe1UdbpzhXFlhrQm/wg0WrLY6pZlZIRuFeF36TeaCBGy3yKRJqYkmEArD5eluyZAjDhX6ulZMFIyvZ4QrCllPwUmGM8mFcqKnt1/fppSSijtWs0xVnyO9FlyreK4bUmKN0v0zaexJplvS1fqFpM5u6X1SXN2Cp7B9KpuwmestabakBGaFpMUvELpnIQLY/TwS4LM9e1COnHqL37mqLGVYNN1QjMI26i9kJxFfrdFheWQjUChvdeZJAhFi414Rc0TVNTRHxHl4IRN/PUQNbElF9ooU9xETVOr62khGBX7xD25HgI0iNAJUnhTlhK7VEcWqZ2amiUVnhWTA3DQ7c2c7+qH8aK4Zg4CsKD1YiLzAjNhGNH7OCq7NLYjZy5PTIDFezMVBY7XmzuRuFklVqH7dkoJzIvmLd9UNENBfNduJoKKoh7cBV3Cv8PZfiHeuhjjGC263ZpO64TO8FD/ijSpKnXQDjgXSEdMhiUhgBVfwWyeCuZ3stMv/rkfwJOSoobEx5jmaioTmR3UVJGXsNdytjn5trCwcipFcvGrOl8SrqB/csJ1jKaa4jt9foIgTpQtUTpqWEypaklCBydFZWoilWcGQjfkLR02NsiaoosX+ezjUH9vEH+EcXXGEp37499FVFRUl97MP+TosSnJsf464plPFeZalDyWQWavFmuUR4yMobaVTgV/0VtwmUj+KuiqaxiLZnKHNJzc6PIb/HpFiZFZ/JgWQyDooppGMStwh04j6KjidTl5tDw6lx2JLVwraoUlKsForJ9fRZGICAI7NZX7YPRMoSKSU5TNtSaLt1pK4Ge7+NYilvTDwA6ZgOV9V5vJeHVfX7oUPle/OVCcXe+zg+IY8lhoPlS+LQs0LCESv4sVVdmjUYE901DJf4spEEfyfJcpEnGgdEnOS9dzhct06zFP+WplnZ3nCPEe5TSKl+PkvtgkIXtPQFkUGKbpXp9yqgehLERA6d3t2swdAzEkiXz8OWrIK8D2IFdFX3I9iNhIAlCtEhdzoR5qT9TB84jeUxZuAJUchblbv1GTXuxbLcH0viuNab6Kf5fH8JIftA2xAi8pAQOHLRaYVRDHCBZrhxv1W+GcdqDL/ZlET6iff+rKJjY7mLleEhJhO7YzJ9NMd3wWfx3emgFMK2XOR3ixPivEg7+IMZKj+yZVU6dulpYL8s+x1elISupfNWlXZONAceWNBkAbRAHMsVJ//psvANluI7LbdQXU2iMcsoFYvDA2cTXufFc9DWrqEPMhYbagJFW4N3apc/mvQiQ79RSpcs07/LxwIQe/8ugALMEMag7V5jMq4DDHis2syb/DH54mObJYXNHOXCbPqY6vudJ8FfPwrpu9XeQi9MJi8nbQ6CU65zybO5UWxRc1iXNKldQ1KFVDJTpZC/I1Ejfp/yVs5M+SjXK1MI4k7WHsylS8HqfehapjYqk3MrNM+Xa4yoIZPmkWPboTifi3cMWMjNKaY6MTruJkGP5qVhm1IkRyh0zEn0rE7scefiZIDeAxhLRepmU0jHuw0EuhRrpu3Lvd+bLly4INXN+issP/+/3lESRUlqFLO6K/XUvnrqfoEVhTm6xtK+Lxsnqlqq5apr3RRHmGSVAqTaXbaHx+jkodt3/XLtuddFJI4lJDGuRpbKRwWRvvMQHXfOlJKUzTKzmlgZpNed+9Gn6vpoO3M8jLFF69FePUlR4K+g2+1BXxgwBfRxQDygnskwAWwHueAK9BjghcCNhGo0xQDlxJixxG5SKi6EpngCJGkU9rOXpzdM7BjlWS+QdJia2OoR0XlrUsCzpZpzIahllIUbQHTiGMTnWR6ZilKXmIIk/uZ1lSS5xeDoq5qvPZvuYrUt1JSdpT2StZk1aHessFhm+zZH/NQljfzQz+SYbOU35CQbrpxAeJq5lHx8hdjKmC4y295Ji7ywYaJ1JBJCBHwyKbRNJ5igBSBlIT9GcK5VjwAzIdFQeUjdg6AwCV40nsYUImxmKIwgmhvGlO3AHbSmftpu7rcKk3PfeT25l/BhoHOIowKwokKBLlpTZNsUkqQIGxyCOpaclj9Hbp/SeZ666qqjnqRJ/jO+ETXVFSCI0gSWU2Jb5RB8/JvhK5Uyprr+QfVSk1FyeC++s9iLzxo514bf14SkDnLr/3vwUcwMRsh0NCFwhlW6LDe+oXhik0QLFfxCHkB39OJu5D6NY6YLoEc1u8QedCRpt6OU0Omt0HaeiSgosnLUQZHegQOToCdxXt3D3i7SR+n+KbuE2zkK9a2TlOpErklwXgyl0TOh4bRRjdFQ/B80eXSE6uJ8K/zvNsSr5m5lcSck1SV/xORaxFR6QNOVJCgCFA6/AwZ2CGnaIIqjMgiQoxfx/m3Bcgn5wO7YoNDXbIe7OTxDok/Yl7l7gHcf+EieII7QoHcBCK1ceQaT1hzScCW1tBUCtg5cgY19lUlavN6zSRrk7pHnXxKQnVAJCffB0dqQKjCOojCIrVkdSzICey48t9gS8RxLcKj6UoO5bYkREvPWPSI6k7AOyp6tvTtde+FaWM8E0PsrYW77fN5PMWSSLM0SD+cjGEy9/nsAfNBJhPWBy9cxMc7jEc3sNkp2Qvm2zzuMdRiYUovLLvgGtQrelbBd4s8rT7QMhLoVmQuntdltCtRSNSYVzE8KB9Mi4NKJLC37GH5INYoMRY6T7AkQ5wCvCLCPfTFAgeMS7gg+hNEXRrA1hNUoBKBGfY0C0DiShCAqnrkhLFUZ6nq9gFWKjhpgWLaKXzY5NU2/eLA3py7IBsI96BeXe42kA00CZF0o6Kw0b9Q7hMwmMBmFLg+2izRphRL7tPdLqI0llqUM1WKkS4ZeuRGd2ik1H5/VFSbmfEvF/JPn0iL3hS1pWpcNxv6KOVa2l6nxdDBL62xClU1ioMl6/86aZ3eW6iUMBhnMmy/8WcS9UsjQJf2Jbu6VYaUJAi8yjcnSgVtInWtX/PjwetXfeJ0xNTX8x1Mu3JSDYJYd0blEhSX7Ay0pEMqGcSK5zeB7NF/no07EJIaJSNeseVIoUn4szSVpuMxU4SMSicIIqSRDmG7Jo9FbQxQnYU+lkai0kYn7SPNflWr7I9vEq5r0mRZZ1WpzpRCG21khgdEYz6JP8tFFunbYfSbPzv2hGTuit7eUIWtHenD/kC++ejaA/jNtRS4/cu+8S7s1Zo028mQ4vLcnnnQRcHHCGhE1hfYCgA/qtZ+AYzormGIK6Ps0ANQ5Zsi3vkyJOVe9oxZYlW17vouzzo5IZi25afDWJr6vHnj2r8shUCuxzwV9LUe6j5LOeLMDhHjt56TTLizdQRRA2nqWwR/zzkmvZFY249YuH3EaxJSWaahGK4Ku3eSowx61edqWWu35NzuVqPJ7yl2Yt8KXnwLIBfR+D2beFrGJNfPzplqj7tfaATHTef4YgZdG11Q1D5v2ces+ouljd2oUhFTrv0KcVOFT2744EaMMQNIWqVla6EpZByKK5rJ3XjGBHWlKZwjf9cCPQUr5fCDfwifAHGenHLNQxcY9jY7m0sUJYyNRfDrpCOTQTUHzn69pRCUWwnLzlQTKE3ppP0A/QMKMRswN0Bng2EEayMwib5GXk3N3qOm1IR40Rd0hXpqhmxyYtWYErFhqvFPI0QLeS3oCouSudTaqw4R4qq15c8YO5cmqrrZ4x+U8xO9ewZh6jUuzMuagf/ccmD4v9/x8DBcwY5t9Mu/q3YEkw/tXAQTRXwSLZPe4Fl966eTT66QSeTHVKilwOdWyFWABvXRCAzMgakccG6h+ezRrTmQo2/xj85s9DAPyhOZ4NOQwIqcUre3tHH0mISI6IDVMUNCMs+aoFpbgkkEN4+c5sJQKjn7XCnV3z5KAl6XUlpn/uPYYtReCtXBGgUbuuRWtdcH1ngTXZzhO0d2mUMh/bNuYidSPgI9ntEfZyD5J/7wU4v/H5g8vtQigAYcIUHApgAKMN2ALfHgiSH4sJ4gjKI2ym/JYthv3zk0m4HCHlvhk28jW8hZI9bKpJRkuR9CUxuMzXhU6+ZxZP232tXkAXZWljbQQ5Gup21FrS1b21rCUdYKSq6blISbtsv5t/Nlxhz+IVlVtkKa42MGASEnmrbybaweeKWFAr3pVgYpkJhCN+nAp4AwiIjSwjABIDFZA513q/GR0f+o8BeqxzgErOESGkNOBRktlI3PnK9Zbne8HuZNQ3qFEJgEPpFlfVEi+PJS1suVLC6Npg2HuDxvD6f7suQCQrMGIW7OKxHNRmjLeInxGi54GEo+R/CG2JDr/9PqwWSk5cH5NoK9a3oM6rbaD3r5x272xtIuUcEAOoOYD5RggBsmOgeyILd9nP782cpm335U2Iyr4031WZExo9VrOQ9Y59vqsDqqYzNlBwksuJXJFybfFxq9SMhyRUQ3A7hDOJ90Ulceh3cm7P2y4H9XT5uRURJLVGOkq3yY6ja2c1wvHsK+/9yIt4fDQj0PDnmeyHf339tLxcLcCNfLXNlDgfFAfZIBkwmcysA5QPuCoQJFxrANjIR94Vdf6p23H5YgS/L/COo4Va5qtmIgd6xEZQaMQfqguJZX2rt3OxL1UPvss5wpxUdDqeQtDFAsuIe+tPv/cYcn9qTpOkVzWYShTgLDgZWW7uPsThEl5D3ko+7zX9VnxPfNKW6qm6YuJjJboM48Z+JbPbCV8bAT0A3Z0pLoBhgOYDzwXnLqdP5It8why0aj14tx01DiRWJDwk+i1yn2jXiIxy0Ielay5UGDvEfFBpt4xd9doswNcujeRIfg2y2yCuPYIYlkufybikAkh3H0X4Q/ITEFebulEzKLxPMekkduvexP0sWzVqVYlXnuo5vKZHKXbD7JCpiY4UI7kbiT+SQANOH+DSyPAA4bJANJFOisNPY+9s5BrR8KyRwQhame1jU0RmhCJ1bS7+W6LPIGHOUW7EWkXtwKL81Yzny8l+/urqHd9rCvqHfBMMAGmfk8elLi5/X+3meqlXIuXDtqCHbF6aiIDc/E2mIQI8wf3ZKKjmg8abkwLcGW1NNy+rh7Ulx30fhX6SPLRdERNQLsJXpXjiAjkf7c1iBk6ZKG933TJ+k+Z5CVFucZ/E31wCVig7d/VK0yCJ4wB0EhOheEdBCdJMXtfxJDaelhHBEatUycIvVGD1Lr7Z8zZ7xTwk0r/9EOIz4q9KW0yvkVoYIeJRIHEHTgen63pMj3jnkN/Arx26IVNeiVrdebiA2LzloJZDBUD8AO2AWJBKowgQHoAi1cuWwNZOKV7sEMmzqlC5iIiG0SCWN4Zv87XcJY2RmiQUVkis1JOmkxU8t6RIEiTZdHALfXjkmaIL1x9Svooke1IK0VNqDJwGGK1SxIE5SOrzdtdstZWkEXyqiKKyC/+aVwcd8BSNJxKo395iEjjQ7bIDBt4evnQbwAr5ahgbsAMkUuM93URwvnUM2hmUhcLGSvBOEkXspjSoqUKfnvN9DX9//jFCA1MUuYR6Dr5fQypFcYT7w3bCF4CpfqStTEF1QzIWPhwNYbPGpC/UI1DbpX+WqvxhoQYdS4ibDIhwIQYS8euMpODU6wq0yeFOc8zWKIGKYJvPRP0Qd0bGq63p3J2Q8rzTjPS5JxnByR0hLi4JMEx6T3LzngSyLTbX5Au2FLJHCUr+AnGA4iLDiWss7Tpl1IMEQTiplxMsOWCt5vo1+l/drs657EYE0mM83Xp0J7V8i9+pyWd9FGTuTPyrvy1HL+vrLDdhVqhysh0lEUNs87t9wk9CRzpThClClPon6HNGDeIqZa6Aq2KOJdJKsovVttpC7l92+1eu8B4S8/PHPssEonJ1bC8bfN/G9t0BK4ly6Qwkw79eO4fqANggMrFiRy2XWuURHSCkEcx2xDWITMPDkMlmDBN2jc6sMahVxYuwbwrfLuP1T8VSawjyoIwNBEJxhdt2c8SutG0DkiFHE/yqxk+S7/TSYg1wZaTomZSf4P8cHNfcYWbdFx/SfyMq0YjUhbJwzzET3ozY7k8zM/Vcj1FDV2OpG6txzjX0LpYkuFVwmaHVwzz6sH8AAPUWBesS1ElJEzxGqNHCout2PKuiqDQS/WdXlPNXVApqNbtalqrJ2ne+1XP+DhkvYf3I2IfUxKrf4WFTnBHAic2ck107sPoho9oDgezC5IrwpPufgrp85gVVerR0bR8n5z1w3f1R3YWqaREX2Rw0p0ayQxkWDSQW354520mxqSCQZwAQu3Vp23MJCS/7MoyPmrALWAP4g/utVErLSeGNfuIOyG1FYTNa2dL7N8PqVer15Qu+M7MQyDHzvQK7yxGuOo5Cl19Ad1OxvXy2m+DUfgJMUERd/7V7SmMK3Rto0vcmhPNUVGnCxnQ0xdBj/9NI4QV7hNkLp0HcPJoeEj/UOKMkZPxQtFJXwKl8+EPqwlvS4afbb56MU9ETwtyFZaFANPAAYGAI2LNgSJYVJ5XdBnWgRD1YFSiXzlJIdQlolnMlcC8gYke/DI5b1uYwQzQogQsdcucyaQtKRkD976WekVCnK1z6FLISGP1ec6bS+y1BKUxY6l8pXjiVOFvzEpA3mhYor0oVUir9S6tXsraqSjXZ+7CKQJc8QZ+6kq0Kr0UaSlA+jRX9uITB0qX6fMRAcXApAvuNm076bziBvOQvwEs8OVOH8c6/fF9ufuCATrhfqTD9F40fFKWmLCFydiOCDmm/LuPOiilyo20vHXmdBXLSicStSOWM1SD0WusiNWEmEcJ0xJlGgv/3TjIWcIOavuvGqwWAuATgzTaWWva+u1a5BWtI3odm1WTh5ndUEtSGQwTnM2nvADOQBQpOYEPT87gQ+dSQ3rQ8fiLbEQzkfRVzW+U5B6wisOC0BeETfMIHdvyYKKMFHkgo6bExxs5C5p6pzsZP1GWDEuK5U2jInu4P3vwTeTxSDXds1cSmdTzWikXsoK7vyfP/wez8hLcass7q/FcN5FQptznXWs3at3xQPWBZ3dzogCXtFlQwWTtD+gAfKCywM/gOcygBEI2gj+x+U+NzXQ9r0zs72amoqMd2ZXBysbj1ka2TgtDy/reQdSF4COyXSEhMb71p1K6T/kbWkFlvtuZ881gttB6VWYqAQFzhYryyjmTK8Dp2qGkruXikxbyk2W8SyPRbRxwl/ZH8k+u/A2pGdVSfM+9W7MKnDyhpccXnaJA1wAYqmmAKIjQo1gCkiJ048PE6PDbC0AnVt3IrthOaRIqWb5n+RaUIlh+VPNkWrNnEVq8RbK/2cMTRShVi5ppXjFnG5i3OSC35BjQcEdBZGjlNSd00ruRQprqWOWGkSLjQgrrnfqc3bsRDohOyT6+qwu14x7RS9XvaxeVISm7xa8c7w6AgEBsh80AjG5uL/FSpkDyCiCqlzD6A0Zz3My+CsAvhp4G9hUq4gW025eJlv1qP9/lvyb+bDHPMSA4+dy9ioqLnwno9RJRNgkRmGg/fNkRQmhg+4mS8vvh7pbNkq9tvnZM0jN3SLbVRe2CqrVWoUbfL0bzjydLXx6A/4V73zyE635T0nSucFCtNBc08STOEMI7VzeqYqrzzQtcjV9+hB/4rRwN6nAKfiDFwJDp6pZyOhdfvyec6ax1w7ReVuCZ45UztPHEsuaExEkRjRrDhBSet4RURkphTTlM2VHarPjErwUe1O3k8bBwqc/rnyZImRqtUh2fcwtxfO/2TrbIWMkQlrtlIJPdDJwgdAJtFwHHk+7wvakJTti6ZwXQR9CPKWTwCbAoA5G0W5Ij4CJIptXL+JLIz6kRKXe5FazGvPlLD5YIhyk63lDWPYaxqBABLhAmCHeOc5FQfJEHSO4nn2lCH2qG+tJWna9h+arN7nsQOYfFgdW8NJQem6P5ktwNZledYF+XtdsGpDds+pTcgtoU/avSGLTUFCJ+GHPEK91I75jPEkx1SBGnMtknHCVDpsqxyUoFw1QSbVPvZ+QWPQxWEhu0ONwT7HlATYK1nH0/EQPQWI1BRramSsImQhG1W04mC9RtH4+R19lOFbCEDS0pM7IXmH2ztrEUFEl3QglZg0QWIeFxQ0AOGWHnEDbngivxu1QHz10QBsT6hXAnLq77flpRBGSKFTxVMQTx9RZw7Qpt4DuapX2iRrXJuUpap1DBVFwCgiAJz9TLMQSbrbPHED8DKCjnwRUUpR9OKNkTgj7FxP1v2UlLspMQJp0ppkzuGPzRsZwWOR2DVC91mzKOgC3ZtT81/NxUgTb2wXwGpvPFrdGOL3wJsDFVqZVHT7fawWtbO3O22VMV5NyxuJeBTMoW7fBc+eVDLsSOcFTv4+CTxySKbcyQdDDg02FkOtUoky+em2+wFtOjxLuls4AgzNbQTwr+AUZWUu1IjzDKUkbuQAcKWZtdGY9KHcUtZn95ZBVt1p/ZLnI8SnsdMVm811RMg3nRzgJdMBRY/hgw+MmRkLwoYWW0yPiAxDgp9XmuL577Vke3w004wiHOUOJzKGJTj8SkD53dC7geeOygy/aZz5HwictBDQYWFQLJLzOOMVjLeppbKc1jhePOE3FJo9c58M033qUquZiiiSMsd6oj3aOXJQZPYkBVKY03fWghravLCRTTLaCCy1jO0+QNccPRn94gIIpGmItmy08JJmcHHVYGMBDZQWdK3qmcyvCJcoMSNthMn5Zbwwg6Tt0OehQE8y3/AkEegVzlS2nVlAM1sES0FH/s3o4UvhfM0k+JtYyF2D/YjJkTbcKS3xZKWOSg+wxVloZcMVMkEvjzjtagrJJWazvJeDfqUI1F5IKUBi5jjxRMxtdUYiImM7/3LACGtwoGzDxRbeJt+pu0pmDIn+j06Z1A7P6dIQMP0G11B1k8nokLxFrBztrBalF6sirP3oxLqiCAr6nMZKDfIUgJc2m4N2+MZLIURKWQpS9UW1vQiravlEh32NF55z1UWMFEqIyWjvtDafGM2pwGcxIB5dHMVCJz+bEIiitLP2MDm3Bf0pJEWLHzUhMcPUvIfvitOqFXo/NRTkQru9c4igR2XSFRbpdlg9uSAJVs/0r7PT5rW0ke5V/fDQx68R55qu6Yr2Ykw+0lI2cobo5Bp8iq4xVowZW97Esk7QUgHro9YYZj+G+fHZm90Ujxc9YJ4ToMvqgbccazcmLfkaljlTHMBIZKIBSQLd+iSkFSHXM64mshE0p4zOh9N+a/DUVpewC7a+o1T0hDtaz1MKroq+Jk5Sw/m7pxTVyi3BINCjGS2pRIaNCfxg3B69kOGfUOKo8IIKmAGVanlBBS0rNUXmtorum6gz2eq6wIBkjrK1YdBx4MwkQFbSNFniCGdqO7PLn5jgaVyijH9N0jsL2K2//Cpz17akc7sxh3Zb2RlEYpM+Heyu1I8CrdieRgeMmBs+Kp60tJwdQZbuKhrAUl+hkaVTn7jli/Xs0ERV/Kpo3W5Z9fj299duzI5wn1CtMjDbNYShaZqXHif7ahj5R2PUjrC3swWhd72LqBGrYRw1peoJ/VBESaGbyJHWaWoXIY9AiTtF3QmLLI0QIyqSY42rjZFVhrX6RJPxmOllmlU1rcN/vRIi2ijveu72MeybB0q81j9wN4Kw8oHK38IPpCyemYpwXpf40TlWRKzSwsTuFdEOdmVqs4RVHJ/ZbUT4dL7qR7MRIz2wKuxLGNsfY59URbohaanymteUnNeW2enqSUZbtEeEOyNLVSBTKqBpn5AOkeKcVK2FTaqMGWhfnJrZxn7Sy8KXXjZodpIKJRtrimTofSUdqUJx3kk5P+bKfS9vLpb0k1Lw7WOkL95Ha4bX8sgO8hT97GyAsCU2E0avcOK8npkHXWSfHS8iL8omNYCp5UhOllxwvXGELD0Q8OyE6Ka+PP6qauet05KqnCZrY2F9w9kk9WFOUtogSteyxCLVs2pDoJeFlho1EqwBNVpDDC2dX2oVZa96pZjSxZC3UjwhE2fvVMyJiyW/giraqBelkm6RUc7skmxSeu++42yhgxFWcmMMd5YQrJPHCzVz+qC15cU+UVR8p2BJem5bo+G/Bv+yeRKP2pacOKm/HG6dV7pdsjE6OgBov1Xx83dHfgE7xjB3Ot1AYYJyNY2tPiGfaeUdL4C6ZESEcG/Z9ghtSfTakGeZv4XcwalrpM1S50VErghBkgk0CuJPsuKNwOr+PV0476xwdHZP4kOy0ijLOt1g2nKRlexIPVIVjtDXlJsnOwjU38dIL547vpFG+g8I/1V6vj6hfcgd0hhXN9myCwVxQO7oW+WFJKRBYYrh27HOlVWrKtEozGTsI7HwArMCshqOdv4Vv1ZCVL/kWE2cS+AwncyT/13wDp4usNEkdoA73oBEqwJLwuP4MXuKk/XUEI5CwsJxLpZ0kOXMy/XbpMsOJc3jvwT6tbpJYygcxayZm2cEIuY9ghnORQ9ZaXzuJLD49J7oXgpAtEh/EXEOnsPNOqrN2BR9zBnyh5JFpLR3b1A3OrW0bhvBTvXv566wiZCj28d3nPiozvlEL1coSIYslE7xPAQlws6wtfRpA9EanWteZObl0id6537cDKqHz2BkAFt4dVyCueEV6OnoXvDeF+r6hXwl7GJ2RdeP6/jV6hyDqOH3d/df6tj2tla4LNmCYp0p0tc4nKuol13EnWP3FqaC8gg3wg1CZ6tDxXGSKKRmV0qGY/xS++zfCc1yYEZnKCU9ygMvybqEcUJGHFGb1w201ohaVnJtFjz2tOIKRQZVJOdrk/rE2IbVR8VZEThPdTi9icKZU/14Sfij8AexkoPdq4lUM9uuuoQI97PRJorm2ZSBK3jl/chV7xpxGHnvpd2WePmmPCx14Z48QCCy0EnXcen9mYYRggdWHLXTLw+EPo+UQyFRGDxSnJ4PsjbBqfUKW7Q3c8gjf3ufYAVHw3sLpJCERiIp7VnKIxQbDKJczc81uzzv7pT3GOyyIi0xhvsk6CLYCnUfDUhu/ghOTbRMZSz1hs7GjgBEMjt2qAZCIQiTbXujUEJmLmQeobnTZ6Raazp3kvWspr5T54BvMcIXFHFt3nAI1Ir8n88KltrgHI3MnpaPL2VDIe4ldpwz1Yi1DT6d/pEAqNRyhOFeP9yMElrgevPBpTByHxIUHCQSBOK9m7WrHRkfMsN34ERpFI5UoiGvkL3OcWzJEFocW3MnPTuldHDVBBJLEV7DGcEYYlVIqXuUDifEZUGgH5biliGAjZuNdA77hHCFrX77tYuvsfcTSriB9qNUFJ+3LTvCto8jsutCAuDmYnBMkCav54BF5dhjc0RE2NUQ3Kn91pIM7j9DHsaizAYxpCAfZChXPtDCsFif4thMukihXrIUrbS1RrkqUsUDKS9lEugGRa4jc8dqXru22EdnzslxSO3mCbchJnzZ6sn4vJjzdjNiGyTOXibibaKrPjDWR28ohkAL6ZUaert8nyMZYawwfYNGEgBLQtLTDDUj2A+j5E+f7nM+xoRGsFld6+rN3xJciWdf2VIZkS8XQxJFmzLqVtim/WVhiVkeV1GdG1AOW1uJyY/zzF2FcM6MTkixRmgclZOpKpB+/m/We9/kVx2n0NfSubmEX70i2kTmokTAAdSBYIk842ZlzMwtopQm9xtQJuHuiZWTpqM1ulp+q1PQfUU1Sd2rR9hsrKSblOvDFaGaFOSsYKObLnlI14T4XEdoMiGVOsvdrb8ZEKgFxEuIG6+aMfWmSTpN1MmYluFxbKmO/4wyz7t4kjdWnub+mN4ypv34agJpovkWyYGd2PxGjjSw3kCh6N1zYH9gZKJsMDnzZyKBQrK7/TONA/YCpgi95pLKz5SEdZWhZWL4XA+DkubEWXwz6JwlWeNKHSzC7U0VXVQ9h1E6MjA5w7kxd3rel+LarOqc0Yb4dUSqgrqHJtMZWUCjvUmaDzg6RmCG+lb8wG3B5xICnWU0i9NyuqJQnl+25XyFuykasuwuwO56VTPAiV4pi7m54FMAtJ9z/7g8GoT6LUlrYe6DlgWgEpiJyAHnRJMQLXPxd+xMTjl/MRpXvckXZBS4V6R7+Q3wcQ+rwSCXE676aqCyhqApgWUcYShh1KXuhfw+iMWNO4zA+vr+PIBrvrdB5JoSFpcj1NaAc5pThO82yzvRX6s/uVQvj/2Y5z11JpZ4pMfSFL0bDOIvM0WK2CZT92Us65ZtDkVDv+timmjaApEIpFZEjo+4tQbVLaD6nSZCROZOLjF3oi+zXbaxXB5zdWTsyMJc02NoSG+W+/9FxzSuPmlvLJgIidgtVA+iOA6t1biFeJtjZGsMA/ynWFdykv/7YIxnYVCde67UDy81R7orjcYa5p6nOBh+H5KvpagfHY80IkI8IvZP0JSFiSWkTWNM3hJS/r9qjmu0iywLB4FGctJpw7sgewNYE0D+BnApg2gdwcAyCyPp/G4ThmFMiq7ewCWkPturNlok1TZF+m9eKyqzVjYGqRygTlZ86dGQhgMogiOeRmYmGR7zT8WW7wHG3fby2uxLBqW3K2rCi6truh/Brf1VFh2Tdl2W7VVM+2oKfs+uqS9HU0PTME5TmKJ7NZdMhiEUYIjhXCfEuIA4ipIh+uxWpFGZW+8kPxHSlZIWlBFVfHS1WFvSU5FezSMp5Kienq6Dt7unysh2dUB1buT+o2pSqHx7u450W30Li57Hb4qS/HiO0KEIMfYvRHue57vklzRLE6z3Jd9sVC0cOvj0H8FQEsI4VjcTWAhPgriIGEEIFEPgbR4ER5aEDERdPX2zYOo3i6MZjIThXLXRe/fwnUmGx3Z0BotVQ2fesrqvZ8I1jNV1ROLSSyyjvu/uw/d8C+RyueSySy+PIcR5F00u4jieM4TQ9hnCSNp7OJfY88VHd1fDm8IyMRjwwpHQvemYzEgpEojHY0C4KA5AiDMMj8sdO1OZYXjQfj0aiRoi7Mil0ozkIgPBKVmxmXlRYtae6LukfrmKvL+rZNT2IKOpsZFuz5USAr73NvJLGv540/H5QV0jmsjksnt5rKJ7NZhJppLYimc5kF/czWssd9Tr559KVCYF58eGRwKRiZmUCMchsGoTD0WiYxOTsVDgcDAKBCYIM/TNmLyg6I3KNVxzUv39sSvXRQZPEyRpl5asHBUVGBU2TJNfnEo2vS09dOlWT0n7g5GYWi8/xUkKVOJRuHIpHojJ1OkGPJmQr8bLOqdUf7NuQo1flls8u+60l53iR7wYAiXv/4xQgORVb/8wAZAA3/8f/p/+f/4v/X/9///gAmADi0rnRqn5DkV0mkAk7kkjdThS/cipevRwnaxnw0mSeHbeXEChxFAoLsMJ+CQoMhYunJIga95tLdeYogatfsc+S2IF0dKBdo4H5BYC7hwbyLJ/1ArLrFIBIViUD81L2Fto2uG1KG3scKDfhFdk0JjDsEWKlhsySCooLPpQERUQMsBIr3yLzY0ibCVZvFm+HtQNPsrbHFOOF3f+8mJMGTzQ/aSujUXJLH/bT8sqSX5CuZqowKaMRItooJTIWOpMEYIFSJZYmSidPkqo0SVyY7tYz8WV0JIImlVOZ/e5K5y9clVTkZTPCcBYiq5t/ynLlNkZVri3GUK9cdjJuByyUbG1kUELYeXnVAu4WFTRgFUFjLWr8OiFBEQuR0h5lrRfiAmW7lqV8oEYpdcQZrGcacSKkJL7QxTLHhVSUpPT3dY2tuqLyKhQVi4O8IJ8W5X+6p/EFlTFArEwFQk0fe3KMFhNql+MKz4dMbzrc1ZGlUWvk9cfShScUDZZ1NxfT1Pfht0pKAgVLbJiC8STOvdLfjKUk0HiOFLN88yo1XJxlsxHJpVoq4g60WGbGjOBIXcoRKIyonqn1M3lmSsSRmJQ7KtMsniaJIvBRtSN9M8gZGjcBoZhq7LWs5ozaVcQsjaCMFP8aR/oighFjtoqrU7Jpt4GchpeYgrmonpeOjICjpIWZyr+MmLfGv6KOt6KMj5SFjYGGv+abkYywQPRI0NRL8iFpv5b80Dx9Fr0cttE3tRAxcpBTWimFDtK7rY4oDjmEdEQFP0VizDGBfgSAD/HUKACpAGYkwz0tUO8uwK5QtsdWqepTO2PjF5HNbRs4u/535fzXBX0v9n1kLFvg+UhHT1TBQdmmjYCzOJK/tRAERy2bOLPwoG+vvRpq7sV+CzCVTEJ7ry399KUokfqXWbbzV1X/bGpVmQhO9GMQrAzuWVtVUZbmyifIrhdZwO+Istxj7UVB+c+tFbhQdxHkKMIR8ycDPmseu38amWZieokwkjRqaQojXwDwLd7jmO2PQC6IGgehXokVgg2UBmR29MnFNS5TCKF4cZRaDuTFSzhSqg6nyMIYfCi+giCKni0Zab9zkySgBpA6TTOLHFN+q6gtWOrA0Delb6dtE+NhHkaGHVStYY8ljFx5wlardS2am9wiIh57qM0Ahik2HugREPahWEm1ALbIoJ+R0R4MFaI6Va46VpLWjCYJH2xmbSjoEbjazWNkmtj57mdempKkrTE+b+O95Wx6UKlSuxcTnpX0CKy8oJFhOMxvWYjXoupaPEP9y+q+1eUWSVxY40L36IBPSO3RRG6TlRnj+sI1LK/buJIVKDAfokQrRVMrUPnQqUaG70x8mxTvL2NGVU4kynFmFNmnNptfE12HcyxgpWf8REwy/Id255qkG9ac7XP/FRgtyPSXfuZ/I329Mwd1JUSWXu9LppTqrbNzhKQ1CK3H9uSUKZn1AxBNIHUZU8jdDO26VYR1ivEJzsLMt8lJa9WkrblyPRJ3nEuaOEuVXTt3fYeIm697/r/yRJkGSInTFNUCBLHdLA6gBuKOoESEMcJGIZBCnibaimTm6FdvSuq8yq/LLRlHbiNKxPXSsJatQWrYIRMJzZ5zHIDe51lcz3cB0csizHVtaEUu2ApiKEj3icIxT7Gkyl6by4S0MzKqWqDM5uxcOpt6uj2tfZHnqpMycqyc0Rt6w9gA/niOexZ6iamYSNFBP5eqSQlMMMP2sdpbAImIgvZAz1i+TPnC5GoILuB1pH7y3Xpp5EeiZ5XQM2ZNXIoKN8dlEZwRyFOnpFFe+8/NYtPt+ludeyE6sdScYiYj69vc/8URhDW9yTZEn8K7uSZvzSsY9ZyGllE3BJgDXU5hgPiBhHFC4fkJjk4Nceg2hSmVMKXETAQ1hDltSibgHoIJASpX33MEEaki0yAkbdRtvOBYSZofCEoJb/etZ6SIgu2kyRilhiH0SI9vUaqTuuvne48dRAuvZvMLIfKLEm+XTKNea2cxcsZVyA9V6zstyJsAIENEPCTFflSyy4CBoRgL3EIGCqJoBZ0zV0lht+gFL4GHFmQ4hH6QpXwlUVLV9zDCKrZF1qRvVJb3WVI4J6SG1fJTV8FiQRJTcfb168wkZIC5yYIL6Wmyfln+EO6jP0qrF8KJzSFQfttvWCqjJ6F/WlKPPKC5gAsX1cIB8wFkaPhkcLH/mApuGhgSbrirhWyie8janDBxc2MSQykXFWvTKhhL5qv2dhMWzSxTqnI0FTUvqAW1ieisFdkhjiuSKxbiPxtUmQxdzzWDQjPZlUY1i3X2/mrxWVA8CNxjSclCUxuxX25ror4nf/+PM14BSjEOC5PhCoETeoUGrONdTpC9ilGuAhq5Al4Swdm+NSt9JOZXDUfUS4no4nmXZA52nGzgC0cGjpPvDD2yRbUqOXVKXNMtXmplqhtuLxFAxMouJlLvH/Lk7nkK+hOrpk/jSWrdTYfxJ7UlxKnIVfzpQSBllxq+3ioAkgRIrtbPWHuwPq+qlkG2juNPrCXDQ4AR0wgvMbUn++8rG6Mkjr4WlMjEbSQVFJLFhfVFNLYffGMLZ0vSmjbCLbqUqpWWu8FeuUMrlkyXUlVFkUZj813+ZQ+wJlm6vp7595GjV7T996ggIncUQ6OdUki6jMaASRDGzIm8wiGXxD75rAdwqRo3ocgf/7ddlBadakfBRlzEws23d6aisJ5nljXpwq1ybZN7HDZjVd9rSz1O6JQuc+qEuoTeINu0+QCXzBSLxxaEvCwwqKYwicm3Fd9+t/lPysU7ON5PZkaSsKy5cU9S1geztglwVgyfbootTENHGPfSn86UE/YsAiOgX9riHlZo+Xb9300PojVwaR2ArEBhrUEwvmfzWfUod6kW/Y2SPtyC2SD4ykgCAbiXzGsLjEjnBmQ9Zpbfd74tzxIQyf9QPWIf+iVZOz5unmIcIkeJe7JJ04GUA9AobYIUAf0NiZJvnQJw6E3xjINOgbIqAToq+lPs95lFCrVCIgZj8JC/mwkDkllTLNKmyICs2Nt1wyM1VCwXgt+hoPdU00ElX/WcXFH2KjFU/MRDt425OlyQKid4kyhYJ/j5ZId4dYw065eAFMAoA2U8DdAAoi5FQEzmjGYgPJoy5QKkSjnNYLMJPN04kbLshbdUloQxLRt0oxWDczkLPi0tEx3al1AYqgq54v8/a4IaVvNlpGNIWlAYUCskBLIPgQk5L3mGIGyS+UEyVJ4iRdY3R6g9RGssj344YAIoN35VoAyJTLFy5iCEcFkgY8gusYVajjjDnW0X+iX4JQoac5u7+q6WdPIsIRs/wlO7W7np4RF8loe5L+OmFdL6vaklA4Juqqs74JC5gaVaQ14hsN8kTI6pNiJMcVZhhMjFHW5z5LfMNoE4XKRN8Mg6oZQCLFkjBpHtNqSTwjW64UZcJBu/F9KhQ8628L6ilk29cZGdB0a4Y10EVNbmBqFQTbw72fJ3DU/+F5RnEvszlz1gUzHgKKi385KJNkrvPME2SXNkKU/xIifJ8rSFcbaAvOPdF6bxcQjeX8spBPBAe3ZpJ08MqsVp31DDsFtyWq9hTIZk0l2zWIpbJbPuJw4lUdS8nZjeKS/ubROxHEmsBfsbi0vjSs8dJIBaxyOuXSsMnivK1LqsVojfMEWGuealUYuUWHDKDGB4FaL3zGM9sYxD/SlkDMb2g/P/haBZZ4i82N8YMupIjVSRzUR1IwyD1DO0MTD9KbuG4nOytoFo9q6fRNy3sx8ZaH7FUhuah6t1DdkBo1CL0ci0IccNGtXeGKkwtxziDfNiO9oi5VpwBAJexGWZ06RTgzcCeNIxiAcWy/+8PTkpVHX9P0S2958cZpe2FMPlQowhNiV2vilXxPOC3XzMyqwqJMi9pnfjr+GghbZnSXfgObTRpaZaJxVpXlrHfZ4lHPiRGuOVrifG2u8IKlsiffwX0Mlxn/y8dHI3sNBYgeSqSDiRe9kPKai0jNqFiOhiFzxyO12S/qpevm6EBVbF/LG8+PLDLK8Rz0RnaCB3C0mNdUKK1s3RjbNGe1v163ov1qwPYt27RIsSZPpFdhcm2aolSz2zrkw/yQO6uXAESZEYuiST2QoNwPxNOBIae5shBY8nEQGjhFN+ETrwuk2VFbkjdwzC24rOnYhJM64xeBxNxPcCEroVDNiZ6+53XcAopjd1TGy3TlYGyiWAjBv++HiipTuCebhOlCR57mfPsMLtP5gFEPuTB0lspEYNpR8XYJgaio+lAYJfQAnp3wWTj4uolFGzVD8pSwomKW5CSdhUXvgpfp0ayOQLKOJXLDiRCzx2E9qZxl9L50q+NQjZVmYvJjkVeqsqJZIlvl5ZklbvHyNsUMi6wpWCpx2jjKYHY0SjCBUX9/B4ZKbsj+FlpHRsG7bNQaHjUIx0/TsookObNfeyC0ezBEHIlpSRMlkEDatg1oRAtR0LLIdEH52LOQUjBe0BtNKyu/G70J74S23bXFH+JVNkjFq8XNqv1CHym9ceYq7s2xsucFQE4GWR4jyApBiGwjVabQ6EJ9FVUvXEPAIBe93Ul6twOx2jH4MjamSoIs/YAwsBW/kqvZYcxnFnstQgEh+LTl+3Yi8W1VeylQ1LakiL+VsCsh7GktEPB/0aJMnajreq7lhzizFu6Bdk2eeWOdQgdzwfoAm1Y6PB5Dsu5nqB4WkrNQTThgFsQVL7ppRssmCGMMSsOIreQ1sI0NND6zi0VtwkTODgWD3MVhJL6G0ZGK20IaBB5z4if1MBgY5A5Ki//MkNTVWBJbZA18kVa9woki8NHjDgwqi25cVJvqHvjtAqDjkpD8nKXaSI4SSZK6tSwU28fK/R/NBNpegNH3nHk7obBsZfoEq+OIlxQ/HKEgp96XRZVlmzuX9Vdws0EmhcvkQ9b2CSBSbo3XmbPvOIoLL2NWJvoXyyVtzOivJDYBrpRk4tvk7RXLtaUNSbBl8Pde2bnri7OgENC6wcVxNlSpnwNmizYdL6+xpI7livE4cuH1QBEvCgCYSMivEczXvXAbQxPBX5qG78Mqg3BSRNO+mbAHao9Z03iUOqF03lhoBRPCq+eYrwoWwjRJ7WUy2hR5EmleZnBM0jbF2jWOuwMekhjUPpTKuiseGXs46uBXiFjnj/ksEGs57lPi35KZsoikq+XLJOMJ4j5AdH6P9eHOmi54lYFivZY5lPFsi0wx747vlW6ZVKyInwUo8ENrcmMtCUqcRCkvvqiYITf3ETz09MmEh5fIp1jmmwQyXW/8x/WILNatnim2fkL+/Op662mrda77k/qXqYYY8p/R1xQBCmWx7W8vpXVoJZZ0AUxWr0o1bXt4XYIIWbkJDic/LX8zSX2OJpVQ81Ua6uqy+Vvn2kuLe3j1d5u5qeKs0wzDWfVl+MhT4ea1yrF3bEIBnk5TyzWjDaiKy1+8kU7S5kCkzrTrqvpbK6UHA1fshFWgZ8ifs9taGmPqG/AxYpgebuPscVCh85ZQDGOO3RzmIUFIETZ8uJwgnDZWBlYC+6mlMJEpNhJItQkNE8PRLO4xmGOMHRDToClCEXyncGfeDO6rBfmstUWzROikWBS16FW4VVtXG3Nz7kykuqfi75xWzDgqgtrYgcIH7b6soLslD/K1uov651OSBsZgrHnB/0fQosZyIXVsZ5M0srtL6ES6la2JPp4jJCns5/6w2o+fwTTiZJ5m+fF88yXZB0rb+jz3LRiBDNjwDYLqlwN1uORU4sI1mX7WwSj9CjxhOh2tSieLyqBQ9Ye7ZUwVxb06Kaavonl2HhnzTJxDKU/ZQEYhZhN6bv8K7S8sZZJQIxIgNa43QWWU8t2ljAS8i600RQh+ANBU6qg2YrstEh04rrJJyjQ5Terfkpi2hed4dlDXYU7J+fr3eU2Dbpbb3aU6MVF3Qz1PsperKaWXmeF/uSmOgP4bLavbWumrtXlMDpPjNRmKP9gg6M0Hc/ufdJz6DStJWkzMl4Ru7z1/exGOCvAjEKADIRLWEmkjfKNEcjFjfdIso68PEGIu+VDoJDQfWGlfKY+7CrkEmuitlUtHq8TYCfzsEBYTfY39ICIpM2BZpoQsOqcWcYuX5XxUJHOj+12dEwJ0hkAOvv/+MUID0JSC+0MeAp3CSUIxgj/B7cG0wTVA7q1NH6K8xnCcJ/TjvcGi6+BCQsBbO44LDtUzAuU8hKbmDEcCnNTjzHjzKRV3gPTO5qaZmBe+USIM+NtqFdTwkvy+p1tgMKLhNrzykXwhEQi3BitUOeJMQYVVCtSWgIuCLBv1egiWkmBeReENCDghQD0jQEZlqgnz0NMFL9InqwH+9wx4cHZnwiCXtDGPOVJFBjYq92/CTDIrRRp/adagx+i5rVRKNtK5BaTWJ2nydIO0onUWy26w3MQy3pKkAsFhDLh8HMMHSyXJX9rciNgpUtmGMyn1iD9LSwxATgbnbLUMiBcgLeJ0fQDugaorL5jGFZnyRNidwlbEksS2z49GquFfDbGBbvwSqmoiLWDPA5KzMq8ecqSEtKRPiMbgFBqYUIDf/fidrJqj9aC1Ftiy28GJP1s3HSjs2BEaopFLIqTBTX+LaK0YvkKwpLwaMhBr5bNdLnt1S+QFFNctInbVYiT5R0cUjhl2bd36dLC3+RkpQhtCvyKHpv05uWlme+rk0ihnZxK5r+n4o5ECQ4O9PmqJHf9m0NJhqAUW+kTkDkxU099QcvXhuztVU/lEkeCtz4rd5IK7IgOAOBWLy3abKhutaUqR684X12t3SvlP80xrGCt5bx/NRzZaD92RXHJueVTWeE1AjRB+ufinCzHe6sU8/GtpVJIan6VW1FYSREjqsmmNqtawkdnktrPElEG952F7JLvxHFuvhC1BUa1Kw9AVqKI/hiaESXm3mCK71fswio12kc6X8UTuyjstKbEoejIJep8k0CsTlPr0RcN9MEOpe93svTHOiO4oIQOb1TSNTWezawDwRPgwVyzeW+RyU/r0vwr6Bi6UqnLRFgOvoRcJ1wgOf9cupAf3PHImduwxNqal80t2VGMNagstGm28NpzV2fUreunYJMYx/M7ujDyluTxL7GAsmqzf5emZv2etxMAo/PXiE9vq5Mpwx9G0dRGnjGf9bEusdsCwz7kkXagufGRG9jKAv0aJA6659QILiA5EVYTULjyRO2ICfTqIaNvW4tRVfyBko1LhkKkMsg4wV6KcJvIGOzSlsqjFe7DLziiSa8psjYXKjygoL9lNhVbaM/5ftvZqLCyJid6Yzaz2QqAKIGL2EvavY7huyqvniINNXhi8PoFa5CXH481wbWMa5mB1bmiYmlNn3KyYJuBCIrRRZ8gjto177FqJRCqYfT8ylNSEl/44iEqh6Khq6demrKpoeKUU39Fn67iW98MmnNhWWShLYakTmpQWqNgS29E0Qb2E4HN6NteqbIRzgGgJdTEbCXZS+2rdXQhL5Tjy/p2QnxpKRSdhqslKhzFzVuh/nSo6o9b7dFH/5GKX0adnAPiUrc8kVDNJpBr+kcR2N6WV0hKamvinA4ZVkVSSRF1P4agCT0GJRpdSi5jfaJC5iHXptkXYQDwjInj+8x8W8u1XqoOGV7biIpOZrAKiIFw/Ad8QgOREOV1Br29axEV0FPvQji6WzrYYZZo3MdkaKSt6dtykT+Vt6hKtu9hqRsokZ9d9NB3CNVAFI48jAm9MkbWzSaaaoSpSZDpNSt/6zNgotwQOpZDtadZIqm23J7T9Y6FyJqLc6p6qIhgaOLek6lZ+4Ct52xiy+NOOfPTCRoLU/jDvsUHYi6LFhlPZClO0fp6bp/yNSlNOtUc+kdw0l/aaGjFp999GA6LOLSq3FOjwsT61DNXKYn4509h1KRCczWHFwCsEUcTmT+VUoI/P3EcvKPJe0tgItms9grdCUZ+Dn8dL6TnsUDPZjzzEpbDycneu76KYoZaSYaiRVKdp2xk9glDPl3rmkL2xfUR+1yPWdLZXlbgZOImONNC6AX2JM32UnEctuoJK6jKy4+ObLMII9zi9E8syyzY8xqEswqHDktKJ9pCZOxi5WT3WRUvlqpw8YETmiG7iRvXQqn48V8SenQzxes+zVdbsi9crUk02yt+QHX/UwtpiRjBa88tvH70nzZFDlbbqhjSH+xYgvmNEDXd6KnW9bMqGT7+4jW53fwUDwVTYVLejxS4C88lv6aEbITotVF24gwl3VzJHnaDH9OpRl39FeYzMqxAuX/5AU//4yUQMdrumGRhf1l/8TO+rZXCOlwtjFHKJLKCfymtM8uacY6OnlAHD357mM96hVgSN12qG24nFHiB2RCMXDW7C8WzPGVc9OwSVE20MpBSOFRhUG2ytXXerkWjDRjDf8pY90uAackP3FukmXPB5AZ3U3wCslrFbYnGaGlgqagSpEtyU/jVUn3h1EnQbA86RLL+MkIMFp5MCKZdQKNWdGl9Q2zrQRrHFD4Atc2DzFlUt+ir9quVT0gg4CCDTwK6D4l8cFcbOLKCtLUHjd1GENVxpDMrUDfm2HgVVNVHFAe/4KwUNwljXKUuyeS7f/hwwzyG5SQIuv13ZCISBk0MRLqzskkrKG3kNv3UWIv7BijNIL/gmOv+R1W2yaAIKjJkv4Q9DOi5AZkFgdACf4403OQw0ohALbVgcATQDbnNHaLmEWXtxAIee8BuqiMv5xDXIN2cyekdpTJ2lW4K6G8RUGFcQuC2d9p94lrJEy/L98s20a9qRVuS8bXNRZafu68w0OkdwtVpwZcibrMv23ROK+z/nax8radUFMQNlLObl0Koi0Ip9K5ecod3Y61IiginpONRJ/nn1PEiuNK96EXXsuFzMavaZ58xkGWe3mnwUpm/MJ6PabSvToReLlxHUkhbX/pzMdue9tAiMGz7kemhkkeRDTU+RiKBMJW1lJvKURX1S/PYiCX/DKUnfok2JSKOwmU7684VuLZDuqluYFa55d0Ij0+QxKEjaXNKh4tmm9iuHavtSgnaV+8VHBCdCVtGpn6bFfTMfYIbcnVFAwYkpY5ky7eOYgAU0o7kixNx0AkruodESOcZdZRw9KtV8QC5wjx09Hn2jeryLsWVDLlColYIBwrGjmvoNKbiSqnUEE2trSqY6NIH1JFOqPOaBti9s8xkC5c/tpKuu3RDaReLu10WW2PfTV9hEIK0aElE9KmCi3F0nD5SGPWfN5Qow89zURv5F05yVfEEEohkTKl2ltGo8p8kgseh1EyRCTMXRIV2Mp6pXDEKzm1k7Yby3Vdi2azlcQJa55hMT1phCZ8icWhXIZpM0JtVW7y8FnZ5nbQ4rPE1BMspPs0bXwqgxTiFAHScynwSU3RZN0LdjLLlnULyAlR20CTi/k+CQAEaN9zjyGsa5Mg0aMMK8kZDo0idMv4DQKgoSV/1wXh+UcfMf5BeEw/MawtMfmXTQXS9hlYUs+J62QsrOIJXfvawreF86+COJXPAFrjhvWJmiWoUSdJkfREe0GoRX8l4soZTlSo71kES1xz74HClATFI+w8wlwYYcAbmoAlxd/pOcx8U7cC9NEiLExMxAx5kl05CKhkqQjXObC2FhmYiz2hmMCa+bVIMrNmFsrojZrDitkwx/Uwiyiuszx8GFKSNG3zjBkevQp0+1pV8d9PnHCN8cysyTd5TnL/7lbcEeC/RRIBRNEEOAVorwIIEoCDHnRvNDmkFYEkYZ7n/zgRQRnkLkLHacEQKBHIpcNWLPAhGIrqkSq4HcfE+k5GsjoLuSGHcXu5zY1M7UAvsq68IWRiVRzexT/15+IEqroMX7izS5sA+3Cy5OAM0kUOZoLvFu+I6hLAqQBRgz2IHBgI3XFaRd6JQE9PKs506jGIFFxELQUxoNxufUfXcisJZBLIvTBDOBPK4XrbblCgCaQlWvdL4SyqkMI/3q+BcFZdudfyxsIrheazifymn55v4Nfq/L7mjbEeG3teYQoKsVdUB0AkP0AHiAEPzAYB3BWljbY5ClYEoBSUoyQmZ0KQZyL8yyBUT/jzMY7Pbsj1sGxPC/I0dAOwkChFmo0gJgnGF0NMyekoBPX1JDWUBOZTssPLbg3YvvciV2UDU1SNU+9HeyXOsq3iryJdvOH6CDA+yjE8AEgAgIG3AckIq1ARrdpHF69gUj0BsGI8CM2uqqEpld4+iIUXCnV/zzpFvUjSKWBfyG6RxFIyEujvJwe8Q6kWqDX+io8nmMhM8QKlQ6ORuY35gPR876hsPnNITqJ4+4oXRfLEaOh95S8vIkp3TF5E0AO8a4M6ATs/LnGw+vEV7Ykz47MGG+CZJ6zvSFY2RvW7Lkd5ppXO7vNVEbRsvhsX9e3BFgcaEKOgtmSDAQapbq30nXN9JNjIG6YqN/uZyDvIpwK5g5jIcb54BiI3v6FWte5KV62o+EhojovY458dAApwC/EHACAg/7DHmRuCFmzFHpWA6uhIQ3VpfAQ6OBaxM3sEgLwwk3mN9pVVoTxFKzJA0nSC+SOWw1IHO3m1QGY7LDJYQBhJYmudxi+bCSRyqQiAwCcTvS4uA5boWdp9rHC1WxStt2VQdYzIi5hVS6xwNIBiE4AiYDmuDhoxTDJEU5i+pRaFukUIR9kAjhfBSxWceMUbrzSyKV3HrDbnILpQFr7Puo05+OyIAVSqaXn5zIQXfFAfC6KPt+gk1SQPy0bzbiTX/xsLtbhyJ9u2rdPgxn0kjfVaSIhHx+TT0YUoGIfIXsChuTJKF91ALgzEAVK0ZjFoElSXEE5z+lnUlpHwaBZNZJfKm9KVYs2wxuFRL/Vbl2lAj4FGunN1daTZRslnkyZilXHFxVP0tzSYe6yR7Yu6QNLWLqcOnPZaM5oY8CJgtYlpKAHoAKppQDog7cFuR8SHj4DhFgQbyYrv/GTRYegYKlBAwmeLM8eRgKHxtx9WNTWQTzGOQWx3Fez5LWHSYoT4MQ3SLUHA5BnH8QrQd5EtSvO9rcr6ibdyS7FQSqw2MzjbNtWjKlsCzZ8R+xR3pyasBwBXljBIS3yjCfeMcAuxrDMYtZ1xkdaIgWR9rusJQ1borEbzaY7aR+XVuQ3NCniLgwyRSOrzJPmEeRlEq3XsQpRrNgbPaJtW8DTpPfeegKfpuq7KknbFqSsmXPCNadv1xpYD/KgVULzz9dGo62THOMyxyrHreDdbu7BcFaSHr7+AZ7eRXIz7QWTjXz8+mnPIXgm221cqXhhE0U5ONRdF+TSAV+VUDvJJDm/ZGexHcojW4t5WjZd12Nbd8yympNOmtluSxE+iRFxKdTMaRSH0KcaJKEiwNKocsoS0Jx+rv0XHTGh2Kja5ZlSxGAslr3cYVh0nSeRbON3P1po7sFMSziLskkPT3xsimu5t5HyyrrvyqnxGrChgkasl6Eefq3kVFPOP6frrYXg1g/hihAlUwr5u3uypH2JdmaPRZP49/i5LUiLN19oFz3ZQ9NC3NMri9LAtWupbU7tgC7P0R5/kavOz3qO+edxOS2PWuKfU8ZkTzi/hhw5JI18EILFECDjHvLwVfKHOXOE+EaHUJd0v/9+3PmuWqvw+lJ1hqfo7HeHQRDvTyLovY/Q2ygFOJsRphGgxXhSmdKATwtBLF25GIoKkkvLC+tX0lOT09IpY9YUkc8JKFDeFChaDkbc241pQ19Iny2iMYNEZAWRjuCSl3dCQIrBLsNKJRcodu0vqOqJ4UZkqBZ+7F9wvSXM85xRizMFooRLkOYBIlkYbub1N0/SVCbivZt3/aMRUFLAhYbffhUgMRIRyRMagZUExDSwlKhoBkA0h2myXEXUU+Du80UMvS9CfEgR0QMhc8Rp7iWPVqIVd4x4lYsFQcwItL+Pkj2/cJo7NM6jyJq0qaKc9WOslebD33u/K/ZDEYjAwhBYnP9bgSuIHab0CqGaIGSctj4NXNHILixInyXhGW4KISN5ZaqSdA7yyuuWQhS5JchuB6SprmFgOCS1REB0hRkOwpoyMEgICuaCcf91Q/R8DwPG9Ohkl0xMoFefL8UdFyiN1Aw0xkt8wWFoYYk7g0J2yxqcVOVmmnQYqtxGmaISSRhi/2Z7/AWAKOdV323cRmFn3/dcdY08giBaWOeh4GQWzitt3hfmzbxKko9fyPGp1W6uFTaRV8l5vHgAl5SyU0r0JsDGSPWmwTFaOk5PkIOaJPjA1p83guG37KqICmGHQMk/IbFwe37GYsnBGn8IYmaDK1izBmQN0UdrnaIcrC6/F13BYPzSeJf+1PbtSBT+R25xviB6xOSW3suEi0p8MRKr+20vWOqEOCJkdbaWOU+2WzULze8FmGDyD5LZIlW/gaW070QmBhzSGiLkTRYyBWh5//TEuKz5gRISys4uW89FpKpL4oiRK16vLbbVSWaRq5E100GyzUhmVKlmoBVVapJo+9uNxtWZ8SMS8QYlaaXespUbm6v0Qw+WkLOJuyFL8ezdram7ZmT5GqPUWgnTAr/5nClJcZL+vOCbdgkaSnTu54LDc5V9A/K+b16FX4i3R9pVpIwQEgpy9oregIjsY+Vq3uEMKIsOIPYJColiPgpPUW9/oaDWMewJEzjO5znpErj0pwNhSUmaP6IKZJY2E2vEU2TDHSRHtO6TsgSjMl4/2e78freF8XBZlTKYSLfb2sI86T3ooXblcCERDZMK+YavhZRKhUj0Oisnb1SpJdmz1COyGEHcJ4j6nNAxNY7TfVqHWGuEhP+cIjyxJhlmmchzfkHFFFNOU0gDDJ5Qmmturl2O7nKMg/W1N+KW51J6VekYkv3JTVuupZv+9ceUg5ijjFfTdfOq/7vKf0z7fpRAxLiOI2imvIx9dlO32jPHyL0cg0pIVZSRnm5R3sMboYaoubfPc168ISmX92PqN6GubhttF60ynStffZ4xbYyq7/ZUobnzzSvUA1d3CTH0OUS5S0pzz3aB3ylGpJTsfYXdzU2YQkihEUlDuRrGn0JPQLKIqYEo7oowmROqqezzhgCyliJcYUiyZP7cCS6Um/Fk6mWlv7+dOwyJiXgloxzRmJnHjV3bxInRKzlDJC/lzTCmNPrGXBlIuJwFngmA275oDwbiLTe6WOvOQPgVExoiApZgiFrysSpeTyWSvyXIlBKiAkGXpA/eq3R2mn/0X6voaA3bvxU/Y/OfJJXexHXmrZqRKZmsOoPu9JTC/HOblE+i57zLJSN2B0Aqp8zEPCwTYtAltTafevkeyv2ZcTU/RZCTglM//4xQgQH1L/ygBLAIMAHP86/wcATQKRBJMFxLUs3p6C2MZzWHqFfwEQb16JKnG4Mw0bu2wkMkklulnmVl1m1lSuTzXjkVSUvNmfzy+kMksztFfYGQCOjeDODeHfdxk96rPau4NIN2MeLIJiVV+F5Qr+L838u18eF0LOEI8KyJ4a8gqqodomWZS3heDcnIOAaIpKytTVW715JMJTJbpa74ykymz5SqUn91i1YsV2ORJM/8gNO8lpYZ4TUZkJoNkf5T0G7r0q91jpBjZLxPhNSvrqlqOsHc2YyQnyNHY96DljXDsHVfhjWIWxGEycsmByCyGWMaZVuVLoDT+zcp8z83UnMpcmEzMwMSiYK1O+quq9ht0+IuiClZqVjhTDQG+EUCdBKhZWgWZA8osffu/XXa6WYtpT23ZxT1UqpIbIzaL9804MwQvY6YyR0SqEJZ9ZUV0JUHaIIYAzJ2X/Txhup/65cxU60s0kEgssctk3M1090rPh8Y0LA7XyZoXWTP6d5lpRRyPmMECCWBChiyaESSZQaiV/sPVHktfet8GOZxy09Ye01xLE01/bfetP8MYLCIif0Rs3JN06TVJ2UUFj3gMcRZfEVxjYKXXSl8lymelAlUvNJNJnOrEBm8snoWqLKjbqGyFMNEuCt7ljC1Pm+h0xUR8BcjqE5Z1RqD31v5eSiecZyvyzOETRrEucOh1Ra9Un8bGyFFyOsaw9ogp+DWu4uqmK4uyqq+valoynGlIul1EquWGtVd2+Egl3JBr3X2vJITJPePO6Amce9zyvCpnFW8gVLuJ0vZ2LO0NmEAEzKQ5LFq59crEqUpVOM46F2yGtwW94nXWv4a/0w/DXsB754SqEVLuaA3pW2lSNTmHdFflAR/AE+x7LsMx3hd73vOtT5ellerLVLrVVax1Z7g2q+j1jxGdX9Pk/Rjpq7UvqfiSPUsd0Ro6JLUW4vZNhYDGcFh7+VUQkREEUtiG2aRqFMpTb5zplIeAiSWU6Bz5RlOQyDzeIMkQ4j3slEVlGSvEektzms+x3ymcxUPm/FAWNKaasw56y4mVUn65vi/3F7HApPz2NnrtwPso5/vhIIFAHAyDOY+L0HDJQsGmpnhtl2J00jLWTRaBmGmc64T7t1anLpnIXo8PkFeWxQtNtv8tDaIRcqzj45UkOr0Z1ehjcWpqMk3LeSktZWxtRmxVSU/XTxtEemruts9lq5HVBWnrLY1WQisPV5sjaIBakDjdccBfP5Ib1ljhEEOlBqV754gzTJBWEZs9vTbtQf6tzp7YuzwJRlKFdv8onkrnbu9HWJnGowktxclpV/7pdy5nzMmQsmp1RDwgJOWXj0ZwKb9XQxWep3oSrxLFlwdg5ncTbDGAaI0URmuNPtIyUTLJl6c9ARBl8Nlv6Ijf61zCXvdlnRvIpEkV+3aPydQieLd5sLEoIgV42V9lF99HObhPtpCo5ArZkf+REkL6tWwrpk/dd9VrIWU0lasz66abx6spc1J3mCA2wjaFageAXAVzwWTrsJems65PWrXF9CzHO7UYu7MOUbaIYcz6Dq+lWK52x1PLax1hBstCFtodoWTETFWczQmccRMs1FqwgiVJ9eKjtbLOMRXO2jrR2G507u9kx7RlLR0nJVwn5xSJ9TzYZOU3VGGQ+GwFl4l2SeNwMojXavOAS4mWQjBkcHoSwFMI5GYb/yBJcajs3co9UjhdvF+ODi5+nCyM9OUBUO1rIpCjV3y9HXKAQ7gTrfyHPNUsHs6ej6vc1CGcfotfg5/RrqwZSyzlzWtryTicjvwe/trsqCLFnxpV0WYeNCM2E0r0L0EmHcMxRL1wTVcD3PqKOztdJcfopW0ttdXQkxtLexopapx0iTOI9a9DKWCLgVqvImbNNZK9SNXhqUlipPj2FikFZ0OwSzyWjk+/8yboPFqqsqfPiWgslzd9pSI8vp2/ykJEtEVN3P2w+WOE7bU0OaSeXDTzY/YpyrB1BJjmQSTuCk2l0BazGkxrxMArg4BKqGhd9WjSTUREWt8+IP0PwMw7XEklA+ySXFbRe3h4JdDsG+nkA5KsKUS6S9c2P9urzKculRlEycx7m0lSNt+jsuo28UPtrvAtVjIyzJnzejkiYi4mTx+Q4ksJ/Jm1R5+15Mv77KQAiAnAlD0YRCfDbJ9b2LHV5+3CYDrBKp9syK5C2PgwbTikzBkAwgyBvLBi1xj1CQC5s2VFk0gLwLxDERxk+PE0euFjalidr6H4LAnlK6cQ2jIWDbvSmsGbB7HG2kgicolkxRcroh4lbdqWk5RRJSU4AjBCLqbURk8bZsukszgKlEqGCCuBclOVsKuMm/8tq0NamSaoEaD9BaI6WUfVU/z6nNQ1LXAEIDVBehslgTU9ZdUJj1JW1eZOWYfYcomUrYslrgpP3d71+LQFmP4JcQ6+KeqqQ3mV2XKw7BGuM0J493wgWl3udSNR2ZT3UyOeSP5nbC8hxwrchWpUO+EZJe26RXX0vPGK2eZfBQjOKcpp7ziy+UJ5wXF18IGoChD3ZYu4yLS0BjO+l7VsgbQNUM4I9/vSeMxq59zZRjk4oqw0gnzQat8SXrTkY9EorA7k5RnjVM9V2ncNXZbYL9iqEsBghMj+KdR0vW9A8LS4RMfJ+N5C2vLecUe0NWDChG5lK3E0T0+PkVF0kntYK/ZWlJb3eM0XUijKVxup6Wf5Yo/maBzAmQm5001sPcykG46gqmgI+T0pYgJuypqY+kkFl6Ccy8bJrir5UTImEYVna+VJoFkOFsc1Dbsm4bxPqiL114o5ivIOex6zrixhDH7KGtiTUCoJtvLOQ6KMKKn7KKuhhNLdyxW5rrUyxtE+/pSQ14Vgp3WOt1WPnsTxLriDGTLs9r1JQy1xbE2pzjLeKTHDVUEWF5E1ZOys7tg6X7QqRqjNHIJaUZu1faGkVqfizIlBQH5bRUk7S/RMFT9mKX3L2PdzHPi5qAoQiTBIOrVF9xz/wkreskxQ2jVNXMfQHL6FcH7J2jRr+yWx4V1VP7Red0tS4QeENnZp1KwD5hGlUj8R0qN+wiBodWjAg4oa5y04XhMxsoZqPRsYTwY1K6bcTxKOSAztWY1gsosAnxfUN7yiPHZookoSEdElaFKFkqrsFRylmsUrMkUhZ7hSeSTVBwKuhdlLTDWMYVepdaM0p4I2Z8T4UVCGfvDajw+UKmvys42qzUL52nRedT63VEtn7urMg8n956sUDlWhA4w0vwAbcAKmRUB/4IdfwETRcNjVCCYAMGUcLFEq8vzJgKayiAhLpAicEDoTZl3HpxyW4L2U55rp5h6JGjkDXi6EGe+oGp+iSBSmPJAYhdiSSU0i1Ygau1JsF7u+7esLGqw9JGHqR75qVcSLmFRP0glKuw0RwVESVOGvTdKvO37Y9qXVckXQJaOnoL73X6ZlVMJMbpezdCS6Qfe8LnLgn0TSegAPeAvZAYfiI5dsx4oVoPEBFhzybU6/a3U0lS5cQwaIR54Taj1QTHlCPyJIQ9OPl3jMDTirCSuKxuy5fiOvu6bcnKjbdsneK7T2ruSkIIM31Obg651RwC0Jc6um9G66CbpvpJDbkERtGBW2hDJChPkTcn/V9lWQfJkefhLOGQlrTrlDkO0iL9hPTSl7JiS0KKCHglYMeTFdBtAcYx2Yw5C4T/qwSj2M0ZxMXdBGR91YF2IN9Q/rIt+y5C3zmBqjUHEh+roTKHGPEd59LBO1Ef4mEGn8OTiC9v4zPe2PTzLjrurqe2JzFqK87SCRvKqA0Xa4jIGEay6zVrCmYSg5jwSdA57btl4l2YDtRe81XEpHnYNt1vbtpSfmhVH0iHjGjFhZQMSAj8qBLhQFXnZXizDysfqDPWhTiUCKCFiI7UvUmI20ajJOYs/eRrVRsxJn2jW/7BhGUZLZGQSzFSBIHYa7eJxRcDr5HDajmNBAc7mVTadAds+R6mIulTq2AtHi8W6XwrHws1tyynEaTqrI/RK57ky5iLItbMFFqnf9/XKVv2LYlU+iqcEZI3w/uKaPWFFK2PGFTPK/ScUgVnjJAvD8weaEiQFEpn2N3L6QlFXiKaqT/0Ho0bRe3L5YIBQ/wiHwdZvk4r2oaxOuwjHIQT5Zyh2OrdSFY607P30+nRNsaYgV4htO91YnuoUTiYS6IIwloRJxLVH51MJVT5dL4DJEypmS9t5xFMzM5qMZ09pSdecGwb0yDojYhBXXroQcCajrl9jzTRpOfm08WR6ZcnpoI1VsulxreWWQjkRcVTbv8e3w4PHJnaEEt/b1RSG2vFG12gtC2OMp0yjjRIhDJReKRVqt/MCyvHulYtHQSrFemRqAiEVuzGY6tbTeWTUZBLvhQovKpktlukK6EE3HVt1mw+1zCTVY7sZVqpDV/SSPvhTK+fjFbEN2XTLeRshKzoCH1f1ijXBhyduBG2FXckYDOCN/MZo2ws7ivYS5y1bMI4QobdskhRaZAh2OwaFoAo3hrqHJ1hdsuU9jdZaJHtN51kSrR8BSrZmula0sX79x1mPdB4zHn6m+9txaJMiKgKdbmb+RPq3crU+UG9sdMUw+BWS1TNYlx+SlV8I2BgDIgvISTBa8c8R7iE1ZuFGiCtzchBNSs4pzXdtCu1A4pagLPVPCseWafRSVeVrU+mJmx7BMVrbbDlqIrRJmcJt19g7Bc9Q84kir8pRMQZdoq1m8xlJzeIfqb0VCNGnGamuaxqeazXNkTsTpihyzVUjvTGY7Q6ic5L2hFgu5SpNCW83qKn8RdCj0henb4jh4IMgDEmSm/+qxnQtDWoUk8jKAj64103wZELAKiN9u1XKKP5Kw6ajTi/DHqFDJgeNjUkuBlbusDNiuiiAmpzB0RCZOkILSmq7M6m0/fVPOPnSvYtv7q0LavllkxfOaMPV+yX+PZpzensSU6xL392g3mIg5PRoZ9BE/0YFePUZ+pDBrbuNW3uUK/kVhOvGo8j/Pr3dk2fDnJEJrmg6KoguX6pxeCLyElnAKXoMlYwNwyM6cuLA8nfQxtNTn2zZIQ624gPfCegsEy6n64c/wFfVUcuwAoQabsTLHQpqJr8jo0AIxkuENi22+4p/QslHyc0gejusabhgQ2UmzBGn4duegIDR8Q7YHzLDQya82vK6oS0mu11Rmmfm30hxdKTl2vkbrqiXsnmmekyXeoty3av8KRwoeYNXwYk7Q6+jpLrBIe8hvrfpHUISa+67Zwscs4aKMgohm6kx7BbclNMbWjLiib10GOBP7WnAM3Sacg3unbNEjBS55lnHatsVwU3e2OizASKaxrDcUIQiYeE1Ge3PJTnj2WUXNAbmW5bywymR0rqA0s6HJZH75eHaJIbO3pIUJhpida4tC75K5o2lXopWZNSpTuSINn46bGVlo7eSUNMNs6gU/eqSLrl3dajrtElzyIF57M8bZgpXjGXKRlufopbSG07Fqwl40cE262lfEAyL7eTpht3NWQFYCDtF3SEl1JBQcdGXfsbbjQUwCTZS6A6qvFplIqpbQWRnlqUi9iIlhNRTWYq2bhUeke4x5+4kmfDmv5LZNlNFL5NZVuZsxo/baXdi69osbkldTT82OwuMM25g58X3LYLM/cdRI4UlavUarpKtMWkDrjUuYWnP7o9HPRCZufBUFZF0+6CndwOPvDP/5wmnhxK3ITVR/lq7cnO2izQF33m9tPqGQ/9fcWdn11aVqy7nSkv+tVzH/t1ma1QkT31E15WaySp+ta+7qbTWa+lffsp1aXRmKrmSltfISfS/7NwyfJWc+NWI6eRWpNwWEFbV9lzZSYgyXsSjdd5erudlSHa8SbvFPO8CTsjTi17mbIczxRdhiq/R5xN6CCgz8iudw+Z15Nkej0Q3xne7xnHhOw9kUMs/oMJWeYA+0vwPNBSTdzfQmQn/GJn8Y2kJCG8vyQPZolYQmpkEZDAYEyMnaKiZ/eRuMsPL596EzJf07u1JPRbQ2FvyE7OpKY51sTDdwUWKEBRYhoSUH54Z7BLBrpeoO0ND4JpdNhFgwlZZVmVPzZsle2TmH48eiZB3ntzbhPcBXrNUcqoJnE9AsECVhj8iZVHN1v2GsnOKRTlTgmEat0gZyftIe5zHo1P/C+hOvxKfeZmPz0FAqmmGyGsx9pTmA/mp5ZLcmY8eeR9JErDpMRsJnb47JaP68aEcITHBtob5xx9qNxdncDv7qLAkn8/H77cL7iFG7Dp8auYseKW9+qMXwLvthlx2pRWor5NSOzX97xyooxkd2s0VTCKAMVST2VvIz3SbN3bk5OpJ2rZ9JL3XpFfY0dEEE8vqF/zU2MTeeiFpLNc7kCCnhBupZiXJvbbWClKtYnD4gAnn5SdoQKFXtvUzlevATc+PAlyjlHUkCsYU5ywJZCtqhR/JeGb0nnHJ+oDsd6mOXEGoEsdsgRqEiL3q+AkMdYXnw3DRtiv+seqWWrvT97sqx77Vy+3gSEvzoOjscs5FsFIUe6YMgd57SJv77XU0lxEtqYqdVZuQvEnaHmQqGvZYc2a1bcF11rK1iW/Q+7WYwILE4dGXKZB1txKL1rfLBWH63oc6gdClNTElWWWoUmy9oSzUKQB27BCU18QqgIgPdzjp5abwZCF5KxnCp88mfGuRq+FyHlFoH7ZCECobSSShUj6+C1CXcFrZEHTpHUdP0XJNwb+LXWClzgu7w3Ztq+mWrk5vxNd7j8Yb/yREFyZGnbZPK93omrXEEs6lXtVeUu+hIn4y9HJ9lerLvZ7uTvuo+OZ1t1B0NyV4wP3Ohx0Fomk3xZdpys0yfDfbGo66SH7uLsByjWp6LNp6+jNQ8V9heIVeGfaWRJ+0qxWaQNH6Qvn+Kfs/o03bxe3iRwGjlK3mAS1Kk1kNZOQUO1IW/XPkXvSis5Kx6eCKZPE3z+wayXsrpVAX7XufbmeiNDT9jNLVIzEJLfbsqyZ5m/Zb8EpTJZyXJPEqanhRxTBZXyh0mYmSIN2iD4y+k+f+2chzUuhGU0L8k6wKzEr7othMZxCIvR08TG886zS/H1PZQ3VOaiCPOrdq1T8Jobcp7cYxH4SxZqpj1/DfKB7El+y54pVNPfcX8NkovY+Kxb/At1v+PAk4VoWlbKJ0tneZ4txCTbCUkUueK6Rj16pV62NHupfiUpBvbBhJjJ05ZT1OfNJB0pn/9BoEfRpFxLRv/4xQgRGFL/7v+9AFv/6P+LADn/8/+r/8X/ubQadboUGLrj2OoI9uULV88NTgEw0wf4TMs6jSdwNNykJgEseKVrTsaZ0RwRJXdGNdNSz5WhlDpgdZy3jzbTGAZqw75V62KqyistW2LsdpbrveFTGeNUsn5uGfOaufF76MyJkwxgtVKqyhP/o+aj1IsCVKTrUxdSigiTWVqq4bPZAxkVrJT+P0bltDIrKEh8IId6JNnEZ5m/02oQHQ8p95tkQliTWZt5tP+vKYn9Ykz8ykneqJ3WokjPBqfZjnUfu2tAVyldhxh6uXy4ZQ2cTOB3QKJ2hlG41bObrHQ9qfseWZUY6T0xHMEvm8K1L1D2Aq9KTiHK2dqCX4KKuFPlbaahcxoXecMi3LGTk8bq7N9moEa28tyWRCdEPOp7BSMxT48qQ6TaVc6OKIuORcge7J9NAmIDaKz1aFFUKv7vOHMxJgRXPYHWyYHmZYpnON7MUmII789Z3ngJaoR/NaNNoZfVwZpRZO3C5iraIZnJ1GqUX3lhj00lneJVapxN9Ij2xUj2VKIlsnh6ob3tOR6vEJQkzvbFc0cqRS4YXYOwsXtJuWj+GghWOaWycaZWZ9ZC3n0ooGeqWnsrOBPxp3tFIawkHBfE2tbuFLtp2B8NHr5OhM5P3tDUflBSf7dnFZAexWqmaxSSWUbmunN/msasnQYZfvM1HP2Xo42Vsmg9w24Xp3oCmrBUzbM3teyJ08u3ZYlAlbbBtIY/z8VeN+lBvt1ulgsWRE9HkPUlffpOQkYETZeyKpdNUwTYZ0AdeEkFg81vZ/gzlASKOCDMw5aYBqJoiK88zo5ELkCpQlwLnI6YY7PjT+jF/U1HNxtgvFNIZURqeOZg4YTusiI9EXT20vdu6A0VOiwiP1iJ9Xg01UWV6ZPQ3y4ohtLGtePobGFf3q0SRWgmPfWXiZ9C7xS7ki0hZ9G7FevaJXS9Pz3WaT41kr5P+FtseGkD5zHi79yTIQb6UCSlj1z4BYN90pTPrQ9mv8JjtjL4UTJaeopo3/KSmpGEBYRwKIbHUnwL7eY34C3oi2zM4prWMQWxyB7iJySsbHZJ5qomnkhU9SpTXSselXKdy6NvcmsytohK7RT8DXvHU7U/nkVFJVw0hpdd0aHr1dGFSPaE+OyW9/RQSUVIYyBmrOa6EqsOlyk9tGu+Mv3j1OMJ/5S76KX5eJBSBI95aCJI/TLORJ9wsa5c2QAwE7UgE+LckhkgRgbgKzoceXGBe8YYgTQgFcl0GOGGO7JOPGrWjo/o5m2YsbTDnXdQE4nrpGIMTNlKGxAPxzUmfLcCRtqfefQYNwYDJnmOo6qZrGkxp3wnYWl0UQeX/hN6IQa4S20fMsOhDv5l9lPRz5WCTUDV8ipaBaq77E6iSbFiTJwvULldg4AAvkyAuwlQrYGOGbDCHMo6FRzaV0v5XmqRhAVaJ+vtmeQpAyvpgnZROx6QiTp9KzNu265bJVu3IFkYvZle/F7xaSL81qcpd/qDErlQiZ6DETXA39bNOg7r6pik2NB4QPFbqjptTwiOzIRUD8+lhsSc7/mMb5HRUmqkzKZ6Rw5OeJ2+tXj1lrGCJGiyximGC9G0AFFGVgAJcTEU9AUhVgTgZeQ4SwyQ6pcFUzgzSECdg3COjaMkL8imEZPTY2vreJgT5jlQK5zCrIAqm33iM8IHfMDk63q+Exm3lTBrGmnGfzxy2r1vl5SOuZMnFy666jGoi3KzoYlhpiM3VyY0IjcclKFB3kQUzNm6qhzbJWEPxzW7358uj7B4s1XjvTqfFW/TXK4HEk/cMFzA+BhhpGKyKyzPjQT7h6Kjseqwedg2SYSoeqDeG+R85VYSt8l6jfM1EceLPHNZa1UWiE50k8lrJoV1Rjrsp6xvls7fmISyBXMug0kwYBsIVLENIoh4dZTysjoj6pWRJWZlM8lLmokrWuXhY3FVmZ/skMPtooeEctJyOtq6MyRq7o1yVp3n6U7KZBOMkEmOx2cS+MEfFnWM7zTzYYcBsGUhEhyazchgtimQLq+Bl0Ho2pJYNbwpILi8iMMyK7mp4sFIEiBkeFJAS4JEIqbG1jylNhFXc+vu3+qJz2rX76oOuEElzkJiM+tKuYyXUyCVNEqNGIxlVFMF/Rczb3Kq72uhphQ7th9397szL/UP62zHeJNmvm0jGwwxRdVRwR3+RFJXEBRwDEgfukCoEwnIZqi1xBK1gqg5o+x9J9geURnLiLC0NHtXaBUwpWqyQOA5FSF0eFbdcnXtBN7lOpudyf388EGTzpt8VpMhaZrYTED8YJY3ftpiWEZN9ebObBF0+VCD12qiSl/aN0t46JBSdK3bCqsywrrIyi2ZSGmFExrbcGwy6hESVHw8FlmwRDwauD5wldLnwagmaF5mr18P6DHoVkBKU9EVt/42gEVJ8+uEgm288FzDBtNBhqsmkXM5nJAtmqR74XBqMkzURVODSkSFHqoqk4SfYcfQMtbKmBbNhMx/uiB20IWpvCckYI4QWhaIw/B6GIJ0oVlp/MRKYD3ZCPxNKRFlocW3jq8TQHiTyE8yn8TKHiEmuYMjpn8g6wR8dL2270qlTGxaglkMo/NMFVlnl6nV+jqZBtMogIo8EUXTjTTjiVMoygyUI1zbs0vkOMU2Fsks3taHtHitYv/xqvEZ2NwhBGH4ajcIVTjE9XIRLIHN8O6iz9FtTEadHVA2T+HnjpJwZaiBQqLHirpZ1o0/sqjYQa4qL5ip3MTasOt5PE4UKMOVFIvGosjWSCizZDgolRYlEsIKZIRLIKBBU09UJItWmMZNigjDcTZ/9xlk2BEXCoBdVI/F5uHY9Px+/Jymq8b1HZbflw3MPkW7RxGXDKxAskUFHxA8SFVBowWOGkSD7bt1FwioxwnbaoL0ohSnNW2WWl5i2VlPkuLiEo+uQSyWlLwl9RiAtSYcfgFkcCipSEGMyzJX1yf0B1V8Tkn3vEp7yKwn9FIUn4SnpWEJKS2+q9RagTpVVXXVwuSsDZtecXWEy4mwdFHzZwYZMHCTUiUY6aRoa8xnGpIa9dSyXXELkDgyWnWNNXogny/lLrWohFItVJyrSmizliCHpIKei146q7G+KpLTOj3To06v1m7aqx3m9DFWKwpMRaITMUlK1rzYpp50iofUEih5g2NNFBpMmOE2BYsQYHSRNjgSdQHrpjSfRS/JY17CTiIk1Ug0RPSRYlPmaMK6nRS0rUk5lBTLxKkhC0BLkTC3TbaR1OFqSrGDJblzLvGzlRq0/5XiVtScvIz0VlI7GopNz8vKT1vDrPL514VbMjZs2Ily5UbXKEChyocaSWCU2lCVvRQIsSfzq0kSjpQwmEFIniHMGkm2kspJTi5rCyLGGMa1ngsVcPLFcyrRcbaXebVWZQrod/o70Gtc8aXndLuj3YkJT6erz8I347HIQheKxOzFIjKbyCvAijGQkfHToIlcFBAofZLE2bySyuPrSTdzdDTUtLdNHeEnXFRdU6PEi4kcJGFCLaxXXMjhyI4JUVV+z7t8YKnUHFSLaLy9hd+YJFsCapQythRIK73Ue8SvmK9+rbof2Z3T+L2LsJz0nBqNRSAdgZhKb4QgxPw0A+RAkUSNgHQJiioLg0eqWlaQn/K4jKYXp8LUuSc5q4vSlyawfNNg4PvGhU8RIP1aHXfF7O/z2mxYKrlYk3aUzQFSZiZrrUwIuJg47VqGSUq9P9aEqOyGLuiLHWnB1wVWFfKOftv80bKLLkmH7AfTCmq45iigiGBnGFPiAWGRAQfYBUAvMHoKRNDMfAZbY9Ux/COVsFNuEFpTHrCMq5GV/XsgGQkKmozDgZokX6pymEgl9RwusXVCMzZW2vBc0LaZxbSrW0ug+JExQsddFNB/9vl/yzECgbCVMQhGit/LEv5/8WeQoXXcrTpdCHtrleXd1xduR925uJbZWF1GkQ3Jck3CLUTuaK4DE3BF4weBrNq2+9/wQoVaTCIixr7aqwFY6mOUKsqDLuzAsLUhlVpC0FZ05/4kyfjPcWZS6XGj2gS1AtiSo8F8LpjqIsHJhZF7LQMFcz0VQshD61ZvpqwNQNwappKaGVZVmcTU5QN8sXjRKfHIqznyC0wETjMWMcnZIeSj89l+hCObwltf+8JdlT74pgvkw3mKss8kBAACGkR7oweGpsUBEne5BAh6+gFRMnnQT02jE0WL/JSbKlnBGEcxCs+s3kqilKFIn2Ju+8pmuRn4zMJQmfPkR/a2A2Y7qZDt6CKc/dEXRVWJUM1Cpqfh4TPKZOZ8ktFvqn5TyCV44xTRQ1pjhcg9qmfvT10X/63RMo1BI9NYFJavdYVR8PvcDGoTe6HterkauSF/VL3vWB9gviynlVxtlBgUxTlLa895ezOCDatL/Z9+mhX4a23E0sqfkcMpQpDBvO4N1rbDHOcRBQxeAmCczJirOSJBGOnQz5SdEq8xdHF3dyOrBc3EFkakYKCkRSazJtt0REfHEyfGiUwSJuxAgKTlCOtxk2ur73o1O7c7qbv66Xwi23R08Ul4etm4ex96msTK9w+Et2jwjNOkUuuPIADWAKAW4Y//UCtJxI2/WsAzX2GsCyXIiV+R/iojg4BDHAxfiBEHI76S2H8ff718NkcW2n8dPSVO6fx+EoYjB8DeF/uSS3bR19G4WhABakCen2cL0Jikty+HnauqN/praAvCMkNzr6wRqLh6mxu2pbWUEgsChzoGJo42OkJekiPHfWNFt42BPSefR7PWq81EkW+YbTO1464SL3BPAD+AexCAK0EOn1Z/+oVT3bQ0XR8iOisP839Og2gTRpHtEx/2h8qsIOU62/qoJfX9G13LHmgvld3Ety60kpip1WKZO/9UFW3JL910Bc8Dcj0noZm9UKTzL937IWSVTSM0k42CksnBfvWwhclLlFYKlqKpX151Ra1cioz4Lg/W7wI1X4CMR9W+oBBwtga698uNkykyIlO0x5lTVK0ap1nxAoQEGGmHlHFKG2hR1iSjLVC/7M9rlebNk5yVPyhVhdtBD6uvPjxOYwOyokjYWK1rHdeZrTIfU/mc9iCSva+Wb52UcGl03jQCtVOc4eHtlViEBewa/uQ1hV2dSCbShFkkAnKR0L0I6BgFPaHiSAgwiQMdsCpAwisdDSRBa/r7klFPizcyOowEFqLVpDnNJrx/RRiQ7zJobRtGmu7g7X7mQYNRYmYwFCDfPKCfnPm1VSR4OBIcgtZk9OjE9pNIu+oPcK93rW1pUe3iLNGtJooylaM+mIWKicGpNk92IvEA2rlL6xKbUCmSf3Eaqtk5WdQS++G8UEkoyZdd3HdExJVCDxdTrkU5VLQlGl5FkkBUkamnC6SOGNawbSiTF4tyKphiWX/fahPuUNxz/7k2tfknmbcwaRQ6IgGb0Q4lWT7t0q9utn4CZImeHwAXAGkKkA5wt+hZE4N6BTf2V4LlxuxPFoW0DIHsLq+QZPm/RHgot2qf0JM/ybVseWxFRuURS4REI81+iqiF1Lr7dKbVaZpqzK7HBxXWhcIn1h0XYNKwgF6zcFDzm5dMZhOJzTMIwrIyeMd02MsWzl4FfijYK8gQwEcUoyD+Hn9lARLNal6k96oW86nG/ttDjib7dYf7Bb5E0PGY/bO76TWLSeqzJQC4AlDkHGAowy0UJh9G1JkLfn6CjgnLBbE8Mqx2SWaURFkutWszLKMS/7UkiLuKL5RMJkbsA6ONFoT+39xkYqRQJNl/X3FM9iSm5/F90AwMnY2FvEvxDuHfWuaonzq58Jz32JDEK5iUK74FM240sqFnpLGy5MnNpOr4kGbip6EOOCcH/Ibn+oayQ24TQv5+CWNLIGjtpB19NU5S7iMceLaG44sSPFIIgXQISlAHOFGJJuKQFB4j7r0iIkSqkNArBCEETM+kr6jr8VQFskPtksNv67vx1g/HF7KP1quqCxEonKrA5W26/nrgEpuaYMrJ//jFCBIRVvo//Er+Dv97AIgA9wDzATYCJANLBCEEjrQY9YqmFuv4+SzzR9UNbx2H5+AM8/DFa/SVIeNtPpBOpyJpjKhcCUCo+GKRIQ4KUY9LFs4IB5XaC4+3DN4wsJ/ShUuFVljv5iWp+K1aPHNRBbVvqhIKH88XbdDIo/wen11nXue1DcIY+xKjnBXhEO+IaFjC6iuzvfJQa5SF5KGe0oOvKMLkd41TiViwy9A8/OE4iG1Ucq51WhX+1rc9hWnPIgqKroNxlGUQie6DlGqFONE4e3PVW43IeAiEUTw1hjE8hotemj+kGvbeeXqL/e1Top/MQXgK4Wi6hesmyJScVEwl+4XiTc9+xnGOai2cCpauLSSAzqN1NA0JyaUzeL9SMXzTXWI2qdxvBRbz2XWqCkvb58MyOs56nVTBGQFqHUVZkRjTDiDxbMtRNnkKuko35S/D9BbHDcBFCQrV92WJOXQhqlOh/jHDNbpD3datmBaRt5LGsKYoAilQWWnhlKzzN6XqlT5Kd8reGSy0F8XRIGZesKwSi4TUrfusRrFFLb07hrg9Jw3QDwzxZgkLA4WwZEOxiy3S/UJJnWjyYn7EomepV4SJrYykcFUk7Js/fvtdf7RMtR5mZhsSvjWPUk/XlPFl7VdtNE754RYEOMcfAkGRekZMtdzsCHPBUKYZ94xPUDtS1GcYSrWmbxdDmWX5llMvqRvGy/Fj8St8H3eV2+Bim+XhRP1lpNGLBN+xGtJI6Wi6D/3Ossw1OS12NycMg5DkelBm5tuamvPE2GW2C4ghJs2XGgSNCMN3bVQZomE7RO7D1N6HmwXWqCdV9J9rFl6oJUzjEvnc3gFdmVFidpgiE3n2pv27PZ4ZDUgqmSK0ZQW5EE9GDetl004DURqysuVcqaux70O5fq6kPZqzCFIKU7DMTG+qqjMe1E+t6TtioPpZVjl4ldJD/cUg/A2AtBESKPkjodqNqZQshPDWg59iRWz8qrs9GATC0cmLl+LzoHpgOYfYohmuEtGUUTMEmbiFCCdCggPj73hFpBPbqB05178m/B6OaqVfHUtpZV2DJbs/F9MtaLVCnPelnnIU1HuMQzB8CSuB5iH3VwfhqfizIUT4tS3l8p0YN2NFzvgP43hsEonIKQ1fRzCSW2MfpMvtEwuRYaPKTqtQ+E0HAmNWN46DMaD4UyWikb62lOnsatbKRSqXtqaUiMWjs6LAYDsUikcK5hJUxWVvtPWEsJeNyPkUsL1bcswOQrbqFyLhjflTxxlTL2ldE+6Vjfm/pIrVwbtLr+nm7la4LpU6Pp/6VU0sNgqARSjdHgzbRxG0OK9tzfkxUxp0mp2qgTYhxCzfMORGElmLmEk1YtBWEosHTWq9GL5yS9Kx1+y+eXhl5q8JHpH//NB/TVJC1dD6JhcMsFpd2s6p8OUSwnrr7UiYE7kk2V4CUhEGs9mMijsMQ/nx4GGS7s14TL4mAS1MtrRGWQ9E/iuz4zenRtRXrNqnZm1Ga/hD+mEwqd+DFmxWeXeoIBm0aRPZ4/4WBGTEPC9xdczk3I3FvoFHmRCNrM2O3zxRdiR8w9qt9s5ZcWhNprWs7VJPEpEnkZYKmCvb2jdVV6rpR2SVPk9l5slLpHAgVFgsQz0x4KPuIp09T9wkVdaM6fcr1bRJ7v9aY+bksSdr+h3T8FNZDCtVqTshakc5bOtvtpLZhq/JZrjo8WJIeYqZ41WhckXQXbwQJQa0FlCzRTZKQgcBAeLLtDMCwmHP0eMysqEHz3d2gpzBAVcPp8b0iXsX5S6ETHAkSOGuI1SRJxYEHBI9Yot81+PvoYSyvYrWi9YN4Xi2q+Jsvu0qq6Mj4LjoLnxczsI9AqfCYyddG0JqteDRQYJYcuxQs0SIeQW2coJGChjXFGCB40eJDGmlFMGn6xIsYoIdwo3ZZfexX26IsT2mfwT3JkwjA8+gQ7opoY8MSUcKKDRRIcPJDlLUhf0Z8JZc8J+FU0V1G8qj6IuuuvO+6tSve9tVaMnWvS9GSle5C13XrcfcuFTipNRGkg+4QJvmWCRdMoWQqkUzrLhZ0gXfKuPLU9WxqTyFf4XnKeLY/ZVufSJI33QfeffJEbnH0iHUhouPKWGmrGNJGCBYYYOEEGRKaajD1Uqc9cr/uYUC2uU9+f6Y/xsyfA9hT8/tdTl7uf//laFCa1l6G1vn+5tvsUffPplXXlSrBD3B5xxhLxgsMDDQQ6JcTGEmhYUwQxZXVmzllRwyhtIu52dS65EyWC4KPpePt1miKJ4QPvWR8XcTExVREhRV0ttdmYEkMEntm620CUDZnrRc1anI5DMG+IoNXWkudQYzVKBs57sb9MtCB0aBn9Po/UjYGjJ2zf80Plt7EMPw6BiEUXQWxkfAKB4p1WMgakYRq5qGtb7pL4/TeaaZXe1CGxbqCjtVDgsE7Tz1TTcRjI5UvlcvMFFq3zvtNpwNOtt5fuxFXR9tt7Q9kZKjYZkV6WnLhYMUawNxWZGImZ/IjYGxVRhlaUIwuQm/0FRW86UR0zzCkYScqs0yRTpPhU9DS4W3f66VTapXqz/7kiZC/NU5tUEVegr/A/wITmJZnHmeizLKFvFNnkoFWkvmBI4v2ATaNumWzuaByWjb1GQjFVp03BBsSiU0buHaxiJV7+cGGettJMeapdQaOfu99/82/xRy5vTSApvDwlMlxKzGQRgLXZvHZXrZIoagg4GYMuVXQD/K0ujZda+TH+MuiQzPEMuYhTavpczlXILHmjkHSOmJWpF+KJa5F4ca95JI04FZE5IL8gQSXMHhI+8hDuJMRUCVTTrOtG9ln/L1knieVpXMFNx9iKTuAlVOsnWKi8YlDtTICIqHhJZodKg7xIEaucZDig60O6ZYrSjq2BXuzFomeoCIXLxgJT4Ep31S6q6Ty/mjsWaTZDXx4iK6V7yIVA6MdNd+hK6dSlIGc1LKUxZDGkL/KQ/LBfvfdm7cEmOfgta175TFzg2KIKsyUQWxwNcDEBLGoIigMR9Hpj63ZPuPSoKLTUNqHGITum2euglZk5co+uBy7EjLKJ2xs+UtvhoT4aOjwp6zvS2WBLR1+61627Q1uQ2Yi9I3KUwxTGJadhw9O9o8P7yGywDepF4TVN0XXOwuaUXNaqWfUrJBWJ/FYS6NCNAeXnGmqLDld39SN4f1j4aNjMcwVY0vYJ4yxe9BJPYqnvnrRpjGIeyulPuE2glv99XDj0E3H6nBrL7N2vC6YntbSKCx6xVV1ho7cTnec0oendiFq/lXo+5aqtFWlHy0WBhpki5VVxIOqKeXzx54bCglgQgMFthdoIZQIkwbgZK0JQr8LICkEy8heojINZ8lwqZOqoClnIDb5ZP/Zt/yoVZkTP7MCO9SmFQAbRcAJkHCLIDA1PmHfbZBUETQq5ctQh8VWEiy28qWEp667kRGQUNmRLDklRhIsqVKi9DsgpIioRw/3xPu0Uu3Fk6nnrC5X/8Og2VXFbIgmXWVCZJiPYIUnXIF4hMbWUnR8cSuNVNrIWp6OJmVtNTFXVqb26fDIhabdQUzB003U2cRh3uHNTOvVWLJk/3h/ctq5K1I1MumKdqJTp5AXC4AZ5JhtDcYAgamSeYzidvy+YmoeOw1B7CWHqOPwW3OlYAtcn1UORegLBUSGtydBKEJpRUsUvA8166igiD42y+jveJxDE1DNRmKpBUNidiVEzV75tDFg0orR6kid5NI7CkCicjJPHkbj8w13bX0PhnyaOWkgTvm+URmlaU1AgotrWObtVEX4n4TKsrgST+llMGdxUx/IIosDv4J7OAV6MAtFYN9ge74F2kHYN8NxmvGZNhumK+wXEat1vkfBKfmaiy6Uj76CksEfHoY0K2B2VIiOdby+NXLe/0pLdSv1HwvnDNxpPBxaVA5BR3FZyGElOTQ98AgbieXhMR1soNw2lbtLH0CgnwtgFAE2SELgXSMoGleSo1tEozeaN9wxe91LZ4K6X0V+d0lnkrlprnDW5xoaqFdFI0uRFPgt+9gaNImfFdQicZac85cTqClDoItN6JvTOBZl9NYVrPLhSJGoJhGUM/kIDS6fnhRClb/i4cUXCQlt/T6Wlb1y+VKMivTEj8ghQxZTgkN72KBaLImKRfYCxQy2i1/6KzRU2tyZ3npC9lIWHDQZrdH+jP66N1tqeSTKHw8Fm8v+tf9Vs1kpPAKpDG70hYY++S5dUTZmcGpIjphK9+O8ZLqVHc+a3q7ouQhReXqo/XdPw3GTimrkytmeqkaFQqOfVd8fFdyIC+Y/7BdY11ARssGsIBnFJuXCPWPhhwE4ztSQRl+0NxZ7Hauq7iRJ2lpZXpi030YXaBGblByJdpHort9VKNVZF1B2nsXc6mDPpgpg2Ma2HJsAnkEHJ70nlMnf9lNQPQd+dhEYRDND1vS3iibFBJFxw681jsnKVCQBoSM07aMLTJ0d8n2bEQXrzBED8QYtS8HBGRh1OjMmHGjJIdzvI4DhwXNmdhh3fOEn/YykTiBulLM2WcEbGi5Evvsuu9VVUxFqkcmyhrRRHs2BSSk0HYI9c6gpBVk9bDO+efOJ0H8vIacEl2vxM7IshuKouHsHYXw2F0fnF8XEDwiFiEIKUa23+QZXnCp4nLplJqwe/rJb0RpP4NiU6nQL0n7L0RVTpMENFcs0KxOgQ3ldPY3SEb0sfZ0d/byqpvnzfLvT+VXXx70nXNLUvt9qYifwmyIIs1D5LpVwe4p0oQLoIlhPNVJlxU6gzWojSCT/pDWFkrqjwuM6WmFXN2leyIo2iEyXp6PAamzmCdFVoRaPuxQ5Nodq0grFDMWFYQHYgI7G5PONbxjYe4rxqQnYJ4xD+JyNyGb1LZgrdTVlkyE6cwqwogwxDHW3ulGZcBmNFxEywFrqatFv5UzWKbpfyTb2mkMVAdb6zSAykBtIbX+r/HwEiku/8qUNrpL5ZQt2YtWDUi8NEFexqUydQtTdXdCr4N0DNt12dKzPbe/m+iwl+yS+769pZDSTvAGETvJMSuDstlw4lYI5gNqg+DMCgVhEL+jFOltY3qYEXChMouJtl3BdoPB46B8qBYrGxu0MUnPVWRN9UyoUri/wjy/YIxYvCgtCiCJXENyUoMR8UiBHNeQ3lL1avEvQh5Xmb03D2AB7sBv+ajikYNjokQjwXuhquZlzN4sTuCWx3vvut3inyIl9E2phG2ULBQ4CZgE2wRQlX6RPolJG5NV1cony9z5t3qlm0oUdUGFuX26Lnqu2xqiKamJD23PV6CGMRpwhdlIIZwFtxGbSDZMFlJ5pY1cE4gLSSWNMjVNelNCtr8QlEfi7hUomZYLnwy2BxOGkeAoFpgjXODDtxNG09kvqX6N5I+Ul+iKd4hZT5pldFzdFnrIR3F+7Ep7LUJKRmq8CFcA1qBvnYTWgSGYBYDMAyYqvBLblVot1tWpbOh3IyffycfLErryAlu0LeTkdiuKn4qfHpa9SlD+jNq0n3peKJul2KnGXTu89SHMnZ9C1cl38BApSYJWiermVHWpc1ifAbypTuU7J1YL5gJUoV9qpzom6DoUgSDUdBqExHEZE5lUQioTqO2tSFimtrn/+MUIExZIBAADvgN2AyQC3bU81YCPz/Z7uKt2OEU0jg4CpUbKiCfZfmT3w039y1+30+vWrvua6xPLcqVeWUYcJNurKKLoIM0pG5T7yrVJezKyFadkpehNSeHgCIiHnR0MnQWTMnJ0gPmEjJPlndWQtWqHOjjW9Ci8+8ysIIjZQXMEXyEeCPAmu/+6ev/Ltvmcotis5EElqMGGEttSQTrDhDdm4riZd10Knxd0IkRMVNh+wNsEgCQQCRoDAcBISGEx7wQ404KdhTaw2RIlf9r+0BCzDCzFHhIEEj0FFaz+VVyf3XhFMnAq6uXRVPEY+UNWIJIRr/ecEEIVQXRIl0xUiXJiZlsbbG8m2UyADCwGEQBgkDCDxrg9cGDYtxaNa7TCvi87r2tY8JXFLIFuhzhrRzNol7De0U+7+7szV1VF/e47hbyCiEZZ/29uYwlIoZVI7NrvmUz6ptMzsiz2QQHgkaIBoNHFDz2hBUEMvLZkuQduJqo/UjHGhBJjjUlHmiSFMWp1FNFvP1co2M/ZiR2rTNMXxJJCqFeo1pG2sTtXCLbb/zK51MjcvN1WqK+WCRw0kYGjHliSg54whJLUJx/VFWybVGMLHiGI3QSUxya3LyvVtmSO08ur72mnW881vfcVoSpn+7zx1aqSCFU9kdkas5Xnm9//6nKfEDzQgwk8g4Q9qnBBZI+kpVmPRkqFCkIzutyV0drHcxt+atosb9w+F2fqy02fKZ1f4jpVFVF5ql7pOCaE8SUPU1UUqUMOUMYxTBgwxVEEDuGajDqiL5h1ulirRajW7cn8uM2y99K4LkTKZNwm17jdjbhUVqr6vSq4mEyuILILUlxIp4pp0IK1VsQdhTOxVQqDrKKWM8i1c6LItkMZbITybpao+koTS1yQWyrOKkRVehWOMaVl8F07w7C6Is1rHI24ZwIntaEKDBQCBQQkDA4M4yhmEYIEZwSicwnKI3MGCmKIx4XPNKnuch5cmR9U60kUixqxW7C8VFnpKT1su+JfDm37KMOxFidlTZhLsYwihPhORYSDKbjLH8iOTpYmrpzROkT822JyG6HMsaPURC22Qhi+adL80PoFyOIsXeTNUyEYpLk3GrFJwj7s5P06fxFIipOmxHTQkzaZNonTpSZKapSYnJOzQ0XGcxPL2v5dsojzqTkTs6a6txl4y+RSK3TqykmvI5OjZFGckVsiJUR9UummJ0REmI0ZFGiU1SXVLVbXYmti47ypRUTWYAoenZPN8qBSByfSLPSnGHOOrtaf6aIMQMlC/X+o7nY6LStuV3EIyqm/2iJKpF18f2xzO65ls1FoV1Rd3EVmESRsz8xZJkpBXEp9CRliHSVGm7SK0EHCLZRgUa7scatUIoT0YubQSbaTKRWqVKrOSm5JFm0qESt5Pa3zUqVFnZNpVII0KoRhYmhgtaU1DBNRMIrqEoEGCYLliEMIeSxMWE5QpgQxIqE6QlphMYQgMFxUEcoYLoFDBOCSopHSEWWRiyrElhZTECMCny4EaYRxCOEaE0mLCDBZYSDCLUyMWiSDBVEZSErsEyoohevBBgWiZThMSJaTRCFIM7b7tEt0J2nSVOjclpqiOEFNe00axOpFROychSWc3gm+Tp9tKJISVTHyRETpLIaoiTaaRFSZu06mKxE0qdM11RnyJYl3pFQxcl7Ui7FNu2qVvUjgxZuSI2iKoj4RxOki6JsRFEu0IsaJMR25PoiOS7siaS5SmRDWI5VIpAimn7m4mSyxmutToprnRUxDNSwVMY0i5aTDU0XpSab1hB43RCjObykZrbSKRSNKjNqhZliRFbFsRNb35hMol6VzeZqbKNfxWRGUn2cISnbMoppkEiqic4l1JRJXMST5iKhVtQIYKDDzgn2KZ7ARIQfK2QRsU5MatFOvc7yXOQNCF8a6LvnTG9V9lTKUdqq3JiG4xDUEcv6UtqCHXe0T25iGVaRCf679WZjFo/Od7/V5xPMxs4lzm5lsZN4rbThFTrOJPWVlqiVkQie3Hooouep4hEo99Ohxp0qlE/qYrk5grZLYwvxDvL3iXIDPdgk+nECwCgJAoPkkDg+zJkg4JYRR6ihauwgXfFEvKDNeaYliJQY1fGY00QlAiGuLWUxHGGrSt4o5oYcJCxi7IlDyQin0IxlmwoXogqLFfqIi7fqHMI1a+7MQj75+YjWdLXPfboFSki9HlUcvMCBYsMXKiVEEmUKSLw8QMSajlus+U6pB4qzy9NMcijbBP8i2mtyVYZIALgco/sB4dbEAPhpVg2DDaosFduMExBCG+3/TKlowQ2hCNFY5UnhTXf5pymVO33b5y1oz7eW3C1U5dkh3Ln+2mspqKrNTEQoqv0CZOQwDqTZ9kJmGLaUqNK7xd4VJF3a2FXIx0rE/hCTPTarHhDCGrQZo2xEl2REEERIdJoaacjmBTwlAouxmZIkns1ajhkErIFaf9PtYYdXJVF/jxCVbopr2OGrpLukcQeEN4V7Cqn212rYYaKWFxGE02BhhHN674gh834sRqtJFqX2pVnEqxS+UISrJhqD7vJq+JKSKk5oeNa3dD5e7xRBvajKqGEEGnX/EpPp20EFu2xm7sZEmsCvdxQccekMitUCBq9uMto80cjfqN/aSakZI3jwUUlBdFeyCzFV/13Zgx7rLtscJEZyVsxjq0iM9pWggjtyFJ45I2q0SupCGysjSyMJr93pHFIzKIkYIWjSWl70Ek1U2LyxEo4qIpsMaI8NKl7Q/54lB9HWcrSej8njWPlEv7Vrkh7XcNwumQKZSffT2aeYhkZf4USao8ybx604d3XjXHL/bR+9RpL7PORySTG7tMruEodVjoVuYYxTTeUp0/JC8EjiRFvBXPnqPeK/SjtBKKaescU50zD/PTcJYLpsM9MOf2ml/jlke53Ix+aEJv6WUjCKZHRTxyxVFNNMxZYtMRRUMfT1LGEyig0sTTSQsnCFNy8pqvlXWWEDjUVUTseWMCSNUyZNggw5Vd2CiFWtETO0hQo23o3UQaWMCIjaDcgQHPj69IxnXxqyP4IxtFLzzd/UnRlsUQ7Mlx+t9pW0tqTbuyHkYPCK/slTIkFEKzm2z/ZhD5jEy8LHIi7OucQ0gU+XnBxyRXpZ9Vp4oYL9dzUhrflkSrSCdij/69YEkBdZMrlSJAQg6XFXD0BLFy8n+lCV1oHWRBD/uRXn9RCWmOmXFibCJVQ0RQrB2FZIMS7ROW9wGlqsnaLCTn1S/eLZWPYNqliG4surXVOGKzIFxOBJpxioqVsrwU3thBmM7PQI55NpB/BCbrRvpBiJYgJ7SFTJhYwS6vNx1GxCqIsJnWhD8CW0XiugWoiQZO5184NQb8KifjktC2215Yp5PUJEDFzJchE6sJPMppqW/dbMEFZMHCZOq+Glllr1LzbseOKlfWI2QQo02zzevEnWSpgworlAVZQOUWEn/rm0QslHV7ozU1UDoPP/4xQgUA0r//f/6//j/8v/S/8W1N0VEk+/X+bBoioWVdgtdfkZFK5khWRjkLECu5QkUMIpxmii1LmisCUNkMTtRfs2m7KJ7SRdPT79W8+pjBrC9cEFSLPikG3RBRh11ZI/dDy5hDvjBT8l0klVvMPtqbb2jN1gwH4JKlFAlgceRYEOcVBJBXNIpuqIMM2xpX2eGfwg38MmvjCfFjkvFr0JwwTiFSmnDBsXDMO4OhJwNpy35kCEwECEFiJhArhCmTdj7cO9Mn7gtaQc1qzSJkzURgNftPzA5LDWhwWkEMNaCBzgxeUwbpXsDtWQVb9blA1gcIQRZP+C3iJomBn+kl+VLOviC0/oirHXOnBXigZoimwkOXCho4ibVQ8J8QEcNdnBqqRmqUUEEVVDidSE26px67ZzxnHro1m85XAkl/LCifucUxRbSu9IX/br+l68xSXiAqrBTF0SDCtXJGSXJ6W+jXGlLVPWid1jlkMKWvXkEX1iE18U9Yq+0gntzBuBJPnYRLsiHltMYpCDUKy6WeMpBRgh9/QhalOl4S4MQPINpxbc4ox0hJzD5KwSZpKVY4sgr6KtsW3UiAINWCJKUC9HWB4wObiCyXPD8ST+wx2/6hNSYRQzlVEppg4OBPhBEs0Qi/Qag53S4rnR2as/OIDH0c2ySX9h61ihh/VPX5Q5hgq+yGhlJ+sRFiByQlTDaUuuJUCGk5LxS0HDvWfLScGZEp6x7lGcQr1wu58Gsn1wUTBaPlRmfivt9ihSmojBdB0le1I6ylCDGJS8QaJJZZoxjLjQTUHPJmMGlqHW0qbQW5HCdYRJU2EEjVyURHuUihJ2R7mFlEULw8HpFNWcIT+16Fk+rJNZ5ZxxyCeRa9IkiVrBSiW5sKTyKN4820lMckRbRfBmmCNCWENtwYko9758tleqiEMo+OJt25MmslVbCZSbhXeJxlK6zMamOJnnrbEldmmwJq1XnbglLF2q9N50kdXxoxicQkSjQlyMJTVqSlRmGp6ITS4xZ+slpGuZ2XDoauSBWtc7LRvOw+CMJVOKp6thiWmSruWtVcldI/H3NdMweoiYEYjFOQRhGEkYyCInMEpQx1L249kfTkxbYalNk3yFc1qkIKYqkGfHOoy6Q29StIz+iMy1lEY0vAmHrfhRMFYYCDzo1DG2QI6kqBL686Dm5BwhhUSjlNgZk+gUhVqXlUwZYSLBBDMxmTCbIELmvIEtJR9M3hDGHSFYOLTOVMO4RY0YNgUhCf4iicmAhKxk3mbkDOEMXFWCMxhFLAqmVH7cYUwMUdWRkQE0MZCAa96IEIEFXEUHCDIRYxNO0IdhDWHfQhW4V1CoBOITYINkBCYLDhCNVx1GDkEQ4QJBAgYMVKSoCBiJFM2jO1ikQi2CIhTQ6OcZPn6ieEIQ6HZubjey0QnahAjcbGFoZLkFZykR6RnEEYadqTc+FK3Hlyil1ylCEhqIw0hmlxSDLIxOZGCYadhLJo2RIVFPvox7J6RpqgbKYSEiJxCwUtq7s6OVNqhyNifGiFITRUdvEs1Z8k2KJzEaBuI4qeD6NieNsLBqyuGXQnGMfkQq6VjBxibW4TFIJEki5liXOSJly2dp8syiZFn5vkJ2aQyfOQqN6g7sURoRHczcEIVqc2UQpHpiPOci1iDE16iDkRa7kqOsFGFvbKWCRuSb1kRk+qmqWxIT9HOMLjUhcuItKvOY+aQ8VF3YkTZDWpFSnWFX75FxExGqZ50VLPNixgUYtezkcykomu3TmOZuxCiPLbrWKRa01NH2UgrPSX+pJozW6t0+iFTJ03tV5dC6EUmXUcQKQUxdtEvj1FVTDiOSoX91B4PyzxohEiKibYcAgczjLTAUi5HTiPkUxC4n1dPLYpNsWbcltxUu134z5imHIdifFEla+t5NjTsuxxB0V7nMcy8R0rs6OJeTyRPl//R8q4rOlj2tdZyR18imDjDkvnhDhKhFJaaoppTKRImR0mybEaRml6fW3dJoSM1NGs3TopimWXXMpIlNeI7aaIxzS1nJY3xCsSspJEn3tXdHEOadkqaoQ4Yc04imapm7VJNUUljWEKmXkclRMStITRJtlaqzp7OsO1dnNEu1zK2m0m45AyzL9/2uExGiDCHaeEDFShQRQuEyWCMSooSVFMWSgQwkSULSxeFjAEMKxGCYsjBUIkEyiapLJOJF2Kn+lSorfIqOTqy5LyfT5WWTssjo7HSzzK3SyVnTzeZ0dHa9OYcEBQMDgwcIskSxnbfbp1M5ikkkTdk7FVEdNGljKkrKbxPpN2s1uuWpPnI6T1rGfb5WVik93XVUWE8knSpoSbzRnN4I5iksakUZ81pFSEzsnQWkIQYFKoxYTFITomCMoVl4IwkYJSYmIhhExaEyjESGBAZCGJ2RqGCDXsjJpkcu1k2l4g1HbcfBlOeVhSHyos1rLcufHIX+Wyyfe5LrJ4wohU8eLliOluRzHTuy6oqLCxFNdUtVlZWc0nQ5jlxWFYWVIak2Z0pSYcdCmIQ3t1nzdH0GEtofOOUK+fnRPjr94sQEBkXxxxxWwxcFJhIp6GJyrqiDBjQtLa6EIyDzsoVA653GzEKHqCiDARzZgERK7a6sCKqsELWxvTTE26YMa6inxSvd2Un8m3C3o6c9iyB4gt03la1Yn/tovo+whyq9YpKJRV2unmlcMdh9rF0TJX8pIJeiuSFOBTKJETvetT/rYUWECBaf0UYJlzSiAVL9ca7VtucDRSHyjxRKZOPt5O1ZoyX3Wzw48ScMOWOT+RZjdFOvMTZtxb2ckYtNoMGPHloUvjTAdXJ8pfbYwUf2wCgFPCpMnKaJdFQiS5fsB549cXhHeVZT/lHHsSCD3XyvWiSX7ET6kiSAW84a5mg940PqhfTifAfJi4sUMnOvEGIpHg0skEQfPHVLabPmPPJfdSMkRnbHBomWLtNLDj4kJ2QMKVSmDFd300nOIdrW0hFcfJ7XMSKkjxqx7qbQYVWrRSURPF8/3pN6vd+oXsUNOPSJhArO+W0i5GqhwMq8dVTy5LMKE1ZUXEn7SK243/I25WR7+RssrFXAaaElAtQE+Y53Ei1g1XwDEk2aEQjfQuKZFClMJnYF95s+f/JYf2t5uDg48HMgVE1aPrgJnYRhGyV3lYuJWrcusHwn5pklK4ZLrR0gzIej/H/2mKSwScqNyepUbcmrzXKywL1OHZ98ddKlwxp8z21ZYF9feJzC6pnasXZvFtwi7JIucpwUP0JpNR3RdEm780Nag/lUQXu7JWZbrgYZzEuGoeHAI2YBAGIDgCcBAC0NRKXiQWDArAD3z//jFCBUETgNiAzACrwI4AfgB7wJLArK0GQWmIA9odJEK9oggjR4otKoTEN1q+FhuXzsLRJrHodM5BaFZUxZaxxYF4Yxsb7AMWmNyI2h6gk5dNwWXLqWtDSgAB0gAFwDFuiBxcETk7DXO2NoJNClDRg3IHVdgUwSZAv1Kybi5/82gPYD8WBeRf8rNS85kl52FYV4JaMmR2yokVo0SGMAnKF5UgDLONbLTLLaWEQN24o1X0tl13sn0fq5m6fpwE2gDnih5HNikFV/gQNRRrJyIYnGchPmHaf4tTYrYVykXadt0udLhsSDvVymvcQdwKmlF+LVbvnlrxkiNGT7AA/gCuAFENUKVG77QYOMfUF08lfCviRlvtAnSOMV3c+9+bm4uwuRdkWZXkG3hI888z7qKpq+6ZVf8MRhoj4VKS8jJEPdSrqJK4zh+Sz8IL+M1qkMw6IyiW25XN0rHXrdRv4HNTH88qwVBnt42uiMsBqr2Ah993jPibT/rZJlqkMCjBQpEYQpZRdZILQlvNKmxB/5LOSA5yvbUxGIm5j/eWx+Wsy239kWAJqaC2ikvAXqeYUv5kfeWy2s/egPACOo4VQpAxFIQLd/n//w7jwFUW7CKuFRGbXPuj/FEt6dtbFpmrEjeCoJRpK1TnJoSKFGvsT+K345QEmb1jG3UpIFt04n4iAhJ1r/Bnh9MAemqUw5wapzk3/ffdzpLqiHvgZ4VBtsECc7dfxRriK69DDlWMYnC3p+WoVPYa1QUkQuPlt7dgp3AsdebzcQsAVhY5SDwijgn1ahBlaFPPxdWsQIZaK2BYC0td5pRp5FPMFBNeUEpEbeg361WRYkzWZfizJ9lqGQ06LI4SgtP+K98Fy6eMx+yt9J1enpK3rZcummBosJ5J986cKUzGfyFX4pH19344NgrZwGSACjGTXKBmfGWSYhOQOnb0EJP8kwPnDWy8YxCTmQmDVDQJEo3GnB0gcgRZCid1vT0iU396PTFhLYzMpk+sYHOqUyaEnfhPbHXGXgR8w3ZtkG8GsJb/kYLveeH3TAVXGtJfMp/Q2dy3glrgEKavmhQrNOCz6qaQrDw5qazb2tocu1LSC87zc4209EtTzBGc8i05zJ3owrWLQgs5gAEwC0JQAIj4oQmDPLd18q6NwZhMcWj1wTOgttzQOBFKEy7sDha8megyIviCuovcNoJB3sXfUJBTxEBIrr8Wqh8TiQZiV5NvW5lVGdYk+sJtLaFFFXZG+1ot0EIYHreEuGQvWRDeYvrvRvyyiDtfn1AOyMcw2xJmS5Oewbb8s7DakXfdud1H6qDz+mbRw3q0RuHQylvuxDJsKKyBgCtAvzWB5rRYNmssQyshIuoJeXMhMpcKla+hFRnCFRKqIPJhHPzIuoriJ/CIGHoTikMTXu6frofV0ywC24ELBbybogI23zlghEeJ0hvNM7aArwQA3X+RRo3AfunQ5UrcgUb9Zjy+oivY1ixF+5kMoNZSuNYqdilYImyj10k6F0ui6oZVy+nqhJzYig/ki5bZwd9KCxQOR+mC0gXtpX6GXrETr/is7dJmFUGiO8pP82il45aVDnjVrJ9wVHgSPUwEw/DaSZirNs0iRc++/kZs6ZNFR1NoeLZjGj149oK+VKYN31a4hJMRHKbdZKWT6IGu6nMQ39rzELjK729zeKXNF/nMcj3U6YwCILIwKXFbjnoKaqii2SZpIpb77Jr2hRt+bm6PiMqT/AkdPnVhvhbHtPUJ758pBZccYkJ0vX6Go3RCJNCc8YePIojLEMWoTHJsuBc1T+aGkJrMFbJgIo/nZsD8k319TS6k7ZqKQrFmyVlvlppWF5mOcKn/glixpA0T31C9x9HX/0hJQ98G/m9/J1iXy2UwZmiklWvvFn79EBzHnl5aAyoukJGtC4F94MrmyZ3iRkzmfBp6Ql5d3t8RElYH5f6dFN7RP68x5amERk+ns+kX6WXbRyeQ0GefRklOmPGsaCFF/c3u8LWCoKGSS5OT1Ez96zLyvCcopzt+pk1UTAq1oUxzF+jteXiSEYYV0EzVlTtGkjEitE1I0RVmPXFN0LgGNwHo3NfQs5xfy2ZPp4oTc2DEp6XRN0kxM73giKcJPcdDfoEzsgXng07d+JddFu64q9b9Mp4mTZaoVxLJ3x/AmeIytepaTQb8MsSw1CqdDj+0USEaTwpKzl7LHhMlppFDEL4LTONmQgehBIGnGnJovFRHDQcbZawT8jFWT+XFRrXu/1lHwM4VA4mRtntgFX8IohFPqrEvESyO6iSxwR/VSiJuZvxpf1Rhld1pDeJwkmB6qhYf1BzyI+Zk0jM5PRo5dFTyXEVg2JUlyXohkkqebS/OdDELlwoBlHFhr+/n9Hh8JnEun6wa4aeuKbqmz3MVxob1ypgmcGMOOP+Vuj5ajcilGUiXVQxPQZjkJ2akWsxirJxCTnNPKxikJP2iP5Rx03LHw0GiAsYHXizN0uNGjR4RPLMcbEXoouOjKlRBNDUuTAuwRZz5SLkG2GFNcH8szXKRvatQ91a35WUS4VyRYz35158ryEbpQ5tF5eRilWfmYjPUqN6pCI3q1v+t+6woisQWV+Oh0JHBF4ZFhd8TERk2TbdPFRt0JJkCaUm0UKohB1U+iQKE0XCCNAQKMl0/5izi4gUQwek5XclWRSfQQXx285V2SofVMDdKpcuylabkfKtOQi0tN1IlVtfXLc/MSNS3utVQ4korhoWcMBI4FSwsUJiD5MmUNiJ8SEiBIg6y6YdCrxkgWcbOPH3TKLrT7bjbqii3XzlNxussy+W9D1Zpx93a1Vw5z550bzve1udq1Oxxcxlr2k7gISVWIxGYlrXlqtalLcteuZaPtp/G6RekxdYXYOkyRMubGTLzS3JgiYFDLjqVImZOCQo2IrJmnxo2VJI5qpFCRcwgwgnpn0ZKEUE9XaZTv1FOqNel5icrfFVkdRbdRfdfE6H7tnSYiGwZEw2quNiYuFQiFReZPLIquLiZUnR5SUW1tgn2SJGWiqRkm0aMnRYibYLD7o+YbEHTp0wJnnia75dwSLkxRD9dcq+6ogiylgtoopw9nWo5+SzdNH1k2arszs/fZUqmJkS7rMFycB8qiEftqvm2RNsXOj4ubNl2zZ1cfZFzfX66ognitqZOMCAsoLcWUSFFh4QECzz2DRwSDxILDXD1hxwUGGhjBYsiKTJEiCCSFiWSUf8rNruE6isJy+f4RtErcn1+397VE0zpHBuu36jrJsRuRfJrlT65c+26TNtsmdtxzJuucu6TSjUXEZSXcVLOJCWD0TyDRJokQEMCiR4QcOFkBhYQFCwoJaHpijTAwkWNSUQ0pwhFKeUtpqNSuCKuHYt3n8jsv3afypPrZOZ/5ci/sybVFek03RuBciV2FZbGVBVHp3f97zSOknxtDETWEmFFFEkCmijTDxZZ5QQUeOMFDRokUJHlCx4kICSBrxbSD3iSS0lEbmFWkm7JlHxHNkaVVRVdqrfq67c3SaJdnb5V0+qLivR8z0FyJMZInSLbZN02y31uN0NuPpV1hYEWHjjyxd1M6wYbJtn2zhloXTuF0axpwoIME2ySttNgwrSWlGrbNstIs2XezZGoY35TySs2uyq3m3CtIjP6srPCwv2CG3Spze8wNR5ypZNrZEfiMNn3w2kHV8/bUFkxgA3DCbCE9AbQRM0rCCwNwRAQQCUASwgglB5jU0pIuDSxIAUUK4I/+W2MCYI454o2zbneWF/tGp9TSTYqn9TLMCsUFs1C3kluWsq3nhqdL/3MhRP+uUkQ9GtnS4LD9Thrlj4HddshtYhK0BrNhUWy61Q0JIDRnRIXvSwoeIjFqoxgkRKRbBVz4GnuSQLUMIqQQ67CFbfTxW5pBSzub+Zf/M40SuRk7X5V0U/MWt7e/2hfRhPUWDKNpEKQTiIwqnQfZjPxFLzXebSpoi0ytMDWeOqLOlTtkchFa49HknH2PC53bwtmWWr9vNsPFldYeimXOK6LxlpHDdG5AgALcZUjKeiuLSsLRQIwCQBnHUSY8n3EdQESper45CRviY0t6hlnlhX/sdorpH2vmxi6oTY6x5miiTokszqmJ6bTdHSJssutQXHtuuyBc1jtzKDXtA/qEnkQlTEBEqIfMT75laqIKU0jvCpv+lJFGVQlH0rXq2IKn+fDZZyOtdPSCp2/1usb1PC0PiEcJ+IBBHgxKHKjrLll2350BU0hhbApMLiay1V9KNDuHWmoOd2UQu0/mk2mBQA+46GdC+AMWpqhQaemADGHwx/ZDIi3KoYhwzFeCn4y7r7BFpLY4IxQ8qcFnapzyEMJWF0/ODkq0cmbEgeSmQyPP7jVGxlrON87RgbwP+7yaTiVL49jDF6V3faGIxgsXe15m0xisvqx7KiBWgGTHDjP1aimot++jTdB4i/usZ+bEh0zntBrDEGt/4eOYGyW/OEjvfBKdxbZ3Ij2AP8vRnS4oCtBLOh0uJKYxEJZMu2HwcfYdgnwZaOTFdQWes6AK9u1M7k9cEkNDNgmG1dA+3sGh2PgQ68E8K8jpR4nDtJs/dvKZhDG5FM0vWdfpKEHEPqxlR8zD1w5oEPCrzHwTUCxBjJvqhQlpJ91WObUWIU4o7J1cKlMRdkNiR0TvtJufXyji0CRRpbm45xbqxK8uPE0JrUnIrgqj+m6ATxbUwsPzD3oykmhcQb9Caa8n5tZ9GMYQhKocXlfUII3/CqQVF0trSZXu+3cII2uZ4LtSms/slsEEyZg3K58g1QfFa97bL/khlp5c/nRANjoxhM3mfiG/IBQQ1gNDCsd2BiQhHGprNSNU4RVy9SzD9ZkwT8EsKdK9of81SoMp6W089A8uvsUK1Olb0RdCVLKbUTIT5q+qUl5cxP88+FKmCoKpNFCzI1UvgdOLHs5q1MEdxORtkacbkRJGqW5byTKIpopBlOZ1JNLhOL5pd7ECEFP0/i8uSZgcBylCK3dnlfaCZWq9lFgyFAdwutYWduzgP4VA2UC5TYhMDy6+542R+XgN8J5e1ssSjQAtBuoyWkagS3cJGX03LObzTmXpOjgSGLA9lOCXlZhc7OA/2sFyagQdmxkn+R8vzsGqJzOfzSSMIph7lzEnJjlBIlPd9aDACaoqaKCoHFg43tKXU3OWtpmMltWxaXMu2BBXmw6RDcqTONLtmu3d+KbggueHTQezfu8sEWBhgmkCbxFmVI0Z2vx5VPuafwn/k29OnHiLqc4HJz9mZExGLmIEplTqWEV8vRCwX9UeS83tpeYnLKB5hIUj47HEZbrCTjolTL8hihfb1slWgeUr8+FdfiN6wpxX34ZQl5PS8Odw/E00Rbmle7lb0/BhX+nltK2WIuHtPiT6Ujc/othcR1Vq0f1CHqyXsxbFA5ZcQFWYxswAExkPanwgfok/FOGz/sO+MD0NZ1jnadCLADU6Ei4jYy3nGUWefmImzNzt90AJGP/fdMPAk2kLXRokxpOkeuceRDa01OQXfoX2QISXaThtLgifWME01ZqU56vBCPIgOHs0SLiaZvEN65Pow18kVyYNeIt1tiV8i1gonxaSXrPard/WBgNRp5v5MtL2kDIXF52Q48bgzDLFPkS5jeG38z2So3IkhZRPmbLteXUmAqGiYoDEEvLrIIJezBHg0jTz2JkZ+FtKs4BlgvCtqLh2Fudh3lkzfkKJcp6OCQJlmM0XHPhm5Jy01jJEhmC4KduNmnqV9885OR58FREyU2cKNh7naVkZdRVqgi7un0k5IujNhIeQeWxQw6f3gT9zB5w7wI+YYzp2jOps+hxy8JuPlu+xFhIBTRVlIvVcuptIqwSAjMDFs9tpJyHy8z6R98pO8TIQA/wlC77TkHyprcpCBtsg3kOVosl7wyw+C39HuKwobNaYBYmNKZqpl30/3kmOZ/uRTFS2naMYSeJOb5l2ilPXbhsd2/qS3GAF97CGjZl2HtDSAQkbYYELUCVhmlLvMhSJnkSvP2fgbkIlMPxb0mTyzYRDx+A0JmutR1EWl5qjM4qpGFU8zjM4q3wlBN7eTMODcq9EspHHxleiCErZEu/wKehXnpElSBjUqg1v6XhZbhx3zR/ff9nv7vOrxIohtmg+/6eTyqv+VJWZX9p08I3wYUWGm8uQ4YWUjxbRlhkwk0J635FIEUCqJiI4he3FgqbjFfFYyLOWTniPDXuMRBqS0E5LFcZThNhd21OZ94zw9VCcgrZbElp8dKAv+3zEH1TrvpPi3rFD1eK2qVS7+2/sPwuM9QS3SaZ2TbaujIBMtT4syhHj06nFF8zwyuwmlrxxaaZm+sIGBMsal8SlApoHYALKHaCaj7FZZxrin7bkJAYgt5LvIw5pqg8BF1IbiUuUtIA6z/+MUIFg1QCJcHDATVAzECvgPWBEgDvgKOtKLt2IwRDetQWwjHXYJAztS29z4O/6xCUddLAFRSVx1TktbMTNM/jrEwW62mlz19y+e7FMzbsPljQeq7uhvQ30Yi97JfQ+u32Sq3jW13vr6rL5uCiZb0dOyT/+2DMd0ngjJXhGz3fvn21cpi0lk9GLvvMXKncH7QDg7iEpIjuiUrxQ2gdpFYHgtcmkUWZEutfVg3d6tN01DsOtZTCmTMzMqwmlpvrej8FvvKvamVeQkB596Ik8nGSyOqnwzlNuldDzmdG7F/R1dy20uqS7Mc+RqnyKUNslwVZ88+1MQrMcO8XAMkDgBBv4kzw7wzIEoi3VVmKxJI3ijWaztseBbsY9mVU5G8z4ZxKogqglFcUHGrkDOaOU8PuLaTSsSk1MiS+sT1XKB1HD/Paz2hF2W4j72Bh/aTQC+wnR9KTGsP5IUWJ0zFHY4fShylT7zCvIEFy2xtjHHaFWdOZSSnk4XbPfYiA+RcDbBEO8EVE0xViGK8HgwEkHoV5FWkCF+5B0VgJzqM2MPYcroOA1CoVCh+Wk2YS6GouQ/JSrCEVhg6zH0nK+Is/hbRLRuadzGlPuLDoQbhyrjVkcgndBlpr5mrPbFPdRt/gplsuk4WOI80y7CXO8NkQoRLbsXgj3EV6bR5AhDBwjwOk2EY+iMx3uQTlC4ufaMPshts3m0jz06T+pFZaMFkTLIZh8PAmEboKnVC/kPlUeLJMglzshITOkKbJNLLwj5mZzbKaGN1FUIq5Gal4pGDIE4OhSNFqVu/bOiSh9bxhfLKdZiVcJRipGCfY+xJizKs5Viomj6KF4yBQmkqYpga5bPjMZxHryzYD4syKd6EYVwZHi5on2KKgwsuZztQ1vpYJy62kBQdN+11BJXguQIYkSnBeY4LagRpcbzEyrSN9yWmFGo1E6wNhedh6WCQ+VmaTg/QsDPFSSb7E0fxbB1DGBTBTAjgfQKoFEHcCCyi2sOVDPJLfeyzZKHAwHIEqtMgpmZ0NxiskYnHQyNheo1nxY7VorBiGIcEAgJUtcn3vLf6hriwtTOHr16tWoLY+0TNhXE/9EgUpuLFERlBMelIhGQnNB4ZM3SfBkSvFvPbIYjiGF8MocwSxpAug2gxgKII4E8VxDEvWaYoozhHsJcGYmNaEJ0Oi01OVpSIDMvPQqGI4CIXCpsPzdckKTwqGgWl5UWlafdlW1XZIRJH5KhevVBmn0og5PRVIvXYHNwPggdCc7EYLL7ZLOgxKEk1ENG8CDgq7E3srch+H5TvG20mk3+VZ5lCLkVpTmq+SjTKVINGrO/dsXWyN1a81bfKzCSF98YWF1dmR4KFgwBIHwwPBAPmgQebDrYOhILBwUMNHXk+byeYWXGyBUUMsTBAiTiLK5G+mvOlVFCDxX8MLHQmJiIRCY6fw6Ny4ypyklayvmbvV8XLrtEkW2RZcmeYJFirZIg3O+Wmi3PNOu4Xcpc7vtn/iGtFtDpLAwEFsbXQhkR1K76UmMjuKg7lYMhUbD46PBIq8JLkG3mVXCilxtwQJGmCBN9IMmJQm+WdIJP/qr21hBEdHBAcB8bDA4HXxcTVkEiR5Olnv+xu17xvNQssxWaVJSlOTpJkeVqndbdZOW25Nd0iTjLjfyqykgLbqhcBPXGghEtvIRPKxGeXQnpBFdG0pMZgeW94KdUCzQiWKvuPkXlKKGjijiZ5yWXtN0n0+Fk6vm2DldQwULmRk6IhcRJBY4UMmxcnFU0CTVO7Wsjvv0lkc5k0jhbKp9CaMojjqNYrmUTSm/mf6Yy7xEHuRbyvq9QMkjlKQuCpyMH4iFhaKDAVnIiF5gJRALTQemh0aFJcUyOHhY04eKLklypFAomu+w016k1XT3bc890x0+ZdbfJMkjYqkIm3SUabesAoYpXjgOSZketbW0vs8i7XlRK7GN5jGURRpEEWzWL5dMpPILuWVspp7Tv13WjWzSLXKpq6bl5WciE6FhociY4PikQiA4F58emRObl5KUNjQYGB4ZExQgWOPHCrzpAighwY40eyJ63+6HnnWefS9H92i6JFECjSe/bHvDX5btCp09av2V0dhX0VLdU1pL5ZNJ5O4om0sieTWcnsayrq6n5V8evhT0YK3TZyzctCckLDExNTM8Oi0tMDEpNyMudkRiQCQRlCwKh4IHhM2ydMiYwJi6Rsgmjo/S6QSZ8JbYIyn4r2Q0a535QJMJqvY7b84J8eIZ5Y67f/3LZ/eP7/U0dvcWMpmkplUQSebS2Q0l5/rbWm/9bLK4yoNaDSndomzZi8evTMhMiIiKG5O6InxM/NCk9MjY/NylhsoICg4FBobHBsREjhQsUIpNtk6JEjusTuat2NG/MMdfiNBzFnzMns89+mv9s1T6boeYilG1W+m4aZV6qJDf1t1NrO6uJzSzO5saS5pPvKgxE2fPmzpOipaidJqRa7YEz961ctGxCUkRadFhiJC8rOjpOUCA0NAoFwZJgZH3QiMlDAwZKkDz5hlcQGaxHqnS0cwz414q8q0dKJnG6QyKv09uxrJzG5aFqhzfMsb2fNWFtRu7DeMI14F6UKR2XiEYhqrTilylkd6r2u+c98KL5SRLRk7NKdFhZIQCRY4JF2gSMkwkGxwEmDpBMQSOSFdrYCOpOyPILBuqBnN97XCzbiP8oLzW3PqJMpljYkV/BsjuY6fSY9GSUbkTA2+5FGGrvFpJtdlgOMThYpZYwCCYs01Ai17HVlP58EVF0wvoF0CoOYLpURRDLLsMoaRWTxNl7bTijNK6aiaUGWONRvcrX/d4VimjDAtqCls3JCh1ZkwjJbcTHjERSIjNX1ZIN5E7n9pYaGhlR+NGyYGyZYTSDM1NGIhRSjGjHqjOXsTu+mLeKWb+976zpcrfnFy+mv7q7/q6CfuO3WR8u/Y1/RO+aaYsjvEXf/ivSaVyGi8dpIpMnepiAtfRdCtmKzrKXS+mPgIPq6q2S901eUUxR4CEsLSPq30lnG5I6PTlBHTL6eTokhcrRWet6fUfvuwZB+kWAhhB1LSzmIIMM7/I8lNdRbqeV8yUjL/3Ai6ju7Ybx3vp972VPq/KEYCBvQax1hxgtCCAXLwDsBfyrIfEK/bZSH95YqxHC5XvlRt/lSh29O0XKpj83/h4kIXeGQL00xJTr/MrlctYJjOO+YGh4yrm5eMziGeKBHVzwTi85ogq4kyySyVdCIxAvjEmKSmTFYmpSerjmTOOZU9ERyejptfYGHGoSxykaUTPo/6la6OTAoymkD5yCeOnJF8XpnjimQncQZB7q0vnOYogoMXbzaERN7jnqmk64SmGSL0TmGJ8pcnGCrBjNUEfIHtGDzJTmWKePZimCF81kewpDMEEkmvxJaGU3onU9DNxJ1mdS6CZ+29MsdXIpCvykdbJe+fhhwZYe2U4fL6mqhAS92ntSV30AgqW7sb0tkgiRNjy9RKghGKNVhBJLUOMXXsESVBnBC4lmTl+Xal6jCHiqyoOEsw2hMwcueqs6q12ArOtlKEuJfhdVzQbBY+eyNiSdGYI6QUpRbJbZlDl56mA26Z2RJNwgGL6/k51QW/tT/KR3O3OxWD9XHPJPzq9BexV/ZXY/DyXZI/R0JvoudF6/VlGhV3imO7yo4rkT9ESef1DUe4OClehyusxyXyx1i4qQgRq8FlKbqcjvVkkQQlTpYQ8hpmBqxO1WRkPSwiJAlATERuAQkOUEAAlJKG9P4XYt8RdULwxxRFDFzG6GKz5TXer86IQi5TSNSWxVumW/C0pPZlp5ImXTiH4t/j5n8z1jmSKYNutVcIbkO4tVeS8sEMpkonnKQ2uup6qbMa4yiq8pxrOvDkOyseTvLSaP/j2DrApPJ7Op2HuHi3ZHl1NUCCZ3RrYtb/X0pDKJf5HaNEBVueoRBKh9+4+gm8Z4T28Zk+nPc2QnQ514EAGEJoI8iupouYxN0o5KVXCpxwuS4FPa7NbVMsSS94JTlLx8CkDzdlABOKpAiKyFN2h9PTpSAfU+XfAnrQ8W9LV2D917GWemwsOcVvHhNHlGLkof/M+o39eu61FTXbqFyWjmWprqaLRPJAOBBPjfAZT8bbwJeCMYyo6gxgha4wgr1FmNFNMMJ3vVWDMph3bdZVwW0ErRfusx33nSN5uwVQsJwlaC2FESaMjSKORFBKoNRF7qwjNdT5OId703tvG2v25LZLrsTeY5O33/bZRF/yiSFweLWPfJfeaL1EqrO81+nS41eKizalxQvwjDiuze1mjqVM/IAKcEwhG4Q+S8OQFzhBRNpgR9pjgg5qacUqAhpQ6j0luSo2CF5frcZqJCFbYzWyW/xZulij9R+uqM1sSBo3lOF1UZepO1m8ERStFNEdZymzd5q806kxil0qR1zzoQ6Wl+0WPAP4efKvL7chP3MUbyrKodWwlE2kpl+bm5ygdQyBRtfMZVF5gfc72IHSzASzgVEYaSiNrC/uFXe7T+DGj4R7Cd2BZyf0VwgecbLxd5wWSRZkiNRStPI0UU1HFCB0E4Cni2XMteqagdh+zrUgvWxj8Xr9M+atIr2J0nVa2wqgq0Q21J+TI2Z+k9h163UTUKteNEAXqwVIHjcKRH/jXJRXRSGG9NJpG/PpWfGRLzPTV7Aop6oj+nzGQjuSQboAygbKHZj9QlJDP5IKdMg6wDhnny1pAQcmKBN3Ea9fLxOnr9ldaQUU0qQhudqCQc8xHRlN0QxS4/7+2UGYXvjILnRigFAEWkNPi+DtpoxOjXgIcWvHnRIPQ+6JEBkOzpg7N7PsJ4r9A/sTSijW7ogpEjO0UswXUulSLJoRSGg2ICGUs3p0JRYJNKF8YAkYewSKBdsr3cpFieoWDho9cAIhWllSPlvF9NACVTQ9eQBmdMDtnUnYiQzgIWxxDcwJdNZRXHh3X+5xjnIGu+ebQ4yFr+aZi1Is+a897QoNVHo+K+d31cK7tmSsHkKaKlt/dkR6sfcSci4lXypq6HvRza7qEnwlNhVZ3+SC5SHBirv1Xr1Fkkss1koAY8nQ9kAXeCDIb6iJw74Vs5OLkZi0rv24mQc4zkPb9SWnkuJBSigAk0Wz/OHcfIzL2Z3E+wSY6vRFxR2We95aj4Z5ovopRF1dz1/TaVXEpCIDQdf/3bVYquJ0bWoti/mLhlbAs079vfWXhuUUo4gnY6stalNjRVXFcFwux+emLz/mpxNNKksdpBtvlFg+gpQchO09c6Sh0lsKWRi/oy3e2ALA30kVHGOyuJr/6FwLLp2STUI3S1q1F+aVa9UgxTMgurLxaSCeCf2vvTwauDv3whBDr0PviVxXFh8v57KTu4PAyQqWDpUvI4xSe9xdH3/zp8t5p0cUGxWKI7wgiRz16dzguf5z3/60xKrAzq0IsTc2rk+sYSlAAdcJ6U2C4c6FJy1fgf4MMAyDkRe47kySD3NCQBQWmljipRhZYMklOWEQZowEIHJxeTl5fA6RhRHJ7JlcuOKIMQ8LyVk5Ujmpo6IkG1G0bLAOSkPtXbl5kyQFfBzbF0U+hfGqYChNBeSzNcTovObRPqSU225uTfGYSurkid/dY/rzLijMG+RrDk5ytbYaqgc+KIQBbHmyXFUBpeZUI5D/2Nl2SU9guzw3cEKBcCh8i+c9Ozy2yMisnItZsXP7/JN36L2ii2lLcaO1Ln2G8ZbmLqdEg5SKANI5YZ2oFPBPs+5pq2+5TfRaWuMiuAfj99N81xXkS6kfYvAsV3PotddNtEN8JPkK6Lhrvb5z3EeN5nzXwolMxF4lMglQPgPa8fXjcyUwj1fPUAT8BIT3rbQ0mE8dz8Mj1j1AWhcjlj4mbGhWOdL4NUL8ZsJmWHjVWxoMVYiTwIu68TXzI4qekIIAby3WrDNptV1Sv/4G6WSpPlaWbc1LUFV1jle2GkVKfqTBaEsSTRks9qMSw7fz+Rd9QmEzsAaXdiBr2QOBnHv73qgRg7k8Yr+S45o74sOpi+WaYfgbg/SaSwiJT3TbdO5AQ50Gk9S3dD3OCQ9lerBYLE0g/yROwPU96/dc7pzDaFxZa1HIUEZSMqB29BN8hQE8XWpX+5j1K3o1M+LBUUkMrUUf8Z3L/iokdL6eBeYdDMSjPL54nB+kDSZ7jN1RVi3Cbx5FyHQrCE1XORovTJ57SJbhYBdBMCkO7SjCvE6XcGzZI6n8wnoVCZV/6p0DpwPHiRf01CkcRGMlV+6Vs+paOw6p79eTyUTQ42HEcHRVQdYkbHZRJQoD4l+pOceDZ/SbgCan4tXdRN5o9lCVoXQlVGiEasWAp9NNzZj56T41uZPzNo/wvO6oyPs4L//+MUIFwpO+4L7c/vI/HT9Af2S/or/ubSo3MCiYEFlMYt2f/iI7w9EfbblPZ49Yr5HlRjU/jA+J31SMulZ8sIZvYDEdpzJv72sVVz0tSIJGL7e9+jz4a6BQkGqkUSqMxoHEb2WSRoy2PZuihIxoEq8jppuBXr5FSyKo5xL8gmVNkyfCoEzVMvZY5b5ZDptQ3nbu9EZ640keOkx0nZTjwTB0f0RhaLZtk/WMCh/KxHab4QThXyOGLlGwO3sCOeNOZC3Uyl7rOhiU2RjvgimKMIoRJ7dqB5kPNXqqj1BZIqjqsBj5SpSEdxIjqj9CvyKtLeehwe8Zl+zhV2Y42cjyxujDjXbOba3whC5yDT/xsoYhdaiLlQVc/pVshI7Gdpe0lYQah1ueqlrJiXK4m5xKKIJlwkEOc8sTFOeYEso8y99FG0UeNwXrcUiqb6+gkRUt0LIXqi00RdHGIpFFeZxTP/yt9Y/U5GtkGwEuLhdPctWNOhojMSmDzhCDLUM6T+f0GSeyhRLbryVBLhIH36JzyTxonII9TyK3wdq25iIIamTHXkxbh3JmTEEfpmU+tbq6sJU4iFWISQdpcSa4PsVDSFOFQ6e46dl6PnrCi0maPqq/U6Wjbc4tCZIhGngSZiYhZkNHnq9vwRp4J6XFWB9AqVuPBvyzDBHBH4TqOlp404HSFcIHsD5W2GANUdBWuVRCglsUTgp8sh1CwYhfYToDYYRFa/zTiLQOvqeTAcWeJ4k8xRNEkb6l8VJSQR6I/YtvSBEaNwJlAWFUSUI4szGzirFQUuFWeLYhyqjV6JgVsWO5cxVdsRZGfFrabDUXSCAcr3UvjStTc/Z3xgXiJ+60N+plUGBAyCpXtUAKoSzau5mShryus9mTbLR9G8O1SZYxf3WvzdagPRLkoLfiP77WMulrq8ydnixnZbK2d7qyac2aG5XXKNmJjtpT7vF3ohTsLGUhoCaQVjp0ghF5Qg/DUp3oxtWWL+wJXtSqL6E6HX4iJF5sROCIqOQBw2pvSPnXSPfj2n1pNHKYDOKwp6UumEhFBVIdodQHSWiKsHpBT+hMDnNUuVj+ryrbv2H8RBPVOCYjck3fa5ZZQNR1WJ65Ae85hOKbh5lSP0vCMKgvztfWJ8OjIIoEemuTn+zjtAn2bh+iJDj1y9XreREIfRPFv0pZD64dSPCqqO9MU0u7DqK543oL6FbP8AFUNEVADyxwAs82TsAhwH2AeokQDwySLCitsCGrJow/qVviK9ZcQ/LcvqQid6/G2nus4OEXkbW49baXUGF8flE8rJ/Ndwt/xsDSvEhhHeFw9LCgGaMahlGra/hob+HMUPVqi0F6rNnbJAsSM6lY3vyhKHTUtTR2j1B5/WS5STMYr/c2XaaYTyVGR20094PcyAnsXvhyndNdgPY20XIQG1nAR0SzuWTVR5SPz/5htzCJLb2c4PbzE2aCLtPkOR2nh0u6fkdBLqjGEuDme8OyJiedEjFdNSSuTLjKqVXgv2t54o+Ov6cst2BEG0Ik3noyieAoygvR1TVv0MRaBEVBchvOVR3pEA+3JHv1aydgNbziX+h0y/KQISPqHTmqrDlqpIgOyU5qZiwyP+R2jnM5YRdbqZmsD7v34LnHqzH5NargeQsFlafk1sVjMzD76MVrB3ZsmUNTvGUB9MXIeh2rvmsXTLFQNgucbJnen9JDSsOEgqSSlbmsKmT9CrcWicTqp+uEWbatK9QGDpWnrHxT45pXzWiQ9wScWsMmRchAAMtCgF5BfVgJcI4xZyhWgi5tB5TXDvEIFvNtEwicnf1PEz0bQCLrHVVgI5SSh1bwcy+M4IVdhK7WF2eqNJgi8n5DISb75nGShNncOz1zZSszKAEmphrZoW5J2jkF9cxak1VmlkAcDWpLw+o0ihI84Z6Z410Re//w9vWjPGwpCRCQiprRhACuQ4B/RuxNhfBni20ovznkW35ZhTs8dERRRV35i8qwUWk89naLfUoqkPeVSRrFYrmrhdPW7zBfvPrUeum5Xh7GZrLA2L7LAowvKWiJesx7ZPoReh6zgGLiKcSpHuHoJAUrTx/zSOLdVfu0qLPsZV0nVT9+9PdOjZk7kR8tZxzX5gAVBrgAZkho6w/VcVdbQ0AhKvR5j+c5nyqh9sAf/bJblKiqTolZVlDi+LTWGLVM7HhRKW2LViZK7YkRW5YlqTfdmiUkxeqG2QiuwBG56+VstMuRwUlBVwiuvwxb4Y/U99bzdR+FFQ9WCcJ7iqxDyd962yS7Ii27lrMckJusypB4wQH448LEDaABsWJwQMc3Y/QGlIARr6cQsmZlFOQMF6XlNcISl2L0ElP8oa1+aRqeIoErV4yFle1nsWvT7JDTtyUwlk/RtkNlr4VNlQzev6a1Kt1/2nDFNu/ZpiHP6S9pLfVL5tGGs69qESKfz9AX8X5cY21yepPLmimJ62VQgR8lu4Omc1oR77YAbIoYAFVGoA1nWRHeC9hJCjiXHkLWtsexBVK8TG32VgLxh0JhVPVLJLWxmcF5EciyRd2NU9nq6Q64y08y4IWvIpmAL6kh0nDb9GFoI4562wU5gGvX9ph5BbxKRNvMaHQIRUumoIwyHG/zjRUez/jrWT9pLhksqv5IjKvuYv0zEmIy5reWcodwAn4qIswfw/JoH7NaJ57zQdZpyLjULmFi/JS9QX84HOMraZRRUZI4rqUKSoozlYSWcMktZPvItzoroULIau6bzm9H/Ox0fzJ+811vUcpCsEFhZMEOf/Wlgkel3XI37FUt3IFkWW/MOejmLOQKnOCzHcQVEc+hsMTtnUbd9l35L6wYfR9wDqhdClMkV8kwQEPoV1dChPzX70h2YF8CLoC51Ls2UePBQbYog5jxuAIydydv45trzHeI0qbyUXdEo48IV69/ehFsx8YUVgnKyq/+priPtihxphATUnM2imxhkGX4EBI1vkTUa/TXHIlqYc4TToxDVfX2O844ddRNTS03VaTohAb8OMuIDRhYIJtBu+co9Y1RKUAWT4pjpjcN+cwcl6KPM6ehDJ5yETa2q8kJTCyuhUl0I7be4o10XMvHumFAb7k4qG+t0NIh9i4COQuL2drJmz+8mtuLrSFItbioEliX/yIaqiReZLBlZjoPt3KhH0K9/d1nH09t5qD0EmdV6r9vmbPKrk+onZuleSVxNYuYjArKiR3uE9Fy1u9FaCCsdkL0iqMJLAv0pNCSRS1A392gMeUn2RDKZC7r5fm4gVWQKQVDRo1AOSh0dYTZz/bWDDKTZIfHyF7xKFNseiWZB1YmOm1VTvUFrPSlSdTLBWm1apYbtq9TYEzyOB4/fQFhSXtmUmg1MiewZCBJuKMdURpvZTEVt415PESdePAaU5RIWkxeFmMoRo2prtvyI7aM5X5NB0E5tc6UIdqGIBSX2FE3diRjkFGKqvOB+ox7W8VIXURqoVqRNyqv7sizc4TW8+6kqlBHc10oJa2tcDTu+v/TOeWcIQ54uUZZGgpxVitd9SX41mH6jKDhA1gLF6BFymXjBZBci8SuOOAZJvc+Fh6k8aYYxWhWZijaWQRS5H8SJbJJOBiRqOQlw2rPWb/VUaheWpNbP4utl0Im8jZ1n6FPlTu2pEOkL02EbYoBLk4gyW51hw2WQi4rOXtUXtaSduXJDkOCdpwN0zQ8WfD4XBZOEJoJ0BHAz2MOODTkaPwUYwDFrhEDNIRDxCeRcsrTcRYQVVqr6JeUejt13JIlhgQC8X1gtp+HSf9wlYgNMxshGISXyJa5r8Y5e6SgOBwsCzR1DsRsbQVXhRoJFUmhUPI5EjCWqVT+iRMEbeSK0ozPC5EWBo85TllWmAiXxCqjmGvmC3FwW4TR9m0x85PbaNTjZLwsUU6UBRMZtarsSJZTkFNRRGNgylonKxFTmUiYurtJUgtNAKzOILJ4Lqlp7qhY/FkxmTokpATm9g4CBUVjASi0TFdsVXNFResTMWn9VHstJsNwnmzwRYnwKtIkK2K1qcS4U3SUAOcQwK8EoIsXC1UyGZIVQp01AMMYgRZeNPgTEAKQxxVKsqtJskE+T4shIWi+4mJcVVPFXtNrd1GgPhAaFiquXuUakZs3Ycdc0VxNMKHUm9pqDjSCjWVk1rbO9oPKirPxQfSu9Fj/fqarFFaN8TYMEVJe4EUgGgiwgB+hFCrY9CWIRgoQ8B5heEexiOcT5KHa9FvHQMQmtUR1jvLihPB7ppRtzoLh3cjcrllfWtSj4XU2KTQkEMjqdaZuRnzXfPUt5wLfeg7bijE1FU0lpUF2RUI2odgeVtiU8wuYjbTfSwdNcssxzBH+JcNMaZJwnZgF00RsCtE4WbVhRSh/BsgRAIsK5wpgkjVIRq8k16zkBnJZDd2m9NcxsVC9Uq9CKXyUekk5KZW2ivzKzCnIxiXZBJfCyr/e57RbxePDWi5VkPJcFkgvXyl1FcsZSZWd2dWDqe66ya6lYde2cQoeMsTPXIqxBjBA59ETIvnKb2NujwBCgUgBpjABfh2GGZERon0eY+hM71LJkUK81jxLya3DuL0USLFhk0/l9iA8BELpYNhMVFB71tbzbEtvWLoK+Q/4v11owcVnwzVIxt3VZVl4x3RqkYpXBCbLGlTigFxCNSr0OrtoqGv9Ury4qR8XqsxhqkIUQ4K0afirKD4IAoRxAoQfwCZIIG6G8VJLamKYDnLZY77d7rQq2MfJNRDcJaC2r59Y3CgPcUF8+nJcIBeZ159y2yrIzbURNi2U6gt79mKlIPXccdhcQlpqrjehbiR4uvIjayY3FRXITgqq6qhrWsQtIu8P5WaX0XepVyM3tDPLUOUYocN4nOJbL6aLgdIWwaPoHKBCDjDAYL8JBQmckcZjrRZGiIoYozoZiD8WJBUIolLtR1+LitD20lktGVmSnXL18l0IyDUS6b2lzXiA64lZ3C3yPLOQ0otta0xfy2Ram529xk9NFJivB1gi10q7ZQw1rcxqvliV2SXMU5TvE2JcTYQY6QVoo0SXBJhiE+IRcot3BM1gKEDqAoQGEKljH8OsYwr1kJ0Sjhpk8wT4yNIYin4iCSVm/F2xNJNMpIMJYLaTxtdt32/+e/VBJxIIloRXvPofnxcmWL53lhUSzQWqMhoGIIJS7zo4TMmPA3OLZPo2eSWRaMQMb49x53jjeuiJ9HjfZobaNBhnOM2lfROgjA1QcQfJfeZE0ISoFwD7AXw3SyMAYoyC1glOUxBrie7Ssrko+qOqfHtsi+FKFp5ioVX01IF9PddLflov9VINQLR1QHpCwHjdwr1rJdSWKGtrjm0ScTesmryasGBCrLkRSW1yk9WRf7mpkpj93GfZrkl0mb6xfpWoUpTTXY0TFCdEG5W3XAmwkgowbgJkIgo9Il1gwiBBCDZBREbyIZJ9ibEAL8Wh5ujskj4llgiHJLcCIX4tGeJSYWSmQiGmvhpt5c3V1JIqUW2W1nexk/X0XesHKTTZcHT0KjGYksQyVa2WlIbg5mJUJBDTG1Z61/O1NEmddHq39L2lI9JotNp1+tszWyMcgQiRIn6edXWKcnL2j5jP8D9hRJhHBlhRZdISzjeXrXIltEfQIJviSuyEIK9MS7/tspCFNKVXhWSBwZG1Xe2n5QkW3LtBbmFNYUPTXSfbDhcyhIK5YFizLqUXGH6RUFVX2Igu5DISG2o2qmaWBqbPlsmfIMGvQKTQaZ02Cg1+sTJdpMmCWZhuMqynVKHmM/mgu5JycYy0Dfw0/CMjCcQRIpvEvG9Ju+IzTyERHoYp4Vk5ucjciCkgD8TisUk5IWokVij2nSwVPzAIE7gYPJA8oHKA4PVZ2VtTRA9LWLoSPhA5FAmdzJCxWcXNC87o8tfpklfYS/5EFLNbSUTmfRNHMLp3DmewYUMC6Gspji8o3beFoXbwjg+uIOakKIQpIsEDVOHnkC7iT8BYPQuDMbOjVhWK1IJikCIEY9CM4GKkcnUOXcEKkJy9k8Iy7GRvghWQ3Qylshx+eFUr6mrUxSryDKVUInsxELIfGVQrV/aW0izzOpJUZ0t00zm0Sz+E0bwq0xXxXz+vk8BxNoMoBLGwArjoK7YJMAMbmOIr6n+IseTY2rbMFdSuYU5k70aEiI5ToQtUlQXLweCkwCpmCx+KxwfiIEo1PD0xPHREXNhKIx+pjFZJ2pKtKBiRngkTuF7xRgnyOYMiNwoy4uXijK04pOlTImub+q7VVy2o019FcxjeUQtp6iWy72AQy2CCbweV0eRD3gr0A4ksPNgIL265yjRsx2PWsFlEYdiD8PjKIUTJojslUfrIMFYdlhafEYXtQbNQMkQF6SqemogFo2HRwOBk0o10QoQpGSp6ZLx5KlNAIQ1MEE1VkPGrPpETC1w8fCegE27lXuBARMKq5r59tluLT+EueE1TCi/iqJrCnPclNCSD6NIE0EcKqymFkoEUPZvHkHEJaXDuic3ThvXBDD2xsziKASgshf/+MUIGCdMA1wDxQOCA50D7QRcBEG0qUVWkdha8kikfLiMF6MCJwm8wjFYpWiYmJgF5fZKQXt4bs4wUA0IJ4WkjYmHxfC1EWCCbOG3xi04hKXfeZaY0K739ETin/KKKif2nAza9qV1eb2Qfdibr/oX0+l0TWv3SCuQXf/CfwRR5SlsQW9dBFftINoDamPQV49AbSmGhpBFM4xO+QwFeWZGo+kLOVKoLjjuKgsBVPx6XO4pMSYTgvFGcOAiRxU8KAhDJUkmAbq74QoZwM3D6+hmVr9yfIOC1NEvk5TKdqF0YK3HTinz1Ves4oCC3wpyuy0yDPsaRJd7sfq/mOqU2/AwlU06lE43FMLL2UggkE+xguprkSwQSAYwh3aAomeozG106HtzYKCzm2QSBoJHqZfGaMIEpiOjM+OUAwHDERFwbFw+fFpeEIoPlk0Fw7cK7Q+fBUxYUoxcJ9NOZ/yxh4qn36sfbsfX7yZurjoWWWlHI6C5Pv/AwuPRldVNE+m3O5seXuKKj6zBNeVemU5gmjevprqNaEgOZ/kHU9woYW6J8nput6PNkZGeKXgiIUkqfiGELsrGQSHq0aDpFRCduLAwDlL6F6VIGyEwPT0ueAlUySTFpe+IlRFZDJ997IeUqJj/ZRFWhW474XJ1u6GXPCxNt+g+pqEtnFLk77s51FmLKO5LITONIk/rKzhBvGuwvO4JoQTRXpmUKp/bMxDB9HTZx4qNrOSGSDWoBwrPHPEhJwoK7QK1oQiorkYkOGZUCt+aAzRI7wvKUUeuk0MyFp+I16w2K1k3buN61ShTkjy4cl/fS+a/fZrwJjCrtddF2wKrXqX9MsTWN3lbbEcWXWtRJIgwYbjsnjeM908tLLlTf94RSTfPpTsq9i2I319nUcLdfeLjAGCqxbG89KFIRHIdqP5OzEorZyQaD8I0MhXV4heO4hKhago0hOTL1GUIhWzac+98tTndmtS8Xld0SMbH2nTZVtjk/nlbZ4uLClF2/7SSCZ1OL3pz3tdwhLKO0hovHMGvcVRRZ/fM29d453ygd9/Tr11IjIXx6WlUWCdqonAlM7kASiOUGwkTnx4m+huuLRW4fOA9WuTgoaRccEiI0WqSYaJUkxRJUPZL5SvSiiepWuQs30Cd75pnfnB0v+dVYXOg/kG4q2msphTNsXYhu53W8Kuxi2F1iKYmj64wubKVSSW62UhjGiOC0gw1s1I5oSehaUG7MRxINXf5o+iQWiMgL41d0ZydtSIELEiHyDs1lggbh0cMKEjRKNpgmmRMqdOkeDr1Z2RKs569bqhQSXf7VK9LSTyGQ7/E5QTK6msSV1BIo966xnV7IvhB4jKMZpg+zjPEUw6arKxiUi++SZngDR/SHAhTGIvI+JmW7XQWH1YE5xaBesL68FTNlDUXNLC4Ysv01C02nQUMfY1Ni3iMjPKNnhNVGBPntFgzi0hWYbM4oK9g9xHBLIqhbNOKozllNLYs4LJHDGQ0UX5hlC2CO/xxRXxPZUsro/lLr/uGPCpTnbs/WXI6JEAQrbRVI1Wg8FxVjy+1glYlF+Py1e8kTAWmq/Ifg9bpr5S5PGiLbH7EsqCMjYlaqikQtdaXjch7oa7YoRCXdgYejeQcueEIu1BcUV/FU2iemjeSWsjnUGkZQEEe22aTgJLNlEKP/ELaJwnVEY8BwYFVsRZpWVllXWqggspLv4Vx/WVZUSkpG6TRIKisMQarXe0Gzo2OVZQKwTmOoXlTujl6cVBIhucApaVFGeUhtqaQNbjRmvKxULqdWmnb2B15XR2dOvySVa5QnS9SFI8ZJ7jvCdTt9uerSCKXD+s7KUMY4mh0D0OxTZmCieu86SBy0VZ/qZSK1qpu9qWA8ujoRVz4Ijqu+hAKzO4quiLwntJT2lcql1L6M2nvbfusiQ/LfDx2l2XN32aUbnaNngISo04yIi0hWIdG8UJsqXRb7Z8z9GGfrTFeN0fof4M8fZAtwCqAF4CSLMkd9JG5tBICWAnASXLmzCQ+xhiXG7ErTUKcrXq1RWsXXdgMwYxUX9VeJxFI6LXB1Kb+nU2h3vXud2xvN/UFTlFMmtBhpYRggjmmXfJdDgqcWokW8Umi4dNwdW0iIxFpIRCwVPSnap1Wy/CBnopDi3EOEaVcK2Vcqpb2BNqO+KecEMoA5QCkfEPC7NoGWgfHtQM0ARwtg74q9KEWpQwoHnFJMEI5bzazFRu2u4S91yaBngqlsqHzm9ofTPaTYaalSemf/V8lhSdkDzSOOJd+znaVXmzhbnCQCNLRBaHnbdIaotV+hM48i5cVTV5inmrlNri8OpG9rjbpjo/TIZ1k5U8hNglaYiGnZXP0qWIaMuM6I2FFogDDADmA6AKWEbRMigQ4I/HDyABJAFoG9BGfmHkOsOOAuobshAuFHE9yYx0OHvApIwbWBsBvibJl2Muo9gdLQJN7sR4sepbI3hdljCglJvBtFgh7NpDIJmhaLvMEcHaZpCWXjd+4GNhyzNB+ObiZTPLbofbfF0ZBMIzNqLeZtBbP2EY3CUlzXHo7ntknLWt+3KqIyF7GzE7ZsIMA3wPs+xyxHftM34TUkAHiAoh3hsTEw4R8LyHDBYU/IkixCXP4TxPuC8hjeabYeh1GyZ7UfdFY49CldRbNh3k5Yfc+LGERFj76nMZGUfssAgJA37lYpA/RAKlp45Fa9GLwwCOcKr3WyUGhSW80epJ4o26nEAr9NvcAsCkWypoCkfNQFfWFSlNXFKidcmIwYqp06KEwBogtUyZXTpVWo7WBIgMAH4TZ/0DZRIGpFpPbxaRY2D6cwn5RRuze+tQjYGMfDPTvV4/yfpFF6aZiJ2lKL3H7SF2yo2VbOxo2J4srgSisPJDpHoXSqSGRRWtS7DK8uHq08rsMLnE0lEngVGq2o70Hu9jgU2skukkttvRWPz39Q1vIO0ZPT9iXjilR7aKFgHwGWQD6kFsWMXYjhKA6w1RUklQ/RIElJsz26W4eRGW7S3Gu2d0t+BUgzRGv9EoVK7PGMVBqGcaD6YVFf/l4FGN+y+F22atqZ/X81m+2WYMobTsdyczafXZCMF0m60UC1+Xm9LwVQjso/msvE+rNNmNSt0tx2SjmVXdNU5yvdRtoWDJ2VMqZjzOnzXFZAjwdYxGj3+V+E5hZIArgO0M9WVT1voirnnNTWB+DYsKvuVS0ooiLrwVujaOh7JLa7jJOovTTEye5JNSrPxjl2sKG92gZCLJilaS1O2qr09cSgxyQRrO7n4KUiWASxovFP9yltp1CiRquzxMOpDbLn6f4LZZd/OvBHM+qrH/PB5FTW7V8j5QSxm9EvNfgUYH2DOCwV1xW7lNK+BnhtARILhjG9f3LbrFvay6Wy6Loqy6W+Uspy3/oTQFsbypZ/e0esL0Vp4GoYJWISp6YxreZjYrLp9dfkHflrbvBIyeXk63O4nk3/tz6jcMxuv9/PBHpPWb/YEc/Egl9CvkKh21vt4Tihb+y2SfbXpoLx7nkVJatHfO35LzNmrO6Yv1p4O0CFG6S80r34pUGIN8KMH8GehjVs6iCPRtz1t+Nyrq9sWqKJl/Mu0dsVQgH+kSNrfqckUw5DpLtyFWgGXzdIVTyR/s42qWzPva+KfxOIwuR16vcCa2nA+Bfms6GqrmYw2ajse5SmaiOxmmVyXWHQ1PXcqUXuvyWuzW44NA8voeylaN81j2PI2SMyZfSesvRBmA4x8FVFTIH8jqNksTmD+BaE+VVhdk8Fyalu+f6Oohr8lJYV6SeprVrgnFulalrzmfA+huG22mERxEohS5p9katVPkdc0WVcV61RjUcgF3j9Ct2Rw87TJWu5JpJ0EiRTPTSJ3aO40WElO3h+auF9tMa31K0aH6OhZ6PpWp/fvuvteDS9r0ZUFOyvk5LWUc0end4CcBEpGCBjJ+AepvKxTB2gTIxzCkJ5gil6a9hYkhmy5+xKu+5XXfSvIQqyVuvfMjLypIeA4lcpO2JEp2JSXFPQ4makE+uU96alpbuZPSLtEbvj9D49DEOJ4qZLusoCkUy+0H/MV7oJYud/IJs7bYNxKuDUbVKMv85nQpig6o3O+Rj6sj45tuyQmZbX/pmSk4pG2wArANt0wOOGdTAIkXK/RgjwUAZqjnBkZVlCUlB6FtLhvOyIGJ6wcOtmqobEqvUpwmq/0ZrnsSS9TuCc75Qad9ZlnO5kY4+Rp9qn+b7OaQjLZ1OUVgmk0UbzeARTwR/SwHtK0ik3otkRi9WOGZjLbCsTH/1l0tGIn5ha1V0MC8y76brrd5DvFhutmnmY7pfo4wYINuLABlAATn2AALEA3weQAdxBGHvnMC+BbFY7b8tv7p1jS2i7hEYY4WbnMDIf7FQKnhshfn3JsZdV2pqW+jjOhHdBFNCgl1Ehq2xXSCi2okojbjUViT854MPHVSa9bTM7oqP/JvddRCRCNqGVpYtpb2ExdQtTv0+306uTm/t31y5vinzaARPm3T7/1+EaEOJ8QoMAA9tYA5QDZNQBpOyrJN0ZxoD+UD3SYpCyX60KSUBS3ZUIF1y+E4yX8law0Cw+M26EQl3quFxOVSK6KMCGbQruFnIJGZyk/md9WmFTJs8uXeWu2qca38i4EKxK9qpzrVD5JiklsAqnqqCn3iI8G4EeH0E/wFVPGznwVQ3tDDFAqdPzSEI2T8TwW28z+JISjvnOCw3hGZQznfiZictDrmE3ERj9JJkmGGy8bUTmL9ALwuWvqGjQ6DYtpin3SZVvfwiurvyLhxUAbO49TGePPlIuvDWJlu7JFQuLNXZHWyoeKRTGsv1noVXLMPBV2cunX6BpfNMQos/AgQA9oyQ5xf7M5I3wREerb887YGsNjRYl32EEwHL7HtiYvxTxGxAHPCIBeYWsh4RuB40EpPSbVKFzva5TukDtlegcbj1DFxF6tzg+mVHqChleICdI8+wj0hRJSc9q+1dTMDWlWidZage0YC1p07MMYDwowhu3LsbksX/5FQLyO5fzIkKId9yZiuS+FQoZkAiwLaxFZSaPnvA0wX8TMDAKOFjCQPD0qI+dIHgDMx8Zwl8vvY9AL2ZBarmEDCXLwBFxrC0Ccyr+YNURlKWjRevgyTMpP6SrorZWidqKg7ItQgmtUxijp5GHLZxY8mEZtIARu53GJGkpgQXXwRXlPMBrxyfnL6iN+AJY2/gTC5rQQLc0pUp/ajmEUDyoupitf+fXboCcX30gfvqjF8aiVXp9QfMVxHJ6lE4lF4S+NRo2tnHxKi1x7j9A70UdxY21qv3cFU2q237g3CJfowahJwSH9410SyW4bDwjmvu6MPefuSudFIlIR/OVdmYs0QzJzPvogf7aC6qhCk1H2kWSUPSU3a6uysgnWvDyUBRGEogsJotadl8MlaoNqutOcJx62Y/ZMUJRaUVQMil9+XiQGn0m2NFmzDRsGgb6VSiWKV2S08Fc75T+gyhGutt/FiVOtJJV2xn9dt6NTieYCpx4mB78ln+E8VJ3YpNNiNFW9l6Zgc11G132mohAtqpfxgvMDDoLmKZnHTf3VURC4JGiD6vaiSwJdIvSoBh2m0srCw2UcPelwkfgtyEjls5r209r1S8056UvnwTiZl9WkNkpp1vxHOqrHicNfNmk0B0kTEngXhQuUIIgkbiarzCu6IWl0AxBo6ykQhCScdHhFwyvfJmv2fEc/KRII7iuDfKg5dJhtE56t4qlxdl+CR2f6A1wvOktgv1eJsvRXwXKPYCcYgQLz0WEkD3d4PhU7QxtsxR6f+MuSbjgNFv0GdTQ1sYXlzRcpgnLZQAWFI0TVYUPPylHCDAKbJ0oxy2dB1EHZH1SoxblThF9MaK+e7xIlucNfvtFkVhIeW/7kpDM7QSsgi7dw58xb5GQ61lkCj7uzQpWJVVOVjpE4rHsqBpN4IQnKrwzjoDFVl4oGpJwkhMaltsQUSl/mmVCL6fTIbWDh9ul95duTUv4iN1PirwhWQQhyJ+c6IWBiOwA2aewHg1GC8S6Jo8r4WsCu/kmGm0AedC4jRAd1JeQhPPBp2sAp4jGsDLMl4yHWF5A7OICEBdWQ+rrRa02T7Y4OfSFTdUfuTsTfNvi4lxCXcIGtG+0ipA30I08SNMUY1gnCzE3oFb6E04fGN476UibLX0bFLPCw490KEkTGnUVE6h00XotPyHyqAS4woCLVEKc+vCZIGFyzXWFebsMbn2iIq6xxcVkaR/2fcEs3ulcWsOr0VwysJOG+6A5g57Wp5WB0n6ZYq1ZXUW+NH9QhSwAc/c6lB8njSR5Bwt+/Z7GiPNqe12+PB9Yr3vmiM6vG3LBHB1RFEr0o/siHkRgpocicBGcHss1qPp4pfKsL7zZoWdsCDbdxGYW96oWqIMs+nmqRFfbrUsIbEu+vq4NtCvKOxzAJmrBLsQsI76RCjw0O0tLsbVAtQfNwyVrBq4Yjwhm3QiQRR0qMLjgqICa59pK3n1CW4z/yarbJlDmpCcZsNH3mmdXa5zv+iFlorthwNUEcCDdYw1WVFeTyS1wWE3Aqy+DOwB80rYEBATRyKGzBsEqozvGmDoggMuz9CqgJvibWbDLs8xRZGcr6Wm0Dq/fnNCQbxzdrh2+92EC7RHimUTkpXQoQOR9UIfFgVkFdzYgn+UGUB9BhVSmP/4xQgZIFQAnv7+ASIBIP2T/4oCM//dAEj+KgF+tKPly5FwJ3NIl/yn1AkPi4Hw1Ch+7NnW61yqu/llez8aVNk+4cTmjboTk83s7E9z4iH6dKD2aPOsQi1xAGkO4s7rkFayshgk7Zv826M7F5X2HqVqqhsFicxpuyXWLJ3MJD0QuQaMwsaMXlStlltxPz9vy5FMCd90fKhdJhPEFpfDUOIJkZNr5HbQfB/FJxSETEHXUkC1RnvA0htKSAJAmziRLxTcuPGLi1O/lXle7spzZAcn1pNi4Gh4G1/fGKC5srbGSWHh38JRNd3yYJR4/4mfd+2TVhsX42FpnVxR/X6lAQXe+uESJpgR2QbdRTQO4B1U/MnnwaX3WcGmMBMU7oXbRc49e3++ow00CIPVDOxVn3S154oq3WV0hq3nnplGX66DBTpIp+CHhuuzlmeLV9kFG9AA6+LwMv+9ZgmDlIYPBYYPwnOkIhSc2URZKiKF6xVmr3RptPrj8X/TW41oYzJBO7787It7t66W5dTvsIqyTtWU8OU8AbAfRZkKNlLKqDI4IsUClocEcRP4h/IpavO+98YV1EiGjYK/U5H75TWSnmIwLMoMR6SpJBGfzCD1OPv2bDaTFFlCzsoINDJ8+vhK9GCcOitjrZH8ambbuD/7zudr1Grx+4w3ipwU8NUVdFWcc+X9fTuyb+ye4rP/gKHCJ9DK2S2CbB0+YJUhoRCG//5bgZLkEyh3RiSKpGcOlDXhpWpChP+vVBK71VHTNsbLx12vIxtVanvhODAKzQZt59RBUTbu3MbpN/1GkYkNqKv+aZ3GxEnPwiGSg1SCdRB4ZdLvfT1ZN4wCKYex6DN3OiTzSNrLerCUJXdqOFAgv7VwUQFeVjp9d5ZCK4p5O7HcYpmAvj+t2WeKaf4nNAvEMvnCmL0vlvb1Zuoojrlc34uia9G+p+tk4tZAV+oWFXi1RsvWjd7IyQghS7Rr/tl7jWJQCwPCHp6anpMijnoT8U7TLKzH6TDmp/W0YTkn6urbcISBDX5XVq7LQ0UZOIfozZ1KTDD7XUgGIBJWdAUuCpM2npsc2ns+pgrb7z/dOhFO3zGUWgtO6vgR9T8Qhu359xXGXWotCxyl1MT8vHFuDg/QlYlg+FV9itZi0dxaJKGXZPOiVG9Cgqa4ZmPm8lV4yq3gzHt9Jas0iC8JHZZg6nOxabNOQELcyYFVKpfnVIiwUDuaToL+8sWidHUgT5UWlbyOGveshGR2Pk7Ep0WV+EBhsMRumzkVSc4k+foTAdQUyJJEfX+J99FiVfJCIk3B4TOCCb6i7x7u9hWh3/4og8dxXYQ5J5Ft7MLRIq1PTkLPCQsK/lJA8IsrF+yli09mx6naemY5yfAKK3IoWRcPGySClQKDubfgryrO5RGdk9pZuFoqPvtZrNaDBIoItbpTMPZEuUyQlMVrZRJYQ4/iwyOlPQrRmNCdalFN47V5dGrKBOtpKsepli1fkKYM9AyATfJeJ4zg4IUxEomZ6f70QZ/pVpw9UrchCPfS2igNw9UTclTpOJ7YXY3HS2i6aOyWKPSh6t2B/tqiUs47lW3HwO/xdjRqRS94h9uSFO54aRF3/RGq+kAioRFxVQqeWpbKsdn7jnfYLuHPwkPIfnmOc95v1fr7bgnN+E4A1sGfI7agDzwio8wMJ4SBEHRL+MIEfCdXoRGiFk2Sw2189zKyoz2CjeOn1nMqSzD/0C/8kpT/HOjJ+3tUPrFuBJbiNYYiLeCo11P+ELkHanC8aZPb0KYtcv2twdPqy6vT0tKjT5sZpQJW5KEH4akkki2AjUU5h8FZv5F/yTHN9q2mElH3ucso8TuCVDO4Uz3bFKJvUeW1h7AUNWOhD1775bJFh3tBq/F533PxERVeAjzAmX7PyhXX/nKETfb9ftK2YmWWOyjH33VMf7Shbx16nfVNEdDktGQEUIyRmmNQhNzzicfVFltNSKcIUOPpXwjHzj+3FoO3d5ChzRfstaKOIUuWnWjgWkTrYy/V0kw3XXOAlwW1nUXCSFxl3yf9SnhL4S3hK9ZGdxjkRxPkKkLgTgO1ZBaCRFGfGmco9EHb38o6jfdxJ1XdcqU9Kdv2Gg1UZ2JmCVTNQ/Q9CHiNxTHGUnmqFLLCKFC3BBG30vqikjbG1aOEGtGMx5T55FQWpPLTl31GdnXaVWETQQZaQzjch3iC9VBA/MRi030zDVaWZ/99AaAh/uFNmvpS9RvImQj61NL0tyLVLjqznwnT5RtNktQXP/tCf4ZqoTewLYhjUH80BIIIngEVZGUSBTJDJeTykahoEsoo5mfkKhngmGY1kBGLRHVUhQXWRQqbYpFPV3aZSs3Gl3aRrX0f6ovrT0g6dkdJGQkgJgS+nDIONiJSOGa03NlWwCbCyEUsJbvwcZmAXwmz3TwtXkSxXZtiZ/L6lQ/bs7DFJKj1ssUSVxfNB1lIvXijwZR0vUojLUy2yGR5pAtFaubRbLTJ1jsvuURmNZnWTl+jy6ZwHoYqsUSI5+BYmGIPG8DybtH9Opa9p2tpR0TFVGLDkg2INOB2SwgAfQAA5QFggFZHxS/rXsAW4ZhrgSU8gxgVYTdxwJDKeOrHHyu7m17NstTnKJrfYuSgCNTC+rWSVyylrbC2LtdIUJ6iRCOHETj1K50H2Pc0Xfc0R2v4tWL9emEnhrByfB5OwGUVpadTe1WZJmHyNJXg8DNmgrRzmN8bQvKNHrLOfaqfSVKRKzscKCUdEAFKAGseUHBiE2SccXRjCJFZsTqt5jjERDkwj/kWnIaimxm4RNFtNwoy0LYc1kZCDaBaP4m/tRcgJR1mFIb5GSYybwZgzRePwhubvRCJKUDAqC0sYgCBJyuxWL151hv3qWH0RWPSCWWGbyGufWMII4nS+ya93EzG3CpXYuqsjlRbFxKIQKFJhAYZGrwAM8ACNEdA00RyQYWt7XfShOyvkCskJaMCUeHCilaEQwuLGYFUoYhyE/J/f19frorcc2BKiHZN3HYKFUH3fzcxK3o7YohgkwVPuyzFOlTQ98lsQEpuZck2ah6fp7bsUqO+4vqjJLcliVo7xqQ41sGSZaoyVJS4TVJAr6NLmrVDdp12jFTaY17k3jWzhRhYn8NBWSDcABgwLMO/FCs5gAGCiozAAI+MB0xGCTiVHkD5AwoeEG7mxsjLLS1TeB8CIZJMoJ4yCurLiYaKqIeU4im26/hm29eNZWWFGKBI8iknst630baQ6/yP1Rq6T7uTyo9OcRobdt0hSE7XkKhKMk7F4JjKkrAzS8u+1Lauux7eqzUz19lxTaKCXfmbnCkUlcjZwS6Ec5oAw4BagSgMXdb44OISh7ATHCiRE6YLtCMCpEgiTzRevVFY5C8FlLYGEDxE0N5ptAXddyWq1RofYuRprY2DuKQ9ZXSZwYvhoF2t1oqU1lGJ3rR0HiuIkTFUOwVTWefA/+Xd5BLh5rN6kDhepiENQrYJJlp2LUEXZdQVBzfcdg6ahNKqs0Po1d+S+baLtH6jlSVy3AXUCylaKH6k8I7Y84utFpNaaPJtK8hBH6R+eex/K9GxNnLuYJnx9zNjTkhd5eMiSnlFU7Wj3RYhggwugUpIFbOv+bksyBpKnvUSpAEQRxJsJj6bCdP5drbuFcoHBYxyIdPoZNtxt4flbRYiCe70aWkUArH6Qjxw3ax7a59yXvJC+ZizZntgd0MGDZg7oce6DUBoNR2WBGEEiB8LahDRvdN1+S4YYxRSlDUlP7gmjAjVhVx6Yb5DdexLr2nHOeZHFgv1L+8r9hzi1JNkUjnadJBfP2zbaojF+tG4uEvquFiNOTCG1lD1HhWaWjGTuHU6vbjBdS7Zi3WJFE4I4rysYatWjWWyjaPh+3D4XG+1Wy6mDN6Wc94mI24g6vwKM/c6JBym1hV75BUeK59c7wpRahatolXofoQR8N5E1r0CdDYGQIRI5HcliaZIMmurip/ZmAYKfbdm4R2CCcShpH+aD0liRrFTmBQfmL1rKRw+L5Z1mMlKYwOTs8zm1XgnJzqGxOjIppKhBbIjiXdyITGWw+5UCl51gVhXl4yKnvPyQuR4vumJPiRFa6rtVnIv0zXuZlAiRblU6UXJQXgVZQos4dLpDgJwEgBPUyAhz+EgM6BQIc5gneaS+JZ2kSn0oIwmrVQiZSv2TSgJiJvJNkGcfjCVsGcKagzemo5v4femJtPEHPmnF6n0wIeeymMRUJdPo1aY7DIBUMf22tYFK+mvJRRrRISCy6658XM+Im6S52melm3vLroH4FAPhhp1EiaC+DOL5NG1gvmHaEEEOumqlTyMsTCR603LI/lYF04jpcQvHjDIdSoK8RogaNsHw3E5vw2kNx5C2a/Cc8tjENVSj1ybdHQcMaJUnbA9zK9KenqWk5ja2IZe8ccvvizbpvukh5c2QgwOGBgTv6Wod1nQqJUxD4107AVvni01TKCYH6YqHQLpCdDECSarJ+HLGqFyGWUC5XtAFaMVnoaQ97V5wSRM9LtutcmvTgZaqs+xu9xDaKEqmXgL7ZwGwJyrTJ/8ekQTkg0W3dvk6rZ7l6IvzpFJoTk3Q7jofCmod1K5ms9IDbMFQkDlleX4IEE+BqgiR78q1J0E6CVBQlqR9We5WhmsF2WHcMoCGdCkzhrBgAewnHRYwgjgYQHECYNCcrGsYRtcjTP08993GwU0UkWD6cxJVqJEe4Zd4G0XXtT8GwWjI0kqXa3yV9uNZO5LpoX04ZsqcS6p7/LaXknJR6CRDEqrzHiMjo3Mitv1PtstYibEqHWGKH2ECLV3t8vQjQtw1RHniizH8Rl7jhDIJQEk7Cq5hNGsH4axOfSgc7AhARg8DiSHUgGIvEAkWGr5Z7NJhW+f00EV4UN6j7vQeROODYjIngvuKVn/Gvs7iihclVoP78fdzrN53M7kU15Mz0whHSiYqLClSW4SnEor2Cy4ff4S9JsRZolSUYkROhTi7EeSZLiHPcIE3xK6a1liJlGOTX0KJYKz4fBTCSNY2Gk2GwZggjyJ5DY3l/NbgaB/iVig9NF73BhtzopZIyA/CcfjAjdqxcZCFkx/+cWTjXX8slVTf/51cRBosfrznup85IhI2BCQkZw3StVBvfxJyE3WusLWjnkyjOZRtF0bQjimGUxncrnUpiiYzzhf+fu7ZvNz8ZCA9NxCNhqLxCYHpoPhgJjF8oeojZO6TN3JQURCooIth0LgSBgJkw6cBoYC5kii8ybQY+r5Euk5+5ISeZHUze5f3fyyY03fZfJpdLmXlzaWi+Cxr9jTtu2eeVP/s62srqf/aUtvW1tF+tf0go7uws6W3pa6opKuqpbynqPvndxyZ2RK/fFJKIj0RC45FIpFo1FBQWBEPggCQWDYIHBQYEwqZFjLypxc+gXSKbraZbp6UcnefcyFHb7VTfeh9t7g1SqXNfdeu6X2dcrFB/RvlhtD7X/rk3yI2KVaUpylqdsVojVnZCR1sdU6tvKtp5hRwyZKXDXayT7q5ZgSWNlWzhXSA+uEChIKOCR88MCAkeNiJEufMnhVoWQpOpFWU9EFBOs3V3r3tcaMpU3qcZ51slztRROS2Y3qiJH+0/errlXBMhcniAlyt5V4LOTfBaVzFwn3RIEtFcBH0Qk1iNkzQnynVNjMvZG40BKUaR51E7xMfPQdhKwUTJwuNP7kjxUmOiC2XY/h3zY/DDzCAxpVQBbCXEKAyjJp642kgOuCORuxvxqoOiTGWUYcwR52CpP0CyGCULsIAr+xPw0xd+8sRLWuYFpGBc8bIY13qIfkJUEHT6pIChkMYspBrytOCx2hndI2x5wXAHfDqHBjyGambRDi2q1EXO0alhndWJJdNT74qNbT4hJUn9ZRH7k5oh6AVIPwGCE4ued1aQozOSeRjwyyFGSBSp5OmQf4hBtkEs1Bqrpd0Ut/L1MT05uimLMrGLrfEBpf36SB8hPBRhCF2otfYmUGjM2piYpg+ZEDYmSLKwnbuVznUJu+ct9L+iP+ajzSNwnbLG/Ct/zqqEp6cV+VW9VMvaJfpPuuHVVBU2q/KlKX/KHd1sJafIR0xzqoxk611cJFno+Q8vuJeXwiKYK+kHRmNwzs4zcB0XhSjr0O9flJvO7BZSvPC0jZsZ9+hc6ZKIPhOmQA84kC/4ico4mOYq29vURqPk6dwk33VZeXGlY7OGYoe3ncODuK0cK6nLKPiCKrdzLJbMwvuksp6T2hbrboj655avjye04G6ooRm7By69HHlkHpncGll5EnsWQDeEL4Chb07emC1YW3RjpRRuolIbfI4AU+dMaiasaC9JX7FGRrMXukC27x9C+aNzLEbSt2PpA1lRDhS+BV424baIMLpf81lFWl1VJM87Qh3zNZsqKYcq/LOn7LjbAnXFN10yL9J9ZD/oUHIMVanelUlhXhuVqTt5GX9UsUHcWzUwJ5gl4e4EtBBA7IUwV8jDfqt/7pgaBfep8/AnLRGFHICyhdgq45Ro02qcqlKqEbI85+sjlIv7QHrM83fYzceiboCjXX7EdtLIEzLcVslWrpcmRJl00hufzFXu0ljMHq3v/2ZlUwmn3c415Wkbiv+/9CsSHphWeK+hjydL+2xKytEpeRVclD90n/qhcRrW97n87hrQRMrBDVySmpI086IRGOx/EO6XwtblIamy3vUI6LofcpTAqJ6VkHRDKH/vyVNy/RG+NXJAnLSMu7SZ4a6ssRlJIdcWQfNcoExcNZ2/FC/6gXgNeT6BKSyHVgXoQ2aY63xdMHvaz9qsxaaS+j5JB04Rt0CGqdhbhBqbdIlgeAl6JRbqw8mAmYhhS2wsuRnbFJCmJuiXqQrMV50C5sNd4lENrnJnQOqlDDq0h9WzzhuoidWlMEyF967gK3RSuCqiZCzhEAjoiR3RkhVyiJvwp/U6KiyIxJMGxYpH7VEoT8yHPSrigs45c+XGf/+MUIGilM//cAD//4AB4AEABCAEm0rBxwJShL4emo9iDTJFM6t3cjL0EjhPAW+OwL55ifKRh6922GTiChKYkA2Vpl01Pt2n4NJcKY6vYoss4gFtSh7cuy94zghhwg05bseVui7Kx11UXl2pGcJR7G69NE6iBwptBPwmA2r6YWeSBwxcDl6MLoCgnCbwEvBOjy7LUM21lGNufhDbbWqApppjF1UZYV3iTU6QR9Wmoiw4ow2qL7WRBl7IWIIjKblAMuUqsyoc0Q5VhFCI3pj7EzzInAkUxIjtEUHZ/0iwSCnlqE4HsN/jH4u3nNTSm6IUgSi3y98j7LrV0ERs6nHseaRW9wkdOk0ajmnhocvXLc66IjVvEt5/WUQRl3sFbMZWHdhRCuCWk210OK6mGX+6S1lhBTEZfJ4SupgS8rhdzlHTYzdHBP5+1PYhXgh4rmbVFHFFI4VdHu4QMtjr1zQTH88q8ZVaT9GzIEInAJAGh+xfBE2Ev9omC/kEyLIkQTv8EZEAdOJq4JiC/A/ZrFARdnXYaIMSf6qLPQW8V2kWjt+LM4LEydRlLg6sf/JrQl7qCzjvFJwmRVjO/X7YqImivWmUTVfJNkaN2tfVEWPCH8CwrItxnYU2WzVn5OQS3SZjm8JQ1kzuc+8+QZaatbJFx+xclZWj6znUZmNVKae3lVHEMOrEpmC6vxcXLcVwXYEoHfTHkWrGGGDKChS15U0XykI9UsyV4biOrJNsioMGNa1AN8FodOCwPwy3B3pxF+JVNfmiJql5k+4k+vE6pPOKRxakJjvalMMkfi5c5pECwPf5KBnwH5g8ljNRsYnepoqDZ4PHUkt9Gmcfetfx9T6tB3413vctdz2e1r6SfYSF0SEMkoG+svvumka5NbLYoWVTIPQn/CwrtjakkvibzHrvS2yaBRUsHNIDwhEVJVdLh3XXLbWbEztz8uOm8WfX3qBLV1qk5yHE6Sf+BRsBZABdQBOMv6yxl0ak6YljoE4URLuk+YvLg3BflDr/tKiedbRAp+tEwrToUOjeV/NInjdX5GkTnlLRhhKX7fLXdvk5Nw9L87xGaKZuwpsx2oq9mhVu1+ZeRS/t61zMcyk8ax6Gp0Ka5+2RC2U3E1Wt5DtXzPceuwaHK2r9mhM7R2PypaSvvHxSon/Roe4AkREi7nvaJOyOuF4gqC4m03B10PgVPYexKn3OD0Rudq6xvode0tSxEqVEHwdxCNW5BBnxpq9Mgxjfk9888tuBbqEMmjuU/6M7Ti1Qt0+aWREU2Uoa6gU+iW/z1bcQ/EN544360opTdbfo6wjnzHgIRnlPqF0zuBlfC/v5sE4eVr47Y1rIWzaJm/RcRgK8AL0LWIWEhHC5t5EaWZpNp4Cvn5Q3aqoykaH1P+2b8x8IM5To8+C3kuxjXYg2DkTSQxiN53iBLshui9mXYuK6TUWJo9HU6jTV5ba17CqSBGbmzjhHIl/j1ajYlX3kdqHrHRkKU9VcYk2xo2wUPcXvRXhToqqq/beJPOs5Z6bFFDzOFzuvrMlXV50ZU8aHgIcKEBnMaIiMmCqffEbMzC6MGToz6c2pX3i2dfOmMvT6jCGmcAm93jVKMFjqE1V1UjD+EuD2hwCMsGe1RgttiBFKBzhGygSpLVyRj6vaq10cPyphjHpTYrnQ4+u7wcxRHbeHRIFS1WBERH/f5nEVS7kLZRv9SICFlUQ7mLjx5YHW5G6tZoyBtyV/aq6akpkODKAmAqYmK/hDsx42aXJf8wwj/6npZOceOPj2u7vJ3tnwQM2tT7jQY7bQrSKpjpTHS2U3rItia2pu42H8ePqgStDGrfRiLI0xUkEpPOSvLsahd/rQaX1YD+lXC9D2Fv7HV4vGsejHhBOaBM2FrkxmekprpKSXYjFlVGvNDPJ9AoIWpMYsNa6dh8YusJmE/GUB+iHg66BgsmCXHHEOI+ozWbksKPSiR02QF9K3GlaqfwhBjfitRMLZdIZS/KbSaUdylk7OE7lXIbLjUXT3xdUUfqSJRx1Ko5cL3sxuZkOGjVBOArcwph8G6jB9LoN/SF18EXFCMW6NEZJ4MyQVakUNnULXbyllyWl5uQit+cjNkuSk6jJkbAWLBWrnDN94aeA6sVoMcFfIaVUPpE8LBEEusoWhNf/yJL+Ej1T0mDsTARadcUw94RDaVLkUWzVUgVbzWYR7hoFmohv5K/k4med1/N9ExrUCUPy13fOxvlY3liYhHvW5C614l3TXg2zQr7TqxsuHSX7nFdxI+zVGjZ71/wsCM9JSlTv1P9UCxe+OQH2wSRzpdPhbmG1SdcKSgxlOSgcobJzEcFMJO8yqR3NmWcITTDxH/nC9abCWzxXA+3+ziqnvD9d3xdvbN0Fc+IJcRWPGvwqLMk8BXkRs7JTpJgylDOrYzWBYvtefoOsoFhyLvOVXBL/jSRcKRlLhfqW6f43FDCJwki9wMqtvJTG4H3mSqQYsRSpy/KNFVf671V7hH8POXpKrNv/oCiJMxwFG4B0MURwRp4ctmN4zdBShpDvdCElQTaWdUA0VAFvxZhYI3YjMD4qHsd5vQbSvjG01e0BBZyLnb3lJLzW66/YBNlM66hLtBXx3zbMcRKb59EMX/k3UMD80HPY3FpYPCjmTBipxIcpzSBCN/MmLHDfpS5/G/Sx9yqgK+UvmdNF11HkTQWxhTwiFAGkCSBY8sCUBdBSEcVmwytAngcCqZIboZxRFZxzur7PpDkp99H4jWSUkpHowFRSEaAIBOLyKj8Fq15YdbpAR+6Yj8WcsHNVWzVPZZVfx+vJCYqkaa2aMNYVFLh+QFZMfp/vW8WbXjDsWuUnzr3e4UshquazVea7O8lltCKKZdEEN5X0nwSRvMX4zMXbyzwgl8RP5Mdn8FwEsJwUxUPZAE3Qor3jQjvig7U00iT0BIHzA7UjYdmBMQWyAoX8taAwKOJTpbecSoUbDW5O7RYJq30ry4pFUSmUsYSAxdFh0NEyMjT3LDojU2rmrUZ/PhdiL8hHv9leg0oNZTSzGczCbxDNIayuTUw/yV3fwY5gUgKIdBtQQvHMP2mCJArhyHc0BBInW64ecCsohIKJwf+XDNYmCgjCMZGBUkF7Vd8baGqtKpPqZLsVSXIU/qIX34bWNTSxbJCRBRpklmQSIkIhmqkKtuQJGbRm4YprBNWo8iJlgxoqPDy6c/n3AZa7mkncwiOcSyNIrmkc8+een72a3JN9USKjQEAWmErdcTwgoD/Syr2tAdTkRR0eSM0/uDJUWkoQHYxMCYmFKyVCPmpa3jXFkyt/bH9mrcLWo12ofVCjk6ReH5DNCG4UUJY6GCccIbluvIHCmxSLCVV6SsObv8RaMZNnUZt1Lz4WW2cW82iCUxDGU/gi1QymQT2rEdbF4MYNANJIV/D86fRuFkfvuhIFl6LpcXWZnKWN8opElU2iIRw4MIIG4QFpcJXxCSvaFlSoMmZBy7PMvjvkMsRk2HI94qczxQyRp6xT9KDyMymfKLVu4OXaokUEzFwrdqqBx3UZeJj0LuDzVl7Y6agpJDUX0xvY9lUXymMI4s5i/G+ovEiiEfRwEW9RolB4IIJwWwSG9YlFFC06LnPRk/L07p4jk6E1ISsIRgXjBGJCBw4ZYUHhOr6McCPBQZLYcsJrsNfhlSnl2NZ0Y/V6ZIUOpuykzR+YmC8cENm3Ri4itm9OkoUWhVoRIMup53KOxRjc0e+pp6SY1kbV9hhMZ/G8I5zK6XkJtgXQ8A8gEgB1AhA6j9ezM072MhZCkZ0LXIdmNygoCdScuL1aZKiV2eFo5JCcpKyhe8b2Cf+rx4tRdML3sPuvojes1qYWlR648vsZpkyMdOR8mOBgqGHAkYICwsVHGhR0m6g0WrkdRH4xZFfyfejshQk7Jfl9Qz77PpbNpnGUnhjNYtz77XdN5KfxiLPxT/huJIeBhGyFyFhR6KqMwZfGrGLCqPxNFZbHbiTrJAUjskPE4kfEyMtGczSOlnhF5raay4zl7VOxk95VKxJFJag+OBGDwvDioRChmCL5oVUmRFWFT0WUbFT1dXTg7SFeXrytfK3sP2xSlkfP/vVblsFF/6/6Weu1KtZrjhK9gmsNkMoLMbQuykk6hdKV9cqwlIrIqb7QhdiDSUmiLSk8qBHTqYi0VIKB09BpWGisswcvFaKBf1nNf7K/yS/0mbp+oQ6I8soI7+FKCfDrQs+eNHHRUkcKG3y5Qmy4RfqF3jSzKe5COcn1d7mf6chJUJS5Ft4lG7kRloYsycFK8J1ISrU7U3VO0y9tu0ydFlI4QGRZ8VF2w2+Pthsqg0IkBhUdUNsiDQq6SddKLLMPXitcjkrVsDFEzmka9Jf42exf0ripgtm1opms2SVPrmSb5UiAh49IlwtgpBLWpRgjaL7B2P9p7NpnVzq5cfRFR9sfGRk2FxcbHTouXFy5E2/cqrgqh9pLLKEFChAkUEGBQQQCnhokIFjDxY8wIPOHFmCyHCzHPNZxDTbG5pL2m3Ffd9wpDdt5R95Emeq6U1eDUcyNC5a0ILIGRjtZpb2pNNhOyuus2+zugrDZVGBO5XRVOx/BGEjBoKB/KC3W+q+XEnJQRKjJIVxCimEBHjDLEcRpk8wkU1EdsIichNbS+WcxaSD6YJGErcSQWYuxBrplEmRhjxF6IWyUI8pWspDSI3qQ1ihYpKVE4W/1PBAchgUlCs/IKYqRQhyX1zbCcZ2xwEAKA3FCXkferE+ienWqeY2lPMbiWPVcJY3paUa6PR3qQlnRjKtDrYyOQqHIRDO0rxhYQdpBB7jmlMWdMOiFNMXDiSl1ye9Sam1FnPqNxMY/rapdbd/e3Gys6hqNuc/VSkhc3tb1oT3pINdfs+HJKmGXZFyZaKrGLO2iluOPCuPRHcRBVMYhBEiKoYsrGQRLMyuV534pJn4pLnkTKEqX1/WEsvfcJUe7UoTSD2Sac/PIPZqc38u95OqfkXObOajLI1F9LNxy0EPOtGIOORnKRykELHZRiEMISGJMxSOkVsjmodHYrEVXI90R0VeVbE3jYoluvvtcQ9nXdXzv0HburDpy51v5WUKCBaw+XFhBzTqRccq/uvKINMUSUyaM2jFnSxUlSrlTgh51IpWUrJEfAotlVbNZMoreKxWkmQ5IvEChDsg5OszmOQcQrjFOEOUzqqBZy5Y69ApHOYKakVsW4u3RiwIFYQqGRRmqCVkEo2GUxigkQjIzIZxpBOwim7Lj5ZC1RnPMbmahpRbKvyiURqHnP6PVaXb6vrdV7Xa8h88aY++JjaNuIPVhKExqGsXKiXJ7YR/cSIfRC+KJKxZyeUkQniGkYkpKOlSLQhLABmv//jFCBsuUgAjACAAHgAbABcAFwATABIAEwAPtTF+N4SI+u8wbYevLwyfYAxBI2yVpL+jtN2t98drKuXqqut3kLync/o5Th0BXcUrj856C851HUV1PinQUud9YRWytMyIiMRMmIyAmCYsIhDY0MNDIghkIhEIQo2IG7CIRslTJGTIn2TJKk+VFWCklfCwrn7qpXUWHquqlrv/1/ni3+O0qNGWJomhLTOhMrbErVZeT4lRDyyJ2TtKk0IoxOJPrSUmaNd05oyCJiGjWk0h2DEA000GIfdLpS5KCyiEkhIEoIQQRBFiUhOJIgmaMxlEsJMksJm1E3NUabGtIVq3Nc3JlykIeoqci0Tk2ibiZVu8qfmES3yuS1yiSdq4bbrhD0iCBawEPBIwgaaU1qdyDJiwJEy3dvaMsDpMuzLeH9V0zenCtRkT4MufTy/v6JXjSZWXw38L0ZAAjCcC2AHnSHo0Rwz5gLQAhH8Acwb3IQspIqxEogJg5NcSeQqJHpItPt703kM27axjuZ2ldvpFEWv7uR6Zfky6SIlgwQXBAjaEb+BWe4+XvSqAFSHslCZS4K6k5bj8N9VQKiKFZhC2Ww3yRGGUKoN2xxVx+An5nKDPJvgrJn7jlK7S4j5VC+M1IUQFtv7GliJWJoGzDvDislceIQ8TI2ZeK67pWAqIvTWrJdDJlij/TLsGvluERW/wK7CdTEEZ0Z9rLvrkb/jyyaqOUKkj2UIQDUseL7J0wgztmRmr/oNpd/Qj9VDwClVAIFttdzVVqdHzjA7YzSB1iEgu2CZR8VjGNpjCphwL8mNAqsLMlk+oQvKf42JMlbIrs0RkXDKSWH5zSsS8O5nVnAs950pluCgUXlkLm7d690kOLDVd6sYklDB22auhRX7xuqeuInCsmq6ltK2DEbWK2dcBw7lhgiyB8aHe4g+Sxl92YTeb9TvbwXPWWphfQbUFE6UpMSIZCl5jxMqlVqEdc+KTF6PJgEREXv/gYiKqtMZcEi4RCpygcOCsDhXN4BahrU4BA/TPIS2VoNZctHyj60I2jdUZcIZw5GW8nZM3QzyHLIwggSn0x3HhmVtAl+YMX6BZAi1GBVh5b1HeoymoUKDchOZU4NWPBuFUTezeBk9dE2WaiF9hj+vIYccr0FlhXBUjfVfqunmLVFldIZwWcFhE4rElboZMOpLvEOTR9ia+HvdQyfCGbzJc3epXgHOrbEXRWW0CeZdcUHLDq2m80kZivub8v9A0cenECFOSCFQk5z8riMhi9RWeVdEJs5EWpzNztODAgymGWNMwEYrUlnBVsN5lp01aWlNJjgOtFY9A9QhY82gt5LQId3h+6UBRgyWokshBWNhz5biBONWRRaWT0ROxkyaQTeKabdUL6fAfSMMJV1E3oKJBUh8uPH9knEKVSfSpZlxTuwTAEt4hyFglS/5ArDnCpyW4PRKki208uQ/f5iDzfafrd45ohnac+ZcWykCxqja3nJLC6h/IrJUOZkQFGvMxERWNkVnH0E2Hx0Xz3w6uGl7sgBbMkogSupicDjhjZT0yxs5FvT/XgKiP7Zg609ztgROY1L27ZbDmxFdsOUsRPqROQt1kHukzJnW64LZJj4WScAJxOq6Q0GaIUOsK388jyKH1lCLXma9e81mIeKiYhMy6DsmEtiWm/IkhL6ILGadgEOL+ULAiMg5hZ/7Vm3McrfPajkkvHUISEALezgvZjEZ8POe4rbvDqngSRa4Gi4x1yDIiNIqQkWLGp6x4gSD+2iCZF/KhFFR+9QIeE/xGjR1mtlGoqg+7cYhKSZj7ds0r1LMg7Kwd9uBK0R/j/7kvl9kbfNK5hawuwNW2hVvGyeUy/SdoSt2oBwJj3+OJQOCsCQk0TPuRHfKUg7wUPID7hosgsLflAb0tyGsPi28QiR9un5F2QWAuMfWxZfytERXAVHnKpCI8RlPNe7k4QHzpk2pVi/qdWWCMr9ONMTgCIm1BfCXq/6n1g/Ta3soB+QgA/5KjABZ0aQhFnLJWXSEdWKo5T4m8arJh6BaTxVnq2QVEsSsMyynQWee+FkERirwGLYpBji1BtqSsxZ2qR3F8Jlil9ewGAev0OQIvsOSIt9SZk1S5AsqsKFZ+WMID8zzpoUcq08QY9EMPNvU2u+DVE0x7PvSWY/y+MCzCRBQCtFyQhlJIp8whw5nm+3UQonNGr6HedjniiHgSpMCZCSH3vPbdk00Kk5IjH32hv2TVYSsEWmFFQ+5KS/6x0KIJuihAtqPbnXO3SOLyveohT4iU0YDbtdYLNiLibTi/FM70448xUKtOhMA8UEvssJgvzGMnhk6hlohbW8m67uJZkGMzCHfwt+UNLbYmAzUjj7GC9lYSfaOf+TwtMeLSwaPRMU6ivnsWYjwhlv+Oxl7dCpI0ut7YFU42mmVObGkTeJs2n2JERy0q/a18ylCeCvXF9q04hW9sekTv90fVmbvdj+5h0vEZBCkVcsHAvPypChqUMVyNdBIij30raUCvSmQq/YUPMjGFjsXRg3+VVFokSIC67nPmpnTYkLY6cfPYOH9tLP7KZdzfNYStDIFmtEyhHYXsspWsgF2h2oDAmH1hMSy4J3JPLqVaXTdNLhZJEswjj9EQlFRKGsY/BUJ4+JEkJpDwJnLX6CbYHyCgvlHzI9sLKxPyLkg5UZziswUFnuWoLrmxJ6ivEAnqU4YncMLoiWRKwCqg+d3n5G2qSW3ObH7EqZG1J5pYvjgnEFT6XaV+qQyBI+3TpHp6W4c/ae7iRdRp++ZAht6BTXW9Kwsj4mxfbkkwGmYTtUhrNOp6XPpZUWXY2f8FPRv83q/F0UqGLzObfHy4nrYgNRiYOkMxaxF5A+wE+7fgOU/zxQ7gsbndoQBkI92ZyiCataTkkDeq9wXDxjIEKoMDp5HijJKI8UdS/DRuw5U4DZyUgtRQQoKg1ulY2k6UFP/3WJiRmtYikdq4KjVEVYTLl+46+hdVDdMXPBku5ab7DRdY2tu/NGedtgrhuWEWrj41vgrKJNNP8lJhBKJBvYZaD9i4xtCafdRA+yPnEWSHDvcpfy5VJl1F2NRgXkYeChSXnl1I1O7o7HQ5OawoJJmJC2viYTWGn4fkjc2L2fMiX6307bkyHWNUqShCFDVNk9QnR/qEUQJBvBhgRJSAUgQl7BEcyEJvST8GAsGjkQ/H+Tfs9B9GY50UvRcCIWiZI0rXsTJgvRoEiuU/yNftflpMAyapsy2LikzK2KmLKMWE3CWt6B2ABrniAKSAK3lQTAX52mTSVQhYCCFlIy1CJM0gzhSjc4NquqEnNSztJaP/KbM47fohoueq+7xLCsrKkrmmZethqZeP7IiJTWTqlv/lMyiLV+TzuharyP19nvug7t8FuZBZYJFZcanXqBfwowzkEJl+sKLqxyLXvmqF6QLWrDsnIg9bSqiGvDHqKdwIU3iztnBzdGwYboE6M8k0yZwxBwFAVpfEwuVlztyS5HKHe4zn1pW28xjbreXEyZFXLWtwyWnHH1BEwRuBWS9AI0BdteD6hrci+FeuCbPwy2ciEE0MTqLoG2VQr4L6MG3AJMGmxpG3FWoyQthNkmpaHEuFkbLAbVgAwgcrZEzN/4iBFM2mP6/FQ9O0LqKQtaqc57q6I0uop0OoehfeW6Y6XKR7BZXQR05RaI5MhuKWic96WYKG5xC0hw/i8Oy8sBFE+O5IL7FcD9kdbnpcS5V8zKG2dZBlqJkWIgaHo6QsUA9C6s/8Or4rXIzGml/Tb1XaepJR2RwcaUcvZZ2VQVWyZlvEPCqg74JrZQxAHUCMeMYkYF8UIojaMMYoh38k3K+t8pBjm00RNRcTc/YQ4bbHYlTZQlxMjPN8k0PIYJ8qRkYn0BqAhRbt+nu119/1lShe7yq5u6paJqXzb30TAlVfVn1XfEuot4bcMWa1egsQRB1M2dsk/ZaxAmSc47BCG0mEnV2kbJ8PlACFl5hj+MwDtV6SRCrZrUOUaR8msah6v1OYvLm2MI7FI6epmf7hU2tFbrP/U112XYFCZ3HU3d1/yMt+SswpsxBRbwm511kHGDOEakpuSVsa11AKtCpCeGKOZtJeV+ZxckiQaROSVtzMewxna3lMv2eqVM/BADeG2Jl0JRGtEjjCOJ7oFb5T0eXy49O8lA7aSsiZDfbpbxDbaqKtmFMWY0gr1w35vxvxmVHIwe4Yxap8X1a2T7luKE6g2xxj2TNKTN7WiH4IJomdIP9a3CuxnEqTJHNNm6DTlWNEJ0TrwQDNWRAuwmk+1FSlak63xwybcqEQmLlkLdtO6HKaXm8+n7CkVIuQ112DMSKSL+9qqE6FyabxKGl655yxsQjggRkhCvJLG7u91Tr7bjIoH5aDD45KtQhCxeygXOvx1SHSPAYhXoQ7RdSkQWe2ijJVMLb4fDn8LN41vfyl6R83k1OqyqXQ9N3vJq97hqi5ppxsz3rGmTTHmJclyLoy5dw9axewT4TAXpGoM+PnSXkIUuVQssJPvczEbHQOAR5Zvppe/78ApRvDZHWfiYTGlw6i5mTKklCgQPqqmoNtyNhiuB1+BoceqN9psK1U6Sl5XlUlc29dk5Iu4p5B42pxbD5fJ7U3UvjmS99gPoAoAOAZV48ynfdawn4nMi990LnqW1sBwGgSl+gyVl/oMINwJ4pDAEEmmOJ1oypRCAERcb1d1nWY6VVbHuGwrvavz4pM4p2b9cviN586ZrC0LPmxCchbRfVhoTDDTChNorrEv7PyVxe6BGB8B/kQojqpa2sc9jqKpdLDDajhVz1tQZxZFUg0b9NpneSUx5GITZGI21Ou+l38m/TyK4ik4g/D0+3uPbjt872uqlJm8ItGOkk6lkpwqAsG27GuC65CS9i2jPlz0u8K4IEkyWlJQ2rpz95kYAJAEeMkh13V8grEvAFUumBNNbQkTjNUhUsSw4BZIhGvVS5+z3LIihPAvAoE4/WPYtByEdtMB8NyIRrlX+7/MTwuoilj5ev+bnSbjSUU+6z7PE7XbCht2678u6KeFHGPaNCAgQnjeOb59HvxpS2qKdwZIN0Mkc6OI+K+5d36FYjXMIs+3mTUo7nznuKgpTAYygZGo1fb1mK/Z9igKhoOrIbDjMlzIvisfZZJFR1RSNDZBUuFlqJMZzdZnuZzGuJ2kKt1UvffX1T1d86sqWsLflnGrC8n7wZPBJmMsUPh1rMuNSSWBmyCKBgAixQoGnpHWR9aL2V/wNADID+7iJHCWLV5YNfPx/KBAd3Geo2XnwCSNwtPD0QW1k09GmmMZAoCa4Eqt9OCmImT4kggsa14aXqZTYaiwyJi/xV2QLfjS4varS35aTbiKjehHSy7EjhnE8rWJ3Eqek9bs3AuRjhZBfjlMNh2tXVIUx/t1ZgzhZkKwavpejaYp7d7ciCPfTnUTOsuv9zymgqkYQJLk6iTZnXwaSXTPIMmVws1solZwOxiEW6F011y/GM2Fm2F2q2S/SLKEhXGwFYj0Tqu15qKoKiq9uuRUsJVStlDPqN+LL6yuChMgmcO6DqPvAiIvsVYwTYxwyB/j4Qz0tOiZC3lZ/hFOFYfSTeGq2dcShuLi5Z4lae5mrhs1B79dxezn/Kbh6lUoFJudD1t5r+c7jFJstGUgPV7O1rdXiSKA4xAmYSbPRnK1uV0zeJIwDFKQl16qvL+v3TdK0B6ft76QsWXES8aMImFjDemjR4OYEwoFF3wimTDRg95m1MFANIOoCOA2xrrewqlkvH9CcvCxUD+BDiMIBukuzIiITsWNs7/amOPgJIukrQmY8coomL34olBeCAOM1CgSBMyWvGzv1zOWcwsDeU6r1umqO46L5ZxH0eAgzSJlqrhlqdB6ojhTIIgkm27HWmGhQHY22STSIZS8RT1//5o69rTqP0ev40/bcppZzaithpQ7prTGB3B2EnghfAxWJBZQMGRHQMJYjnAtQEyPBXoXxndBPwNqM/BTWFqaSH+F2C0FOdceMb8o5KyE5khw3wvjvMcU5hlPCWjmqfOKVQFkNIKkYxRKygLMktLm2dTxnkSplCJNdSlfICo9Jt+nwDZG0NU/j5JZuLFS4Zgs9+IwicPEm2eq/htOdwe/zsc42c4lOklLrNjwqL6WA2KWSXK2NHW5Lyf035gxPxLx4Ssyd5CUej8qUS4nC8hlx51JgtOtbCDbBJBQnkU74LWMfAVU8v7gkCvxKBxAnxeoamq4r2U097twZOmYXAtAhRIKMnqG0PhsyQHKo8QZyk8TBSECnGvTf++fe4eCdhblkVxMFaSK9VPb8OozmHVBMHQ4+//+MUIHDtUARgCtwQyBVcGTgbvBx4G+gaVBhUFjbSoPd0KcEX8f1sND4IFUAF+aM+UpFFjpttpGBuYGnhsRBdyEld3/z46VZrf64LEkEQvpTr4W4HpFCBAvb00CUEyy9YEM4JfCJRUH+HWrWLRYAkh1WgDECQTpKdFMqmWxVCmo8CkuDYGgsYW/gUHUFsObEOGYs4ApBUvrdVSYSG73IEhht+CEySfftCRpjiV9aUyVFVUCyF4KlD0ftTzYTHIW4BkJFwOe/ET7FSUitEWQzb38ExI5E6Oeq6Y79hNOtSshRE7e0zHpaUCIRA8BQ1Z1GvasRzGFH8PB4ZJzwXqJdJ8uWYTfWNh+pUZzV0t4VdHaYS1N10/yRIuPHLf9kL1Z1bafz9Gt/FLBB90Fp9NxLM2KLseUnTeBU+RXVNFXswrp2TB4xn2gFSHvQb2Rk55gnlzMmyPc/m87y1Tp7oppbbo1KYjdb6UrfBZgYoaqUwKh07BOJRQPvQOX4+FDjwuNNnP895yGqs2GXiNQQIrWcG7W/jzWtV5ZZYszyRyKFH4FKYKu4MIPk6JNFLPipNJHKDH0hQxhnBQBAEEZ32eu+FwyNFPgavFSQIJh06R2IKqV9pWC7KjDJMga5HZORv+c4t32TTFHm3bkaNj7IMgscIjWom8KQp34eECRs8hgsQ+F88KLhLvOnCTCd1cuHqbzX6mKJ2YcEkqk2CUv9/O3UafQ49PxeOMd2jIhAhmwkJHA5S8BCSof0uK6+aOBxis74Z4XfSPbzXqvvnH74i+WI41K9eesXcUiJblNMwOcfTVgL13w+eeEswknlQCu0QaJhyY4htBggX6ZS3BWl6Wpy6m2tIyppe3ikFk+JexzVaooLQ/lFBDdxmKSJLU3lBC+pyx4ktyQQYFC1UD70hMgZ1Bsobme+hj85cUybqMzMzkxAeVUwjvOTYyhdt992qIoLhwE84dy1MoGmol1kAUDfwiJOGlDBQ9JtYbgnzpAnqNmUkbdiQkg+0QcT7lCVUM6Q9hjCcoxa4zOuo4VJp88a/G+vYjVbKTi2aKXY0LaMGNdISbKk+J6d4ZThKEI8kxOAznibsEYxQW1HvdZL7OpxP5fZgI582oV3QbUHhYcwTEvBhkJrrGqTYSMoCqwkkWCBEjS4ONFif7NlEhBQMIULEFOTSUDLtqlBCsYWpFlvWuGaThlcpEereaQpbW7MXYTajqrUFBCH7c30ZcJ5R3/ZS2KMK4Q1lfNuj6S9LIfQXu/zqIE1cHU02+pqyZ2jGkQlooeChFZkHn2TvCkakCCXC7EFjrCmm7zUXTTpqU7pILaeoYg0UgIhrWJOTCOwil56Ocfpqvj/xl8QlGbQpJTI6s3a/r9gKKoowYgi6YOpo0bvzGZIJE0Fpb9jc1+I/sTR5O25U91TZ2pfgjAZYLvCvCYsnleIakCTJwxhRX6SPAhYwkI4U4wN6Ap9oa5zANSNEfaFEHFdCnW5HepSP0kxZlvd0/VGm8bPiSCepdqYszIQzv9UsrLinAtkcUIKOCQVRbgtAtq/vQV9kdNFYtOenOt0Zp6X7KNKNZnP+69IputCKxsw/HJEUHwxQNDTbQlsWFUbZ8jhgpG3uK+XcN4wLFPUFvC+KLzmOCvEHiNMZyJtZT9uMmZ6uhuE/f61BaJjL0pWCv46Swr9UTquf3u7lqR3cc581Mk8hfgg0crUShT6GelGpJyjeIJaR9UnNx3pfsIKxk24Kmhk03TgRDhOaWimCF4FkvB8ctAyg9KNVryzj6ldulJJq23yMj/hHaoQlLCHnNO931dqJ6JiW9hPU04lJTYKqxCPQiOxBU3GNKiFeZkoKTTym2lSfMvGTlqqXeU1iKTNm1Cjymii1NQn1JtahIhczrvLFWmYRRMDZxWOr8LiDKDJTtJLRz73Ladpx47iRQuktBdaULItFVp+KrSWTlhSfJyMiIRkdSP5cEJdLEo2MlW5Wq65IrFKOaR3JOXRZkEmVyUTPI2llHbeUtEqXiL0h+oji0JqFfPqoacuiymoo0cCQoSilhA1kcFgKAWDmsp5GNo+1zyEOOcfKjsBIgppYogvAxR7uh4gh4kFUWqlah16djUcQWY9D2TFI06ywx5tcQiZOYngSHCFkEcMcjyBOrDCpKUbxkWy0h0/IYUxYbSi69m2wWKXKI/PIaTgg0YNIRUGszF7yCzuPEN3oh0AcwfIMW0aFb9BSz8UEJWVwlgrzSGfM5DiJ5nLVzYQpNFP5SCVFLKQlPfMoRkox52XtYSy3DhCbjPIk7pTtGKlhnRjiLuwKI6FQo2zIUDFdUPu40MKWJlGYOGYUnQoSFwEBwNugIDhvSSjTkT8xlNdCQY5k8MyhlamsJuhEgm7RoVMOQ3gQKGHEyos7LGSmOmekVN8lsUhbuk1JumLrsrcQcI97UI5HQ6NMcSKJI4MdKJ2hoFBHKBgpkpsxnQQimqfaG5nEONkcQ7ckVDLBITkIWBAVqRGhJzF5nI7HJxPohftIpCF1bkO3bmdGLDFbzgw6MxVGdeI5hpWc43yCFZu4QUhKSDVREDiQrDKbspCkRKiCL55eyCCRP/vnGuYayMFMqtKRuxqSissQwcaosZCo0Vp4jmqZhxizCU34x0MfY5rA0o3ORjjQuMHAkUkQnkYolrJyM5lYpPsbaxKMVKMFDLOIKEFQR+kIygx0yodpKacbfp63IKEVxiFGrHIKI5DPqlrTTEfNFIVIXJTQjkvzziVowpNaJPRO7YODKZFE9M+QOG/BH5OyduZ+hXU0nDC6M5Km4hUMczmO1Efa6I4xUDAtJShPqRcmQKDDpmFIxi837OZY2sDC/VWjTRQgVtuI9JJmWkcQ4mzkfcmjJVIalRijPmUk+6QnNJZJptNGym6k7ck1Z6TtlJUlGKpBCqbfGIciFZjyxnY2hqtyHJ/RBQ2+ojyNWCmUziVRkO2pNFQ5psioQok7R9ZSJuaSW7sppuRsu9pi4ZeGX0xxjk2Y4T1HN0rHNJ5hIpGPt8pFxK0I7HMqmk22jFSOyHZC6DHogrYrJUqLmq4g4Z5uxJv0iiQrBB207bK3kzOgiuQi4a7kUnM+5pEcIO28CCiY9EOJbCFGhdUzmmowogqam9qYlIzmZ9Tsyw0KBF5BeGVWqczwkJFkIKIKkmRDhriUpgUMKyRIITv7MfS7qsebgoz7UZazCUoWOgUD8QsP2Gj/HivufyeG3kk6mHbazCSSKX5RIxSKSoI88zLkViDmm0SfZwgpu1ifNVGdzRzGdGWch2pCqN9kFGeNv80UIKRMKJZp0Ul27NFMWo04i8J+yHGXtYVEVJGY5GChiprRopOUN+S8koQKJU7RFDC1kCg3KCOaxLSFZSrG1EeczkdGcRYa0k5OrRxHRu2SOJr0ywTkrO3I4YsIpU3zOJ9t2ukkac1iejCjdi7I4RU+aXTWaWMlZukQvNN02hNUYrb3tESkIsYubm+I8N+QnaTWshxJEjiFJGzLDBwk+aORMQ4Q9mRFZjiEDiMXEyeIWEdGZTWIVN0RUI3SzHElZA4IFE1Q3cSKpijc3SLQQHBFUmURWUQ5uIcRTHEqkZ7+k//jFCB08EgAFAGNtNpGSp/vBZChfbLSJXKzzOA47RIpKY6dLKtWU9ts5EkoTVKiUgshaJfl0SkVa9JbK1YtiZX67sqmU8I67Yogq9oO3tN1XNCa9oUokokuQhkV0PiZNSMlepMiUte5hMpM4rlOokFMSZk1LJIWSGsaOSyWNZu2LXFurRetJZaejmkcjjZMXQj7qCYpI09RCaWrSgkWJkmpZTVoj/vRxC/onZTUK+/ZQtTU5WQsVjsWIu9RNaE4mt8JYmudSlVly87XmrFkt/0yUSo8hrisNKSRbcOX6JEi0R2TlUVIJLIx+JIFkvn1CFksZXESmRtEokpMMlSKtqJiJrbKy12px2yOnt3RKHa+iSjqvaX615TYia5QX0ipKTIi04j5KKJVGVIqfWQkKJ2qFUwrhGkUaW5sokfzd6LZDaclTk6Spp9pZFVFVkUojqimJcfmkK5lzcWRzlInLO/QyFqNNWRMt0TUiibXlCZGJuUpPKnVKhfFaRZcoSpLmRJLWtUEpJ/8lK+5bFWxflykfGprEOQ9XWrViV/brkptl7S14nStSSTShUKVHKTI0Kiaqyky2iy2VlolSjicXCLW0JcSWTXUvRTdT19I1qlFGsoympavaE/0/TKUqkslO11kUq/WaESLeVsQjuNCG0Ludp5KaHkWjWpJ6J1rnyuFCHyxMtOynlRSS09ShNktxQtr6i1Xq4mVSnriyFk/haXsvZI2TvSZemLLvtJnl6TnMijKIqIxSDSkZSSqInXDSpIk+i5NMiUV80kXLWrheWayaCdKJrkStepGRY68xHK1jtUpQsYpDoU3KLiSjCdHMu0kl7aaYrsj0nNETnJOtE0tqWlZlxNo19iTryiSTi1kyyV5Ia1pItF5SojQlFKipljCLTJtfpSf66VWr1iI1nNHS+T7acksaN9Eij3rtKtsWxSLNqE0XlPURIqVa9Fi0niYokxZwkaUWlrUTW0a0uXkclQTuvK8nEppl5NWLVXepOFUvJRNLLcS4ic4RivyZYnlpKhVO7Tqda5rS5tasskraqQX3PLkuQ4plF9iVhJVyJKCy6iJlUTEl95b01IquMRWVprW0+r59kVfaOKUmdpRpzOoTqaQyyrUqIyUnNMiZNPShcmkmkaiyyPi0ilu8pypQtqizkXlBWhwkVpVnE9CkudpeWjaVa0bFWSdCbcVlFqH2XxSnHLLss1XpovYjyqKJPx6aGmUpaeJ6UqXuVliya9EaKJCb44UykXbKi1CorNFCI1yaJbi7JRTS/EtX3UtiWJmTJLhMnenyaqxbKMXZhcpKz1Wr0ZisVT0cWkudprFotsrXImSoyWRlpWSInCWTOWlCVbQqUTJkpQmTETri118uilU61xNQ4p/k5E11rp9Ixb09ZPRGsL0ioRHlfuEmqqJK7zJ2KmLaW7WRlTrQkyOvJNGUp0ooy8oSYlSrYrSaR68wviW3L5KiQjnK5MqMtwTTaPKSIeF6YpKW5/WjO3ZS1rnInFKTNKmtX7LhSsronEfsTKxY0SoqasTKQmln5aURi2nEiEWLnKyENCPixWUJmRKSvuovETXpfw5F2mlrpp1aUO9OKZdnJ0nV0nq76U6ky5F6IRpGspFVfF36ZJKsuJRwvC/Mjy1RGLLq0kJkeJGERlLaXqq1XCyVK5ySdZNtGpVpknlYxHohWJk5qV/ZytFlZ6hayP08jIxEcxSXDKZF1EcLi2py4rL6rLCS0yWFNJGLpVUJDFTJktRSiKXJHqKKzb8SKv91KrP/FbynstfU1KZV0NMqJrtayYUU7FvFstGCaTE5TwRUUiuTXKEf0xTX3xKxXCNMioXon6PUu6LHSkLy1oXLzrFUk6cRkoP15asV3VCHhE001LVWyWtKi7BHNRlaSkn+XbiLb32uK1nmgtJxsrK2gtsShC9HYnMkkxpZJElUvIsrTSj4Sq1dIDDa//h1CB4Iv+USAAQATiVqEurcpFKmY7KWy/YsixN9Mr60L5yYrRNMTxXVsJrLMhY6SZa3WpEVadYpRLetUmS5qslZX8cIXppFgQBMDYYEMceyApJsYCnk2BACnDwI2HoYIV/IWDGRErIiUwHIEs7iKoilJ6ConKWOeLloszLaEverUakNVOucjCTSNauhOahhKaPWiRVzdYiTu6WlrYskkI1S5C9JEnYpl9YuhRJ6NmgosmxkMrK0zT1xcKPJ67RtRHFDUj5bW2R9a2qafQukSVpOIl5JULiKTSy0I/JyJxUmpxJFZqtCtdnRFaSdDKp0Vc5qpk+9TfRwkJruaWJCVGmZWlk5L4tdC5ZJ17KaouOelLpppwWplyaarimsWShcMX5LVNUrVeaiJ5aI6UwlFlopKyllVkqaI0lQllJxiTFy/bqE0uokaL0kjS5NetUVzc0ptXHCOqk6JlMva74S4K/QnklqqKxeprTS2t4VUrlI1MtXNRIjem7CovSxE5Sl18ZSes9dkiWtsSi2KTlKFqLZfkVzU8msU9Hbl9OdrknlefeV6sjyaS1pGSGLVLUZCy/FNJS0qkyWpITSWJy2WV8uE4KTiPKuStfGmJluadkWqcjimQ52USytsFNC5ONtyVbp9zZETkpL8hKUjrTC1Ejr6k1Rq5O00itVfRUrRKKNVotKFZyaNJiVtROErLTSJykhtFkkRpHpMtEq+Tcijm6oSKc6IxIvmreVyfNJRTQ0yaITuOFUuUcSoSyVlkhCMVbViKwl214ji8WkZ/ltJsicrQstSTEalG6ryXuSEs6NMV+/MTFJymisQnPWRqS6kjIyXOS/X+XlRKulLEUmzULSLSo7URRa0ziQWytcVHJx7VPkyXaitTiiVr0brkWyiZrQTlSWkrFrSNlTRSWiXp+Wy3FtWYWyYs178r8FhwEMhFwpTExSojrpbacZOS+QxDmSConidSVIsJISR6GiaL00z6Vr0jTETVlaI/iCJVkLoXIj0a1iuRuXYu1o3S6yGqEIjXvlJYjS42t4XFbT6J5IUtl0JViFiFszjzImp9JfiJiBFiN+S09iF8Y2tmmdNelUuQVEgOLA\" type=\"audio/flac\" />\n",
              "                    Your browser does not support the audio element.\n",
              "                </audio>\n",
              "              "
            ]
          },
          "metadata": {},
          "execution_count": 15
        }
      ],
      "metadata": {
        "id": "HI5J-2Dfm_wT",
        "colab": {
          "base_uri": "https://localhost:8080/",
          "height": 110
        },
        "outputId": "aeac7125-c9c2-43be-ddb5-7a6694c9ead2"
      }
    },
    {
      "cell_type": "markdown",
      "source": [
        "Now, we will combine all the speech & text samples and will define the function (in next cell) for that purpose."
      ],
      "metadata": {
        "id": "M8jJ7Ed81p_A"
      }
    },
    {
      "cell_type": "code",
      "execution_count": 16,
      "source": [
        "def fetch_sound_text_mapping(data_dir):\n",
        "  all_files = os.listdir(data_dir)\n",
        "\n",
        "  flac_files = [os.path.join(data_dir, f) for f in all_files if f.endswith(\".flac\")]\n",
        "  txt_files = [os.path.join(data_dir, f) for f in all_files if f.endswith(\".txt\")]\n",
        "\n",
        "  txt_samples = {}\n",
        "  for f in txt_files:\n",
        "    txt_samples.update(read_txt_file(f))\n",
        "\n",
        "  speech_samples = {}\n",
        "  for f in flac_files:\n",
        "    speech_samples.update(read_flac_file(f))\n",
        "\n",
        "  assert len(txt_samples) == len(speech_samples)\n",
        "\n",
        "  samples = [(speech_samples[file_id], txt_samples[file_id]) for file_id in speech_samples.keys() if len(speech_samples[file_id]) < AUDIO_MAXLEN]\n",
        "  return samples"
      ],
      "outputs": [],
      "metadata": {
        "id": "MI-5YCzaTsei"
      }
    },
    {
      "cell_type": "markdown",
      "source": [
        "It's time to have a look at a few samples ..."
      ],
      "metadata": {
        "id": "mx95Lxvu0nT4"
      }
    },
    {
      "cell_type": "code",
      "execution_count": 17,
      "source": [
        "samples = fetch_sound_text_mapping(data_dir)\n",
        "samples[:5]"
      ],
      "outputs": [
        {
          "output_type": "execute_result",
          "data": {
            "text/plain": [
              "[(array([1.22070312e-04, 1.22070312e-04, 9.15527344e-05, ...,\n",
              "         2.44140625e-04, 2.44140625e-04, 1.83105469e-04]),\n",
              "  'P S THE CARDS ARE OUT FOR THE WEDDING'),\n",
              " (array([ 3.05175781e-05, -6.10351562e-05,  2.13623047e-04, ...,\n",
              "         -5.18798828e-04, -2.13623047e-04, -2.74658203e-04]),\n",
              "  'THE ACCIDENT IN QUESTION OCCURRED UPON THE SUNDAY EVENING'),\n",
              " (array([-3.66210938e-04, -2.44140625e-04, -6.10351562e-05, ...,\n",
              "         -1.37329102e-03, -1.40380859e-03, -1.46484375e-03]),\n",
              "  'I NEVER SAW PEOPLE LIKE THE SNELLINGS FOR POSSESSING RELATIVES IN ALL SORTS OF LINES'),\n",
              " (array([ 2.74658203e-04,  2.74658203e-04,  1.22070312e-04, ...,\n",
              "         -1.83105469e-04, -1.22070312e-04, -9.15527344e-05]),\n",
              "  'WE HAVE ALL BEEN GIVING MARY ANN PRESENTS AND I SUPPOSE YOU MISTER WHITING HAVE BEEN GIVING HER SOMETHING TOO'),\n",
              " (array([-2.44140625e-04, -1.83105469e-04, -9.15527344e-05, ...,\n",
              "         -1.22070312e-04, -1.83105469e-04, -1.52587891e-04]),\n",
              "  'SOMEONE SNIGGERED')]"
            ]
          },
          "metadata": {},
          "execution_count": 17
        }
      ],
      "metadata": {
        "id": "_Ls7X_jqIz4R",
        "colab": {
          "base_uri": "https://localhost:8080/"
        },
        "outputId": "4abc5123-249a-42a2-b621-b805a2f735e9"
      }
    },
    {
      "cell_type": "markdown",
      "source": [
        "Note: We are loading this data into memory as we working with a small amount of dataset in this notebook. But for training on the complete dataset (~300 GBs), you will have to load data lazily. You can refer to [this script](https://github.com/vasudevgupta7/gsoc-wav2vec2/blob/main/src/data_utils.py) to know more on that."
      ],
      "metadata": {
        "id": "TUjhSWfsnlCL"
      }
    },
    {
      "cell_type": "markdown",
      "source": [
        "Let's pre-process the data now !!!\n",
        "\n",
        "We will first define the tokenizer & processor using `gsoc-wav2vec2` package. Then, we will do very simple pre-processing. `processor` will normalize raw speech w.r.to frames axis and `tokenizer` will convert our model outputs into the string (using the defined vocabulary) & will take care of the removal of special tokens (depending on your tokenizer configuration)."
      ],
      "metadata": {
        "id": "xg8Zia1kzw0J"
      }
    },
    {
      "cell_type": "code",
      "execution_count": 18,
      "source": [
        "from wav2vec2 import Wav2Vec2Processor\n",
        "tokenizer = Wav2Vec2Processor(is_tokenizer=True)\n",
        "processor = Wav2Vec2Processor(is_tokenizer=False)\n",
        "\n",
        "def preprocess_text(text):\n",
        "  label = tokenizer(text)\n",
        "  return tf.constant(label, dtype=tf.int32)\n",
        "\n",
        "def preprocess_speech(audio):\n",
        "  audio = tf.constant(audio, dtype=tf.float32)\n",
        "  return processor(tf.transpose(audio))"
      ],
      "outputs": [
        {
          "output_type": "stream",
          "name": "stdout",
          "text": [
            "Downloading `vocab.json` from https://github.com/vasudevgupta7/gsoc-wav2vec2/raw/main/data/vocab.json ... DONE\n"
          ]
        }
      ],
      "metadata": {
        "id": "gaat_hMLNVHF",
        "colab": {
          "base_uri": "https://localhost:8080/"
        },
        "outputId": "c9347379-0e57-46bb-a5ac-750fa1a0c5a2"
      }
    },
    {
      "cell_type": "markdown",
      "source": [
        "Now, we will define the python generator to call the preprocessing functions we defined in above cells."
      ],
      "metadata": {
        "id": "GyKl8QP-zRFC"
      }
    },
    {
      "cell_type": "code",
      "execution_count": 19,
      "source": [
        "def inputs_generator():\n",
        "  for speech, text in samples:\n",
        "    yield preprocess_speech(speech), preprocess_text(text)"
      ],
      "outputs": [],
      "metadata": {
        "id": "PoQrRalwMpQ6"
      }
    },
    {
      "cell_type": "markdown",
      "source": [
        "## Setting up `tf.data.Dataset`\n",
        "\n",
        "Following cell will setup `tf.data.Dataset` object using its `.from_generator(...)` method. We will be using the `generator` object, we defined in the above cell.\n",
        "\n",
        "**Note:** For distributed training (especially on TPUs), `.from_generator(...)` doesn't work currently and it is recommended to train on data stored in `.tfrecord` format (Note: The TFRecords should ideally be stored inside a GCS Bucket in order for the TPUs to work to the fullest extent).\n",
        "\n",
        "You can refer to [this script](https://github.com/vasudevgupta7/gsoc-wav2vec2/blob/main/src/make_tfrecords.py) for more details on how to convert LibriSpeech data into tfrecords."
      ],
      "metadata": {
        "id": "7Vlm3ySFULsG"
      }
    },
    {
      "cell_type": "code",
      "execution_count": 20,
      "source": [
        "output_signature = (\n",
        "    tf.TensorSpec(shape=(None),  dtype=tf.float32),\n",
        "    tf.TensorSpec(shape=(None), dtype=tf.int32),\n",
        ")\n",
        "\n",
        "dataset = tf.data.Dataset.from_generator(inputs_generator, output_signature=output_signature)"
      ],
      "outputs": [],
      "metadata": {
        "id": "LbQ_dMwGO62h"
      }
    },
    {
      "cell_type": "code",
      "execution_count": 21,
      "source": [
        "BUFFER_SIZE = len(flac_files)\n",
        "SEED = 42\n",
        "\n",
        "dataset = dataset.shuffle(BUFFER_SIZE, seed=SEED)"
      ],
      "outputs": [],
      "metadata": {
        "id": "HXBbNsRyPyw3"
      }
    },
    {
      "cell_type": "markdown",
      "source": [
        "We will pass the dataset into multiple batches, so let's prepare batches in the following cell. Now, all the sequences in a batch should be padded to a constant length. We will use the`.padded_batch(...)` method for that purpose."
      ],
      "metadata": {
        "id": "9DAUmns3pXfr"
      }
    },
    {
      "cell_type": "code",
      "execution_count": 22,
      "source": [
        "dataset = dataset.padded_batch(BATCH_SIZE, padded_shapes=(AUDIO_MAXLEN, LABEL_MAXLEN), padding_values=(0.0, 0))"
      ],
      "outputs": [],
      "metadata": {
        "id": "Okhko1IWRida"
      }
    },
    {
      "cell_type": "markdown",
      "source": [
        "Accelerators (like GPUs/TPUs) are very fast and often data-loading (& pre-processing) becomes the bottleneck during training as the data-loading part happens on CPUs. This can increase the training time significantly especially when there is a lot of online pre-processing involved or data is streamed online from GCS buckets. To handle those issues, `tf.data.Dataset` offers the `.prefetch(...)` method. This method helps in preparing the next few batches in parallel (on CPUs) while the model is making predictions (on GPUs/TPUs) on the current batch."
      ],
      "metadata": {
        "id": "A45CjQG5qSbV"
      }
    },
    {
      "cell_type": "code",
      "execution_count": 23,
      "source": [
        "dataset = dataset.prefetch(tf.data.AUTOTUNE)"
      ],
      "outputs": [],
      "metadata": {
        "id": "f-bKu2YjRior"
      }
    },
    {
      "cell_type": "markdown",
      "source": [
        "Since this notebook is made for demonstration purposes, we will be taking first `num_train_batches` and will perform training over only that. You are encouraged to train on the whole dataset though. Similarly, we will evaluate only `num_val_batches`."
      ],
      "metadata": {
        "id": "Lqk2cs6LxVIh"
      }
    },
    {
      "cell_type": "code",
      "execution_count": 24,
      "source": [
        "num_train_batches = 10\n",
        "num_val_batches = 4\n",
        "\n",
        "train_dataset = dataset.take(num_train_batches)\n",
        "val_dataset = dataset.skip(num_train_batches).take(num_val_batches)"
      ],
      "outputs": [],
      "metadata": {
        "id": "z6GO5oYUxXtz"
      }
    },
    {
      "cell_type": "markdown",
      "source": [
        "## Model training\n",
        "\n",
        "For training our model, we will be directly calling `.fit(...)` method after compiling our model with `.compile(...)`."
      ],
      "metadata": {
        "id": "CzAOI78tky08"
      }
    },
    {
      "cell_type": "code",
      "execution_count": 25,
      "source": [
        "model.compile(optimizer, loss=loss_fn)"
      ],
      "outputs": [],
      "metadata": {
        "id": "vuBY2sZElgwg"
      }
    },
    {
      "cell_type": "markdown",
      "source": [
        "The above cell will set up our training state. Now we can initiate training with the `.fit(...)` method."
      ],
      "metadata": {
        "id": "qswxafSl0HjO"
      }
    },
    {
      "cell_type": "code",
      "execution_count": 26,
      "source": [
        "history = model.fit(train_dataset, validation_data=val_dataset, epochs=3)\n",
        "history.history"
      ],
      "outputs": [
        {
          "output_type": "stream",
          "name": "stdout",
          "text": [
            "Epoch 1/3\n"
          ]
        },
        {
          "output_type": "stream",
          "name": "stderr",
          "text": [
            "WARNING:tensorflow:From /usr/local/lib/python3.9/dist-packages/tensorflow/python/ops/ctc_ops.py:1467: alias_inplace_add (from tensorflow.python.ops.inplace_ops) is deprecated and will be removed in a future version.\n",
            "Instructions for updating:\n",
            "Prefer tf.tensor_scatter_nd_add, which offers the same functionality with well-defined read-write semantics.\n",
            "WARNING:tensorflow:From /usr/local/lib/python3.9/dist-packages/tensorflow/python/ops/ctc_ops.py:1450: alias_inplace_update (from tensorflow.python.ops.inplace_ops) is deprecated and will be removed in a future version.\n",
            "Instructions for updating:\n",
            "Prefer tf.tensor_scatter_nd_update, which offers the same functionality with well-defined read-write semantics.\n",
            "WARNING:tensorflow:Gradients do not exist for variables ['wav2vec2/masked_spec_embed:0'] when minimizing the loss. If you're using `model.compile()`, did you forget to provide a `loss` argument?\n",
            "WARNING:tensorflow:Gradients do not exist for variables ['wav2vec2/masked_spec_embed:0'] when minimizing the loss. If you're using `model.compile()`, did you forget to provide a `loss` argument?\n",
            "WARNING:tensorflow:Gradients do not exist for variables ['wav2vec2/masked_spec_embed:0'] when minimizing the loss. If you're using `model.compile()`, did you forget to provide a `loss` argument?\n",
            "WARNING:tensorflow:Gradients do not exist for variables ['wav2vec2/masked_spec_embed:0'] when minimizing the loss. If you're using `model.compile()`, did you forget to provide a `loss` argument?\n"
          ]
        },
        {
          "output_type": "stream",
          "name": "stdout",
          "text": [
            "10/10 [==============================] - 71s 2s/step - loss: 1327.0437 - val_loss: 699.2695\n",
            "Epoch 2/3\n",
            "10/10 [==============================] - 22s 2s/step - loss: 833.1953 - val_loss: 399.3226\n",
            "Epoch 3/3\n",
            "10/10 [==============================] - 21s 2s/step - loss: 689.5547 - val_loss: 540.8149\n"
          ]
        },
        {
          "output_type": "execute_result",
          "data": {
            "text/plain": [
              "{'loss': [1327.043701171875, 833.1953125, 689.5547485351562],\n",
              " 'val_loss': [699.26953125, 399.3226318359375, 540.81494140625]}"
            ]
          },
          "metadata": {},
          "execution_count": 26
        }
      ],
      "metadata": {
        "id": "vtuSfnj1l-I_",
        "colab": {
          "base_uri": "https://localhost:8080/"
        },
        "outputId": "ce4e447e-dbdc-48a9-e8d6-da268656a2d4"
      }
    },
    {
      "cell_type": "markdown",
      "source": [
        "Let's save our model with `.save(...)` method to be able to perform inference later. You can also export this SavedModel to TFHub by following [TFHub documentation](https://www.tensorflow.org/hub/publish)."
      ],
      "metadata": {
        "id": "ySvp8r2E1q_V"
      }
    },
    {
      "cell_type": "code",
      "execution_count": 27,
      "source": [
        "save_dir = \"finetuned-wav2vec2\"\n",
        "model.save(save_dir, include_optimizer=False)"
      ],
      "outputs": [
        {
          "output_type": "stream",
          "name": "stderr",
          "text": [
            "WARNING:absl:Found untraced functions such as restored_function_body, restored_function_body, restored_function_body, restored_function_body, restored_function_body while saving (showing 5 of 342). These functions will not be directly callable after loading.\n"
          ]
        }
      ],
      "metadata": {
        "id": "C0KEYcwydwjF",
        "colab": {
          "base_uri": "https://localhost:8080/"
        },
        "outputId": "163ff04f-b01b-4cc7-821f-51f1505ed1dc"
      }
    },
    {
      "cell_type": "markdown",
      "source": [
        "Note: We are setting `include_optimizer=False` as we want to use this model for inference only."
      ],
      "metadata": {
        "id": "MkOpp9rZ211t"
      }
    },
    {
      "cell_type": "markdown",
      "source": [
        "## Evaluation\n",
        "\n",
        "Now we will be computing Word Error Rate over the validation dataset\n",
        "\n",
        "**Word error rate** (WER) is a common metric for measuring the performance of an automatic speech recognition system. The WER is derived from the Levenshtein distance, working at the word level. Word error rate can then be computed as: WER = (S + D + I) / N = (S + D + I) / (S + D + C) where S is the number of substitutions, D is the number of deletions, I is the number of insertions, C is the number of correct words, N is the number of words in the reference (N=S+D+C). This value indicates the percentage of words that were incorrectly predicted. \n",
        "\n",
        "You can refer to [this paper](https://www.isca-speech.org/archive_v0/interspeech_2004/i04_2765.html) to learn more about WER."
      ],
      "metadata": {
        "id": "SJfPlTgezD0i"
      }
    },
    {
      "cell_type": "markdown",
      "source": [
        "We will use `load_metric(...)` function from [HuggingFace datasets](https://huggingface.co/docs/datasets/) library. Let's first install the `datasets` library using `pip` and then define the `metric` object."
      ],
      "metadata": {
        "id": "Io_91Y7-r3xu"
      }
    },
    {
      "cell_type": "code",
      "execution_count": 28,
      "source": [
        "!pip3 install -q datasets\n",
        "\n",
        "from datasets import load_metric\n",
        "metric = load_metric(\"wer\")"
      ],
      "outputs": [
        {
          "output_type": "stream",
          "name": "stdout",
          "text": [
            "\u001b[2K     \u001b[90m━━━━━━━━━━━━━━━━━━━━━━━━━━━━━━━━━━━━━━\u001b[0m \u001b[32m468.7/468.7 KB\u001b[0m \u001b[31m19.9 MB/s\u001b[0m eta \u001b[36m0:00:00\u001b[0m\n",
            "\u001b[2K     \u001b[90m━━━━━━━━━━━━━━━━━━━━━━━━━━━━━━━━━━━━━━\u001b[0m \u001b[32m132.9/132.9 KB\u001b[0m \u001b[31m17.2 MB/s\u001b[0m eta \u001b[36m0:00:00\u001b[0m\n",
            "\u001b[2K     \u001b[90m━━━━━━━━━━━━━━━━━━━━━━━━━━━━━━━━━━━━━━\u001b[0m \u001b[32m212.2/212.2 KB\u001b[0m \u001b[31m25.2 MB/s\u001b[0m eta \u001b[36m0:00:00\u001b[0m\n",
            "\u001b[2K     \u001b[90m━━━━━━━━━━━━━━━━━━━━━━━━━━━━━━━━━━━━━━\u001b[0m \u001b[32m110.5/110.5 KB\u001b[0m \u001b[31m14.3 MB/s\u001b[0m eta \u001b[36m0:00:00\u001b[0m\n",
            "\u001b[2K     \u001b[90m━━━━━━━━━━━━━━━━━━━━━━━━━━━━━━━━━━━━━━━━\u001b[0m \u001b[32m1.0/1.0 MB\u001b[0m \u001b[31m56.9 MB/s\u001b[0m eta \u001b[36m0:00:00\u001b[0m\n",
            "\u001b[2K     \u001b[90m━━━━━━━━━━━━━━━━━━━━━━━━━━━━━━━━━━━━━━\u001b[0m \u001b[32m114.2/114.2 KB\u001b[0m \u001b[31m13.1 MB/s\u001b[0m eta \u001b[36m0:00:00\u001b[0m\n",
            "\u001b[2K     \u001b[90m━━━━━━━━━━━━━━━━━━━━━━━━━━━━━━━━━━━━━━\u001b[0m \u001b[32m264.6/264.6 KB\u001b[0m \u001b[31m28.4 MB/s\u001b[0m eta \u001b[36m0:00:00\u001b[0m\n",
            "\u001b[2K     \u001b[90m━━━━━━━━━━━━━━━━━━━━━━━━━━━━━━━━━━━━━━\u001b[0m \u001b[32m158.8/158.8 KB\u001b[0m \u001b[31m20.4 MB/s\u001b[0m eta \u001b[36m0:00:00\u001b[0m\n",
            "\u001b[?25h"
          ]
        },
        {
          "output_type": "stream",
          "name": "stderr",
          "text": [
            "<ipython-input-28-3b4c24a0e256>:4: FutureWarning: load_metric is deprecated and will be removed in the next major version of datasets. Use 'evaluate.load' instead, from the new library 🤗 Evaluate: https://huggingface.co/docs/evaluate\n",
            "  metric = load_metric(\"wer\")\n"
          ]
        },
        {
          "output_type": "display_data",
          "data": {
            "text/plain": [
              "Downloading builder script:   0%|          | 0.00/1.90k [00:00<?, ?B/s]"
            ],
            "application/vnd.jupyter.widget-view+json": {
              "version_major": 2,
              "version_minor": 0,
              "model_id": "6fd8073b68304695b1c8bd83b3c335da"
            }
          },
          "metadata": {}
        }
      ],
      "metadata": {
        "id": "GW9F_oVDU1TZ",
        "colab": {
          "base_uri": "https://localhost:8080/",
          "height": 243,
          "referenced_widgets": [
            "6fd8073b68304695b1c8bd83b3c335da",
            "99533e9c9ab24cb5a1b69ac0a0f60c27",
            "422b6f9d8e4e4c75a2cfeb12a80fc551",
            "ceabd321a481493fa71b99e16056f8f3",
            "55aa59ed7e2e47c09034f7b174ced50e",
            "241f5fbd9db14696bd33569be5b8c70f",
            "7c9567c930a7425ab342b8dfd97dd3e4",
            "d175d438b8dc4757a7ea415e4a979bdc",
            "96e2af14fb734c2da100686347305d80",
            "a3e47e0f12fa40e3926e2ee92f48af9c",
            "bb89a1e51fb547d1a7251c00901e803d"
          ]
        },
        "outputId": "93b9c6f0-4e52-4aff-f1bc-066d50e4b51a"
      }
    },
    {
      "cell_type": "code",
      "execution_count": 29,
      "source": [
        "@tf.function(jit_compile=True)\n",
        "def eval_fwd(batch):\n",
        "  logits = model(batch, training=False)\n",
        "  return tf.argmax(logits, axis=-1)"
      ],
      "outputs": [],
      "metadata": {
        "id": "ssWXWc7CZvNB"
      }
    },
    {
      "cell_type": "markdown",
      "source": [
        "It's time to run the evaluation on validation data now."
      ],
      "metadata": {
        "id": "NFh1myg1x4ua"
      }
    },
    {
      "cell_type": "code",
      "execution_count": 30,
      "source": [
        "from tqdm.auto import tqdm\n",
        "\n",
        "for speech, labels in tqdm(val_dataset, total=num_val_batches):\n",
        "    predictions  = eval_fwd(speech)\n",
        "    predictions = [tokenizer.decode(pred) for pred in predictions.numpy().tolist()]\n",
        "    references = [tokenizer.decode(label, group_tokens=False) for label in labels.numpy().tolist()]\n",
        "    metric.add_batch(references=references, predictions=predictions)"
      ],
      "outputs": [
        {
          "output_type": "display_data",
          "data": {
            "text/plain": [
              "  0%|          | 0/4 [00:00<?, ?it/s]"
            ],
            "application/vnd.jupyter.widget-view+json": {
              "version_major": 2,
              "version_minor": 0,
              "model_id": "af2a37e1d71f490fb6a09a2e9c23204f"
            }
          },
          "metadata": {}
        }
      ],
      "metadata": {
        "id": "EQTFVjZghckJ",
        "colab": {
          "base_uri": "https://localhost:8080/",
          "height": 49,
          "referenced_widgets": [
            "af2a37e1d71f490fb6a09a2e9c23204f",
            "0738161639d741f2a6822c4d37dbdd13",
            "f86363ab64db4e8082d145baddadffde",
            "ec29ee8701224f8a853d85185cec7009",
            "643b61126f4f40de8eaf79b38105bb26",
            "c28fe35ef245477e99c158d05939e3d6",
            "bba98d88f9d4473495758ceeb203f639",
            "4a05ad5a80c7462bbc5c8d41f72f1a83",
            "5f949557d984474995e1ff3a54a1cc29",
            "c1434a4d784a4f6daf33ca17fa2100fb",
            "5b2024564b8c4f0d876f157a0341ee69"
          ]
        },
        "outputId": "77b255c6-ad45-46d1-a525-2071dd3266c7"
      }
    },
    {
      "cell_type": "markdown",
      "source": [
        "We are using the `tokenizer.decode(...)` method for decoding our predictions and labels back into the text and will add them to the metric for `WER` computation later."
      ],
      "metadata": {
        "id": "WWCc8qBesv3e"
      }
    },
    {
      "cell_type": "markdown",
      "source": [
        "Now, let's calculate the metric value in following cell:"
      ],
      "metadata": {
        "id": "XI_URj8Wtb2g"
      }
    },
    {
      "cell_type": "code",
      "execution_count": 31,
      "source": [
        "metric.compute()"
      ],
      "outputs": [
        {
          "output_type": "execute_result",
          "data": {
            "text/plain": [
              "0.9854014598540146"
            ]
          },
          "metadata": {},
          "execution_count": 31
        }
      ],
      "metadata": {
        "id": "a83wekLgWMod",
        "colab": {
          "base_uri": "https://localhost:8080/"
        },
        "outputId": "cc040af9-61b0-4ec6-d6f7-af0a7d22e03a"
      }
    },
    {
      "cell_type": "markdown",
      "source": [
        "**Note:** Here metric value doesn't make any sense as the model is trained on very small data and ASR-like tasks often require a large amount of data to learn a mapping from speech to text. You should probably train on large data to get some good results. This notebook gives you a template to fine-tune a pre-trained speech model."
      ],
      "metadata": {
        "id": "c_cD1OgVEjl4"
      }
    },
    {
      "cell_type": "markdown",
      "source": [
        "## Inference\n",
        "\n",
        "Now that we are satisfied with the training process & have saved the model in `save_dir`, we will see how this model can be used for inference.\n",
        "\n",
        "First, we will load our model using `tf.keras.models.load_model(...)`."
      ],
      "metadata": {
        "id": "G14o706kdTE1"
      }
    },
    {
      "cell_type": "code",
      "execution_count": 32,
      "source": [
        "finetuned_model = tf.keras.models.load_model(save_dir)"
      ],
      "outputs": [
        {
          "output_type": "stream",
          "name": "stderr",
          "text": [
            "WARNING:tensorflow:No training configuration found in save file, so the model was *not* compiled. Compile it manually.\n"
          ]
        }
      ],
      "metadata": {
        "id": "wrTrExiUdaED",
        "colab": {
          "base_uri": "https://localhost:8080/"
        },
        "outputId": "36da6654-e911-4682-d61f-a3266cb3bf19"
      }
    },
    {
      "cell_type": "markdown",
      "source": [
        "Let's download some speech samples for performing inference. You can replace the following sample with your speech sample also."
      ],
      "metadata": {
        "id": "luodSroz20SR"
      }
    },
    {
      "cell_type": "code",
      "execution_count": 33,
      "source": [
        "!wget https://github.com/vasudevgupta7/gsoc-wav2vec2/raw/main/data/SA2.wav"
      ],
      "outputs": [
        {
          "output_type": "stream",
          "name": "stdout",
          "text": [
            "--2023-03-30 06:47:26--  https://github.com/vasudevgupta7/gsoc-wav2vec2/raw/main/data/SA2.wav\n",
            "Resolving github.com (github.com)... 140.82.121.4\n",
            "Connecting to github.com (github.com)|140.82.121.4|:443... connected.\n",
            "HTTP request sent, awaiting response... 301 Moved Permanently\n",
            "Location: https://github.com/thevasudevgupta/gsoc-wav2vec2/raw/main/data/SA2.wav [following]\n",
            "--2023-03-30 06:47:26--  https://github.com/thevasudevgupta/gsoc-wav2vec2/raw/main/data/SA2.wav\n",
            "Reusing existing connection to github.com:443.\n",
            "HTTP request sent, awaiting response... 302 Found\n",
            "Location: https://raw.githubusercontent.com/thevasudevgupta/gsoc-wav2vec2/main/data/SA2.wav [following]\n",
            "--2023-03-30 06:47:27--  https://raw.githubusercontent.com/thevasudevgupta/gsoc-wav2vec2/main/data/SA2.wav\n",
            "Resolving raw.githubusercontent.com (raw.githubusercontent.com)... 185.199.108.133, 185.199.110.133, 185.199.109.133, ...\n",
            "Connecting to raw.githubusercontent.com (raw.githubusercontent.com)|185.199.108.133|:443... connected.\n",
            "HTTP request sent, awaiting response... 200 OK\n",
            "Length: 94252 (92K) [audio/wav]\n",
            "Saving to: ‘SA2.wav’\n",
            "\n",
            "SA2.wav             100%[===================>]  92.04K  --.-KB/s    in 0.004s  \n",
            "\n",
            "2023-03-30 06:47:27 (20.9 MB/s) - ‘SA2.wav’ saved [94252/94252]\n",
            "\n"
          ]
        }
      ],
      "metadata": {
        "id": "HUE0shded6Ej",
        "colab": {
          "base_uri": "https://localhost:8080/"
        },
        "outputId": "754f3151-d99d-457a-82b6-0aa09f73e71f"
      }
    },
    {
      "cell_type": "markdown",
      "source": [
        "Now, we will read the speech sample using `soundfile.read(...)` and pad it to `AUDIO_MAXLEN` to satisfy the model signature. Then we will normalize that speech sample using the `Wav2Vec2Processor` instance & will feed it into the model."
      ],
      "metadata": {
        "id": "ycBjU_U53FjL"
      }
    },
    {
      "cell_type": "code",
      "execution_count": 34,
      "source": [
        "import numpy as np\n",
        "\n",
        "speech, _ = sf.read(\"SA2.wav\")\n",
        "speech = np.pad(speech, (0, AUDIO_MAXLEN - len(speech)))\n",
        "speech = tf.expand_dims(processor(tf.constant(speech)), 0)\n",
        "\n",
        "outputs = finetuned_model(speech)\n",
        "outputs"
      ],
      "outputs": [
        {
          "output_type": "execute_result",
          "data": {
            "text/plain": [
              "<tf.Tensor: shape=(1, 768, 32), dtype=float32, numpy=\n",
              "array([[[ 0.32085666, -0.43099457,  0.30764174, ..., -0.7550404 ,\n",
              "         -0.02019119, -0.05524098],\n",
              "        [ 0.4695024 , -0.44284236,  0.22869682, ..., -0.85243547,\n",
              "         -0.08249736, -0.03217741],\n",
              "        [ 0.43809217, -0.5083936 ,  0.42399958, ..., -0.9477205 ,\n",
              "         -0.15395026,  0.0574319 ],\n",
              "        ...,\n",
              "        [-0.02176826, -0.33427984,  0.4331729 , ..., -0.9852363 ,\n",
              "         -0.53622353, -0.09441279],\n",
              "        [-0.02202429, -0.34695807,  0.44077748, ..., -0.9973868 ,\n",
              "         -0.541345  , -0.097222  ],\n",
              "        [-0.02998605, -0.37426054,  0.47454387, ..., -0.9766111 ,\n",
              "         -0.556281  , -0.0866741 ]]], dtype=float32)>"
            ]
          },
          "metadata": {},
          "execution_count": 34
        }
      ],
      "metadata": {
        "id": "z7CARje4d5_H",
        "colab": {
          "base_uri": "https://localhost:8080/"
        },
        "outputId": "1c067f1f-02a5-47a1-ae30-6c8a52a41d27"
      }
    },
    {
      "cell_type": "markdown",
      "source": [
        "Let's decode numbers back into text sequence using the `Wav2Vec2tokenizer` instance, we defined above."
      ],
      "metadata": {
        "id": "lUSttSPa30qP"
      }
    },
    {
      "cell_type": "code",
      "execution_count": 35,
      "source": [
        "predictions = tf.argmax(outputs, axis=-1)\n",
        "predictions = [tokenizer.decode(pred) for pred in predictions.numpy().tolist()]\n",
        "predictions"
      ],
      "outputs": [
        {
          "output_type": "execute_result",
          "data": {
            "text/plain": [
              "['A']"
            ]
          },
          "metadata": {},
          "execution_count": 35
        }
      ],
      "metadata": {
        "id": "RYdJqxQ4llgI",
        "colab": {
          "base_uri": "https://localhost:8080/"
        },
        "outputId": "284e81e0-248e-4f42-a461-f2adb7bed17a"
      }
    },
    {
      "cell_type": "markdown",
      "source": [
        "This prediction is quite random as the model was never trained on large data in this notebook (as this notebook is not meant for doing complete training). You will get good predictions if you train this model on complete LibriSpeech dataset.\n",
        "\n",
        "Finally, we have reached an end to this notebook. But it's not an end of learning TensorFlow for speech-related tasks, this [repository](https://github.com/tulasiram58827/TTS_TFLite) contains some more amazing tutorials. In case you encountered any bug in this notebook, please create an issue [here](https://github.com/vasudevgupta7/gsoc-wav2vec2/issues)."
      ],
      "metadata": {
        "id": "7DXC757bztJc"
      }
    },
    {
      "cell_type": "code",
      "execution_count": null,
      "source": [],
      "outputs": [],
      "metadata": {
        "id": "sBEm6caxYDyK"
      }
    }
  ]
}