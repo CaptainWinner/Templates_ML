{
  "nbformat": 4,
  "nbformat_minor": 0,
  "metadata": {
    "colab": {
      "provenance": []
    },
    "kernelspec": {
      "name": "python3",
      "display_name": "Python 3"
    },
    "language_info": {
      "name": "python"
    }
  },
  "cells": [
    {
      "cell_type": "markdown",
      "source": [
        "Text clasification with sklearn"
      ],
      "metadata": {
        "id": "PpY7agJ8bQzD"
      }
    },
    {
      "cell_type": "code",
      "source": [
        "%matplotlib inline\n",
        "import numpy as np\n",
        "import matplotlib.pyplot as plt\n",
        "from sklearn.datasets import load_files\n",
        " \n",
        "DATA_DIR = \"./bbc/\""
      ],
      "metadata": {
        "id": "J7AE9lkfbQmg"
      },
      "execution_count": null,
      "outputs": []
    },
    {
      "cell_type": "markdown",
      "source": [
        "text files with categories as subfolder names"
      ],
      "metadata": {
        "id": "iQGC-w1ubW-g"
      }
    },
    {
      "cell_type": "code",
      "source": [
        "data = load_files(DATA_DIR, encoding=\"utf-8\", decode_error=\"replace\")\n",
        "# calculate count of each category\n",
        "labels, counts = np.unique(data.target, return_counts=True)\n",
        "# convert data.target_names to np array for fancy indexing\n",
        "labels_str = np.array(data.target_names)[labels]\n",
        "print(dict(zip(labels_str, counts)))\n",
        "> {'tech': 401, 'sport': 511, 'business': 510, 'entertainment': 386, 'politics': 417}"
      ],
      "metadata": {
        "id": "wYs9lDSzbUBr"
      },
      "execution_count": null,
      "outputs": []
    },
    {
      "cell_type": "code",
      "source": [
        "Data prep"
      ],
      "metadata": {
        "id": "mr_Xe-lvbZ4_"
      },
      "execution_count": null,
      "outputs": []
    },
    {
      "cell_type": "code",
      "source": [
        "from sklearn.model_selection import train_test_split\n",
        "X_train, X_test, y_train, y_test = train_test_split(data.data, data.target)\n",
        "list(t[:80] for t in X_train[:10])"
      ],
      "metadata": {
        "id": "VYPrwsWjbdmb"
      },
      "execution_count": null,
      "outputs": []
    },
    {
      "cell_type": "code",
      "source": [
        "from sklearn.feature_extraction.text import TfidfVectorizer\n",
        "vectorizer = TfidfVectorizer(stop_words=\"english\", max_features=1000, decode_error=\"ignore\")\n",
        "vectorizer.fit(X_train)"
      ],
      "metadata": {
        "id": "kTkeGr2ybeGn"
      },
      "execution_count": null,
      "outputs": []
    },
    {
      "cell_type": "code",
      "source": [
        "vectorizer.fit(X_train)\n",
        "X_train_vectorized = vectorizer.transform(X_train)"
      ],
      "metadata": {
        "id": "YPnDo3Q8bhmu"
      },
      "execution_count": null,
      "outputs": []
    },
    {
      "cell_type": "markdown",
      "source": [
        "Model"
      ],
      "metadata": {
        "id": "hRAVFOIfbiLu"
      }
    },
    {
      "cell_type": "code",
      "source": [
        "from sklearn.naive_bayes import MultinomialNB\n",
        "cls = MultinomialNB()\n",
        "# transform the list of text to tf-idf before passing it to the model\n",
        "cls.fit(vectorizer.transform(X_train), y_train)\n",
        " \n",
        "from sklearn.metrics import classification_report, accuracy_score\n",
        " \n",
        "y_pred = cls.predict(vectorizer.transform(X_test))\n",
        "print(accuracy_score(y_test, y_pred))\n",
        "print(classification_report(y_test, y_pred))"
      ],
      "metadata": {
        "id": "B3D0P--sbi4c"
      },
      "execution_count": null,
      "outputs": []
    },
    {
      "cell_type": "markdown",
      "source": [
        "Trying out new models"
      ],
      "metadata": {
        "id": "Z1VZK4bSbl7t"
      }
    },
    {
      "cell_type": "code",
      "source": [
        "from sklearn.linear_model import SGDClassifier\n",
        "from sklearn.svm import SVC\n",
        "from sklearn.pipeline import Pipeline\n",
        "from sklearn.feature_extraction.text import TfidfVectorizer, CountVectorizer\n",
        "from sklearn.model_selection import cross_val_score\n",
        " \n",
        "# start with the classic\n",
        "# with either pure counts or tfidf features\n",
        "sgd = Pipeline([\n",
        "        (\"count vectorizer\", CountVectorizer(stop_words=\"english\", max_features=3000)),\n",
        "        (\"sgd\", SGDClassifier(loss=\"modified_huber\"))\n",
        "    ])\n",
        "sgd_tfidf = Pipeline([\n",
        "        (\"tfidf_vectorizer\", TfidfVectorizer(stop_words=\"english\", max_features=3000)),\n",
        "        (\"sgd\", SGDClassifier(loss=\"modified_huber\"))\n",
        "    ])\n",
        " \n",
        "svc = Pipeline([\n",
        "        (\"count_vectorizer\", CountVectorizer(stop_words=\"english\", max_features=3000)),\n",
        "        (\"linear svc\", SVC(kernel=\"linear\"))\n",
        "    ])\n",
        "svc_tfidf = Pipeline([\n",
        "        (\"tfidf_vectorizer\", TfidfVectorizer(stop_words=\"english\", max_features=3000)),\n",
        "        (\"linear svc\", SVC(kernel=\"linear\"))\n",
        "    ])\n",
        "   \n",
        "all_models = [\n",
        "    (\"sgd\", sgd),\n",
        "    (\"sgd_tfidf\", sgd_tfidf),\n",
        "    (\"svc\", svc),\n",
        "    (\"svc_tfidf\", svc_tfidf),\n",
        "    ]\n",
        " \n",
        "unsorted_scores = [(name, cross_val_score(model, X_train, y_train, cv=2).mean()) for name, model in all_models]\n",
        "scores = sorted(unsorted_scores, key=lambda x: -x[1])\n",
        "print(scores)  "
      ],
      "metadata": {
        "id": "Tn3r2_lcbj7P"
      },
      "execution_count": null,
      "outputs": []
    },
    {
      "cell_type": "code",
      "source": [
        "model = svc_tfidf\n",
        "model.fit(X_train, y_train)\n",
        "y_pred = model.predict(X_test)\n",
        "print(accuracy_score(y_test, y_pred))\n",
        "print(classification_report(y_test, y_pred))"
      ],
      "metadata": {
        "id": "lCVe51U0boDU"
      },
      "execution_count": null,
      "outputs": []
    }
  ]
}